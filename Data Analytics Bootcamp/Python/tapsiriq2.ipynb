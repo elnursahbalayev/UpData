{
 "cells": [
  {
   "cell_type": "code",
   "execution_count": 13,
   "metadata": {},
   "outputs": [
    {
     "name": "stdout",
     "output_type": "stream",
     "text": [
      "True\n"
     ]
    }
   ],
   "source": [
    "import numpy as np\n",
    "\n",
    "reqem = int(input('Zehmet olmasa eded daxil edin: '))\n",
    "\n",
    "quvvet = np.log(reqem) / np.log(3)\n",
    "\n",
    "if quvvet == np.round(quvvet):\n",
    "    print('True')\n",
    "else:\n",
    "    print('False')\n"
   ]
  },
  {
   "cell_type": "code",
   "execution_count": 18,
   "metadata": {},
   "outputs": [
    {
     "name": "stdout",
     "output_type": "stream",
     "text": [
      "True\n"
     ]
    }
   ],
   "source": [
    "reqem = int(input('Zehmet olmasa eded daxil edin: '))\n",
    "\n",
    "kok_alti = np.sqrt(reqem)\n",
    "\n",
    "if kok_alti == np.round(kok_alti):\n",
    "    print(True)\n",
    "else:\n",
    "    print(False)"
   ]
  },
  {
   "cell_type": "code",
   "execution_count": 21,
   "metadata": {},
   "outputs": [
    {
     "name": "stdout",
     "output_type": "stream",
     "text": [
      "15\n"
     ]
    }
   ],
   "source": [
    "reqem = input('Zehmet olmasa eded daxil edin: ')\n",
    "sum = 0\n",
    "\n",
    "for i in reqem:\n",
    "    sum = sum + int(i)\n",
    "\n",
    "print(sum)\n"
   ]
  },
  {
   "cell_type": "code",
   "execution_count": 23,
   "metadata": {},
   "outputs": [
    {
     "name": "stdout",
     "output_type": "stream",
     "text": [
      "[0, 1, 1, 2, 3, 5, 8, 13, 21, 34]\n"
     ]
    }
   ],
   "source": [
    "reqem = int(input('Zehmet olmasa eded daxil edin: '))\n",
    "fib_ard = [0, 1]\n",
    "\n",
    "for i in range(2,reqem):\n",
    "    fib_ard.append(fib_ard[i-2]+fib_ard[i-1])\n",
    "\n",
    "print(fib_ard)\n",
    "\n",
    "\n",
    "\n"
   ]
  },
  {
   "cell_type": "code",
   "execution_count": 3,
   "metadata": {},
   "outputs": [
    {
     "name": "stdout",
     "output_type": "stream",
     "text": [
      "234\n"
     ]
    }
   ],
   "source": [
    "reqem = int(input('Zehmet olmasa eded daxil edin: '))\n",
    "\n",
    "ters = 0\n",
    "123\n",
    "while reqem >= 1:\n",
    "    son_reqem = reqem % 10\n",
    "    ters = (ters + son_reqem) * 10\n",
    "    reqem = reqem // 10\n",
    "ters = int(ters / 10)\n",
    "print(ters)"
   ]
  },
  {
   "cell_type": "code",
   "execution_count": 8,
   "metadata": {},
   "outputs": [
    {
     "name": "stdout",
     "output_type": "stream",
     "text": [
      "True\n"
     ]
    }
   ],
   "source": [
    "reqem = int(input('Zehmet olmasa eded daxil edin: '))\n",
    "sadedir = True\n",
    "\n",
    "for i in range(2, reqem):\n",
    "    if reqem % i == 0:\n",
    "        sadedir = False\n",
    "        break\n",
    "\n",
    "print(sadedir)"
   ]
  },
  {
   "cell_type": "code",
   "execution_count": 4,
   "metadata": {},
   "outputs": [
    {
     "name": "stdout",
     "output_type": "stream",
     "text": [
      "['1', '2', '0']\n"
     ]
    }
   ],
   "source": [
    "list_a = input('Zehmet olmasa reqemleri vergulle daxil edin').split(',')\n",
    "counter = 0\n",
    "\n",
    "for reqem in list_a:\n",
    "    if reqem == '0':\n",
    "        counter += 1\n",
    "\n",
    "for i in range(counter):\n",
    "    list_a.remove('0')\n",
    "    list_a.append('0')\n",
    "\n",
    "print(list_a)"
   ]
  },
  {
   "cell_type": "code",
   "execution_count": 7,
   "metadata": {},
   "outputs": [
    {
     "name": "stdout",
     "output_type": "stream",
     "text": [
      "11\n"
     ]
    }
   ],
   "source": [
    "cumle = input('Cumleni daxil edin: ')\n",
    "\n",
    "sozler = cumle.split(' ')\n",
    "\n",
    "print(len(sozler[-1]))"
   ]
  },
  {
   "cell_type": "code",
   "execution_count": null,
   "metadata": {},
   "outputs": [],
   "source": []
  }
 ],
 "metadata": {
  "kernelspec": {
   "display_name": "Python 3.9.12 ('base')",
   "language": "python",
   "name": "python3"
  },
  "language_info": {
   "codemirror_mode": {
    "name": "ipython",
    "version": 3
   },
   "file_extension": ".py",
   "mimetype": "text/x-python",
   "name": "python",
   "nbconvert_exporter": "python",
   "pygments_lexer": "ipython3",
   "version": "3.9.12"
  },
  "orig_nbformat": 4,
  "vscode": {
   "interpreter": {
    "hash": "29205a973967b30caa6f5702b279cedbbf9621b465cd42687a5576a98584a229"
   }
  }
 },
 "nbformat": 4,
 "nbformat_minor": 2
}
