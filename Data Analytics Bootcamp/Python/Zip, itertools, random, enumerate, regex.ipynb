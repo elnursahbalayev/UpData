{
 "cells": [
  {
   "cell_type": "markdown",
   "source": [
    "# Zip\n",
    "\n",
    "Zip ayrica bir class olmaqla beraber, 2 listi ve s bir birleri ile birlesdirmek ucun istifade olunur."
   ],
   "metadata": {
    "collapsed": false
   }
  },
  {
   "cell_type": "code",
   "execution_count": 2,
   "metadata": {
    "collapsed": true
   },
   "outputs": [],
   "source": [
    "numbers = [1,2,3,4,5]\n",
    "letters = ['a', 'b', 'c', 'd', 'e']\n",
    "\n",
    "zipped = zip(numbers, letters,)"
   ]
  },
  {
   "cell_type": "code",
   "execution_count": 3,
   "outputs": [
    {
     "data": {
      "text/plain": "<zip at 0x1c2eafedcc0>"
     },
     "execution_count": 3,
     "metadata": {},
     "output_type": "execute_result"
    }
   ],
   "source": [
    "zipped"
   ],
   "metadata": {
    "collapsed": false
   }
  },
  {
   "cell_type": "code",
   "execution_count": 4,
   "outputs": [
    {
     "data": {
      "text/plain": "zip"
     },
     "execution_count": 4,
     "metadata": {},
     "output_type": "execute_result"
    }
   ],
   "source": [
    "type(zipped)"
   ],
   "metadata": {
    "collapsed": false
   }
  },
  {
   "cell_type": "code",
   "execution_count": 5,
   "outputs": [
    {
     "data": {
      "text/plain": "[(1, 'a'), (2, 'b'), (3, 'c'), (4, 'd'), (5, 'e')]"
     },
     "execution_count": 5,
     "metadata": {},
     "output_type": "execute_result"
    }
   ],
   "source": [
    "list(zipped)"
   ],
   "metadata": {
    "collapsed": false
   }
  },
  {
   "cell_type": "code",
   "execution_count": 6,
   "outputs": [
    {
     "data": {
      "text/plain": "[(1, 'b'), (2, 'c'), (3, 'a')]"
     },
     "execution_count": 6,
     "metadata": {},
     "output_type": "execute_result"
    }
   ],
   "source": [
    "s1 = {2, 3, 1}\n",
    "s2 = {'b','a','c'}\n",
    "\n",
    "list(zip(s1,s2))"
   ],
   "metadata": {
    "collapsed": false
   }
  },
  {
   "cell_type": "code",
   "execution_count": 7,
   "outputs": [
    {
     "data": {
      "text/plain": "[(1, 'b'), (2, 'c'), (3, 'a')]"
     },
     "execution_count": 7,
     "metadata": {},
     "output_type": "execute_result"
    }
   ],
   "source": [
    "s1 = {2, 3, 1, 4}\n",
    "s2 = {'b','a','c'}\n",
    "\n",
    "list(zip(s1,s2))"
   ],
   "metadata": {
    "collapsed": false
   }
  },
  {
   "cell_type": "code",
   "execution_count": 8,
   "outputs": [
    {
     "name": "stdout",
     "output_type": "stream",
     "text": [
      "Letter: a\n",
      "Number: 0\n",
      "Letter: b\n",
      "Number: 1\n",
      "Letter: c\n",
      "Number: 2\n"
     ]
    }
   ],
   "source": [
    "letters = ['a', 'b', 'c']\n",
    "numbers = [0, 1, 2]\n",
    "for l, n in zip(letters, numbers):\n",
    "    print(f'Letter: {l}')\n",
    "    print(f'Number: {n}')"
   ],
   "metadata": {
    "collapsed": false
   }
  },
  {
   "cell_type": "code",
   "execution_count": 9,
   "outputs": [
    {
     "name": "stdout",
     "output_type": "stream",
     "text": [
      "Total profit: 5200.0\n",
      "Total profit: 5100.0\n",
      "Total profit: 4800.0\n"
     ]
    }
   ],
   "source": [
    "total_sales = [52000.00, 51000.00, 48000.00]\n",
    "prod_cost = [46800.00, 45900.00, 43200.00]\n",
    "\n",
    "for sales, costs in zip(total_sales, prod_cost):\n",
    "    profit = sales - costs\n",
    "    print(f'Total profit: {profit}')"
   ],
   "metadata": {
    "collapsed": false
   }
  },
  {
   "cell_type": "code",
   "execution_count": 10,
   "outputs": [
    {
     "data": {
      "text/plain": "{'name': 'John', 'last_name': 'Doe', 'age': '45', 'job': 'Python Developer'}"
     },
     "execution_count": 10,
     "metadata": {},
     "output_type": "execute_result"
    }
   ],
   "source": [
    "fields = ['name', 'last_name', 'age', 'job']\n",
    "values = ['John', 'Doe', '45', 'Python Developer']\n",
    "\n",
    "a_dict = dict(zip(fields, values))\n",
    "a_dict"
   ],
   "metadata": {
    "collapsed": false
   }
  },
  {
   "cell_type": "markdown",
   "source": [
    "# Itertools"
   ],
   "metadata": {
    "collapsed": false
   }
  },
  {
   "cell_type": "code",
   "execution_count": 11,
   "outputs": [
    {
     "data": {
      "text/plain": "[3, 2, 4]"
     },
     "execution_count": 11,
     "metadata": {},
     "output_type": "execute_result"
    }
   ],
   "source": [
    "list(map(len, ['abc', 'de', 'fghi']))"
   ],
   "metadata": {
    "collapsed": false
   }
  },
  {
   "cell_type": "code",
   "execution_count": 12,
   "outputs": [
    {
     "data": {
      "text/plain": "[5, 7, 9]"
     },
     "execution_count": 12,
     "metadata": {},
     "output_type": "execute_result"
    }
   ],
   "source": [
    "list(map(sum, zip([1, 2, 3], [4, 5, 6])))"
   ],
   "metadata": {
    "collapsed": false
   }
  },
  {
   "cell_type": "code",
   "execution_count": 13,
   "outputs": [
    {
     "data": {
      "text/plain": "[(1, 'a'), (2, 'b'), (3, 'c')]"
     },
     "execution_count": 13,
     "metadata": {},
     "output_type": "execute_result"
    }
   ],
   "source": [
    "import itertools as it\n",
    "\n",
    "x = [1, 2, 3, 4, 5]\n",
    "y = ['a', 'b', 'c']\n",
    "\n",
    "list(zip(x,y))"
   ],
   "metadata": {
    "collapsed": false
   }
  },
  {
   "cell_type": "code",
   "execution_count": 14,
   "outputs": [
    {
     "data": {
      "text/plain": "[(1, 'a'), (2, 'b'), (3, 'c'), (4, None), (5, None)]"
     },
     "execution_count": 14,
     "metadata": {},
     "output_type": "execute_result"
    }
   ],
   "source": [
    "list(it.zip_longest(x,y))\n"
   ],
   "metadata": {
    "collapsed": false
   }
  },
  {
   "cell_type": "code",
   "execution_count": 15,
   "outputs": [
    {
     "data": {
      "text/plain": "[(1, 'a'), (2, 'b'), (3, 'c'), (4, 'nothing here'), (5, 'nothing here')]"
     },
     "execution_count": 15,
     "metadata": {},
     "output_type": "execute_result"
    }
   ],
   "source": [
    "list(it.zip_longest(x,y, fillvalue='nothing here'))"
   ],
   "metadata": {
    "collapsed": false
   }
  },
  {
   "cell_type": "code",
   "execution_count": 16,
   "outputs": [
    {
     "data": {
      "text/plain": "[(1, 2),\n (1, 3),\n (1, 4),\n (1, 5),\n (1, 6),\n (2, 3),\n (2, 4),\n (2, 5),\n (2, 6),\n (3, 4),\n (3, 5),\n (3, 6),\n (4, 5),\n (4, 6),\n (5, 6)]"
     },
     "execution_count": 16,
     "metadata": {},
     "output_type": "execute_result"
    }
   ],
   "source": [
    "zer = [1,2,3,4,5,6]\n",
    "\n",
    "list(it.combinations(zer, 2))\n"
   ],
   "metadata": {
    "collapsed": false
   }
  },
  {
   "cell_type": "code",
   "execution_count": 17,
   "outputs": [
    {
     "data": {
      "text/plain": "15"
     },
     "execution_count": 17,
     "metadata": {},
     "output_type": "execute_result"
    }
   ],
   "source": [
    "len(list(it.combinations(zer, 2)))\n"
   ],
   "metadata": {
    "collapsed": false
   }
  },
  {
   "cell_type": "code",
   "execution_count": 18,
   "outputs": [
    {
     "data": {
      "text/plain": "[(1, 1),\n (1, 2),\n (1, 3),\n (1, 4),\n (1, 5),\n (1, 6),\n (2, 2),\n (2, 3),\n (2, 4),\n (2, 5),\n (2, 6),\n (3, 3),\n (3, 4),\n (3, 5),\n (3, 6),\n (4, 4),\n (4, 5),\n (4, 6),\n (5, 5),\n (5, 6),\n (6, 6)]"
     },
     "execution_count": 18,
     "metadata": {},
     "output_type": "execute_result"
    }
   ],
   "source": [
    "list(it.combinations_with_replacement(zer,2))"
   ],
   "metadata": {
    "collapsed": false
   }
  },
  {
   "cell_type": "code",
   "execution_count": 19,
   "outputs": [
    {
     "data": {
      "text/plain": "21"
     },
     "execution_count": 19,
     "metadata": {},
     "output_type": "execute_result"
    }
   ],
   "source": [
    "len(list(it.combinations_with_replacement(zer,2)))"
   ],
   "metadata": {
    "collapsed": false
   }
  },
  {
   "cell_type": "code",
   "execution_count": 20,
   "outputs": [
    {
     "data": {
      "text/plain": "[(1, 2, 3, 4, 5, 6),\n (1, 2, 3, 4, 6, 5),\n (1, 2, 3, 5, 4, 6),\n (1, 2, 3, 5, 6, 4),\n (1, 2, 3, 6, 4, 5),\n (1, 2, 3, 6, 5, 4),\n (1, 2, 4, 3, 5, 6),\n (1, 2, 4, 3, 6, 5),\n (1, 2, 4, 5, 3, 6),\n (1, 2, 4, 5, 6, 3),\n (1, 2, 4, 6, 3, 5),\n (1, 2, 4, 6, 5, 3),\n (1, 2, 5, 3, 4, 6),\n (1, 2, 5, 3, 6, 4),\n (1, 2, 5, 4, 3, 6),\n (1, 2, 5, 4, 6, 3),\n (1, 2, 5, 6, 3, 4),\n (1, 2, 5, 6, 4, 3),\n (1, 2, 6, 3, 4, 5),\n (1, 2, 6, 3, 5, 4),\n (1, 2, 6, 4, 3, 5),\n (1, 2, 6, 4, 5, 3),\n (1, 2, 6, 5, 3, 4),\n (1, 2, 6, 5, 4, 3),\n (1, 3, 2, 4, 5, 6),\n (1, 3, 2, 4, 6, 5),\n (1, 3, 2, 5, 4, 6),\n (1, 3, 2, 5, 6, 4),\n (1, 3, 2, 6, 4, 5),\n (1, 3, 2, 6, 5, 4),\n (1, 3, 4, 2, 5, 6),\n (1, 3, 4, 2, 6, 5),\n (1, 3, 4, 5, 2, 6),\n (1, 3, 4, 5, 6, 2),\n (1, 3, 4, 6, 2, 5),\n (1, 3, 4, 6, 5, 2),\n (1, 3, 5, 2, 4, 6),\n (1, 3, 5, 2, 6, 4),\n (1, 3, 5, 4, 2, 6),\n (1, 3, 5, 4, 6, 2),\n (1, 3, 5, 6, 2, 4),\n (1, 3, 5, 6, 4, 2),\n (1, 3, 6, 2, 4, 5),\n (1, 3, 6, 2, 5, 4),\n (1, 3, 6, 4, 2, 5),\n (1, 3, 6, 4, 5, 2),\n (1, 3, 6, 5, 2, 4),\n (1, 3, 6, 5, 4, 2),\n (1, 4, 2, 3, 5, 6),\n (1, 4, 2, 3, 6, 5),\n (1, 4, 2, 5, 3, 6),\n (1, 4, 2, 5, 6, 3),\n (1, 4, 2, 6, 3, 5),\n (1, 4, 2, 6, 5, 3),\n (1, 4, 3, 2, 5, 6),\n (1, 4, 3, 2, 6, 5),\n (1, 4, 3, 5, 2, 6),\n (1, 4, 3, 5, 6, 2),\n (1, 4, 3, 6, 2, 5),\n (1, 4, 3, 6, 5, 2),\n (1, 4, 5, 2, 3, 6),\n (1, 4, 5, 2, 6, 3),\n (1, 4, 5, 3, 2, 6),\n (1, 4, 5, 3, 6, 2),\n (1, 4, 5, 6, 2, 3),\n (1, 4, 5, 6, 3, 2),\n (1, 4, 6, 2, 3, 5),\n (1, 4, 6, 2, 5, 3),\n (1, 4, 6, 3, 2, 5),\n (1, 4, 6, 3, 5, 2),\n (1, 4, 6, 5, 2, 3),\n (1, 4, 6, 5, 3, 2),\n (1, 5, 2, 3, 4, 6),\n (1, 5, 2, 3, 6, 4),\n (1, 5, 2, 4, 3, 6),\n (1, 5, 2, 4, 6, 3),\n (1, 5, 2, 6, 3, 4),\n (1, 5, 2, 6, 4, 3),\n (1, 5, 3, 2, 4, 6),\n (1, 5, 3, 2, 6, 4),\n (1, 5, 3, 4, 2, 6),\n (1, 5, 3, 4, 6, 2),\n (1, 5, 3, 6, 2, 4),\n (1, 5, 3, 6, 4, 2),\n (1, 5, 4, 2, 3, 6),\n (1, 5, 4, 2, 6, 3),\n (1, 5, 4, 3, 2, 6),\n (1, 5, 4, 3, 6, 2),\n (1, 5, 4, 6, 2, 3),\n (1, 5, 4, 6, 3, 2),\n (1, 5, 6, 2, 3, 4),\n (1, 5, 6, 2, 4, 3),\n (1, 5, 6, 3, 2, 4),\n (1, 5, 6, 3, 4, 2),\n (1, 5, 6, 4, 2, 3),\n (1, 5, 6, 4, 3, 2),\n (1, 6, 2, 3, 4, 5),\n (1, 6, 2, 3, 5, 4),\n (1, 6, 2, 4, 3, 5),\n (1, 6, 2, 4, 5, 3),\n (1, 6, 2, 5, 3, 4),\n (1, 6, 2, 5, 4, 3),\n (1, 6, 3, 2, 4, 5),\n (1, 6, 3, 2, 5, 4),\n (1, 6, 3, 4, 2, 5),\n (1, 6, 3, 4, 5, 2),\n (1, 6, 3, 5, 2, 4),\n (1, 6, 3, 5, 4, 2),\n (1, 6, 4, 2, 3, 5),\n (1, 6, 4, 2, 5, 3),\n (1, 6, 4, 3, 2, 5),\n (1, 6, 4, 3, 5, 2),\n (1, 6, 4, 5, 2, 3),\n (1, 6, 4, 5, 3, 2),\n (1, 6, 5, 2, 3, 4),\n (1, 6, 5, 2, 4, 3),\n (1, 6, 5, 3, 2, 4),\n (1, 6, 5, 3, 4, 2),\n (1, 6, 5, 4, 2, 3),\n (1, 6, 5, 4, 3, 2),\n (2, 1, 3, 4, 5, 6),\n (2, 1, 3, 4, 6, 5),\n (2, 1, 3, 5, 4, 6),\n (2, 1, 3, 5, 6, 4),\n (2, 1, 3, 6, 4, 5),\n (2, 1, 3, 6, 5, 4),\n (2, 1, 4, 3, 5, 6),\n (2, 1, 4, 3, 6, 5),\n (2, 1, 4, 5, 3, 6),\n (2, 1, 4, 5, 6, 3),\n (2, 1, 4, 6, 3, 5),\n (2, 1, 4, 6, 5, 3),\n (2, 1, 5, 3, 4, 6),\n (2, 1, 5, 3, 6, 4),\n (2, 1, 5, 4, 3, 6),\n (2, 1, 5, 4, 6, 3),\n (2, 1, 5, 6, 3, 4),\n (2, 1, 5, 6, 4, 3),\n (2, 1, 6, 3, 4, 5),\n (2, 1, 6, 3, 5, 4),\n (2, 1, 6, 4, 3, 5),\n (2, 1, 6, 4, 5, 3),\n (2, 1, 6, 5, 3, 4),\n (2, 1, 6, 5, 4, 3),\n (2, 3, 1, 4, 5, 6),\n (2, 3, 1, 4, 6, 5),\n (2, 3, 1, 5, 4, 6),\n (2, 3, 1, 5, 6, 4),\n (2, 3, 1, 6, 4, 5),\n (2, 3, 1, 6, 5, 4),\n (2, 3, 4, 1, 5, 6),\n (2, 3, 4, 1, 6, 5),\n (2, 3, 4, 5, 1, 6),\n (2, 3, 4, 5, 6, 1),\n (2, 3, 4, 6, 1, 5),\n (2, 3, 4, 6, 5, 1),\n (2, 3, 5, 1, 4, 6),\n (2, 3, 5, 1, 6, 4),\n (2, 3, 5, 4, 1, 6),\n (2, 3, 5, 4, 6, 1),\n (2, 3, 5, 6, 1, 4),\n (2, 3, 5, 6, 4, 1),\n (2, 3, 6, 1, 4, 5),\n (2, 3, 6, 1, 5, 4),\n (2, 3, 6, 4, 1, 5),\n (2, 3, 6, 4, 5, 1),\n (2, 3, 6, 5, 1, 4),\n (2, 3, 6, 5, 4, 1),\n (2, 4, 1, 3, 5, 6),\n (2, 4, 1, 3, 6, 5),\n (2, 4, 1, 5, 3, 6),\n (2, 4, 1, 5, 6, 3),\n (2, 4, 1, 6, 3, 5),\n (2, 4, 1, 6, 5, 3),\n (2, 4, 3, 1, 5, 6),\n (2, 4, 3, 1, 6, 5),\n (2, 4, 3, 5, 1, 6),\n (2, 4, 3, 5, 6, 1),\n (2, 4, 3, 6, 1, 5),\n (2, 4, 3, 6, 5, 1),\n (2, 4, 5, 1, 3, 6),\n (2, 4, 5, 1, 6, 3),\n (2, 4, 5, 3, 1, 6),\n (2, 4, 5, 3, 6, 1),\n (2, 4, 5, 6, 1, 3),\n (2, 4, 5, 6, 3, 1),\n (2, 4, 6, 1, 3, 5),\n (2, 4, 6, 1, 5, 3),\n (2, 4, 6, 3, 1, 5),\n (2, 4, 6, 3, 5, 1),\n (2, 4, 6, 5, 1, 3),\n (2, 4, 6, 5, 3, 1),\n (2, 5, 1, 3, 4, 6),\n (2, 5, 1, 3, 6, 4),\n (2, 5, 1, 4, 3, 6),\n (2, 5, 1, 4, 6, 3),\n (2, 5, 1, 6, 3, 4),\n (2, 5, 1, 6, 4, 3),\n (2, 5, 3, 1, 4, 6),\n (2, 5, 3, 1, 6, 4),\n (2, 5, 3, 4, 1, 6),\n (2, 5, 3, 4, 6, 1),\n (2, 5, 3, 6, 1, 4),\n (2, 5, 3, 6, 4, 1),\n (2, 5, 4, 1, 3, 6),\n (2, 5, 4, 1, 6, 3),\n (2, 5, 4, 3, 1, 6),\n (2, 5, 4, 3, 6, 1),\n (2, 5, 4, 6, 1, 3),\n (2, 5, 4, 6, 3, 1),\n (2, 5, 6, 1, 3, 4),\n (2, 5, 6, 1, 4, 3),\n (2, 5, 6, 3, 1, 4),\n (2, 5, 6, 3, 4, 1),\n (2, 5, 6, 4, 1, 3),\n (2, 5, 6, 4, 3, 1),\n (2, 6, 1, 3, 4, 5),\n (2, 6, 1, 3, 5, 4),\n (2, 6, 1, 4, 3, 5),\n (2, 6, 1, 4, 5, 3),\n (2, 6, 1, 5, 3, 4),\n (2, 6, 1, 5, 4, 3),\n (2, 6, 3, 1, 4, 5),\n (2, 6, 3, 1, 5, 4),\n (2, 6, 3, 4, 1, 5),\n (2, 6, 3, 4, 5, 1),\n (2, 6, 3, 5, 1, 4),\n (2, 6, 3, 5, 4, 1),\n (2, 6, 4, 1, 3, 5),\n (2, 6, 4, 1, 5, 3),\n (2, 6, 4, 3, 1, 5),\n (2, 6, 4, 3, 5, 1),\n (2, 6, 4, 5, 1, 3),\n (2, 6, 4, 5, 3, 1),\n (2, 6, 5, 1, 3, 4),\n (2, 6, 5, 1, 4, 3),\n (2, 6, 5, 3, 1, 4),\n (2, 6, 5, 3, 4, 1),\n (2, 6, 5, 4, 1, 3),\n (2, 6, 5, 4, 3, 1),\n (3, 1, 2, 4, 5, 6),\n (3, 1, 2, 4, 6, 5),\n (3, 1, 2, 5, 4, 6),\n (3, 1, 2, 5, 6, 4),\n (3, 1, 2, 6, 4, 5),\n (3, 1, 2, 6, 5, 4),\n (3, 1, 4, 2, 5, 6),\n (3, 1, 4, 2, 6, 5),\n (3, 1, 4, 5, 2, 6),\n (3, 1, 4, 5, 6, 2),\n (3, 1, 4, 6, 2, 5),\n (3, 1, 4, 6, 5, 2),\n (3, 1, 5, 2, 4, 6),\n (3, 1, 5, 2, 6, 4),\n (3, 1, 5, 4, 2, 6),\n (3, 1, 5, 4, 6, 2),\n (3, 1, 5, 6, 2, 4),\n (3, 1, 5, 6, 4, 2),\n (3, 1, 6, 2, 4, 5),\n (3, 1, 6, 2, 5, 4),\n (3, 1, 6, 4, 2, 5),\n (3, 1, 6, 4, 5, 2),\n (3, 1, 6, 5, 2, 4),\n (3, 1, 6, 5, 4, 2),\n (3, 2, 1, 4, 5, 6),\n (3, 2, 1, 4, 6, 5),\n (3, 2, 1, 5, 4, 6),\n (3, 2, 1, 5, 6, 4),\n (3, 2, 1, 6, 4, 5),\n (3, 2, 1, 6, 5, 4),\n (3, 2, 4, 1, 5, 6),\n (3, 2, 4, 1, 6, 5),\n (3, 2, 4, 5, 1, 6),\n (3, 2, 4, 5, 6, 1),\n (3, 2, 4, 6, 1, 5),\n (3, 2, 4, 6, 5, 1),\n (3, 2, 5, 1, 4, 6),\n (3, 2, 5, 1, 6, 4),\n (3, 2, 5, 4, 1, 6),\n (3, 2, 5, 4, 6, 1),\n (3, 2, 5, 6, 1, 4),\n (3, 2, 5, 6, 4, 1),\n (3, 2, 6, 1, 4, 5),\n (3, 2, 6, 1, 5, 4),\n (3, 2, 6, 4, 1, 5),\n (3, 2, 6, 4, 5, 1),\n (3, 2, 6, 5, 1, 4),\n (3, 2, 6, 5, 4, 1),\n (3, 4, 1, 2, 5, 6),\n (3, 4, 1, 2, 6, 5),\n (3, 4, 1, 5, 2, 6),\n (3, 4, 1, 5, 6, 2),\n (3, 4, 1, 6, 2, 5),\n (3, 4, 1, 6, 5, 2),\n (3, 4, 2, 1, 5, 6),\n (3, 4, 2, 1, 6, 5),\n (3, 4, 2, 5, 1, 6),\n (3, 4, 2, 5, 6, 1),\n (3, 4, 2, 6, 1, 5),\n (3, 4, 2, 6, 5, 1),\n (3, 4, 5, 1, 2, 6),\n (3, 4, 5, 1, 6, 2),\n (3, 4, 5, 2, 1, 6),\n (3, 4, 5, 2, 6, 1),\n (3, 4, 5, 6, 1, 2),\n (3, 4, 5, 6, 2, 1),\n (3, 4, 6, 1, 2, 5),\n (3, 4, 6, 1, 5, 2),\n (3, 4, 6, 2, 1, 5),\n (3, 4, 6, 2, 5, 1),\n (3, 4, 6, 5, 1, 2),\n (3, 4, 6, 5, 2, 1),\n (3, 5, 1, 2, 4, 6),\n (3, 5, 1, 2, 6, 4),\n (3, 5, 1, 4, 2, 6),\n (3, 5, 1, 4, 6, 2),\n (3, 5, 1, 6, 2, 4),\n (3, 5, 1, 6, 4, 2),\n (3, 5, 2, 1, 4, 6),\n (3, 5, 2, 1, 6, 4),\n (3, 5, 2, 4, 1, 6),\n (3, 5, 2, 4, 6, 1),\n (3, 5, 2, 6, 1, 4),\n (3, 5, 2, 6, 4, 1),\n (3, 5, 4, 1, 2, 6),\n (3, 5, 4, 1, 6, 2),\n (3, 5, 4, 2, 1, 6),\n (3, 5, 4, 2, 6, 1),\n (3, 5, 4, 6, 1, 2),\n (3, 5, 4, 6, 2, 1),\n (3, 5, 6, 1, 2, 4),\n (3, 5, 6, 1, 4, 2),\n (3, 5, 6, 2, 1, 4),\n (3, 5, 6, 2, 4, 1),\n (3, 5, 6, 4, 1, 2),\n (3, 5, 6, 4, 2, 1),\n (3, 6, 1, 2, 4, 5),\n (3, 6, 1, 2, 5, 4),\n (3, 6, 1, 4, 2, 5),\n (3, 6, 1, 4, 5, 2),\n (3, 6, 1, 5, 2, 4),\n (3, 6, 1, 5, 4, 2),\n (3, 6, 2, 1, 4, 5),\n (3, 6, 2, 1, 5, 4),\n (3, 6, 2, 4, 1, 5),\n (3, 6, 2, 4, 5, 1),\n (3, 6, 2, 5, 1, 4),\n (3, 6, 2, 5, 4, 1),\n (3, 6, 4, 1, 2, 5),\n (3, 6, 4, 1, 5, 2),\n (3, 6, 4, 2, 1, 5),\n (3, 6, 4, 2, 5, 1),\n (3, 6, 4, 5, 1, 2),\n (3, 6, 4, 5, 2, 1),\n (3, 6, 5, 1, 2, 4),\n (3, 6, 5, 1, 4, 2),\n (3, 6, 5, 2, 1, 4),\n (3, 6, 5, 2, 4, 1),\n (3, 6, 5, 4, 1, 2),\n (3, 6, 5, 4, 2, 1),\n (4, 1, 2, 3, 5, 6),\n (4, 1, 2, 3, 6, 5),\n (4, 1, 2, 5, 3, 6),\n (4, 1, 2, 5, 6, 3),\n (4, 1, 2, 6, 3, 5),\n (4, 1, 2, 6, 5, 3),\n (4, 1, 3, 2, 5, 6),\n (4, 1, 3, 2, 6, 5),\n (4, 1, 3, 5, 2, 6),\n (4, 1, 3, 5, 6, 2),\n (4, 1, 3, 6, 2, 5),\n (4, 1, 3, 6, 5, 2),\n (4, 1, 5, 2, 3, 6),\n (4, 1, 5, 2, 6, 3),\n (4, 1, 5, 3, 2, 6),\n (4, 1, 5, 3, 6, 2),\n (4, 1, 5, 6, 2, 3),\n (4, 1, 5, 6, 3, 2),\n (4, 1, 6, 2, 3, 5),\n (4, 1, 6, 2, 5, 3),\n (4, 1, 6, 3, 2, 5),\n (4, 1, 6, 3, 5, 2),\n (4, 1, 6, 5, 2, 3),\n (4, 1, 6, 5, 3, 2),\n (4, 2, 1, 3, 5, 6),\n (4, 2, 1, 3, 6, 5),\n (4, 2, 1, 5, 3, 6),\n (4, 2, 1, 5, 6, 3),\n (4, 2, 1, 6, 3, 5),\n (4, 2, 1, 6, 5, 3),\n (4, 2, 3, 1, 5, 6),\n (4, 2, 3, 1, 6, 5),\n (4, 2, 3, 5, 1, 6),\n (4, 2, 3, 5, 6, 1),\n (4, 2, 3, 6, 1, 5),\n (4, 2, 3, 6, 5, 1),\n (4, 2, 5, 1, 3, 6),\n (4, 2, 5, 1, 6, 3),\n (4, 2, 5, 3, 1, 6),\n (4, 2, 5, 3, 6, 1),\n (4, 2, 5, 6, 1, 3),\n (4, 2, 5, 6, 3, 1),\n (4, 2, 6, 1, 3, 5),\n (4, 2, 6, 1, 5, 3),\n (4, 2, 6, 3, 1, 5),\n (4, 2, 6, 3, 5, 1),\n (4, 2, 6, 5, 1, 3),\n (4, 2, 6, 5, 3, 1),\n (4, 3, 1, 2, 5, 6),\n (4, 3, 1, 2, 6, 5),\n (4, 3, 1, 5, 2, 6),\n (4, 3, 1, 5, 6, 2),\n (4, 3, 1, 6, 2, 5),\n (4, 3, 1, 6, 5, 2),\n (4, 3, 2, 1, 5, 6),\n (4, 3, 2, 1, 6, 5),\n (4, 3, 2, 5, 1, 6),\n (4, 3, 2, 5, 6, 1),\n (4, 3, 2, 6, 1, 5),\n (4, 3, 2, 6, 5, 1),\n (4, 3, 5, 1, 2, 6),\n (4, 3, 5, 1, 6, 2),\n (4, 3, 5, 2, 1, 6),\n (4, 3, 5, 2, 6, 1),\n (4, 3, 5, 6, 1, 2),\n (4, 3, 5, 6, 2, 1),\n (4, 3, 6, 1, 2, 5),\n (4, 3, 6, 1, 5, 2),\n (4, 3, 6, 2, 1, 5),\n (4, 3, 6, 2, 5, 1),\n (4, 3, 6, 5, 1, 2),\n (4, 3, 6, 5, 2, 1),\n (4, 5, 1, 2, 3, 6),\n (4, 5, 1, 2, 6, 3),\n (4, 5, 1, 3, 2, 6),\n (4, 5, 1, 3, 6, 2),\n (4, 5, 1, 6, 2, 3),\n (4, 5, 1, 6, 3, 2),\n (4, 5, 2, 1, 3, 6),\n (4, 5, 2, 1, 6, 3),\n (4, 5, 2, 3, 1, 6),\n (4, 5, 2, 3, 6, 1),\n (4, 5, 2, 6, 1, 3),\n (4, 5, 2, 6, 3, 1),\n (4, 5, 3, 1, 2, 6),\n (4, 5, 3, 1, 6, 2),\n (4, 5, 3, 2, 1, 6),\n (4, 5, 3, 2, 6, 1),\n (4, 5, 3, 6, 1, 2),\n (4, 5, 3, 6, 2, 1),\n (4, 5, 6, 1, 2, 3),\n (4, 5, 6, 1, 3, 2),\n (4, 5, 6, 2, 1, 3),\n (4, 5, 6, 2, 3, 1),\n (4, 5, 6, 3, 1, 2),\n (4, 5, 6, 3, 2, 1),\n (4, 6, 1, 2, 3, 5),\n (4, 6, 1, 2, 5, 3),\n (4, 6, 1, 3, 2, 5),\n (4, 6, 1, 3, 5, 2),\n (4, 6, 1, 5, 2, 3),\n (4, 6, 1, 5, 3, 2),\n (4, 6, 2, 1, 3, 5),\n (4, 6, 2, 1, 5, 3),\n (4, 6, 2, 3, 1, 5),\n (4, 6, 2, 3, 5, 1),\n (4, 6, 2, 5, 1, 3),\n (4, 6, 2, 5, 3, 1),\n (4, 6, 3, 1, 2, 5),\n (4, 6, 3, 1, 5, 2),\n (4, 6, 3, 2, 1, 5),\n (4, 6, 3, 2, 5, 1),\n (4, 6, 3, 5, 1, 2),\n (4, 6, 3, 5, 2, 1),\n (4, 6, 5, 1, 2, 3),\n (4, 6, 5, 1, 3, 2),\n (4, 6, 5, 2, 1, 3),\n (4, 6, 5, 2, 3, 1),\n (4, 6, 5, 3, 1, 2),\n (4, 6, 5, 3, 2, 1),\n (5, 1, 2, 3, 4, 6),\n (5, 1, 2, 3, 6, 4),\n (5, 1, 2, 4, 3, 6),\n (5, 1, 2, 4, 6, 3),\n (5, 1, 2, 6, 3, 4),\n (5, 1, 2, 6, 4, 3),\n (5, 1, 3, 2, 4, 6),\n (5, 1, 3, 2, 6, 4),\n (5, 1, 3, 4, 2, 6),\n (5, 1, 3, 4, 6, 2),\n (5, 1, 3, 6, 2, 4),\n (5, 1, 3, 6, 4, 2),\n (5, 1, 4, 2, 3, 6),\n (5, 1, 4, 2, 6, 3),\n (5, 1, 4, 3, 2, 6),\n (5, 1, 4, 3, 6, 2),\n (5, 1, 4, 6, 2, 3),\n (5, 1, 4, 6, 3, 2),\n (5, 1, 6, 2, 3, 4),\n (5, 1, 6, 2, 4, 3),\n (5, 1, 6, 3, 2, 4),\n (5, 1, 6, 3, 4, 2),\n (5, 1, 6, 4, 2, 3),\n (5, 1, 6, 4, 3, 2),\n (5, 2, 1, 3, 4, 6),\n (5, 2, 1, 3, 6, 4),\n (5, 2, 1, 4, 3, 6),\n (5, 2, 1, 4, 6, 3),\n (5, 2, 1, 6, 3, 4),\n (5, 2, 1, 6, 4, 3),\n (5, 2, 3, 1, 4, 6),\n (5, 2, 3, 1, 6, 4),\n (5, 2, 3, 4, 1, 6),\n (5, 2, 3, 4, 6, 1),\n (5, 2, 3, 6, 1, 4),\n (5, 2, 3, 6, 4, 1),\n (5, 2, 4, 1, 3, 6),\n (5, 2, 4, 1, 6, 3),\n (5, 2, 4, 3, 1, 6),\n (5, 2, 4, 3, 6, 1),\n (5, 2, 4, 6, 1, 3),\n (5, 2, 4, 6, 3, 1),\n (5, 2, 6, 1, 3, 4),\n (5, 2, 6, 1, 4, 3),\n (5, 2, 6, 3, 1, 4),\n (5, 2, 6, 3, 4, 1),\n (5, 2, 6, 4, 1, 3),\n (5, 2, 6, 4, 3, 1),\n (5, 3, 1, 2, 4, 6),\n (5, 3, 1, 2, 6, 4),\n (5, 3, 1, 4, 2, 6),\n (5, 3, 1, 4, 6, 2),\n (5, 3, 1, 6, 2, 4),\n (5, 3, 1, 6, 4, 2),\n (5, 3, 2, 1, 4, 6),\n (5, 3, 2, 1, 6, 4),\n (5, 3, 2, 4, 1, 6),\n (5, 3, 2, 4, 6, 1),\n (5, 3, 2, 6, 1, 4),\n (5, 3, 2, 6, 4, 1),\n (5, 3, 4, 1, 2, 6),\n (5, 3, 4, 1, 6, 2),\n (5, 3, 4, 2, 1, 6),\n (5, 3, 4, 2, 6, 1),\n (5, 3, 4, 6, 1, 2),\n (5, 3, 4, 6, 2, 1),\n (5, 3, 6, 1, 2, 4),\n (5, 3, 6, 1, 4, 2),\n (5, 3, 6, 2, 1, 4),\n (5, 3, 6, 2, 4, 1),\n (5, 3, 6, 4, 1, 2),\n (5, 3, 6, 4, 2, 1),\n (5, 4, 1, 2, 3, 6),\n (5, 4, 1, 2, 6, 3),\n (5, 4, 1, 3, 2, 6),\n (5, 4, 1, 3, 6, 2),\n (5, 4, 1, 6, 2, 3),\n (5, 4, 1, 6, 3, 2),\n (5, 4, 2, 1, 3, 6),\n (5, 4, 2, 1, 6, 3),\n (5, 4, 2, 3, 1, 6),\n (5, 4, 2, 3, 6, 1),\n (5, 4, 2, 6, 1, 3),\n (5, 4, 2, 6, 3, 1),\n (5, 4, 3, 1, 2, 6),\n (5, 4, 3, 1, 6, 2),\n (5, 4, 3, 2, 1, 6),\n (5, 4, 3, 2, 6, 1),\n (5, 4, 3, 6, 1, 2),\n (5, 4, 3, 6, 2, 1),\n (5, 4, 6, 1, 2, 3),\n (5, 4, 6, 1, 3, 2),\n (5, 4, 6, 2, 1, 3),\n (5, 4, 6, 2, 3, 1),\n (5, 4, 6, 3, 1, 2),\n (5, 4, 6, 3, 2, 1),\n (5, 6, 1, 2, 3, 4),\n (5, 6, 1, 2, 4, 3),\n (5, 6, 1, 3, 2, 4),\n (5, 6, 1, 3, 4, 2),\n (5, 6, 1, 4, 2, 3),\n (5, 6, 1, 4, 3, 2),\n (5, 6, 2, 1, 3, 4),\n (5, 6, 2, 1, 4, 3),\n (5, 6, 2, 3, 1, 4),\n (5, 6, 2, 3, 4, 1),\n (5, 6, 2, 4, 1, 3),\n (5, 6, 2, 4, 3, 1),\n (5, 6, 3, 1, 2, 4),\n (5, 6, 3, 1, 4, 2),\n (5, 6, 3, 2, 1, 4),\n (5, 6, 3, 2, 4, 1),\n (5, 6, 3, 4, 1, 2),\n (5, 6, 3, 4, 2, 1),\n (5, 6, 4, 1, 2, 3),\n (5, 6, 4, 1, 3, 2),\n (5, 6, 4, 2, 1, 3),\n (5, 6, 4, 2, 3, 1),\n (5, 6, 4, 3, 1, 2),\n (5, 6, 4, 3, 2, 1),\n (6, 1, 2, 3, 4, 5),\n (6, 1, 2, 3, 5, 4),\n (6, 1, 2, 4, 3, 5),\n (6, 1, 2, 4, 5, 3),\n (6, 1, 2, 5, 3, 4),\n (6, 1, 2, 5, 4, 3),\n (6, 1, 3, 2, 4, 5),\n (6, 1, 3, 2, 5, 4),\n (6, 1, 3, 4, 2, 5),\n (6, 1, 3, 4, 5, 2),\n (6, 1, 3, 5, 2, 4),\n (6, 1, 3, 5, 4, 2),\n (6, 1, 4, 2, 3, 5),\n (6, 1, 4, 2, 5, 3),\n (6, 1, 4, 3, 2, 5),\n (6, 1, 4, 3, 5, 2),\n (6, 1, 4, 5, 2, 3),\n (6, 1, 4, 5, 3, 2),\n (6, 1, 5, 2, 3, 4),\n (6, 1, 5, 2, 4, 3),\n (6, 1, 5, 3, 2, 4),\n (6, 1, 5, 3, 4, 2),\n (6, 1, 5, 4, 2, 3),\n (6, 1, 5, 4, 3, 2),\n (6, 2, 1, 3, 4, 5),\n (6, 2, 1, 3, 5, 4),\n (6, 2, 1, 4, 3, 5),\n (6, 2, 1, 4, 5, 3),\n (6, 2, 1, 5, 3, 4),\n (6, 2, 1, 5, 4, 3),\n (6, 2, 3, 1, 4, 5),\n (6, 2, 3, 1, 5, 4),\n (6, 2, 3, 4, 1, 5),\n (6, 2, 3, 4, 5, 1),\n (6, 2, 3, 5, 1, 4),\n (6, 2, 3, 5, 4, 1),\n (6, 2, 4, 1, 3, 5),\n (6, 2, 4, 1, 5, 3),\n (6, 2, 4, 3, 1, 5),\n (6, 2, 4, 3, 5, 1),\n (6, 2, 4, 5, 1, 3),\n (6, 2, 4, 5, 3, 1),\n (6, 2, 5, 1, 3, 4),\n (6, 2, 5, 1, 4, 3),\n (6, 2, 5, 3, 1, 4),\n (6, 2, 5, 3, 4, 1),\n (6, 2, 5, 4, 1, 3),\n (6, 2, 5, 4, 3, 1),\n (6, 3, 1, 2, 4, 5),\n (6, 3, 1, 2, 5, 4),\n (6, 3, 1, 4, 2, 5),\n (6, 3, 1, 4, 5, 2),\n (6, 3, 1, 5, 2, 4),\n (6, 3, 1, 5, 4, 2),\n (6, 3, 2, 1, 4, 5),\n (6, 3, 2, 1, 5, 4),\n (6, 3, 2, 4, 1, 5),\n (6, 3, 2, 4, 5, 1),\n (6, 3, 2, 5, 1, 4),\n (6, 3, 2, 5, 4, 1),\n (6, 3, 4, 1, 2, 5),\n (6, 3, 4, 1, 5, 2),\n (6, 3, 4, 2, 1, 5),\n (6, 3, 4, 2, 5, 1),\n (6, 3, 4, 5, 1, 2),\n (6, 3, 4, 5, 2, 1),\n (6, 3, 5, 1, 2, 4),\n (6, 3, 5, 1, 4, 2),\n (6, 3, 5, 2, 1, 4),\n (6, 3, 5, 2, 4, 1),\n (6, 3, 5, 4, 1, 2),\n (6, 3, 5, 4, 2, 1),\n (6, 4, 1, 2, 3, 5),\n (6, 4, 1, 2, 5, 3),\n (6, 4, 1, 3, 2, 5),\n (6, 4, 1, 3, 5, 2),\n (6, 4, 1, 5, 2, 3),\n (6, 4, 1, 5, 3, 2),\n (6, 4, 2, 1, 3, 5),\n (6, 4, 2, 1, 5, 3),\n (6, 4, 2, 3, 1, 5),\n (6, 4, 2, 3, 5, 1),\n (6, 4, 2, 5, 1, 3),\n (6, 4, 2, 5, 3, 1),\n (6, 4, 3, 1, 2, 5),\n (6, 4, 3, 1, 5, 2),\n (6, 4, 3, 2, 1, 5),\n (6, 4, 3, 2, 5, 1),\n (6, 4, 3, 5, 1, 2),\n (6, 4, 3, 5, 2, 1),\n (6, 4, 5, 1, 2, 3),\n (6, 4, 5, 1, 3, 2),\n (6, 4, 5, 2, 1, 3),\n (6, 4, 5, 2, 3, 1),\n (6, 4, 5, 3, 1, 2),\n (6, 4, 5, 3, 2, 1),\n (6, 5, 1, 2, 3, 4),\n (6, 5, 1, 2, 4, 3),\n (6, 5, 1, 3, 2, 4),\n (6, 5, 1, 3, 4, 2),\n (6, 5, 1, 4, 2, 3),\n (6, 5, 1, 4, 3, 2),\n (6, 5, 2, 1, 3, 4),\n (6, 5, 2, 1, 4, 3),\n (6, 5, 2, 3, 1, 4),\n (6, 5, 2, 3, 4, 1),\n (6, 5, 2, 4, 1, 3),\n (6, 5, 2, 4, 3, 1),\n (6, 5, 3, 1, 2, 4),\n (6, 5, 3, 1, 4, 2),\n (6, 5, 3, 2, 1, 4),\n (6, 5, 3, 2, 4, 1),\n (6, 5, 3, 4, 1, 2),\n (6, 5, 3, 4, 2, 1),\n (6, 5, 4, 1, 2, 3),\n (6, 5, 4, 1, 3, 2),\n (6, 5, 4, 2, 1, 3),\n (6, 5, 4, 2, 3, 1),\n (6, 5, 4, 3, 1, 2),\n (6, 5, 4, 3, 2, 1)]"
     },
     "execution_count": 20,
     "metadata": {},
     "output_type": "execute_result"
    }
   ],
   "source": [
    "list(it.permutations(zer))"
   ],
   "metadata": {
    "collapsed": false
   }
  },
  {
   "cell_type": "code",
   "execution_count": 21,
   "outputs": [
    {
     "data": {
      "text/plain": "[1, 1, 1, 1, 1]"
     },
     "execution_count": 21,
     "metadata": {},
     "output_type": "execute_result"
    }
   ],
   "source": [
    "list(it.repeat(1,5))"
   ],
   "metadata": {
    "collapsed": false
   }
  },
  {
   "cell_type": "code",
   "execution_count": 22,
   "outputs": [
    {
     "data": {
      "text/plain": "[4, 4, 4]"
     },
     "execution_count": 22,
     "metadata": {},
     "output_type": "execute_result"
    }
   ],
   "source": [
    "list(it.repeat(4,3))"
   ],
   "metadata": {
    "collapsed": false
   }
  },
  {
   "cell_type": "code",
   "execution_count": 23,
   "outputs": [
    {
     "data": {
      "text/plain": "[1, 3, 6, 10, 15]"
     },
     "execution_count": 23,
     "metadata": {},
     "output_type": "execute_result"
    }
   ],
   "source": [
    "list(it.accumulate([1,2,3,4,5]))"
   ],
   "metadata": {
    "collapsed": false
   }
  },
  {
   "cell_type": "markdown",
   "source": [
    "# Enumerate"
   ],
   "metadata": {
    "collapsed": false
   }
  },
  {
   "cell_type": "code",
   "execution_count": 1,
   "outputs": [
    {
     "name": "stdout",
     "output_type": "stream",
     "text": [
      "a\n",
      "b\n",
      "c\n"
     ]
    }
   ],
   "source": [
    "values = ['a','b','c']\n",
    "\n",
    "for value in values:\n",
    "    print(value)"
   ],
   "metadata": {
    "collapsed": false
   }
  },
  {
   "cell_type": "code",
   "execution_count": 2,
   "outputs": [
    {
     "name": "stdout",
     "output_type": "stream",
     "text": [
      "0 a\n",
      "1 b\n",
      "2 c\n"
     ]
    }
   ],
   "source": [
    "index = 0\n",
    "\n",
    "for value in values:\n",
    "    print(index, value)\n",
    "    index += 1"
   ],
   "metadata": {
    "collapsed": false
   }
  },
  {
   "cell_type": "code",
   "execution_count": 3,
   "outputs": [
    {
     "name": "stdout",
     "output_type": "stream",
     "text": [
      "0 a\n",
      "1 b\n",
      "2 c\n"
     ]
    }
   ],
   "source": [
    "for index in range(len(values)):\n",
    "    value = values[index]\n",
    "    print(index, value)"
   ],
   "metadata": {
    "collapsed": false
   }
  },
  {
   "cell_type": "code",
   "execution_count": 5,
   "outputs": [
    {
     "name": "stdout",
     "output_type": "stream",
     "text": [
      "0 a\n",
      "1 b\n",
      "2 c\n"
     ]
    }
   ],
   "source": [
    "for count, value in enumerate(values):\n",
    "    print(count, value)"
   ],
   "metadata": {
    "collapsed": false
   }
  },
  {
   "cell_type": "code",
   "execution_count": 6,
   "outputs": [
    {
     "name": "stdout",
     "output_type": "stream",
     "text": [
      "1 a\n",
      "2 b\n",
      "3 c\n"
     ]
    }
   ],
   "source": [
    "for count, value in enumerate(values, start=1):\n",
    "    print(count, value)"
   ],
   "metadata": {
    "collapsed": false
   }
  },
  {
   "cell_type": "markdown",
   "source": [
    "# Regex - Regular Expressions"
   ],
   "metadata": {
    "collapsed": false
   }
  },
  {
   "cell_type": "code",
   "execution_count": 7,
   "outputs": [],
   "source": [
    "import re"
   ],
   "metadata": {
    "collapsed": false
   }
  },
  {
   "cell_type": "code",
   "execution_count": 10,
   "outputs": [
    {
     "name": "stdout",
     "output_type": "stream",
     "text": [
      "Yes we have a match\n"
     ]
    }
   ],
   "source": [
    "#Check if the string starts with \"The\" and ends with \"Spain\":\n",
    "\n",
    "txt = 'The rain in Spain'\n",
    "x = re.search('^The.*Spain$', txt)\n",
    "\n",
    "if x:\n",
    "    print('Yes we have a match')\n",
    "else:\n",
    "    print('No match')"
   ],
   "metadata": {
    "collapsed": false
   }
  },
  {
   "cell_type": "code",
   "execution_count": 12,
   "outputs": [
    {
     "name": "stdout",
     "output_type": "stream",
     "text": [
      "['ai', 'ai']\n"
     ]
    }
   ],
   "source": [
    "txt = \"The rain in Spain\"\n",
    "x = re.findall(\"ai\", txt)\n",
    "print(x)"
   ],
   "metadata": {
    "collapsed": false
   }
  },
  {
   "cell_type": "code",
   "execution_count": 13,
   "outputs": [
    {
     "name": "stdout",
     "output_type": "stream",
     "text": [
      "[]\n"
     ]
    }
   ],
   "source": [
    "txt = \"The rain in Spain\"\n",
    "x = re.findall(\"Portugal\", txt)\n",
    "print(x)"
   ],
   "metadata": {
    "collapsed": false
   }
  },
  {
   "cell_type": "code",
   "execution_count": 14,
   "outputs": [
    {
     "name": "stdout",
     "output_type": "stream",
     "text": [
      "The first white-space character is located in position: 3\n"
     ]
    }
   ],
   "source": [
    "txt = \"The rain in Spain\"\n",
    "x = re.search(\"\\s\", txt)\n",
    "\n",
    "print(\"The first white-space character is located in position:\", x.start())"
   ],
   "metadata": {
    "collapsed": false
   }
  },
  {
   "cell_type": "code",
   "execution_count": 16,
   "outputs": [
    {
     "name": "stdout",
     "output_type": "stream",
     "text": [
      "['The', 'rain', 'in', 'Spain']\n"
     ]
    }
   ],
   "source": [
    "txt = \"The rain in Spain\"\n",
    "x = re.split(\"\\s\", txt)\n",
    "print(x)"
   ],
   "metadata": {
    "collapsed": false
   }
  },
  {
   "cell_type": "code",
   "execution_count": 17,
   "outputs": [
    {
     "name": "stdout",
     "output_type": "stream",
     "text": [
      "['The', 'rain in Spain']\n"
     ]
    }
   ],
   "source": [
    "txt = \"The rain in Spain\"\n",
    "x = re.split(\"\\s\", txt, 1)\n",
    "print(x)"
   ],
   "metadata": {
    "collapsed": false
   }
  },
  {
   "cell_type": "code",
   "execution_count": 18,
   "outputs": [
    {
     "name": "stdout",
     "output_type": "stream",
     "text": [
      "The9rain9in9Spain\n"
     ]
    }
   ],
   "source": [
    "txt = \"The rain in Spain\"\n",
    "x = re.sub(\"\\s\", \"9\", txt)\n",
    "print(x)"
   ],
   "metadata": {
    "collapsed": false
   }
  },
  {
   "cell_type": "code",
   "execution_count": 19,
   "outputs": [
    {
     "name": "stdout",
     "output_type": "stream",
     "text": [
      "The9rain9in Spain\n"
     ]
    }
   ],
   "source": [
    "txt = \"The rain in Spain\"\n",
    "x = re.sub(\"\\s\", \"9\", txt, 2)\n",
    "print(x)"
   ],
   "metadata": {
    "collapsed": false
   }
  },
  {
   "cell_type": "markdown",
   "source": [
    "[Regex properties](https://www.geeksforgeeks.org/regular-expression-python-examples-set-1/)"
   ],
   "metadata": {
    "collapsed": false
   }
  },
  {
   "cell_type": "code",
   "execution_count": null,
   "outputs": [],
   "source": [],
   "metadata": {
    "collapsed": false
   }
  }
 ],
 "metadata": {
  "kernelspec": {
   "display_name": "Python 3",
   "language": "python",
   "name": "python3"
  },
  "language_info": {
   "codemirror_mode": {
    "name": "ipython",
    "version": 2
   },
   "file_extension": ".py",
   "mimetype": "text/x-python",
   "name": "python",
   "nbconvert_exporter": "python",
   "pygments_lexer": "ipython2",
   "version": "2.7.6"
  }
 },
 "nbformat": 4,
 "nbformat_minor": 0
}
