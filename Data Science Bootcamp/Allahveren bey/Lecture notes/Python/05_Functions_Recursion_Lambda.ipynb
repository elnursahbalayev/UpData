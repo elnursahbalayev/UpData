{
 "cells": [
  {
   "cell_type": "markdown",
   "metadata": {},
   "source": [
    "# Funksiyalar, Rekursiya ve Lambda funksiyalar"
   ]
  },
  {
   "cell_type": "markdown",
   "metadata": {},
   "source": [
    "## Funksiyalar"
   ]
  },
  {
   "cell_type": "markdown",
   "metadata": {},
   "source": [
    "Funksiyalar her hansi bir emeliyati yerine yetirmek ucun yazilan ve lazim olduqda cagirilan kod blokudur. Funksiyalar bize seliqeli ve ardicil kod yazmagimizda komek edir. Funksiyalari yaratdigimizda onlara parametrler vere biler ve onlardan belli qiymetler goture bilerik."
   ]
  },
  {
   "cell_type": "markdown",
   "metadata": {},
   "source": [
    "### Funksiya yaradilmasi"
   ]
  },
  {
   "cell_type": "code",
   "execution_count": 1,
   "metadata": {},
   "outputs": [],
   "source": [
    "#funksiya yaradarken def acar sozunden istifade edirik\n",
    "def salamlama():\n",
    "    print('Salam')"
   ]
  },
  {
   "cell_type": "markdown",
   "metadata": {},
   "source": [
    "### Funksiya cagirilmasi"
   ]
  },
  {
   "cell_type": "code",
   "execution_count": 3,
   "metadata": {},
   "outputs": [
    {
     "name": "stdout",
     "output_type": "stream",
     "text": [
      "Salam\n"
     ]
    }
   ],
   "source": [
    "#funksiya cagirilarken adini yazib daha sonra moterizelerden istifade etmek lazimdir\n",
    "salamlama()"
   ]
  },
  {
   "cell_type": "markdown",
   "metadata": {},
   "source": [
    "### Arqumentler"
   ]
  },
  {
   "cell_type": "markdown",
   "metadata": {},
   "source": [
    "Arqumentler funksiyalari cagirarken onlarin icerisine otureceyimz qiymetlerdir. Arqumentleri funksiyanin moterizelerinin icerisine elave edirik. Istediyimiz sayda arqument elave ede bilerik ve onlari vergul ile ayirmagimiz lazimdir. Arqumentlerde ardicilliq onemlidi"
   ]
  },
  {
   "cell_type": "code",
   "execution_count": 3,
   "metadata": {},
   "outputs": [
    {
     "name": "stdout",
     "output_type": "stream",
     "text": [
      "Kamil Salam\n",
      "Elvin Salam\n",
      "Togrul Salam\n"
     ]
    }
   ],
   "source": [
    "def salamlama(ad):\n",
    "    print(ad, 'Salam')\n",
    "\n",
    "salamlama('Kamil')\n",
    "salamlama('Elvin')\n",
    "salamlama('Togrul')"
   ]
  },
  {
   "cell_type": "markdown",
   "metadata": {},
   "source": [
    "### Parametr ve arqumentler"
   ]
  },
  {
   "cell_type": "markdown",
   "metadata": {},
   "source": [
    "Arqument ve parametrler demek olar ki eyni seylerdi. Parametrler funksiyani yazarken moterize icerisinde verdiyimiz deyisenlerin adidir. Arqument ise funksiyani cagirarken icerisinde yazdigimiz qiymetlerdir."
   ]
  },
  {
   "cell_type": "code",
   "execution_count": 5,
   "metadata": {},
   "outputs": [
    {
     "name": "stdout",
     "output_type": "stream",
     "text": [
      "5\n"
     ]
    }
   ],
   "source": [
    "def toplama(a, b):\n",
    "    print(a + b)\n",
    "\n",
    "toplama(2, 3)"
   ]
  },
  {
   "cell_type": "markdown",
   "metadata": {},
   "source": [
    "### Arqument sayi"
   ]
  },
  {
   "cell_type": "markdown",
   "metadata": {},
   "source": [
    "Funksiya yaradarken verdiyimiz parametrlerin sayi onu cagirarken vereceyimiz arqumentlerin sayi ile eyni olmalidir. "
   ]
  },
  {
   "cell_type": "code",
   "execution_count": 6,
   "metadata": {},
   "outputs": [
    {
     "name": "stdout",
     "output_type": "stream",
     "text": [
      "Kamil Budaqov\n"
     ]
    }
   ],
   "source": [
    "def adlandirma(ad, soyad):\n",
    "    print(ad, soyad)\n",
    "\n",
    "adlandirma('Kamil', 'Budaqov')"
   ]
  },
  {
   "cell_type": "code",
   "execution_count": 7,
   "metadata": {},
   "outputs": [
    {
     "ename": "TypeError",
     "evalue": "adlandirma() missing 1 required positional argument: 'soyad'",
     "output_type": "error",
     "traceback": [
      "\u001b[1;31m---------------------------------------------------------------------------\u001b[0m",
      "\u001b[1;31mTypeError\u001b[0m                                 Traceback (most recent call last)",
      "\u001b[1;32mc:\\Users\\aliyu\\OneDrive\\İş masası\\galactech_school_lecture\\Python\\05_Functions_Recursion_Lambda.ipynb Cell 17'\u001b[0m in \u001b[0;36m<cell line: 1>\u001b[1;34m()\u001b[0m\n\u001b[1;32m----> <a href='vscode-notebook-cell:/c%3A/Users/aliyu/OneDrive/%C4%B0%C5%9F%20masas%C4%B1/galactech_school_lecture/Python/05_Functions_Recursion_Lambda.ipynb#ch0000032?line=0'>1</a>\u001b[0m adlandirma(\u001b[39m'\u001b[39;49m\u001b[39mElvin\u001b[39;49m\u001b[39m'\u001b[39;49m)\n",
      "\u001b[1;31mTypeError\u001b[0m: adlandirma() missing 1 required positional argument: 'soyad'"
     ]
    }
   ],
   "source": [
    "adlandirma('Elvin')"
   ]
  },
  {
   "cell_type": "markdown",
   "metadata": {},
   "source": [
    "### Ixtiyari arqumentler (arbitrary arguments)"
   ]
  },
  {
   "cell_type": "markdown",
   "metadata": {},
   "source": [
    "Eger nece arqument otureceyimiz deqiq bilmirikse ozaman ixtiyari arqumentlerden istifade edirik. Ixtiyari arqument islederken onune * isaresi qoymaq lazimdir. Bu yolla funksiya cagirarken onun icerisinde qiymetleri tuple seklinde veririk ve onlara giris ede bilerik. Pythonda onlara *args deyilir"
   ]
  },
  {
   "cell_type": "code",
   "execution_count": 9,
   "metadata": {},
   "outputs": [
    {
     "name": "stdout",
     "output_type": "stream",
     "text": [
      "alma\n",
      "armud\n",
      "nar\n"
     ]
    }
   ],
   "source": [
    "def setirleme(*sozler):\n",
    "    for soz in sozler:\n",
    "        print(soz)\n",
    "\n",
    "setirleme('alma', 'armud', 'nar')"
   ]
  },
  {
   "cell_type": "markdown",
   "metadata": {},
   "source": [
    "### Acar arqumentler"
   ]
  },
  {
   "cell_type": "markdown",
   "metadata": {},
   "source": [
    "Acar arqumentler acar=qiymet formasinda funksiyanin icerisine oturulur ve buzaman ardicilliq onemli olmur."
   ]
  },
  {
   "cell_type": "code",
   "execution_count": 11,
   "metadata": {},
   "outputs": [
    {
     "name": "stdout",
     "output_type": "stream",
     "text": [
      "Adiniz: Ali\n",
      "Soyadiniz: Yusifov\n",
      "Yasiniz: 23\n"
     ]
    }
   ],
   "source": [
    "def info(ad, soyad, yas):\n",
    "    print(f'Adiniz: {ad}\\nSoyadiniz: {soyad}\\nYasiniz: {yas}')\n",
    "\n",
    "info('Ali', 'Yusifov', 23)"
   ]
  },
  {
   "cell_type": "markdown",
   "metadata": {},
   "source": [
    "### Ixtiyari acar arqumentler *kwargs"
   ]
  },
  {
   "cell_type": "markdown",
   "metadata": {},
   "source": [
    "Eger nece acar arqument daxil edeceyinizi bilmirsizse ixtiyari acarlardan istifade bilersiniz. Bunun ucun ** isaresinden istifade olunur. Bu metodla funksiyani cagiranda o hemin qiymetleri dictionary seklinde qebul edir ve acar vasitesiyle onlara giris edir. "
   ]
  },
  {
   "cell_type": "code",
   "execution_count": 13,
   "metadata": {},
   "outputs": [
    {
     "name": "stdout",
     "output_type": "stream",
     "text": [
      "Adiniz:Ali\n",
      "Soyadiniz: Yusifov\n",
      "Yasiniz: 23\n",
      "Cins: Kisi\n"
     ]
    }
   ],
   "source": [
    "def info(** melumatlar):\n",
    "    print(f'Adiniz:{ melumatlar[\"ad\"]}\\nSoyadiniz: {melumatlar[\"soyad\"]}\\nYasiniz: {melumatlar[\"yas\"]}\\nCins: {melumatlar[\"cins\"]}')\n",
    "\n",
    "info(ad='Ali', soyad='Yusifov', yas=23, cins='Kisi')"
   ]
  },
  {
   "cell_type": "markdown",
   "metadata": {},
   "source": [
    "### default parametrler"
   ]
  },
  {
   "cell_type": "markdown",
   "metadata": {},
   "source": [
    "Bezen funksiyalarimizda ele qiymetler olur ki onlar cox zaman deyismir, eyni qalir. Buzaman default qiymetlerden istifade ede bilerik, ve funksiyani cagiran zaman onlarin qiymetin yeniden vermeyimize ehtiyac qalmir. "
   ]
  },
  {
   "cell_type": "code",
   "execution_count": 16,
   "metadata": {},
   "outputs": [
    {
     "name": "stdout",
     "output_type": "stream",
     "text": [
      "Adiniz:Ali\n",
      "Soyadiniz: Yusifov\n",
      "Yasiniz: 23\n",
      "Cins: Kisi\n",
      "Olke: Azerbaycan\n"
     ]
    }
   ],
   "source": [
    "def info(olke = 'Azerbaycan' ,**melumatlar):\n",
    "    print(f'Adiniz:{ melumatlar[\"ad\"]}\\nSoyadiniz: {melumatlar[\"soyad\"]}\\nYasiniz: {melumatlar[\"yas\"]}\\nCins: {melumatlar[\"cins\"]}\\nOlke: {olke}')\n",
    "\n",
    "info(ad='Ali', soyad='Yusifov', yas=23, cins='Kisi')"
   ]
  },
  {
   "cell_type": "code",
   "execution_count": 17,
   "metadata": {},
   "outputs": [
    {
     "name": "stdout",
     "output_type": "stream",
     "text": [
      "Adiniz:Ali\n",
      "Soyadiniz: Yusifov\n",
      "Yasiniz: 23\n",
      "Cins: Kisi\n",
      "Olke: Malaziya\n"
     ]
    }
   ],
   "source": [
    "info(ad='Ali', soyad='Yusifov', yas=23, cins='Kisi', olke='Malaziya')"
   ]
  },
  {
   "cell_type": "markdown",
   "metadata": {},
   "source": [
    "### Arqument kimi listin verilmesi"
   ]
  },
  {
   "cell_type": "code",
   "execution_count": 18,
   "metadata": {},
   "outputs": [
    {
     "name": "stdout",
     "output_type": "stream",
     "text": [
      "alma\n",
      "armud\n",
      "nar\n"
     ]
    }
   ],
   "source": [
    "def meyve_adlari(meyveler):\n",
    "    for meyve in meyveler:\n",
    "        print(meyve)\n",
    "\n",
    "menim_meyvelerim = ['alma', 'armud', 'nar']\n",
    "\n",
    "meyve_adlari(menim_meyvelerim)"
   ]
  },
  {
   "cell_type": "markdown",
   "metadata": {},
   "source": [
    "### return"
   ]
  },
  {
   "cell_type": "markdown",
   "metadata": {},
   "source": [
    "Bezi situasiyalarda bizim funksiyalarimizda neyinse print olunmasin istemirik lakin hemin funksiyadan alinan neticeni her hansi bir sekilde saxlamaq isteyirik. Buzaman return'den istifade edirik. "
   ]
  },
  {
   "cell_type": "code",
   "execution_count": 21,
   "metadata": {},
   "outputs": [],
   "source": [
    "def hesablama(a, b, c):\n",
    "    return (a+b)*c"
   ]
  },
  {
   "cell_type": "code",
   "execution_count": 23,
   "metadata": {},
   "outputs": [
    {
     "name": "stdout",
     "output_type": "stream",
     "text": [
      "9\n"
     ]
    }
   ],
   "source": [
    "netice = hesablama(1, 2, 3)\n",
    "print(netice)"
   ]
  },
  {
   "cell_type": "code",
   "execution_count": 24,
   "metadata": {},
   "outputs": [
    {
     "name": "stdout",
     "output_type": "stream",
     "text": [
      "Sizin yasiniz 23\n"
     ]
    }
   ],
   "source": [
    "def yas_hesablanmasi(il):\n",
    "    return 2022 - il\n",
    "\n",
    "dogum_ili = int(input('Dogum ilinizi qeyd edin: '))\n",
    "print(f'Sizin yasiniz {yas_hesablanmasi(dogum_ili)}')"
   ]
  },
  {
   "cell_type": "markdown",
   "metadata": {},
   "source": [
    "### pass ifadesi"
   ]
  },
  {
   "cell_type": "markdown",
   "metadata": {},
   "source": [
    "Funksiya yaradildiqda onun icerisi bos ola bilmez bu zaman biz xeta ile rastlasa bilerik. Bu xetadan qacmaq ucun biz pass ifadesin isledirik."
   ]
  },
  {
   "cell_type": "code",
   "execution_count": 25,
   "metadata": {},
   "outputs": [
    {
     "ename": "IndentationError",
     "evalue": "expected an indented block (1332423285.py, line 2)",
     "output_type": "error",
     "traceback": [
      "\u001b[1;36m  Input \u001b[1;32mIn [25]\u001b[1;36m\u001b[0m\n\u001b[1;33m    \u001b[0m\n\u001b[1;37m    ^\u001b[0m\n\u001b[1;31mIndentationError\u001b[0m\u001b[1;31m:\u001b[0m expected an indented block\n"
     ]
    }
   ],
   "source": [
    "def bos():\n",
    "    "
   ]
  },
  {
   "cell_type": "code",
   "execution_count": 26,
   "metadata": {},
   "outputs": [],
   "source": [
    "def bos():\n",
    "    pass"
   ]
  },
  {
   "cell_type": "code",
   "execution_count": 27,
   "metadata": {},
   "outputs": [],
   "source": [
    "bos()"
   ]
  },
  {
   "cell_type": "markdown",
   "metadata": {},
   "source": [
    "## Tapsiriq 1\n",
    "* Istifadeci ededi daxil edir (input())\n",
    "* Bir funksiya yazaraq ededin tek ya cut oldugu mueyyen edilir ve bunu ekranda gosterir (print())\n",
    "\n",
    "### Example\n",
    " Input:\n",
    "\n",
    " Ededi daxil edin : 9\n",
    "\n",
    " Output:\n",
    "\n",
    " 9 tekdir\n"
   ]
  },
  {
   "cell_type": "code",
   "execution_count": 31,
   "metadata": {},
   "outputs": [
    {
     "name": "stdout",
     "output_type": "stream",
     "text": [
      "16 cutdur \n"
     ]
    }
   ],
   "source": [
    "def tek_ve_cut(eded):\n",
    "    if eded % 2 == 0:\n",
    "        print(f'{eded} cutdur ')\n",
    "    else:\n",
    "        print(f'{eded} tekdir')\n",
    "\n",
    "eded = int(input('Ededi daxil edin'))\n",
    "tek_ve_cut(eded)\n",
    "\n"
   ]
  },
  {
   "cell_type": "markdown",
   "metadata": {},
   "source": [
    "## Rekursiya"
   ]
  },
  {
   "cell_type": "markdown",
   "metadata": {},
   "source": [
    "Rekursiya her hansi bir funksiyanin oz icerisinde cagirilmasina deyilir. Pythonda da rekursiyadan istifade oluna biler. Rekursiya vasitesiyle biz bir nov funksiya icinde dovr etmis oluruq, ve istediyimiz qiymete bu dovr vasitesiyle catiriq. Rekursiya diqqet teleb eden bir movzudur cunki bezen rekursiv funksiyanin yanlis yazilmasi neticesinde biz hecvaxt bitmeyen bir funksiyanin icerisine gire bilerik, ve programimiz komputer yaddasi dolduguna gore dayanacaq. Ama duzgun yazildiqda rekursiya effective bir yoldur. "
   ]
  },
  {
   "cell_type": "markdown",
   "metadata": {},
   "source": [
    "Rekursiv funksiyalarda iki esas hisse vardir. Ilkin sert ve rekursiv sert. Ilkin sert bize rekursiyani nezaman saxlamagimiz ucun istifade olunan sertdir. "
   ]
  },
  {
   "cell_type": "code",
   "execution_count": 3,
   "metadata": {},
   "outputs": [
    {
     "data": {
      "text/plain": [
       "120"
      ]
     },
     "execution_count": 3,
     "metadata": {},
     "output_type": "execute_result"
    }
   ],
   "source": [
    "#faktorial hesablanmasi(normal usul)\n",
    "def faktorial(n):\n",
    "    netice = 1\n",
    "    while n>0:\n",
    "        netice *= n\n",
    "        n -= 1\n",
    "    return netice\n",
    "\n",
    "faktorial(5)\n"
   ]
  },
  {
   "cell_type": "code",
   "execution_count": 13,
   "metadata": {},
   "outputs": [
    {
     "data": {
      "text/plain": [
       "120"
      ]
     },
     "execution_count": 13,
     "metadata": {},
     "output_type": "execute_result"
    }
   ],
   "source": [
    "#faktorial hesablanmasi (rekursiv usul ile)\n",
    "def faktorial(n):\n",
    "    if n==1:\n",
    "        return 1\n",
    "    else:\n",
    "        return n*faktorial(n-1)\n",
    "\n",
    "faktorial(5)"
   ]
  },
  {
   "cell_type": "markdown",
   "metadata": {},
   "source": [
    "Avantajlari:\n",
    "* Bezi hallarda cox suretli hesablamalar aparmaq ucun istifade olunur\n",
    "\n",
    "Dezavantajlari:\n",
    "* Boyuk hesablamalar aparmaq ucun elverissizdir\n",
    "* Bir cox dillerde iterative(for, while) ile hesablamalar daha suretli netice verir\n",
    "* Basa dusulmesi bezen cox cetin olur"
   ]
  },
  {
   "cell_type": "markdown",
   "metadata": {},
   "source": []
  },
  {
   "cell_type": "markdown",
   "metadata": {},
   "source": []
  },
  {
   "cell_type": "markdown",
   "metadata": {},
   "source": [
    "## Lambda funksiyalar"
   ]
  },
  {
   "cell_type": "markdown",
   "metadata": {},
   "source": [
    "Lambda funksiyalar ve ya anonim funksiyalar pythonda genis istifade olunan bir funksiya yaratma novudur. Lambda funksiyalarnin ozelliyi onlari yaradarken her hansi bir ada ehtiyacimizin olmamagidir. Lambda funksiyalar istediyimiz qeder arqument vere bilerik ama yalniz bir ifade qaytara biler. Yalniz ve yalniz 1 ifade. "
   ]
  },
  {
   "cell_type": "markdown",
   "metadata": {},
   "source": [
    "### lambda funksiya sintaksis"
   ]
  },
  {
   "cell_type": "code",
   "execution_count": 14,
   "metadata": {},
   "outputs": [
    {
     "data": {
      "text/plain": [
       "11"
      ]
     },
     "execution_count": 14,
     "metadata": {},
     "output_type": "execute_result"
    }
   ],
   "source": [
    "toplama = lambda a, b : a+b\n",
    "toplama(5,6)\n"
   ]
  },
  {
   "cell_type": "code",
   "execution_count": 15,
   "metadata": {},
   "outputs": [
    {
     "data": {
      "text/plain": [
       "5"
      ]
     },
     "execution_count": 15,
     "metadata": {},
     "output_type": "execute_result"
    }
   ],
   "source": [
    "(lambda a,b : a-b)(7,2)"
   ]
  },
  {
   "cell_type": "markdown",
   "metadata": {},
   "source": [
    "### def vs lambda"
   ]
  },
  {
   "cell_type": "markdown",
   "metadata": {},
   "source": [
    "def ile her hansi bir funksiya yaradarken, biz ilk once hemin funksiyani adlandirmali,  ona bir arqument oturmeli daha sonra return vasitesiyle biz hemin qiymeti aliriq. Lambda ile funksiya yaradarken ise ne adlandirmaga ne returne ehtiyac yoxdur. Xususile 1 setirli kodlarda lambda cox komeyimize catir."
   ]
  },
  {
   "cell_type": "code",
   "execution_count": 16,
   "metadata": {},
   "outputs": [
    {
     "data": {
      "text/plain": [
       "30"
      ]
     },
     "execution_count": 16,
     "metadata": {},
     "output_type": "execute_result"
    }
   ],
   "source": [
    "def sahe(a, b):\n",
    "    return a*b\n",
    "\n",
    "sahe(5,6)"
   ]
  },
  {
   "cell_type": "code",
   "execution_count": 17,
   "metadata": {},
   "outputs": [
    {
     "data": {
      "text/plain": [
       "30"
      ]
     },
     "execution_count": 17,
     "metadata": {},
     "output_type": "execute_result"
    }
   ],
   "source": [
    "(lambda a, b : a*b)(5,6)"
   ]
  },
  {
   "cell_type": "code",
   "execution_count": 21,
   "metadata": {},
   "outputs": [
    {
     "data": {
      "text/plain": [
       "89"
      ]
     },
     "execution_count": 21,
     "metadata": {},
     "output_type": "execute_result"
    }
   ],
   "source": [
    "# if else ile lambda\n",
    "Max = lambda a,b : a if a>b else b\n",
    "Max(89,1)\n"
   ]
  },
  {
   "cell_type": "markdown",
   "metadata": {},
   "source": [
    "### lambda funksiyasi filter() metodu ile"
   ]
  },
  {
   "cell_type": "markdown",
   "metadata": {},
   "source": [
    "filter() funksiyasi ile biz listlerde filterleme isleri apara bilerik. filter funksiyasi 2 argument goturur list ve funksiya. Hemin funksiyanin return True sertlerine gore yeni list duzeldir. \n",
    "Biz bunu enenevi def funksiyasi ve ya lambda ile yaza bilerik. "
   ]
  },
  {
   "cell_type": "code",
   "execution_count": 22,
   "metadata": {},
   "outputs": [
    {
     "data": {
      "text/plain": [
       "[21, 77, 65, 45, 33]"
      ]
     },
     "execution_count": 22,
     "metadata": {},
     "output_type": "execute_result"
    }
   ],
   "source": [
    "#enenevi def usulu ile\n",
    "def tek_eded(a):\n",
    "    if a%2!=0:\n",
    "        return True\n",
    "    \n",
    "ededler = [12,21,90,77, 65, 92, 45, 33, 10]\n",
    "\n",
    "tek_ededler = list(filter(tek_eded, ededler))\n",
    "tek_ededler"
   ]
  },
  {
   "cell_type": "code",
   "execution_count": 23,
   "metadata": {},
   "outputs": [
    {
     "data": {
      "text/plain": [
       "[21, 77, 65, 45, 33]"
      ]
     },
     "execution_count": 23,
     "metadata": {},
     "output_type": "execute_result"
    }
   ],
   "source": [
    "#lambda usulu ile\n",
    "tek_ededler = list(filter(lambda a : a%2!=0, ededler))\n",
    "tek_ededler"
   ]
  },
  {
   "cell_type": "code",
   "execution_count": 24,
   "metadata": {},
   "outputs": [
    {
     "data": {
      "text/plain": [
       "[23, 43, 21, 35]"
      ]
     },
     "execution_count": 24,
     "metadata": {},
     "output_type": "execute_result"
    }
   ],
   "source": [
    "#numune\n",
    "#yasi 18den yuxarilar ucun ayrica listin yaradilmasi\n",
    "yas = [17, 23, 43, 11, 9, 15, 21, 35]\n",
    "yetkin = list(filter(lambda a : a>18, yas))\n",
    "yetkin\n"
   ]
  },
  {
   "cell_type": "markdown",
   "metadata": {},
   "source": [
    "### lambda funksiyasi map() metodu ile"
   ]
  },
  {
   "cell_type": "markdown",
   "metadata": {},
   "source": [
    "map() funksiyasi ile biz listlerimizde her hansi emeliyati yerine yetirib onu listin butun elementlerine tetbiq ede bilerik. map funksiyasi 2 argument goturur list ve funksiya. map()-de biz lambdadan istifade edirik."
   ]
  },
  {
   "cell_type": "code",
   "execution_count": 25,
   "metadata": {},
   "outputs": [
    {
     "data": {
      "text/plain": [
       "[2, 4, 6, 8, 10, 12, 14, 16, 18, 20]"
      ]
     },
     "execution_count": 25,
     "metadata": {},
     "output_type": "execute_result"
    }
   ],
   "source": [
    "ededler = [1,2,3,4,5,6,7,8,9,10]\n",
    "\n",
    "final_ededler = list(map(lambda a : a*2, ededler))\n",
    "final_ededler"
   ]
  },
  {
   "cell_type": "code",
   "execution_count": 26,
   "metadata": {},
   "outputs": [
    {
     "data": {
      "text/plain": [
       "['ALMA', 'ARMUD', 'NAR', 'UZUM', 'PORTAGAL']"
      ]
     },
     "execution_count": 26,
     "metadata": {},
     "output_type": "execute_result"
    }
   ],
   "source": [
    "#butun herflerin boyuk herfe cevrilmesi\n",
    "meyveler = ['alma', 'armud', 'nar', 'Uzum', 'PorTagal']\n",
    "\n",
    "meyveler_final = list(map(lambda a : a.upper(), meyveler))\n",
    "meyveler_final"
   ]
  },
  {
   "cell_type": "markdown",
   "metadata": {},
   "source": [
    "### lambda funksiyasi reduce() metodu ile"
   ]
  },
  {
   "cell_type": "markdown",
   "metadata": {},
   "source": [
    "reduce() funksiya vasitesile biz listlerimizde hansisa bir emeliyat yerine yetirib ve sonda bir netice almaq ucun istifade ede bilerik. Meselen listde olan elementlerin ceminin hesablanmasi ve ya listde olan en boyuk elementin hansi olmasi. reduce metodu listdeki elementleri cutlukler seklinde process edir. reduce 2 arqument goturur funksiya ve list."
   ]
  },
  {
   "cell_type": "code",
   "execution_count": 27,
   "metadata": {},
   "outputs": [
    {
     "data": {
      "text/plain": [
       "55"
      ]
     },
     "execution_count": 27,
     "metadata": {},
     "output_type": "execute_result"
    }
   ],
   "source": [
    "## reduce() metodu functools moduluna aiddir\n",
    "from functools import reduce\n",
    "ededler = [1,2,3,4,5,6,7,8,9,10]\n",
    "\n",
    "cem = reduce(lambda a,b : a+b, ededler)\n",
    "cem"
   ]
  },
  {
   "cell_type": "markdown",
   "metadata": {},
   "source": [
    "## Tapsiriq 2\n",
    "\n",
    "* Bir integer ededler listi yaradin\n",
    "* reduce() ve lambdadan istifade ederek hemin listde olan en boyuk ededi teyin edin"
   ]
  },
  {
   "cell_type": "code",
   "execution_count": 28,
   "metadata": {},
   "outputs": [
    {
     "data": {
      "text/plain": [
       "90"
      ]
     },
     "execution_count": 28,
     "metadata": {},
     "output_type": "execute_result"
    }
   ],
   "source": [
    "from functools import reduce\n",
    "\n",
    "ededler = [12,23,21, 6,90, 45, 54]\n",
    "\n",
    "maks_eded = reduce(lambda a,b : a if a>b else b, ededler)\n",
    "maks_eded"
   ]
  }
 ],
 "metadata": {
  "kernelspec": {
   "display_name": "Python 3.9.12 ('base')",
   "language": "python",
   "name": "python3"
  },
  "language_info": {
   "codemirror_mode": {
    "name": "ipython",
    "version": 3
   },
   "file_extension": ".py",
   "mimetype": "text/x-python",
   "name": "python",
   "nbconvert_exporter": "python",
   "pygments_lexer": "ipython3",
   "version": "3.9.12"
  },
  "orig_nbformat": 4,
  "vscode": {
   "interpreter": {
    "hash": "437bf6181af474c3c2ca7aa4118132330bd9bbcf1914470b1d094818705239da"
   }
  }
 },
 "nbformat": 4,
 "nbformat_minor": 2
}
