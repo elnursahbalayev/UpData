{
 "cells": [
  {
   "cell_type": "markdown",
   "metadata": {},
   "source": [
    "### Error handling and exceptions"
   ]
  },
  {
   "cell_type": "markdown",
   "metadata": {},
   "source": [
    "Biz bezen kodalasdirma zamani muxtelif xetalarla rastlasiriq. Her hansi bir xeta bas verdikde ise butun proses dayanir ve bizim program artiq calismir. Bu xetalari biz ozumuz istemeden olur ama onun butun prosesi dayandirmasini istemirik. Buna gore biz error handling ve exceptionlardan istifade edirik."
   ]
  },
  {
   "cell_type": "code",
   "execution_count": 1,
   "metadata": {},
   "outputs": [
    {
     "ename": "FileNotFoundError",
     "evalue": "[Errno 2] No such file or directory: 'my_file.txt'",
     "output_type": "error",
     "traceback": [
      "\u001b[1;31m---------------------------------------------------------------------------\u001b[0m",
      "\u001b[1;31mFileNotFoundError\u001b[0m                         Traceback (most recent call last)",
      "\u001b[1;32mc:\\Users\\aliyu\\OneDrive\\İş masası\\galactech_school_lecture\\Python\\06_Error_Handling_Exceptions.ipynb Cell 3'\u001b[0m in \u001b[0;36m<cell line: 2>\u001b[1;34m()\u001b[0m\n\u001b[0;32m      <a href='vscode-notebook-cell:/c%3A/Users/aliyu/OneDrive/%C4%B0%C5%9F%20masas%C4%B1/galactech_school_lecture/Python/06_Error_Handling_Exceptions.ipynb#ch0000006?line=0'>1</a>\u001b[0m \u001b[39m#file error\u001b[39;00m\n\u001b[1;32m----> <a href='vscode-notebook-cell:/c%3A/Users/aliyu/OneDrive/%C4%B0%C5%9F%20masas%C4%B1/galactech_school_lecture/Python/06_Error_Handling_Exceptions.ipynb#ch0000006?line=1'>2</a>\u001b[0m \u001b[39mwith\u001b[39;00m \u001b[39mopen\u001b[39;49m(\u001b[39m'\u001b[39;49m\u001b[39mmy_file.txt\u001b[39;49m\u001b[39m'\u001b[39;49m) \u001b[39mas\u001b[39;00m file:\n\u001b[0;32m      <a href='vscode-notebook-cell:/c%3A/Users/aliyu/OneDrive/%C4%B0%C5%9F%20masas%C4%B1/galactech_school_lecture/Python/06_Error_Handling_Exceptions.ipynb#ch0000006?line=2'>3</a>\u001b[0m     file\u001b[39m.\u001b[39mread()\n",
      "\u001b[1;31mFileNotFoundError\u001b[0m: [Errno 2] No such file or directory: 'my_file.txt'"
     ]
    }
   ],
   "source": [
    "#FileNotFound -  fayl xetasi\n",
    "with open('my_file.txt') as file:\n",
    "    file.read()"
   ]
  },
  {
   "cell_type": "code",
   "execution_count": 2,
   "metadata": {},
   "outputs": [
    {
     "ename": "KeyError",
     "evalue": "'c'",
     "output_type": "error",
     "traceback": [
      "\u001b[1;31m---------------------------------------------------------------------------\u001b[0m",
      "\u001b[1;31mKeyError\u001b[0m                                  Traceback (most recent call last)",
      "\u001b[1;32mc:\\Users\\aliyu\\OneDrive\\İş masası\\galactech_school_lecture\\Python\\06_Error_Handling_Exceptions.ipynb Cell 4'\u001b[0m in \u001b[0;36m<cell line: 3>\u001b[1;34m()\u001b[0m\n\u001b[0;32m      <a href='vscode-notebook-cell:/c%3A/Users/aliyu/OneDrive/%C4%B0%C5%9F%20masas%C4%B1/galactech_school_lecture/Python/06_Error_Handling_Exceptions.ipynb#ch0000007?line=0'>1</a>\u001b[0m \u001b[39m#KeyError\u001b[39;00m\n\u001b[0;32m      <a href='vscode-notebook-cell:/c%3A/Users/aliyu/OneDrive/%C4%B0%C5%9F%20masas%C4%B1/galactech_school_lecture/Python/06_Error_Handling_Exceptions.ipynb#ch0000007?line=1'>2</a>\u001b[0m my_dict \u001b[39m=\u001b[39m {\u001b[39m'\u001b[39m\u001b[39ma\u001b[39m\u001b[39m'\u001b[39m: \u001b[39m1\u001b[39m, \u001b[39m'\u001b[39m\u001b[39mb\u001b[39m\u001b[39m'\u001b[39m: \u001b[39m2\u001b[39m}\n\u001b[1;32m----> <a href='vscode-notebook-cell:/c%3A/Users/aliyu/OneDrive/%C4%B0%C5%9F%20masas%C4%B1/galactech_school_lecture/Python/06_Error_Handling_Exceptions.ipynb#ch0000007?line=2'>3</a>\u001b[0m \u001b[39mprint\u001b[39m(my_dict[\u001b[39m'\u001b[39;49m\u001b[39mc\u001b[39;49m\u001b[39m'\u001b[39;49m])\n",
      "\u001b[1;31mKeyError\u001b[0m: 'c'"
     ]
    }
   ],
   "source": [
    "#KeyError -  acar soz xetasi\n",
    "my_dict = {'a': 1, 'b': 2}\n",
    "print(my_dict['c'])"
   ]
  },
  {
   "cell_type": "code",
   "execution_count": 3,
   "metadata": {},
   "outputs": [
    {
     "ename": "IndexError",
     "evalue": "list index out of range",
     "output_type": "error",
     "traceback": [
      "\u001b[1;31m---------------------------------------------------------------------------\u001b[0m",
      "\u001b[1;31mIndexError\u001b[0m                                Traceback (most recent call last)",
      "\u001b[1;32mc:\\Users\\aliyu\\OneDrive\\İş masası\\galactech_school_lecture\\Python\\06_Error_Handling_Exceptions.ipynb Cell 5'\u001b[0m in \u001b[0;36m<cell line: 3>\u001b[1;34m()\u001b[0m\n\u001b[0;32m      <a href='vscode-notebook-cell:/c%3A/Users/aliyu/OneDrive/%C4%B0%C5%9F%20masas%C4%B1/galactech_school_lecture/Python/06_Error_Handling_Exceptions.ipynb#ch0000008?line=0'>1</a>\u001b[0m \u001b[39m#Index error\u001b[39;00m\n\u001b[0;32m      <a href='vscode-notebook-cell:/c%3A/Users/aliyu/OneDrive/%C4%B0%C5%9F%20masas%C4%B1/galactech_school_lecture/Python/06_Error_Handling_Exceptions.ipynb#ch0000008?line=1'>2</a>\u001b[0m my_list \u001b[39m=\u001b[39m [\u001b[39m1\u001b[39m, \u001b[39m2\u001b[39m, \u001b[39m3\u001b[39m]\n\u001b[1;32m----> <a href='vscode-notebook-cell:/c%3A/Users/aliyu/OneDrive/%C4%B0%C5%9F%20masas%C4%B1/galactech_school_lecture/Python/06_Error_Handling_Exceptions.ipynb#ch0000008?line=2'>3</a>\u001b[0m \u001b[39mprint\u001b[39m(my_list[\u001b[39m3\u001b[39;49m])\n",
      "\u001b[1;31mIndexError\u001b[0m: list index out of range"
     ]
    }
   ],
   "source": [
    "#Index error -  indeksleme xetasi\n",
    "my_list = [1, 2, 3]\n",
    "print(my_list[3])"
   ]
  },
  {
   "cell_type": "code",
   "execution_count": 4,
   "metadata": {},
   "outputs": [
    {
     "ename": "TypeError",
     "evalue": "can only concatenate str (not \"int\") to str",
     "output_type": "error",
     "traceback": [
      "\u001b[1;31m---------------------------------------------------------------------------\u001b[0m",
      "\u001b[1;31mTypeError\u001b[0m                                 Traceback (most recent call last)",
      "\u001b[1;32mc:\\Users\\aliyu\\OneDrive\\İş masası\\galactech_school_lecture\\Python\\06_Error_Handling_Exceptions.ipynb Cell 6'\u001b[0m in \u001b[0;36m<cell line: 3>\u001b[1;34m()\u001b[0m\n\u001b[0;32m      <a href='vscode-notebook-cell:/c%3A/Users/aliyu/OneDrive/%C4%B0%C5%9F%20masas%C4%B1/galactech_school_lecture/Python/06_Error_Handling_Exceptions.ipynb#ch0000009?line=0'>1</a>\u001b[0m \u001b[39m#Type error - data tipi xetasi\u001b[39;00m\n\u001b[0;32m      <a href='vscode-notebook-cell:/c%3A/Users/aliyu/OneDrive/%C4%B0%C5%9F%20masas%C4%B1/galactech_school_lecture/Python/06_Error_Handling_Exceptions.ipynb#ch0000009?line=1'>2</a>\u001b[0m metn \u001b[39m=\u001b[39m \u001b[39m'\u001b[39m\u001b[39mabc\u001b[39m\u001b[39m'\u001b[39m\n\u001b[1;32m----> <a href='vscode-notebook-cell:/c%3A/Users/aliyu/OneDrive/%C4%B0%C5%9F%20masas%C4%B1/galactech_school_lecture/Python/06_Error_Handling_Exceptions.ipynb#ch0000009?line=2'>3</a>\u001b[0m \u001b[39mprint\u001b[39m(metn\u001b[39m+\u001b[39;49m\u001b[39m5\u001b[39;49m)\n",
      "\u001b[1;31mTypeError\u001b[0m: can only concatenate str (not \"int\") to str"
     ]
    }
   ],
   "source": [
    "#Type error - data tipi xetasi\n",
    "metn = 'abc'\n",
    "print(metn+5)"
   ]
  },
  {
   "cell_type": "markdown",
   "metadata": {},
   "source": [
    "Bu problemleri aradan qaldirmaq ucun biz catch exception methodundan istifade edirik.\n",
    "Umumi struktur:\n",
    "\n",
    "try: calisdirmaga calisdigimiz kod\n",
    "\n",
    "except: xeta olduqda istifade edilen method\n",
    "\n",
    "else: eger xeta olmazsa bunu icra et\n",
    "\n",
    "finally: ne olur olsun bu method icra olur"
   ]
  },
  {
   "cell_type": "code",
   "execution_count": 8,
   "metadata": {},
   "outputs": [
    {
     "name": "stdout",
     "output_type": "stream",
     "text": [
      "Xeta bas verdi\n"
     ]
    }
   ],
   "source": [
    "#sade struktur\n",
    "try:\n",
    "    file = open('my_file.txt')\n",
    "except:\n",
    "    print('Xeta bas verdi')"
   ]
  },
  {
   "cell_type": "code",
   "execution_count": 12,
   "metadata": {},
   "outputs": [
    {
     "name": "stdout",
     "output_type": "stream",
     "text": [
      "Acar movcud deyil\n"
     ]
    }
   ],
   "source": [
    "#xetani gostermek yerine onu hell edek\n",
    "try:\n",
    "    file = open('my_file.txt')\n",
    "    my_dict = {'a': 1, 'b': 2}\n",
    "    print(my_dict['c'])\n",
    "except:\n",
    "    file = open('my_file.txt', 'w')\n"
   ]
  },
  {
   "cell_type": "markdown",
   "metadata": {},
   "source": [
    "Bu metodla yazmagimizda her hansi bir xeta yoxdur. Amma biz hansi xetanin bas verdiyini qeyd etmemisik. Umumiyetle except isleden zaman onu bos qoymaq duzgun deyil. Bas vere bilecek xetanin adini qeyd elemeyimiz vacibdir. "
   ]
  },
  {
   "cell_type": "code",
   "execution_count": 13,
   "metadata": {},
   "outputs": [
    {
     "ename": "KeyError",
     "evalue": "'c'",
     "output_type": "error",
     "traceback": [
      "\u001b[1;31m---------------------------------------------------------------------------\u001b[0m",
      "\u001b[1;31mKeyError\u001b[0m                                  Traceback (most recent call last)",
      "\u001b[1;32mc:\\Users\\aliyu\\OneDrive\\İş masası\\galactech_school_lecture\\Python\\06_Error_Handling_Exceptions.ipynb Cell 11'\u001b[0m in \u001b[0;36m<cell line: 2>\u001b[1;34m()\u001b[0m\n\u001b[0;32m      <a href='vscode-notebook-cell:/c%3A/Users/aliyu/OneDrive/%C4%B0%C5%9F%20masas%C4%B1/galactech_school_lecture/Python/06_Error_Handling_Exceptions.ipynb#ch0000017?line=2'>3</a>\u001b[0m     file \u001b[39m=\u001b[39m \u001b[39mopen\u001b[39m(\u001b[39m'\u001b[39m\u001b[39mmy_file.txt\u001b[39m\u001b[39m'\u001b[39m)\n\u001b[0;32m      <a href='vscode-notebook-cell:/c%3A/Users/aliyu/OneDrive/%C4%B0%C5%9F%20masas%C4%B1/galactech_school_lecture/Python/06_Error_Handling_Exceptions.ipynb#ch0000017?line=3'>4</a>\u001b[0m     my_dict \u001b[39m=\u001b[39m {\u001b[39m'\u001b[39m\u001b[39ma\u001b[39m\u001b[39m'\u001b[39m: \u001b[39m1\u001b[39m, \u001b[39m'\u001b[39m\u001b[39mb\u001b[39m\u001b[39m'\u001b[39m: \u001b[39m2\u001b[39m}\n\u001b[1;32m----> <a href='vscode-notebook-cell:/c%3A/Users/aliyu/OneDrive/%C4%B0%C5%9F%20masas%C4%B1/galactech_school_lecture/Python/06_Error_Handling_Exceptions.ipynb#ch0000017?line=4'>5</a>\u001b[0m     \u001b[39mprint\u001b[39m(my_dict[\u001b[39m'\u001b[39;49m\u001b[39mc\u001b[39;49m\u001b[39m'\u001b[39;49m])\n\u001b[0;32m      <a href='vscode-notebook-cell:/c%3A/Users/aliyu/OneDrive/%C4%B0%C5%9F%20masas%C4%B1/galactech_school_lecture/Python/06_Error_Handling_Exceptions.ipynb#ch0000017?line=5'>6</a>\u001b[0m \u001b[39mexcept\u001b[39;00m \u001b[39mFileNotFoundError\u001b[39;00m:\n\u001b[0;32m      <a href='vscode-notebook-cell:/c%3A/Users/aliyu/OneDrive/%C4%B0%C5%9F%20masas%C4%B1/galactech_school_lecture/Python/06_Error_Handling_Exceptions.ipynb#ch0000017?line=6'>7</a>\u001b[0m     file \u001b[39m=\u001b[39m \u001b[39mopen\u001b[39m(\u001b[39m'\u001b[39m\u001b[39mmy_file.txt\u001b[39m\u001b[39m'\u001b[39m, \u001b[39m'\u001b[39m\u001b[39mw\u001b[39m\u001b[39m'\u001b[39m)\n",
      "\u001b[1;31mKeyError\u001b[0m: 'c'"
     ]
    }
   ],
   "source": [
    "#xetani gostermek yerine onu hell edek\n",
    "try:\n",
    "    file = open('my_file.txt')\n",
    "    my_dict = {'a': 1, 'b': 2}\n",
    "    print(my_dict['c'])\n",
    "except FileNotFoundError:\n",
    "    file = open('my_file.txt', 'w')"
   ]
  },
  {
   "cell_type": "code",
   "execution_count": 14,
   "metadata": {},
   "outputs": [
    {
     "name": "stdout",
     "output_type": "stream",
     "text": [
      "Acar movcud deyil\n"
     ]
    }
   ],
   "source": [
    "try:\n",
    "    file = open('my_file.txt')\n",
    "    my_dict = {'a': 1, 'b': 2}\n",
    "    print(my_dict['c'])\n",
    "except FileNotFoundError:\n",
    "    file = open('my_file.txt', 'w')\n",
    "except KeyError:\n",
    "    print('Acar movcud deyil')"
   ]
  },
  {
   "cell_type": "code",
   "execution_count": 16,
   "metadata": {},
   "outputs": [
    {
     "name": "stdout",
     "output_type": "stream",
     "text": [
      "The key 'c' does not exist\n"
     ]
    }
   ],
   "source": [
    "try:\n",
    "    file = open('my_file.txt')\n",
    "    my_dict = {'a': 1, 'b': 2}\n",
    "    print(my_dict['c'])\n",
    "except FileNotFoundError:\n",
    "    file = open('my_file.txt', 'w')\n",
    "except KeyError as error:\n",
    "    print(f'The key {error} does not exist')"
   ]
  },
  {
   "cell_type": "code",
   "execution_count": 4,
   "metadata": {},
   "outputs": [
    {
     "name": "stdout",
     "output_type": "stream",
     "text": [
      "1\n",
      "Ali Yusifov\n"
     ]
    }
   ],
   "source": [
    "try:\n",
    "    file = open('my_file.txt')\n",
    "    my_dict = {'a': 1, 'b': 2}\n",
    "    print(my_dict['a'])\n",
    "except FileNotFoundError:\n",
    "    file = open('my_file.txt', 'w')\n",
    "    file.write('Ali Yusifov')\n",
    "except KeyError as error:\n",
    "    print(f'Acar {error} movcud deyil')\n",
    "else:\n",
    "    content = file.read()\n",
    "    print(content)\n",
    "finally:\n",
    "    file.close()\n",
    "    print('Fayl baglandi')\n",
    "    \n"
   ]
  },
  {
   "cell_type": "markdown",
   "metadata": {},
   "source": [
    "finally acar sozunden cox istifade olunmur ama bezi meqamlarda biz ondan istifade edirik. "
   ]
  },
  {
   "cell_type": "code",
   "execution_count": 5,
   "metadata": {},
   "outputs": [
    {
     "name": "stdout",
     "output_type": "stream",
     "text": [
      "1\n",
      "Ali Yusifov\n"
     ]
    },
    {
     "ename": "KeyError",
     "evalue": "'Acar movcud deyil'",
     "output_type": "error",
     "traceback": [
      "\u001b[1;31m---------------------------------------------------------------------------\u001b[0m",
      "\u001b[1;31mKeyError\u001b[0m                                  Traceback (most recent call last)",
      "\u001b[1;32mc:\\Users\\aliyu\\OneDrive\\İş masası\\galactech_school_lecture\\Python\\06_Error_Handling_Exceptions.ipynb Cell 16'\u001b[0m in \u001b[0;36m<cell line: 2>\u001b[1;34m()\u001b[0m\n\u001b[0;32m     <a href='vscode-notebook-cell:/c%3A/Users/aliyu/OneDrive/%C4%B0%C5%9F%20masas%C4%B1/galactech_school_lecture/Python/06_Error_Handling_Exceptions.ipynb#ch0000015?line=12'>13</a>\u001b[0m     \u001b[39mprint\u001b[39m(content)\n\u001b[0;32m     <a href='vscode-notebook-cell:/c%3A/Users/aliyu/OneDrive/%C4%B0%C5%9F%20masas%C4%B1/galactech_school_lecture/Python/06_Error_Handling_Exceptions.ipynb#ch0000015?line=13'>14</a>\u001b[0m \u001b[39mfinally\u001b[39;00m:\n\u001b[1;32m---> <a href='vscode-notebook-cell:/c%3A/Users/aliyu/OneDrive/%C4%B0%C5%9F%20masas%C4%B1/galactech_school_lecture/Python/06_Error_Handling_Exceptions.ipynb#ch0000015?line=14'>15</a>\u001b[0m     \u001b[39mraise\u001b[39;00m \u001b[39mKeyError\u001b[39;00m(\u001b[39m'\u001b[39m\u001b[39mAcar movcud deyil\u001b[39m\u001b[39m'\u001b[39m)\n",
      "\u001b[1;31mKeyError\u001b[0m: 'Acar movcud deyil'"
     ]
    }
   ],
   "source": [
    "#oz exceptionumuzu yaratmaq\n",
    "try:\n",
    "    file = open('my_file.txt')\n",
    "    my_dict = {'a': 1, 'b': 2}\n",
    "    print(my_dict['a'])\n",
    "except FileNotFoundError:\n",
    "    file = open('my_file.txt', 'w')\n",
    "    file.write('Ali Yusifov')\n",
    "except KeyError as error:\n",
    "    print(f'Acar {error} movcud deyil')\n",
    "else:\n",
    "    content = file.read()\n",
    "    print(content)\n",
    "finally:\n",
    "    raise KeyError('Acar movcud deyil')"
   ]
  },
  {
   "cell_type": "code",
   "execution_count": 6,
   "metadata": {},
   "outputs": [
    {
     "ename": "ValueError",
     "evalue": "Daxil etdiyiniz qiymet uygun deyil",
     "output_type": "error",
     "traceback": [
      "\u001b[1;31m---------------------------------------------------------------------------\u001b[0m",
      "\u001b[1;31mValueError\u001b[0m                                Traceback (most recent call last)",
      "\u001b[1;32mc:\\Users\\aliyu\\OneDrive\\İş masası\\galactech_school_lecture\\Python\\06_Error_Handling_Exceptions.ipynb Cell 17'\u001b[0m in \u001b[0;36m<cell line: 4>\u001b[1;34m()\u001b[0m\n\u001b[0;32m      <a href='vscode-notebook-cell:/c%3A/Users/aliyu/OneDrive/%C4%B0%C5%9F%20masas%C4%B1/galactech_school_lecture/Python/06_Error_Handling_Exceptions.ipynb#ch0000017?line=2'>3</a>\u001b[0m ceki \u001b[39m=\u001b[39m \u001b[39mint\u001b[39m(\u001b[39minput\u001b[39m(\u001b[39m'\u001b[39m\u001b[39mCeki (kg): \u001b[39m\u001b[39m'\u001b[39m))\n\u001b[0;32m      <a href='vscode-notebook-cell:/c%3A/Users/aliyu/OneDrive/%C4%B0%C5%9F%20masas%C4%B1/galactech_school_lecture/Python/06_Error_Handling_Exceptions.ipynb#ch0000017?line=3'>4</a>\u001b[0m \u001b[39mif\u001b[39;00m boy\u001b[39m>\u001b[39m\u001b[39m3\u001b[39m:\n\u001b[1;32m----> <a href='vscode-notebook-cell:/c%3A/Users/aliyu/OneDrive/%C4%B0%C5%9F%20masas%C4%B1/galactech_school_lecture/Python/06_Error_Handling_Exceptions.ipynb#ch0000017?line=4'>5</a>\u001b[0m     \u001b[39mraise\u001b[39;00m \u001b[39mValueError\u001b[39;00m(\u001b[39m'\u001b[39m\u001b[39mDaxil etdiyiniz qiymet uygun deyil\u001b[39m\u001b[39m'\u001b[39m)\n\u001b[0;32m      <a href='vscode-notebook-cell:/c%3A/Users/aliyu/OneDrive/%C4%B0%C5%9F%20masas%C4%B1/galactech_school_lecture/Python/06_Error_Handling_Exceptions.ipynb#ch0000017?line=5'>6</a>\u001b[0m bmi \u001b[39m=\u001b[39m ceki\u001b[39m/\u001b[39mheight\u001b[39m*\u001b[39m\u001b[39m*\u001b[39m\u001b[39m2\u001b[39m\n",
      "\u001b[1;31mValueError\u001b[0m: Daxil etdiyiniz qiymet uygun deyil"
     ]
    }
   ],
   "source": [
    "#biz nezaman oz exceptionumuzu yarada bilerik?\n",
    "boy = float(input('Boy (metr):'))\n",
    "ceki = int(input('Ceki (kg): '))\n",
    "if boy>3:\n",
    "    raise ValueError('Daxil etdiyiniz qiymet uygun deyil')\n",
    "bmi = ceki/height**2"
   ]
  },
  {
   "cell_type": "markdown",
   "metadata": {},
   "source": [
    "### Tapsiriq 1"
   ]
  },
  {
   "cell_type": "code",
   "execution_count": 7,
   "metadata": {},
   "outputs": [
    {
     "ename": "IndexError",
     "evalue": "list index out of range",
     "output_type": "error",
     "traceback": [
      "\u001b[1;31m---------------------------------------------------------------------------\u001b[0m",
      "\u001b[1;31mIndexError\u001b[0m                                Traceback (most recent call last)",
      "\u001b[1;32mc:\\Users\\aliyu\\OneDrive\\İş masası\\galactech_school_lecture\\Python\\06_Error_Handling_Exceptions.ipynb Cell 19'\u001b[0m in \u001b[0;36m<cell line: 7>\u001b[1;34m()\u001b[0m\n\u001b[0;32m      <a href='vscode-notebook-cell:/c%3A/Users/aliyu/OneDrive/%C4%B0%C5%9F%20masas%C4%B1/galactech_school_lecture/Python/06_Error_Handling_Exceptions.ipynb#ch0000020?line=2'>3</a>\u001b[0m     meyve \u001b[39m=\u001b[39m meyveler[indeks]\n\u001b[0;32m      <a href='vscode-notebook-cell:/c%3A/Users/aliyu/OneDrive/%C4%B0%C5%9F%20masas%C4%B1/galactech_school_lecture/Python/06_Error_Handling_Exceptions.ipynb#ch0000020?line=3'>4</a>\u001b[0m     \u001b[39mprint\u001b[39m(\u001b[39mf\u001b[39m\u001b[39m'\u001b[39m\u001b[39m{\u001b[39;00mmeyve\u001b[39m}\u001b[39;00m\u001b[39m piroqu\u001b[39m\u001b[39m'\u001b[39m)\n\u001b[1;32m----> <a href='vscode-notebook-cell:/c%3A/Users/aliyu/OneDrive/%C4%B0%C5%9F%20masas%C4%B1/galactech_school_lecture/Python/06_Error_Handling_Exceptions.ipynb#ch0000020?line=6'>7</a>\u001b[0m piroq_hazirlama(\u001b[39m4\u001b[39;49m)\n",
      "\u001b[1;32mc:\\Users\\aliyu\\OneDrive\\İş masası\\galactech_school_lecture\\Python\\06_Error_Handling_Exceptions.ipynb Cell 19'\u001b[0m in \u001b[0;36mpiroq_hazirlama\u001b[1;34m(indeks)\u001b[0m\n\u001b[0;32m      <a href='vscode-notebook-cell:/c%3A/Users/aliyu/OneDrive/%C4%B0%C5%9F%20masas%C4%B1/galactech_school_lecture/Python/06_Error_Handling_Exceptions.ipynb#ch0000020?line=1'>2</a>\u001b[0m \u001b[39mdef\u001b[39;00m \u001b[39mpiroq_hazirlama\u001b[39m(indeks):\n\u001b[1;32m----> <a href='vscode-notebook-cell:/c%3A/Users/aliyu/OneDrive/%C4%B0%C5%9F%20masas%C4%B1/galactech_school_lecture/Python/06_Error_Handling_Exceptions.ipynb#ch0000020?line=2'>3</a>\u001b[0m     meyve \u001b[39m=\u001b[39m meyveler[indeks]\n\u001b[0;32m      <a href='vscode-notebook-cell:/c%3A/Users/aliyu/OneDrive/%C4%B0%C5%9F%20masas%C4%B1/galactech_school_lecture/Python/06_Error_Handling_Exceptions.ipynb#ch0000020?line=3'>4</a>\u001b[0m     \u001b[39mprint\u001b[39m(\u001b[39mf\u001b[39m\u001b[39m'\u001b[39m\u001b[39m{\u001b[39;00mmeyve\u001b[39m}\u001b[39;00m\u001b[39m piroqu\u001b[39m\u001b[39m'\u001b[39m)\n",
      "\u001b[1;31mIndexError\u001b[0m: list index out of range"
     ]
    }
   ],
   "source": [
    "#problem\n",
    "meyveler = ['alma', 'armud', 'heyva']\n",
    "def piroq_hazirlama(indeks):\n",
    "    meyve = meyveler[indeks]\n",
    "    print(f'{meyve} piroqu')\n",
    "\n",
    "\n",
    "piroq_hazirlama(4)"
   ]
  },
  {
   "cell_type": "code",
   "execution_count": 9,
   "metadata": {},
   "outputs": [
    {
     "name": "stdout",
     "output_type": "stream",
     "text": [
      "armud piroqu\n"
     ]
    }
   ],
   "source": [
    "#helli\n",
    "meyveler = ['alma', 'armud', 'heyva']\n",
    "def piroq_hazirlama(indeks):\n",
    "    try:\n",
    "        meyve = meyveler[indeks]\n",
    "    except IndexError:\n",
    "        print('Meyve piroqu')\n",
    "    else:\n",
    "        print(f'{meyve} piroqu')\n",
    "\n",
    "\n",
    "piroq_hazirlama(1)"
   ]
  },
  {
   "cell_type": "code",
   "execution_count": null,
   "metadata": {},
   "outputs": [],
   "source": []
  }
 ],
 "metadata": {
  "kernelspec": {
   "display_name": "Python 3.9.12 ('galactech')",
   "language": "python",
   "name": "python3"
  },
  "language_info": {
   "codemirror_mode": {
    "name": "ipython",
    "version": 3
   },
   "file_extension": ".py",
   "mimetype": "text/x-python",
   "name": "python",
   "nbconvert_exporter": "python",
   "pygments_lexer": "ipython3",
   "version": "3.9.12"
  },
  "orig_nbformat": 4,
  "vscode": {
   "interpreter": {
    "hash": "72dd4f9d5f0cf6107f7b41e5ab0be3c7740324286abc368bcdd524d5bcd06392"
   }
  }
 },
 "nbformat": 4,
 "nbformat_minor": 2
}
