{
 "cells": [
  {
   "cell_type": "markdown",
   "metadata": {},
   "source": [
    "# Fayllarla islemek ve OS emeliyatlar"
   ]
  },
  {
   "cell_type": "markdown",
   "metadata": {},
   "source": [
    "## Fayllarla islemek"
   ]
  },
  {
   "cell_type": "markdown",
   "metadata": {},
   "source": [
    "Fayllarla islemek pythonda cox onemlidi. Biz pythonda fayllar yarada, oxuya, yenileye ve sile bilerik. "
   ]
  },
  {
   "cell_type": "code",
   "execution_count": 2,
   "metadata": {},
   "outputs": [],
   "source": [
    "#open()\n",
    "#fayl adi ve mode\n",
    "file = open('file.txt')"
   ]
  },
  {
   "cell_type": "code",
   "execution_count": 3,
   "metadata": {},
   "outputs": [
    {
     "data": {
      "text/plain": [
       "<_io.TextIOWrapper name='file.txt' mode='r' encoding='cp1252'>"
      ]
     },
     "execution_count": 3,
     "metadata": {},
     "output_type": "execute_result"
    }
   ],
   "source": [
    "file"
   ]
  },
  {
   "cell_type": "markdown",
   "metadata": {},
   "source": [
    "* 'r' - oxumaqa\n",
    "* 'a'  - elave etmek\n",
    "* 'w'  - yazmaq"
   ]
  },
  {
   "cell_type": "code",
   "execution_count": 4,
   "metadata": {},
   "outputs": [],
   "source": [
    "#fayl acilmasi\n",
    "f = open('file.txt', 'r')\n"
   ]
  },
  {
   "cell_type": "code",
   "execution_count": 5,
   "metadata": {},
   "outputs": [
    {
     "name": "stdout",
     "output_type": "stream",
     "text": [
      "Biz bu ders fayllarla islemeyi oyrenerik. \n"
     ]
    }
   ],
   "source": [
    "print(f.read())"
   ]
  },
  {
   "cell_type": "markdown",
   "metadata": {},
   "source": [
    "Eger fayl ve python fayli eyni  yerde deyilse ozaman tam path yazilmalidir."
   ]
  },
  {
   "cell_type": "code",
   "execution_count": 6,
   "metadata": {},
   "outputs": [
    {
     "name": "stdout",
     "output_type": "stream",
     "text": [
      "Bu ferqli pathde yerlesir. \n"
     ]
    }
   ],
   "source": [
    "file = open(r\"C:\\Users\\aliyu\\OneDrive\\İş masası\\my.txt\", 'r')\n",
    "print(file.read())"
   ]
  },
  {
   "cell_type": "code",
   "execution_count": 9,
   "metadata": {},
   "outputs": [
    {
     "name": "stdout",
     "output_type": "stream",
     "text": [
      "Biz bu ders fayllarla islemeyi oyrenerik. \n",
      "\n"
     ]
    }
   ],
   "source": [
    "#readline metodu\n",
    "file = open(r\"file.txt\", 'r')\n",
    "print(file.readline())\n"
   ]
  },
  {
   "cell_type": "markdown",
   "metadata": {},
   "source": []
  },
  {
   "cell_type": "code",
   "execution_count": 11,
   "metadata": {},
   "outputs": [
    {
     "name": "stdout",
     "output_type": "stream",
     "text": [
      "Biz bu ders fayllarla islemeyi oyrenerik. \n",
      "\n",
      "Biz Galactech schoolda data analitikanin esaslarin oyrenerik.\n"
     ]
    }
   ],
   "source": [
    "#readline metodu 2 ve daha cox setirin oxunmasi\n",
    "file = open(r\"file.txt\", 'r')\n",
    "print(file.readline())\n",
    "print(file.readline())"
   ]
  },
  {
   "cell_type": "code",
   "execution_count": 12,
   "metadata": {},
   "outputs": [
    {
     "name": "stdout",
     "output_type": "stream",
     "text": [
      "Biz bu ders fayllarla islemeyi oyrenerik. \n",
      "\n"
     ]
    }
   ],
   "source": [
    "#fayllarin baglanmasi\n",
    "#fayllarla isledikden onlari baglamaq tovsiye olunur\n",
    "file = open(r\"file.txt\", 'r')\n",
    "print(file.readline())\n",
    "file.close()"
   ]
  },
  {
   "cell_type": "markdown",
   "metadata": {},
   "source": [
    "Faylarla isledikden sonra onlari baglamaq tovsiye olunur. Bezen fayllarda etdiyiniz deyisiklikler fayllari baglamadiginiz zaman yaddasda qalmayacaqdir"
   ]
  },
  {
   "cell_type": "code",
   "execution_count": 13,
   "metadata": {},
   "outputs": [],
   "source": [
    "## Yeni fayl yaradilmasi\n",
    "file = open(r\"myfile.txt\", 'w')\n",
    "#eger fayl movcud deyilse yeni fayl yaradacaq"
   ]
  },
  {
   "cell_type": "code",
   "execution_count": 14,
   "metadata": {},
   "outputs": [],
   "source": [
    "# 'a' mode\n",
    "file = open(r\"myfile.txt\", 'a')\n",
    "file.write('Bu fayla yeni metn elave olundu')\n",
    "file.close()"
   ]
  },
  {
   "cell_type": "code",
   "execution_count": 15,
   "metadata": {},
   "outputs": [],
   "source": [
    "# 'w' mode\n",
    "file = open(r\"myfile.txt\", 'w')\n",
    "file.write('Daha cox metn elave edilmesi')\n",
    "file.close()"
   ]
  },
  {
   "cell_type": "code",
   "execution_count": 17,
   "metadata": {},
   "outputs": [],
   "source": [
    "# 'a' mode\n",
    "file = open(r\"myfile.txt\", 'a')\n",
    "file.write('\\nBu fayla yeni metn elave olundu')\n",
    "file.close()"
   ]
  },
  {
   "cell_type": "markdown",
   "metadata": {},
   "source": [
    "\"w\" ve 'a' modelari eger fayl movcud deyilse  yeni fayl yaradacaqlar."
   ]
  },
  {
   "cell_type": "code",
   "execution_count": 19,
   "metadata": {},
   "outputs": [],
   "source": [
    "file = open(r\"file2.txt\", 'w')"
   ]
  },
  {
   "cell_type": "code",
   "execution_count": 20,
   "metadata": {},
   "outputs": [],
   "source": [
    "file = open(r\"file3.txt\", 'a')"
   ]
  },
  {
   "cell_type": "markdown",
   "metadata": {},
   "source": [
    "## OS"
   ]
  },
  {
   "cell_type": "markdown",
   "metadata": {},
   "source": [
    "OS modulu pythonda emeliyat sistemi ile islerimizi gormek ucun istifade olunur. Islediyimiz fayl ve onlarin yerlesdiyi yerleri gormek, deyismek ve silmek ucun istifade olunur."
   ]
  },
  {
   "cell_type": "code",
   "execution_count": 2,
   "metadata": {},
   "outputs": [
    {
     "name": "stdout",
     "output_type": "stream",
     "text": [
      "c:\\Users\\aliyu\\OneDrive\\İş masası\\galactech_school_lecture\\Python\n"
     ]
    }
   ],
   "source": [
    "#hazirki oldugumuz yeri gostermek ucun\n",
    "\n",
    "import os\n",
    "\n",
    "print(os.getcwd())"
   ]
  },
  {
   "cell_type": "code",
   "execution_count": 3,
   "metadata": {},
   "outputs": [
    {
     "name": "stdout",
     "output_type": "stream",
     "text": [
      "C:\\Users\\aliyu\\OneDrive\\İş masası\n"
     ]
    }
   ],
   "source": [
    "#islediyimiz yeri deyismek ucun\n",
    "os.chdir(r\"C:\\Users\\aliyu\\OneDrive\\İş masası\")\n",
    "print(os.getcwd())"
   ]
  },
  {
   "cell_type": "code",
   "execution_count": 5,
   "metadata": {},
   "outputs": [],
   "source": [
    "os.chdir(r'c:\\Users\\aliyu\\OneDrive\\İş masası\\galactech_school_lecture\\Python')"
   ]
  },
  {
   "cell_type": "code",
   "execution_count": 7,
   "metadata": {},
   "outputs": [
    {
     "name": "stdout",
     "output_type": "stream",
     "text": [
      "c:\\Users\\aliyu\\OneDrive\\İş masası\\galactech_school_lecture\\Python\n"
     ]
    }
   ],
   "source": [
    "print(os.getcwd())"
   ]
  },
  {
   "cell_type": "code",
   "execution_count": 9,
   "metadata": {},
   "outputs": [],
   "source": [
    "#yeni bir yerin yaradilmasi\n",
    "directory = 'OS'\n",
    "path = os.getcwd() + '\\\\' + directory\n",
    "os.mkdir(path)"
   ]
  },
  {
   "cell_type": "code",
   "execution_count": 10,
   "metadata": {},
   "outputs": [
    {
     "ename": "FileExistsError",
     "evalue": "[WinError 183] Cannot create a file when that file already exists: 'c:\\\\Users\\\\aliyu\\\\OneDrive\\\\İş masası\\\\galactech_school_lecture\\\\Python\\\\OS'",
     "output_type": "error",
     "traceback": [
      "\u001b[1;31m---------------------------------------------------------------------------\u001b[0m",
      "\u001b[1;31mFileExistsError\u001b[0m                           Traceback (most recent call last)",
      "\u001b[1;32mc:\\Users\\aliyu\\OneDrive\\İş masası\\galactech_school_lecture\\Python\\07_Files_OS.ipynb Cell 30\u001b[0m in \u001b[0;36m<cell line: 2>\u001b[1;34m()\u001b[0m\n\u001b[0;32m      <a href='vscode-notebook-cell:/c%3A/Users/aliyu/OneDrive/%C4%B0%C5%9F%20masas%C4%B1/galactech_school_lecture/Python/07_Files_OS.ipynb#ch0000030?line=0'>1</a>\u001b[0m \u001b[39m#makedir funksiyasi eger fayl movcuddursa errora sebeb olur\u001b[39;00m\n\u001b[1;32m----> <a href='vscode-notebook-cell:/c%3A/Users/aliyu/OneDrive/%C4%B0%C5%9F%20masas%C4%B1/galactech_school_lecture/Python/07_Files_OS.ipynb#ch0000030?line=1'>2</a>\u001b[0m os\u001b[39m.\u001b[39;49mmkdir(path)\n",
      "\u001b[1;31mFileExistsError\u001b[0m: [WinError 183] Cannot create a file when that file already exists: 'c:\\\\Users\\\\aliyu\\\\OneDrive\\\\İş masası\\\\galactech_school_lecture\\\\Python\\\\OS'"
     ]
    }
   ],
   "source": [
    "#makedir funksiyasi eger fayl movcuddursa errora sebeb olur\n",
    "os.mkdir(path)"
   ]
  },
  {
   "cell_type": "code",
   "execution_count": 12,
   "metadata": {},
   "outputs": [
    {
     "data": {
      "text/plain": [
       "['04_Sequences.ipynb',\n",
       " '05_Functions_Recursion_Lambda.ipynb',\n",
       " '06_Error_Handling_Exceptions.ipynb',\n",
       " '07_Files_OS.ipynb']"
      ]
     },
     "execution_count": 12,
     "metadata": {},
     "output_type": "execute_result"
    }
   ],
   "source": [
    "# directoryde olan elementleri listelemek ucun\n",
    "path = r'C:\\Users\\aliyu\\OneDrive\\İş masası\\galactech_school_lecture\\Python'\n",
    "os.listdir(path)"
   ]
  },
  {
   "cell_type": "code",
   "execution_count": 14,
   "metadata": {},
   "outputs": [
    {
     "data": {
      "text/plain": [
       "'c:\\\\Users\\\\aliyu\\\\OneDrive\\\\İş masası\\\\galactech_school_lecture\\\\Python'"
      ]
     },
     "execution_count": 14,
     "metadata": {},
     "output_type": "execute_result"
    }
   ],
   "source": [
    "os.getcwd()"
   ]
  },
  {
   "cell_type": "code",
   "execution_count": 20,
   "metadata": {},
   "outputs": [],
   "source": [
    "file = open(r\"trial.ipynb\", 'w')\n",
    "file.close()"
   ]
  },
  {
   "cell_type": "code",
   "execution_count": 21,
   "metadata": {},
   "outputs": [],
   "source": [
    "#fayli silmek ucun\n",
    "file_loc = os.getcwd() + '\\\\' + 'trial.ipynb'\n",
    "os.remove(file_loc)"
   ]
  }
 ],
 "metadata": {
  "kernelspec": {
   "display_name": "Python 3.9.12 ('galactech')",
   "language": "python",
   "name": "python3"
  },
  "language_info": {
   "codemirror_mode": {
    "name": "ipython",
    "version": 3
   },
   "file_extension": ".py",
   "mimetype": "text/x-python",
   "name": "python",
   "nbconvert_exporter": "python",
   "pygments_lexer": "ipython3",
   "version": "3.9.12"
  },
  "orig_nbformat": 4,
  "vscode": {
   "interpreter": {
    "hash": "72dd4f9d5f0cf6107f7b41e5ab0be3c7740324286abc368bcdd524d5bcd06392"
   }
  }
 },
 "nbformat": 4,
 "nbformat_minor": 2
}
