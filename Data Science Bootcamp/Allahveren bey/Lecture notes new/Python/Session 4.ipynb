{
 "cells": [
  {
   "cell_type": "markdown",
   "metadata": {},
   "source": [
    "# Session 4"
   ]
  },
  {
   "cell_type": "markdown",
   "metadata": {},
   "source": [
    "<img src='source\\syllabus.jpg'>"
   ]
  },
  {
   "cell_type": "markdown",
   "metadata": {},
   "source": [
    "## Nested if statements"
   ]
  },
  {
   "cell_type": "code",
   "execution_count": 1,
   "metadata": {},
   "outputs": [],
   "source": [
    "# Done"
   ]
  },
  {
   "cell_type": "markdown",
   "metadata": {},
   "source": [
    "## Nested loops"
   ]
  },
  {
   "cell_type": "code",
   "execution_count": 2,
   "metadata": {},
   "outputs": [],
   "source": [
    "# Done"
   ]
  },
  {
   "cell_type": "markdown",
   "metadata": {},
   "source": [
    "## Creating functions"
   ]
  },
  {
   "cell_type": "markdown",
   "metadata": {},
   "source": [
    "### Creating functions"
   ]
  },
  {
   "cell_type": "code",
   "execution_count": 3,
   "metadata": {},
   "outputs": [],
   "source": [
    "# funksiya yaradarken def acar sozunden istifade edirik\n",
    "def salamlama():\n",
    "    print('Salam')"
   ]
  },
  {
   "cell_type": "markdown",
   "metadata": {},
   "source": [
    "### Calling functions"
   ]
  },
  {
   "cell_type": "code",
   "execution_count": 4,
   "metadata": {},
   "outputs": [
    {
     "name": "stdout",
     "output_type": "stream",
     "text": [
      "Salam\n"
     ]
    }
   ],
   "source": [
    "# funksiya cagirilarken adini yazib daha sonra moterizelerden istifade etmek lazimdir\n",
    "salamlama()"
   ]
  },
  {
   "cell_type": "markdown",
   "metadata": {},
   "source": [
    "### Arguments"
   ]
  },
  {
   "cell_type": "code",
   "execution_count": 5,
   "metadata": {},
   "outputs": [
    {
     "name": "stdout",
     "output_type": "stream",
     "text": [
      "Kamil Salam\n",
      "Elvin Salam\n",
      "Togrul Salam\n"
     ]
    }
   ],
   "source": [
    "# Arqumentler funksiyalari cagirarken onlarin icerisine otureceyimz qiymetlerdir. \n",
    "# Arqumentleri funksiyanin moterizelerinin icerisine elave edirik. \n",
    "# Istediyimiz sayda arqument elave ede bilerik ve onlari vergul ile ayirmagimiz lazimdir. \n",
    "# Arqumentlerde ardicilliq onemlidir\n",
    "\n",
    "def salamlama(ad):\n",
    "    print(ad, 'Salam')\n",
    "\n",
    "salamlama('Kamil')\n",
    "salamlama('Elvin')\n",
    "salamlama('Togrul')"
   ]
  },
  {
   "cell_type": "markdown",
   "metadata": {},
   "source": [
    "### Parameters and arguments"
   ]
  },
  {
   "cell_type": "code",
   "execution_count": 6,
   "metadata": {},
   "outputs": [
    {
     "name": "stdout",
     "output_type": "stream",
     "text": [
      "5\n"
     ]
    }
   ],
   "source": [
    "# Arqument ve parametrler demek olar ki eyni seylerdir. \n",
    "# Parametrler funksiyani yazarken moterize icerisinde verdiyimiz deyisenlerin adidir. \n",
    "# Arqument ise funksiyani cagirarken icerisinde yazdigimiz qiymetlerdir.\n",
    "\n",
    "def toplama(a, b):\n",
    "    print(a + b)\n",
    "\n",
    "toplama(2, 3)"
   ]
  },
  {
   "cell_type": "markdown",
   "metadata": {},
   "source": [
    "### Number of arguments"
   ]
  },
  {
   "cell_type": "code",
   "execution_count": 7,
   "metadata": {},
   "outputs": [
    {
     "name": "stdout",
     "output_type": "stream",
     "text": [
      "Kamil Budaqov\n"
     ]
    }
   ],
   "source": [
    "# Funksiya yaradarken verdiyimiz parametrlerin sayi onu cagirarken vereceyimiz arqumentlerin sayi ile eyni olmalidir.\n",
    "\n",
    "def adlandirma(ad, soyad):\n",
    "    print(ad, soyad)\n",
    "\n",
    "adlandirma('Kamil', 'Budaqov')"
   ]
  },
  {
   "cell_type": "code",
   "execution_count": 8,
   "metadata": {},
   "outputs": [
    {
     "ename": "TypeError",
     "evalue": "adlandirma() missing 1 required positional argument: 'soyad'",
     "output_type": "error",
     "traceback": [
      "\u001b[1;31m---------------------------------------------------------------------------\u001b[0m",
      "\u001b[1;31mTypeError\u001b[0m                                 Traceback (most recent call last)",
      "\u001b[1;32mc:\\Users\\elnur\\OneDrive - Universiti Teknologi PETRONAS\\Kurslar\\UpData\\Data Science Bootcamp\\Allahveren bey\\Lecture notes new\\Python\\Session 4.ipynb Cell 18\u001b[0m in \u001b[0;36m<cell line: 1>\u001b[1;34m()\u001b[0m\n\u001b[1;32m----> <a href='vscode-notebook-cell:/c%3A/Users/elnur/OneDrive%20-%20Universiti%20Teknologi%20PETRONAS/Kurslar/UpData/Data%20Science%20Bootcamp/Allahveren%20bey/Lecture%20notes%20new/Python/Session%204.ipynb#X23sZmlsZQ%3D%3D?line=0'>1</a>\u001b[0m adlandirma(\u001b[39m'\u001b[39;49m\u001b[39mElvin\u001b[39;49m\u001b[39m'\u001b[39;49m)\n",
      "\u001b[1;31mTypeError\u001b[0m: adlandirma() missing 1 required positional argument: 'soyad'"
     ]
    }
   ],
   "source": [
    "adlandirma('Elvin')"
   ]
  },
  {
   "cell_type": "markdown",
   "metadata": {},
   "source": [
    "### Arbitrary arguments"
   ]
  },
  {
   "cell_type": "code",
   "execution_count": 9,
   "metadata": {},
   "outputs": [
    {
     "name": "stdout",
     "output_type": "stream",
     "text": [
      "alma\n",
      "armud\n",
      "nar\n"
     ]
    }
   ],
   "source": [
    "# Eger nece arqument otureceyimiz deqiq bilmirikse ozaman ixtiyari arqumentlerden istifade edirik. \n",
    "# Ixtiyari arqument islederken onune * isaresi qoymaq lazimdir. \n",
    "# Bu yolla funksiya cagirarken onun icerisinde qiymetleri tuple seklinde veririk ve onlara giris ede bilerik. \n",
    "# Pythonda onlara *args deyilir\n",
    "\n",
    "def setirleme(*sozler):\n",
    "    for soz in sozler:\n",
    "        print(soz)\n",
    "\n",
    "setirleme('alma', 'armud', 'nar')"
   ]
  },
  {
   "cell_type": "markdown",
   "metadata": {},
   "source": [
    "### Keyword arguments"
   ]
  },
  {
   "cell_type": "code",
   "execution_count": 10,
   "metadata": {},
   "outputs": [
    {
     "name": "stdout",
     "output_type": "stream",
     "text": [
      "Adiniz: Ali\n",
      "Soyadiniz: Yusifov\n",
      "Yasiniz: 23\n"
     ]
    }
   ],
   "source": [
    "# Acar arqumentler acar=qiymet formasinda funksiyanin icerisine oturulur.\n",
    "# Bu zaman ardicilliq onemli olmur.\n",
    "\n",
    "def info(ad, soyad, yas):\n",
    "    print(f'Adiniz: {ad}\\nSoyadiniz: {soyad}\\nYasiniz: {yas}')\n",
    "\n",
    "info(ad='Ali', soyad='Yusifov', yas=23)"
   ]
  },
  {
   "cell_type": "markdown",
   "metadata": {},
   "source": [
    "### Arbitrary keyword arguments"
   ]
  },
  {
   "cell_type": "code",
   "execution_count": 11,
   "metadata": {},
   "outputs": [
    {
     "name": "stdout",
     "output_type": "stream",
     "text": [
      "Adiniz:Ali\n",
      "Soyadiniz: Yusifov\n",
      "Yasiniz: 23\n",
      "Cins: Kisi\n"
     ]
    }
   ],
   "source": [
    "# Eger nece acar arqument daxil edeceyinizi bilmirsizse ixtiyari acarlardan istifade bilersiniz. \n",
    "# Bunun ucun ** isaresinden istifade olunur. \n",
    "# Bu metodla funksiyani cagiranda o hemin qiymetleri dictionary seklinde qebul edir.\n",
    "# Acar vasitesiyle onlara giris edir. \n",
    "\n",
    "def info(** melumatlar):\n",
    "    print(f'Adiniz:{ melumatlar[\"ad\"]}\\nSoyadiniz: {melumatlar[\"soyad\"]}\\nYasiniz: {melumatlar[\"yas\"]}\\nCins: {melumatlar[\"cins\"]}')\n",
    "\n",
    "info(ad='Ali', soyad='Yusifov', yas=23, cins='Kisi')"
   ]
  },
  {
   "cell_type": "markdown",
   "metadata": {},
   "source": [
    "### Default parameters"
   ]
  },
  {
   "cell_type": "code",
   "execution_count": 12,
   "metadata": {},
   "outputs": [
    {
     "name": "stdout",
     "output_type": "stream",
     "text": [
      "Adiniz:Ali\n",
      "Soyadiniz: Yusifov\n",
      "Yasiniz: 23\n",
      "Cins: Kisi\n",
      "Olke: Azerbaycan\n"
     ]
    }
   ],
   "source": [
    "# Bezen funksiyalarimizda ele qiymetler olur ki onlar cox zaman deyismir, eyni qalir. \n",
    "# Buzaman default qiymetlerden istifade ede bilerik.\n",
    "# Belelikle funksiyani cagiran zaman onlarin qiymetin yeniden vermeyimize ehtiyac qalmir. \n",
    "\n",
    "def info(olke = 'Azerbaycan' ,**melumatlar):\n",
    "    print(f'Adiniz:{ melumatlar[\"ad\"]}\\nSoyadiniz: {melumatlar[\"soyad\"]}\\nYasiniz: {melumatlar[\"yas\"]}\\nCins: {melumatlar[\"cins\"]}\\nOlke: {olke}')\n",
    "\n",
    "info(ad='Ali', soyad='Yusifov', yas=23, cins='Kisi')"
   ]
  },
  {
   "cell_type": "code",
   "execution_count": 13,
   "metadata": {},
   "outputs": [
    {
     "name": "stdout",
     "output_type": "stream",
     "text": [
      "Adiniz:Ali\n",
      "Soyadiniz: Yusifov\n",
      "Yasiniz: 23\n",
      "Cins: Kisi\n",
      "Olke: Malaziya\n"
     ]
    }
   ],
   "source": [
    "info(ad='Ali', soyad='Yusifov', yas=23, cins='Kisi', olke='Malaziya')"
   ]
  },
  {
   "cell_type": "markdown",
   "metadata": {},
   "source": [
    "### Giving arguments as a list"
   ]
  },
  {
   "cell_type": "code",
   "execution_count": 14,
   "metadata": {},
   "outputs": [
    {
     "name": "stdout",
     "output_type": "stream",
     "text": [
      "alma\n",
      "armud\n",
      "nar\n"
     ]
    }
   ],
   "source": [
    "def meyve_adlari(meyveler):\n",
    "    for meyve in meyveler:\n",
    "        print(meyve)\n",
    "\n",
    "menim_meyvelerim = ['alma', 'armud', 'nar']\n",
    "\n",
    "meyve_adlari(menim_meyvelerim)"
   ]
  },
  {
   "cell_type": "markdown",
   "metadata": {},
   "source": [
    "## How to use return"
   ]
  },
  {
   "cell_type": "code",
   "execution_count": 15,
   "metadata": {},
   "outputs": [],
   "source": [
    "# Bezi situasiyalarda bizim funksiyalarimizda neyinse print olunmasin istemirik \n",
    "# Lakin hemin funksiyadan alinan neticeni her hansi bir sekilde saxlamaq isteyirik. \n",
    "# Bu zaman return'den istifade edirik. \n",
    "\n",
    "def hesablama(a, b, c):\n",
    "    return (a+b)*c"
   ]
  },
  {
   "cell_type": "code",
   "execution_count": 16,
   "metadata": {},
   "outputs": [
    {
     "name": "stdout",
     "output_type": "stream",
     "text": [
      "9\n"
     ]
    }
   ],
   "source": [
    "netice = hesablama(1, 2, 3)\n",
    "print(netice)"
   ]
  },
  {
   "cell_type": "code",
   "execution_count": 3,
   "metadata": {},
   "outputs": [
    {
     "name": "stdout",
     "output_type": "stream",
     "text": [
      "Sizin yasiniz 23\n"
     ]
    }
   ],
   "source": [
    "def yas_hesablanmasi(il):\n",
    "    return 2022 - il\n",
    "\n",
    "dogum_ili = int(input('Dogum ilinizi qeyd edin: '))\n",
    "print(f'Sizin yasiniz {yas_hesablanmasi(dogum_ili)}')"
   ]
  },
  {
   "cell_type": "markdown",
   "metadata": {},
   "source": [
    "### Using pass"
   ]
  },
  {
   "cell_type": "code",
   "execution_count": 4,
   "metadata": {},
   "outputs": [
    {
     "ename": "IndentationError",
     "evalue": "expected an indented block (1534839564.py, line 5)",
     "output_type": "error",
     "traceback": [
      "\u001b[1;36m  Input \u001b[1;32mIn [4]\u001b[1;36m\u001b[0m\n\u001b[1;33m    \u001b[0m\n\u001b[1;37m    ^\u001b[0m\n\u001b[1;31mIndentationError\u001b[0m\u001b[1;31m:\u001b[0m expected an indented block\n"
     ]
    }
   ],
   "source": [
    "# Funksiya yaradildiqda onun icerisi bos ola bilmez bu zaman biz xeta ile rastlasa bilerik. \n",
    "# Bu xetadan qacmaq ucun biz pass ifadesin isledirik.\n",
    "\n",
    "def bos():\n",
    "    "
   ]
  },
  {
   "cell_type": "code",
   "execution_count": 5,
   "metadata": {},
   "outputs": [],
   "source": [
    "def bos():\n",
    "    pass"
   ]
  },
  {
   "cell_type": "code",
   "execution_count": 6,
   "metadata": {},
   "outputs": [],
   "source": [
    "bos()"
   ]
  },
  {
   "cell_type": "markdown",
   "metadata": {},
   "source": [
    "### Recursion"
   ]
  },
  {
   "cell_type": "code",
   "execution_count": 7,
   "metadata": {},
   "outputs": [
    {
     "data": {
      "text/plain": [
       "120"
      ]
     },
     "execution_count": 7,
     "metadata": {},
     "output_type": "execute_result"
    }
   ],
   "source": [
    "#faktorial hesablanmasi(normal usul)\n",
    "def faktorial(n):\n",
    "    netice = 1\n",
    "    while n>0:\n",
    "        netice *= n\n",
    "        n -= 1\n",
    "    return netice\n",
    "\n",
    "faktorial(5)"
   ]
  },
  {
   "cell_type": "code",
   "execution_count": 8,
   "metadata": {},
   "outputs": [
    {
     "data": {
      "text/plain": [
       "120"
      ]
     },
     "execution_count": 8,
     "metadata": {},
     "output_type": "execute_result"
    }
   ],
   "source": [
    "#faktorial hesablanmasi (rekursiv usul ile)\n",
    "def faktorial(n):\n",
    "    if n==1:\n",
    "        return 1\n",
    "    else:\n",
    "        return n*faktorial(n-1)\n",
    "\n",
    "faktorial(5)"
   ]
  },
  {
   "cell_type": "markdown",
   "metadata": {},
   "source": [
    "Ustun cehetleri:\n",
    "* Bezi hallarda cox suretli hesablamalar aparmaq ucun istifade olunur\n",
    "\n",
    "Menfi cehetleri:\n",
    "* Boyuk hesablamalar aparmaq ucun elverissizdir\n",
    "* Bir cox dillerde iterative(for, while) ile hesablamalar daha suretli netice verir\n",
    "* Basa dusulmesi bezen cox cetin olur"
   ]
  },
  {
   "cell_type": "code",
   "execution_count": null,
   "metadata": {},
   "outputs": [],
   "source": []
  },
  {
   "cell_type": "markdown",
   "metadata": {},
   "source": [
    "## Simple Bubble sort"
   ]
  },
  {
   "cell_type": "markdown",
   "metadata": {},
   "source": [
    "<img src='source\\bubble sort.gif'>"
   ]
  },
  {
   "cell_type": "code",
   "execution_count": 9,
   "metadata": {},
   "outputs": [
    {
     "name": "stdout",
     "output_type": "stream",
     "text": [
      "Sorted array is:\n",
      " 11  12  22  25  34  64  90 "
     ]
    }
   ],
   "source": [
    "# Bubble Sort alqoritminin Pythonda tetbiqi\n",
    " \n",
    "def bubbleSort(arr):\n",
    "    n = len(arr)\n",
    "    # Butun list/array elementlerine bax\n",
    "    for i in range(n-1):\n",
    "        # Son i element artiq sortlandigi ucun ehtiyac yoxdur\n",
    "        for j in range(0, n-i-1):\n",
    "            # Bir bir elementlere bax\n",
    "            # Eger soldaki element boyukdurse, yerlerini deyisdir\n",
    "            if arr[j] > arr[j + 1]:\n",
    "                swapped = True\n",
    "                arr[j], arr[j + 1] = arr[j + 1], arr[j]\n",
    " \n",
    "arr = [64, 34, 25, 12, 22, 11, 90]\n",
    " \n",
    "bubbleSort(arr)\n",
    " \n",
    "print(\"Sorted array is:\")\n",
    "for i in range(len(arr)):\n",
    "    print(\"% d\" % arr[i], end=\" \")"
   ]
  },
  {
   "cell_type": "markdown",
   "metadata": {},
   "source": [
    "## Memory usage and optimization"
   ]
  },
  {
   "cell_type": "code",
   "execution_count": 10,
   "metadata": {},
   "outputs": [
    {
     "name": "stdout",
     "output_type": "stream",
     "text": [
      "Sorted array is:\n",
      " 11  12  22  25  34  64  90 "
     ]
    }
   ],
   "source": [
    "# Bubble Sort alqoritminin Pythonda tetbiqi\n",
    " \n",
    "def bubbleSort(arr):\n",
    "    n = len(arr)\n",
    "    # kod optimizasiyasi, bele ki eger list sortlanibsa, onda davam etmeye ehtiyac yoxdur\n",
    "    swapped = False\n",
    "    # Butun list/array elementlerine bax\n",
    "    for i in range(n-1):\n",
    "        # Son i element artiq sortlandigi ucun ehtiyac yoxdur\n",
    "        for j in range(0, n-i-1):\n",
    "            # Bir bir elementlere bax\n",
    "            # Eger soldaki element boyukdurse, yerlerini deyisdir\n",
    "            if arr[j] > arr[j + 1]:\n",
    "                swapped = True\n",
    "                arr[j], arr[j + 1] = arr[j + 1], arr[j]\n",
    "         \n",
    "        if not swapped:\n",
    "            # eger listde hecbir elementin yeri deyisdirilmeyibse demek artiq sortlanib\n",
    "            # belelikle proqrami optimizasiya etmis oluruq\n",
    "            return\n",
    " \n",
    " \n",
    "arr = [64, 34, 25, 12, 22, 11, 90]\n",
    " \n",
    "bubbleSort(arr)\n",
    " \n",
    "print(\"Sorted array is:\")\n",
    "for i in range(len(arr)):\n",
    "    print(\"% d\" % arr[i], end=\" \")"
   ]
  }
 ],
 "metadata": {
  "kernelspec": {
   "display_name": "Python 3.9.12 ('base')",
   "language": "python",
   "name": "python3"
  },
  "language_info": {
   "codemirror_mode": {
    "name": "ipython",
    "version": 3
   },
   "file_extension": ".py",
   "mimetype": "text/x-python",
   "name": "python",
   "nbconvert_exporter": "python",
   "pygments_lexer": "ipython3",
   "version": "3.9.12"
  },
  "orig_nbformat": 4,
  "vscode": {
   "interpreter": {
    "hash": "437bf6181af474c3c2ca7aa4118132330bd9bbcf1914470b1d094818705239da"
   }
  }
 },
 "nbformat": 4,
 "nbformat_minor": 2
}
