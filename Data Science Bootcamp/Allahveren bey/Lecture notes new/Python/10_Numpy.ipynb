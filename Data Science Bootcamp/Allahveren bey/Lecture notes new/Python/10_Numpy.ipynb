{
 "cells": [
  {
   "cell_type": "markdown",
   "metadata": {},
   "source": [
    "# Numpy"
   ]
  },
  {
   "cell_type": "markdown",
   "metadata": {},
   "source": [
    "![](https://upload.wikimedia.org/wikipedia/commons/thumb/1/1a/NumPy_logo.svg/1200px-NumPy_logo.svg.png)"
   ]
  },
  {
   "cell_type": "markdown",
   "metadata": {},
   "source": [
    "Numpy data scientist-lər tərəfindən en çox istifadə olunan bir kitabxana olub, müxtəlif ölçülü massivlərdə hesablamalar üçün istifadə olunur. Massivlər 1, 2, 3 və daha çox ölçülü ola bilər. Numpy array-ləri list-lərə bənzəyir amma riyazi hesablamalar zamanı numpy istifadəsi daha məqsədə uyğundur. Bunun səbəbi isə numpy daha sürətlidir və daha az yaddaşda yer tutmasdı. Biz list-lər ilə edə biləcəyimiz əməliyyatları numpy vasitəsilə də edə bilərik. Amma numpy kitabxanası massivlərdə hesablamalar aparmaq üçün bize daha çox imkanlar yaradır."
   ]
  },
  {
   "cell_type": "markdown",
   "metadata": {},
   "source": [
    "![](https://i.stack.imgur.com/Tbe9W.png)"
   ]
  },
  {
   "cell_type": "markdown",
   "metadata": {},
   "source": [
    "Numpy tətbiq sahələri:\n",
    "* Riyazi hesablamalar\n",
    "* Vizuallaşdırma\n",
    "* Machine Learning"
   ]
  },
  {
   "cell_type": "code",
   "execution_count": 45,
   "metadata": {},
   "outputs": [],
   "source": [
    "from IPython.display import Image"
   ]
  },
  {
   "cell_type": "code",
   "execution_count": 1,
   "metadata": {},
   "outputs": [],
   "source": [
    "#numpy kitabxanasının daxil edilməsi\n",
    "import numpy as np"
   ]
  },
  {
   "cell_type": "code",
   "execution_count": 29,
   "metadata": {},
   "outputs": [
    {
     "data": {
      "text/plain": [
       "array([ 1,  2,  3,  4,  5,  6,  7,  8,  9, 10])"
      ]
     },
     "execution_count": 29,
     "metadata": {},
     "output_type": "execute_result"
    }
   ],
   "source": [
    "#numpy massivinin yaradılması\n",
    "a = np.array([1, 2, 3, 4, 5, 6, 7, 8, 9, 10])\n",
    "a"
   ]
  },
  {
   "cell_type": "code",
   "execution_count": 30,
   "metadata": {},
   "outputs": [
    {
     "data": {
      "text/plain": [
       "array([ 1,  2,  3,  4,  5,  6,  7,  8,  9, 10])"
      ]
     },
     "execution_count": 30,
     "metadata": {},
     "output_type": "execute_result"
    }
   ],
   "source": [
    "#listin numpy massivine çevrilməsi\n",
    "my_list = [1, 2, 3, 4, 5, 6, 7, 8, 9, 10]\n",
    "a = np.array(my_list)\n",
    "a"
   ]
  },
  {
   "cell_type": "code",
   "execution_count": 32,
   "metadata": {},
   "outputs": [
    {
     "data": {
      "text/plain": [
       "array([[1, 2, 3],\n",
       "       [4, 5, 6]])"
      ]
     },
     "execution_count": 32,
     "metadata": {},
     "output_type": "execute_result"
    }
   ],
   "source": [
    "# 2 və böyük ölçülü massivin yaradılması\n",
    "a_2d = np.array([[1, 2, 3], [4, 5, 6]])\n",
    "a_2d"
   ]
  },
  {
   "cell_type": "markdown",
   "metadata": {},
   "source": [
    "Array haqda məlumat almaq üçün `ndim`, `shape`, `size`, `dtype`metodlarını istifadə edə bilərik.\n",
    "\n",
    "* **ndim** - array-in ölçülərinin sayını göstərir.\n",
    "* **shape** - array-in formasını göstərir.\n",
    "* **size** - array-in elementlərinin sayını göstərir.\n",
    "* **dtype** - array-in elementlərinin tipini göstərir.\n",
    "\n",
    "```python\n",
    "```python"
   ]
  },
  {
   "cell_type": "code",
   "execution_count": 70,
   "metadata": {},
   "outputs": [],
   "source": [
    "x_2d = np.array([[1, 2, 3], [4, 5, 6], [7, 8, 9]])\n",
    "x_3d = np.array([[[1, 2, 3], [4, 5, 6], [7, 8, 9]], [[10, 11, 12], [13, 14, 15], [16, 17, 18]]])"
   ]
  },
  {
   "cell_type": "code",
   "execution_count": 71,
   "metadata": {},
   "outputs": [
    {
     "data": {
      "text/plain": [
       "array([[1, 2, 3],\n",
       "       [4, 5, 6],\n",
       "       [7, 8, 9]])"
      ]
     },
     "execution_count": 71,
     "metadata": {},
     "output_type": "execute_result"
    }
   ],
   "source": [
    "x_2d"
   ]
  },
  {
   "cell_type": "code",
   "execution_count": 72,
   "metadata": {},
   "outputs": [
    {
     "data": {
      "text/plain": [
       "array([[[ 1,  2,  3],\n",
       "        [ 4,  5,  6],\n",
       "        [ 7,  8,  9]],\n",
       "\n",
       "       [[10, 11, 12],\n",
       "        [13, 14, 15],\n",
       "        [16, 17, 18]]])"
      ]
     },
     "execution_count": 72,
     "metadata": {},
     "output_type": "execute_result"
    }
   ],
   "source": [
    "x_3d"
   ]
  },
  {
   "cell_type": "code",
   "execution_count": 74,
   "metadata": {},
   "outputs": [
    {
     "data": {
      "text/plain": [
       "(2, 3)"
      ]
     },
     "execution_count": 74,
     "metadata": {},
     "output_type": "execute_result"
    }
   ],
   "source": [
    "#ndim\n",
    "x_2d.ndim, x_3d.ndim"
   ]
  },
  {
   "cell_type": "code",
   "execution_count": 75,
   "metadata": {},
   "outputs": [
    {
     "data": {
      "text/plain": [
       "((3, 3), (2, 3, 3))"
      ]
     },
     "execution_count": 75,
     "metadata": {},
     "output_type": "execute_result"
    }
   ],
   "source": [
    "#shape\n",
    "x_2d.shape, x_3d.shape"
   ]
  },
  {
   "cell_type": "code",
   "execution_count": 76,
   "metadata": {},
   "outputs": [
    {
     "data": {
      "text/plain": [
       "(9, 18)"
      ]
     },
     "execution_count": 76,
     "metadata": {},
     "output_type": "execute_result"
    }
   ],
   "source": [
    "#size\n",
    "x_2d.size, x_3d.size"
   ]
  },
  {
   "cell_type": "code",
   "execution_count": 77,
   "metadata": {},
   "outputs": [
    {
     "data": {
      "text/plain": [
       "(dtype('int32'), dtype('int32'))"
      ]
     },
     "execution_count": 77,
     "metadata": {},
     "output_type": "execute_result"
    }
   ],
   "source": [
    "#dtype\n",
    "x_2d.dtype, x_3d.dtype"
   ]
  },
  {
   "cell_type": "markdown",
   "metadata": {},
   "source": [
    "## Built-in funksiyalar"
   ]
  },
  {
   "cell_type": "markdown",
   "metadata": {},
   "source": [
    "`arange` funksiyası verilən aralıqda verilən ölçülü massiv yaradır.\n",
    "\n",
    "```python"
   ]
  },
  {
   "cell_type": "code",
   "execution_count": 34,
   "metadata": {},
   "outputs": [
    {
     "data": {
      "text/plain": [
       "array([0, 1, 2, 3, 4, 5, 6, 7, 8, 9])"
      ]
     },
     "execution_count": 34,
     "metadata": {},
     "output_type": "execute_result"
    }
   ],
   "source": [
    "np.arange(0, 10)"
   ]
  },
  {
   "cell_type": "code",
   "execution_count": 35,
   "metadata": {},
   "outputs": [
    {
     "data": {
      "text/plain": [
       "array([0, 2, 4, 6, 8])"
      ]
     },
     "execution_count": 35,
     "metadata": {},
     "output_type": "execute_result"
    }
   ],
   "source": [
    "np.arange(0, 10, 2)#addımlı massivin yaradılması"
   ]
  },
  {
   "cell_type": "markdown",
   "metadata": {},
   "source": [
    "`zeros` funksiyası verilən ölçülü massiv yaradır və bütün elementlərini 0-a bərabər edir.\n",
    "\n",
    "```python"
   ]
  },
  {
   "cell_type": "code",
   "execution_count": 36,
   "metadata": {},
   "outputs": [
    {
     "data": {
      "text/plain": [
       "array([0., 0., 0.])"
      ]
     },
     "execution_count": 36,
     "metadata": {},
     "output_type": "execute_result"
    }
   ],
   "source": [
    "np.zeros(3)"
   ]
  },
  {
   "cell_type": "code",
   "execution_count": 37,
   "metadata": {},
   "outputs": [
    {
     "data": {
      "text/plain": [
       "array([[0., 0., 0., 0., 0.],\n",
       "       [0., 0., 0., 0., 0.],\n",
       "       [0., 0., 0., 0., 0.],\n",
       "       [0., 0., 0., 0., 0.],\n",
       "       [0., 0., 0., 0., 0.]])"
      ]
     },
     "execution_count": 37,
     "metadata": {},
     "output_type": "execute_result"
    }
   ],
   "source": [
    "np.zeros((5,5))"
   ]
  },
  {
   "cell_type": "markdown",
   "metadata": {},
   "source": [
    "`ones` funksiyası verilən ölçülü massiv yaradır və bütün elementlərini 1-ə bərabər edir.\n",
    "\n",
    "```python"
   ]
  },
  {
   "cell_type": "code",
   "execution_count": 38,
   "metadata": {},
   "outputs": [
    {
     "data": {
      "text/plain": [
       "array([1., 1., 1.])"
      ]
     },
     "execution_count": 38,
     "metadata": {},
     "output_type": "execute_result"
    }
   ],
   "source": [
    "np.ones(3)"
   ]
  },
  {
   "cell_type": "code",
   "execution_count": 39,
   "metadata": {},
   "outputs": [
    {
     "data": {
      "text/plain": [
       "array([[1., 1., 1., 1.],\n",
       "       [1., 1., 1., 1.],\n",
       "       [1., 1., 1., 1.],\n",
       "       [1., 1., 1., 1.]])"
      ]
     },
     "execution_count": 39,
     "metadata": {},
     "output_type": "execute_result"
    }
   ],
   "source": [
    "np.ones((4,4))"
   ]
  },
  {
   "cell_type": "markdown",
   "metadata": {},
   "source": [
    "`linspace` funksiyası verilən aralıqda verilən ölçülü massiv yaradır və bütün elementlərini bərabər aralıqla bölər.\n",
    "\n",
    "```python"
   ]
  },
  {
   "cell_type": "code",
   "execution_count": 40,
   "metadata": {},
   "outputs": [
    {
     "data": {
      "text/plain": [
       "array([ 0.,  5., 10.])"
      ]
     },
     "execution_count": 40,
     "metadata": {},
     "output_type": "execute_result"
    }
   ],
   "source": [
    "np.linspace(0, 10, 3)#massivin 0 və 10 arasında 3 addımlı yaradılması"
   ]
  },
  {
   "cell_type": "code",
   "execution_count": 41,
   "metadata": {},
   "outputs": [
    {
     "data": {
      "text/plain": [
       "array([ 0.        ,  0.20408163,  0.40816327,  0.6122449 ,  0.81632653,\n",
       "        1.02040816,  1.2244898 ,  1.42857143,  1.63265306,  1.83673469,\n",
       "        2.04081633,  2.24489796,  2.44897959,  2.65306122,  2.85714286,\n",
       "        3.06122449,  3.26530612,  3.46938776,  3.67346939,  3.87755102,\n",
       "        4.08163265,  4.28571429,  4.48979592,  4.69387755,  4.89795918,\n",
       "        5.10204082,  5.30612245,  5.51020408,  5.71428571,  5.91836735,\n",
       "        6.12244898,  6.32653061,  6.53061224,  6.73469388,  6.93877551,\n",
       "        7.14285714,  7.34693878,  7.55102041,  7.75510204,  7.95918367,\n",
       "        8.16326531,  8.36734694,  8.57142857,  8.7755102 ,  8.97959184,\n",
       "        9.18367347,  9.3877551 ,  9.59183673,  9.79591837, 10.        ])"
      ]
     },
     "execution_count": 41,
     "metadata": {},
     "output_type": "execute_result"
    }
   ],
   "source": [
    "np.linspace(0,10,50)"
   ]
  },
  {
   "cell_type": "markdown",
   "metadata": {},
   "source": [
    "## Random"
   ]
  },
  {
   "cell_type": "markdown",
   "metadata": {},
   "source": [
    "Numpy özündə random funksiyaları da təmin edir. Bu funksiyalarla random ədədlərdən ibarət massivlər yarada bilərik."
   ]
  },
  {
   "cell_type": "markdown",
   "metadata": {},
   "source": [
    "`rand` funksiyası verilən ölçülü massiv yaradır və bütün elementlərini 0-dan 1-ə qədər random ədədlərə bərabər edir.\n",
    "\n",
    "```python"
   ]
  },
  {
   "cell_type": "code",
   "execution_count": 42,
   "metadata": {},
   "outputs": [
    {
     "data": {
      "text/plain": [
       "array([0.90497109, 0.1348019 ])"
      ]
     },
     "execution_count": 42,
     "metadata": {},
     "output_type": "execute_result"
    }
   ],
   "source": [
    "np.random.rand(2)"
   ]
  },
  {
   "cell_type": "code",
   "execution_count": 44,
   "metadata": {},
   "outputs": [
    {
     "data": {
      "text/plain": [
       "array([[0.49903512, 0.50949088, 0.76217632],\n",
       "       [0.72733595, 0.51454597, 0.20243512]])"
      ]
     },
     "execution_count": 44,
     "metadata": {},
     "output_type": "execute_result"
    }
   ],
   "source": [
    "np.random.rand(2,3)"
   ]
  },
  {
   "cell_type": "markdown",
   "metadata": {},
   "source": [
    "`np.random.normal` funksiyası verilən ölçülü massiv yaradır və bütün elementlərini normal paylanmasına uyğun random ədədlərə bərabər edir.\n",
    "\n",
    "```python"
   ]
  },
  {
   "cell_type": "code",
   "execution_count": 51,
   "metadata": {},
   "outputs": [
    {
     "data": {
      "image/png": "[encoded data removed]",
      "text/plain": [
       "<IPython.core.display.Image object>"
      ]
     },
     "execution_count": 51,
     "metadata": {
      "image/png": {
       "width": 500
      }
     },
     "output_type": "execute_result"
    }
   ],
   "source": [
    "Image('https://i.stack.imgur.com/jkMDV.png', width=500)"
   ]
  },
  {
   "cell_type": "code",
   "execution_count": 55,
   "metadata": {},
   "outputs": [
    {
     "data": {
      "image/jpeg": "[encoded data removed]",
      "text/plain": [
       "<IPython.core.display.Image object>"
      ]
     },
     "execution_count": 55,
     "metadata": {
      "image/jpeg": {
       "width": 500
      }
     },
     "output_type": "execute_result"
    }
   ],
   "source": [
    "Image('https://assets.ltkcontent.com/images/calculating-standard-deviation.jpg', width=500)"
   ]
  },
  {
   "cell_type": "code",
   "execution_count": 48,
   "metadata": {},
   "outputs": [
    {
     "data": {
      "text/plain": [
       "array([[-0.08301969, -0.2274291 , -0.33734849],\n",
       "       [-1.15422123,  0.34479685,  0.89113892],\n",
       "       [ 0.37534251, -0.70645243, -0.21541216]])"
      ]
     },
     "execution_count": 48,
     "metadata": {},
     "output_type": "execute_result"
    }
   ],
   "source": [
    "np.random.normal(0, 1, (3, 3))\n",
    "# 0 - ortalama\n",
    "# 1 - standart deviation\n",
    "# (3, 3) - massivin ölçüsü\n"
   ]
  },
  {
   "cell_type": "code",
   "execution_count": 52,
   "metadata": {},
   "outputs": [
    {
     "data": {
      "text/plain": [
       "array([-1.72758125, -0.08753433,  0.6002996 , -0.70714421,  0.08986984,\n",
       "       -1.21096206,  0.52018173, -0.52400699, -0.30531932, -0.79306748,\n",
       "       -1.13039267,  2.30695854,  0.40587757,  1.50862974,  0.60663712,\n",
       "        0.46302199, -0.6328412 , -0.11857188,  1.97730386,  0.01502418,\n",
       "       -0.25393407,  1.39182221,  2.1022811 , -0.10915252, -0.11579394,\n",
       "        0.92699977, -0.39773078, -0.51851938,  0.28364779, -0.6916762 ,\n",
       "       -0.35915711,  2.35855389, -0.38086646, -0.578862  ,  0.87178675,\n",
       "       -1.32665378, -0.50016409, -2.19230003, -0.03281233, -0.78845143,\n",
       "        0.16394947, -1.68810634, -0.4046085 , -0.89793668, -0.0061165 ,\n",
       "       -0.27592487, -0.64809369, -0.43030771, -0.13836956, -0.63386708,\n",
       "        0.97774954,  0.26263059,  0.85768029,  0.69350226, -0.90539158,\n",
       "       -0.77277612,  0.42602707, -1.12682974, -0.16151564,  1.31711296,\n",
       "       -0.34965711,  0.44547674, -0.13688109,  0.48016783, -1.14775125,\n",
       "       -1.66597823, -1.02924997, -0.43690991,  0.05337751,  0.47598522,\n",
       "       -0.53938735, -0.72132687, -0.60780602,  1.03665036,  0.19122039,\n",
       "        0.76051745,  0.61173942, -1.58019235,  0.13579593,  0.0347641 ,\n",
       "       -0.73687355, -1.84971131, -0.67122197,  0.0094093 ,  1.83310666,\n",
       "       -0.37205486, -0.82796897,  2.05038051, -0.68892181,  1.6905584 ,\n",
       "        0.26008015,  0.78789017, -0.04236137,  0.90408628, -0.02337857,\n",
       "       -1.36604092, -2.22042676,  0.17033447,  0.88296183, -0.26884495,\n",
       "       -1.33876682,  0.43695862,  0.45678196,  0.16479556, -1.89500314,\n",
       "        0.26021515,  1.80316594, -1.2734266 , -0.31444245,  1.30774557,\n",
       "        0.89913498, -2.16557525, -0.65092375,  0.48391983, -0.53166411,\n",
       "       -1.25703058, -0.965883  ,  0.59816932,  0.09463192,  0.35674317,\n",
       "       -1.65372495,  1.99074975,  0.24881683, -1.59329789, -0.35827338,\n",
       "       -2.88125752, -1.44557704,  0.03014348, -1.39650792, -0.60046303,\n",
       "       -0.54063688, -0.38748005,  1.26170526, -1.134731  , -0.99924875,\n",
       "        0.7754051 , -1.42503266,  0.86866014,  0.87425273, -1.90657273,\n",
       "       -0.46614243, -0.62517017,  0.81722123,  0.92468956, -0.68967615,\n",
       "       -1.19823596,  0.42116484,  0.93603402,  0.64818358,  0.05101466,\n",
       "        0.01732663, -0.13908937, -1.61768105,  1.42989297, -0.39381705,\n",
       "       -0.28524022,  1.66576184, -0.29475093,  0.55465541, -0.66706773,\n",
       "        1.85550794, -0.73055115, -1.06341312, -1.48353187, -1.60301053,\n",
       "        0.19833395,  0.17293582, -0.14448599, -0.98041216,  1.48973017,\n",
       "        1.48918007,  1.02310614, -0.00793009, -0.43446207, -0.78214618,\n",
       "       -1.14616518,  0.12707885, -1.23706721,  1.16314113, -0.57264335,\n",
       "        1.24600674,  1.28248055, -0.97523882, -1.41454706,  0.17157288,\n",
       "        0.56631463, -0.98341116,  0.78949973,  0.9295331 , -0.39801557,\n",
       "        0.87742352, -0.41324346, -0.34205493,  0.66068514,  0.33661253,\n",
       "       -0.75472151, -1.68043738, -1.84887415, -0.51055569, -0.61953667,\n",
       "        0.71118525, -1.88062571, -0.28367618,  0.82835259,  0.42493549,\n",
       "       -0.31270301,  0.67182997,  0.51167474, -0.42030463, -0.06644681,\n",
       "       -0.09908077,  0.00553192,  2.08246668,  1.66758221,  1.41456678,\n",
       "       -0.85533486,  0.98259219, -0.05155338, -0.91869159,  0.31411155,\n",
       "       -0.29458425,  1.34311967, -1.23618662, -2.20243613, -0.54986007,\n",
       "       -0.50213392, -0.41367697, -1.00449591,  0.02744157, -0.56119362,\n",
       "       -0.75407746, -0.64523294,  0.36396884,  1.00191895, -0.22771275,\n",
       "       -0.90027882, -0.61947437, -0.13977359, -1.79853364, -2.07280876,\n",
       "       -0.6569703 ,  1.16457972, -0.87505162,  2.34162183,  1.01484559,\n",
       "        0.45842585, -0.34482479,  2.2920052 , -0.19488482,  0.44512413,\n",
       "       -0.22919626,  0.49663485, -0.35521472, -1.29771541,  1.49925212,\n",
       "        0.07340412,  0.21962047, -0.76888958, -0.70618111, -0.43148398,\n",
       "       -0.97059543,  0.42565038,  1.71815465,  1.38428959, -1.03764361,\n",
       "       -0.05543096, -0.24682936,  0.63402939,  0.85977861,  1.89099149,\n",
       "        2.83980528,  0.81978249, -0.30620332,  0.78987915, -0.37078505,\n",
       "       -1.01184698,  1.54956077, -0.8551925 ,  0.60881495,  0.9399383 ,\n",
       "       -0.07445224, -1.58892437, -0.05228607, -0.7444199 ,  2.43777467,\n",
       "       -0.43565402, -2.04307386,  0.55442344,  0.42352728,  0.28394187,\n",
       "        0.17915753, -1.20801121,  1.3074264 ,  0.1953623 ,  1.22324682,\n",
       "       -1.13068062, -2.11818452,  0.7682286 , -1.22177112, -0.18658383,\n",
       "        1.67018397, -1.9928038 , -0.68870424, -0.5541981 ,  0.41804535,\n",
       "        0.11459169, -2.14430365, -1.07397298,  0.16339995,  1.16140095,\n",
       "        1.4949909 , -1.18953124,  0.55437809,  1.51447153, -0.20372663,\n",
       "        0.42983525, -0.24777666,  0.14838638, -0.12018434,  0.65668698,\n",
       "        1.53363646,  0.53021145,  0.05433181, -0.46756871, -1.06796614,\n",
       "       -0.32744895,  0.00490208, -0.52239015,  1.83021133,  0.57689614,\n",
       "       -0.55013972,  0.47134139,  0.44772991, -0.70336182, -0.37137778,\n",
       "       -0.02181518,  1.29697741,  0.49287022, -0.0133122 , -0.71699187,\n",
       "       -1.55448199, -0.38853424,  0.61496183,  1.24978811, -0.00987928,\n",
       "       -0.49118483, -0.35990634, -1.09217713, -1.58925125, -0.96737935,\n",
       "       -0.09159747, -1.33211841,  0.29737956, -0.18194942, -0.66316963,\n",
       "       -1.38329537, -0.2242774 , -0.14952534,  0.35063012,  0.80356786,\n",
       "        0.50440408, -1.05240772, -1.120209  , -0.46052734,  0.89749412,\n",
       "        0.74676086,  1.11395388, -1.4612319 ,  1.61953907,  1.08764308,\n",
       "        0.91983024, -1.26007299,  1.50223426,  0.92655444,  0.89971672,\n",
       "       -0.96846575, -0.75874255, -2.19250651, -0.93788741, -0.22660452,\n",
       "       -0.66759221,  1.40005509, -0.4123963 , -2.29526311, -0.53236765,\n",
       "        0.06683925,  0.78051004, -0.48379633,  0.61120997, -1.42756051,\n",
       "        0.62658279,  0.41554859,  0.35556938, -1.95992812, -0.68059198,\n",
       "        0.21697156,  1.91314303, -0.10568063, -0.54571166,  0.39985278,\n",
       "       -0.81926461,  0.58851351, -1.9772752 ,  0.08348908,  1.89237043,\n",
       "       -1.10749155, -0.18257754,  0.81810162,  0.76183721,  0.28893346,\n",
       "        0.98561676,  0.41628901,  1.43217472, -0.68397193,  0.49781149,\n",
       "        0.36947492,  0.15109291,  0.82532406,  0.73726308,  0.47532722,\n",
       "       -1.23277951, -0.61014609, -1.42629143, -1.02379961,  0.05433532,\n",
       "        1.59650084,  0.39291962, -1.11770228,  1.18558218, -0.91463328,\n",
       "       -1.63231125,  0.20788896,  0.08210945,  1.61421048, -0.23904293,\n",
       "        2.05541762, -2.56646327,  1.76375288, -0.37594445,  0.33313138,\n",
       "        0.0662251 ,  0.65513038, -1.1177648 , -0.69964627,  1.1480504 ,\n",
       "       -0.11496819, -0.82161527, -0.75543121, -0.45876926, -0.15205724,\n",
       "       -0.94967549,  1.25568403, -0.6223408 , -1.12691317, -0.18096898,\n",
       "       -1.12285304,  1.58359837,  1.67084137,  0.95079068, -0.43799379,\n",
       "        0.66321485,  1.20511297, -0.37201797,  1.21543707, -0.51243891,\n",
       "       -1.47920891, -1.82443137,  2.33569465,  0.21684207, -1.11761408,\n",
       "       -1.39115553,  0.05843357, -0.28514449, -0.52829316,  1.79112807,\n",
       "       -0.49209467,  1.26684428, -1.09664682, -1.15486686, -0.89720262,\n",
       "       -0.2525138 , -0.51157097,  1.79947212,  0.1470776 ,  0.89594338,\n",
       "       -1.32460116,  0.08702644, -2.55285944,  0.8041192 , -0.05301716,\n",
       "        1.04612546, -0.31560581,  0.40173361,  1.42290093, -0.03221918,\n",
       "       -1.08651748,  0.79088075, -2.11742464, -0.92877876,  0.31193753])"
      ]
     },
     "execution_count": 52,
     "metadata": {},
     "output_type": "execute_result"
    }
   ],
   "source": [
    "np.random.normal(0,1, 500)"
   ]
  },
  {
   "cell_type": "code",
   "execution_count": 53,
   "metadata": {},
   "outputs": [
    {
     "name": "stderr",
     "output_type": "stream",
     "text": [
      "c:\\Users\\aliyu\\anaconda3\\envs\\galactech\\lib\\site-packages\\seaborn\\distributions.py:2619: FutureWarning: `distplot` is a deprecated function and will be removed in a future version. Please adapt your code to use either `displot` (a figure-level function with similar flexibility) or `histplot` (an axes-level function for histograms).\n",
      "  warnings.warn(msg, FutureWarning)\n"
     ]
    },
    {
     "data": {
      "text/plain": [
       "<AxesSubplot:ylabel='Density'>"
      ]
     },
     "execution_count": 53,
     "metadata": {},
     "output_type": "execute_result"
    },
    {
     "data": {
      "image/png": "[encoded data removed]",
      "text/plain": [
       "<Figure size 432x288 with 1 Axes>"
      ]
     },
     "metadata": {
      "needs_background": "light"
     },
     "output_type": "display_data"
    }
   ],
   "source": [
    "import seaborn as sns\n",
    "sns.distplot(np.random.normal(0,1, 500))"
   ]
  },
  {
   "cell_type": "markdown",
   "metadata": {},
   "source": [
    "`randint` funksiyası verilən aralıqda verilən ölçülü massiv yaradır və bütün elementlərini ədəd aralığından random ədədlərə bərabər edir.\n",
    "\n",
    "```python"
   ]
  },
  {
   "cell_type": "code",
   "execution_count": 54,
   "metadata": {},
   "outputs": [
    {
     "data": {
      "text/plain": [
       "array([[0, 8, 9],\n",
       "       [3, 4, 9],\n",
       "       [6, 7, 3]])"
      ]
     },
     "execution_count": 54,
     "metadata": {},
     "output_type": "execute_result"
    }
   ],
   "source": [
    "np.random.randint(0, 10, (3, 3))"
   ]
  },
  {
   "cell_type": "markdown",
   "metadata": {},
   "source": [
    "## Massiv attribute-ları və method-ları"
   ]
  },
  {
   "cell_type": "markdown",
   "metadata": {},
   "source": [
    "`arange` funsiyası müəyyən aralıqlı ardıcıllıqda ədədlərdən ibarət massiv yaradır. Bu massivin ölçülərinə baxmaq üçün `shape` attribute-larından istifadə edə bilərik.\n",
    "\n",
    "```python"
   ]
  },
  {
   "cell_type": "code",
   "execution_count": 58,
   "metadata": {},
   "outputs": [
    {
     "data": {
      "text/plain": [
       "array([ 0,  1,  2,  3,  4,  5,  6,  7,  8,  9, 10, 11, 12, 13, 14, 15, 16,\n",
       "       17, 18, 19, 20, 21, 22, 23, 24])"
      ]
     },
     "execution_count": 58,
     "metadata": {},
     "output_type": "execute_result"
    }
   ],
   "source": [
    "np.arange(25)"
   ]
  },
  {
   "cell_type": "code",
   "execution_count": 60,
   "metadata": {},
   "outputs": [
    {
     "data": {
      "text/plain": [
       "array([ 5,  7,  9, 11, 13, 15, 17, 19])"
      ]
     },
     "execution_count": 60,
     "metadata": {},
     "output_type": "execute_result"
    }
   ],
   "source": [
    "np.arange(5,20, 2)#addımlı massivin yaradılması"
   ]
  },
  {
   "cell_type": "markdown",
   "metadata": {},
   "source": [
    "`reshape` methodu massivin ölçülərini dəyişdirmək üçün istifadə olunur.\n",
    "\n",
    "```python"
   ]
  },
  {
   "cell_type": "code",
   "execution_count": 61,
   "metadata": {},
   "outputs": [
    {
     "data": {
      "text/plain": [
       "array([ 0,  1,  2,  3,  4,  5,  6,  7,  8,  9, 10, 11, 12, 13, 14, 15, 16,\n",
       "       17, 18, 19, 20, 21, 22, 23, 24])"
      ]
     },
     "execution_count": 61,
     "metadata": {},
     "output_type": "execute_result"
    }
   ],
   "source": [
    "arr = np.arange(25)\n",
    "arr"
   ]
  },
  {
   "cell_type": "code",
   "execution_count": 62,
   "metadata": {},
   "outputs": [
    {
     "data": {
      "text/plain": [
       "array([[ 0,  1,  2,  3,  4],\n",
       "       [ 5,  6,  7,  8,  9],\n",
       "       [10, 11, 12, 13, 14],\n",
       "       [15, 16, 17, 18, 19],\n",
       "       [20, 21, 22, 23, 24]])"
      ]
     },
     "execution_count": 62,
     "metadata": {},
     "output_type": "execute_result"
    }
   ],
   "source": [
    "arr.reshape(5,5)"
   ]
  },
  {
   "cell_type": "markdown",
   "metadata": {},
   "source": [
    "**min, max, argmin, argmax** methodları\n",
    "* `min` methodu massivin minimum elementini tapır.\n",
    "* `max` methodu massivin maksimum elementini tapır.\n",
    "* `argmin` methodu massivin minimum elementinin index-ni tapır.\n",
    "* `argmax` methodu massivin maksimum elementinin index-ni tapır.\n",
    "\n",
    "```python"
   ]
  },
  {
   "cell_type": "code",
   "execution_count": 64,
   "metadata": {},
   "outputs": [
    {
     "data": {
      "text/plain": [
       "array([91, 22, 56, 87, 53, 36, 98, 19, 46, 40, 85, 81, 14, 85, 87, 29, 84,\n",
       "       51, 17, 94])"
      ]
     },
     "execution_count": 64,
     "metadata": {},
     "output_type": "execute_result"
    }
   ],
   "source": [
    "arr = np.random.randint(0,100, 20)\n",
    "arr"
   ]
  },
  {
   "cell_type": "code",
   "execution_count": 65,
   "metadata": {},
   "outputs": [
    {
     "name": "stdout",
     "output_type": "stream",
     "text": [
      "14\n",
      "98\n",
      "12\n",
      "6\n"
     ]
    }
   ],
   "source": [
    "#min\n",
    "print(arr.min())\n",
    "#max\n",
    "print(arr.max())\n",
    "#argmin\n",
    "print(arr.argmin())\n",
    "#argmax\n",
    "print(arr.argmax())"
   ]
  },
  {
   "cell_type": "markdown",
   "metadata": {},
   "source": [
    "## Nupmy-da indeksləmə"
   ]
  },
  {
   "cell_type": "code",
   "execution_count": 79,
   "metadata": {},
   "outputs": [
    {
     "data": {
      "text/plain": [
       "array([ 0,  1,  2,  3,  4,  5,  6,  7,  8,  9, 10])"
      ]
     },
     "execution_count": 79,
     "metadata": {},
     "output_type": "execute_result"
    }
   ],
   "source": [
    "arr = np.arange(0,11)\n",
    "arr"
   ]
  },
  {
   "cell_type": "markdown",
   "metadata": {},
   "source": [
    "### Sadə indeksləmə\n",
    "\n",
    "```python"
   ]
  },
  {
   "cell_type": "code",
   "execution_count": 81,
   "metadata": {},
   "outputs": [
    {
     "data": {
      "text/plain": [
       "0"
      ]
     },
     "execution_count": 81,
     "metadata": {},
     "output_type": "execute_result"
    }
   ],
   "source": [
    "arr[0]"
   ]
  },
  {
   "cell_type": "code",
   "execution_count": 82,
   "metadata": {},
   "outputs": [
    {
     "data": {
      "text/plain": [
       "array([1, 2, 3, 4])"
      ]
     },
     "execution_count": 82,
     "metadata": {},
     "output_type": "execute_result"
    }
   ],
   "source": [
    "#aralıq\n",
    "arr[1:5]"
   ]
  },
  {
   "cell_type": "code",
   "execution_count": 83,
   "metadata": {},
   "outputs": [],
   "source": [
    "#broadcasting - massivin bütün elementlərini dəyişmək\n",
    "arr[0:5] = 100"
   ]
  },
  {
   "cell_type": "code",
   "execution_count": 84,
   "metadata": {},
   "outputs": [
    {
     "data": {
      "text/plain": [
       "array([100, 100, 100, 100, 100,   5,   6,   7,   8,   9,  10])"
      ]
     },
     "execution_count": 84,
     "metadata": {},
     "output_type": "execute_result"
    }
   ],
   "source": [
    "arr"
   ]
  },
  {
   "cell_type": "code",
   "execution_count": 86,
   "metadata": {},
   "outputs": [
    {
     "data": {
      "text/plain": [
       "array([ 0,  1,  2,  3,  4,  5,  6,  7,  8,  9, 10])"
      ]
     },
     "execution_count": 86,
     "metadata": {},
     "output_type": "execute_result"
    }
   ],
   "source": [
    "##massivin hər hansı bir hissəsini dəyişmək\n",
    "arr = np.arange(0,11)\n",
    "arr"
   ]
  },
  {
   "cell_type": "code",
   "execution_count": 90,
   "metadata": {},
   "outputs": [
    {
     "data": {
      "text/plain": [
       "array([0, 1, 2, 3, 4, 5])"
      ]
     },
     "execution_count": 90,
     "metadata": {},
     "output_type": "execute_result"
    }
   ],
   "source": [
    "arr_2 = arr[0:6]\n",
    "arr_2"
   ]
  },
  {
   "cell_type": "code",
   "execution_count": 91,
   "metadata": {},
   "outputs": [],
   "source": [
    "arr_2[:] = 99"
   ]
  },
  {
   "cell_type": "code",
   "execution_count": 92,
   "metadata": {},
   "outputs": [
    {
     "data": {
      "text/plain": [
       "array([99, 99, 99, 99, 99, 99])"
      ]
     },
     "execution_count": 92,
     "metadata": {},
     "output_type": "execute_result"
    }
   ],
   "source": [
    "arr_2"
   ]
  },
  {
   "cell_type": "code",
   "execution_count": 93,
   "metadata": {},
   "outputs": [
    {
     "data": {
      "text/plain": [
       "array([99, 99, 99, 99, 99, 99,  6,  7,  8,  9, 10])"
      ]
     },
     "execution_count": 93,
     "metadata": {},
     "output_type": "execute_result"
    }
   ],
   "source": [
    "arr"
   ]
  },
  {
   "cell_type": "markdown",
   "metadata": {},
   "source": [
    "Buna baş verməsinə səbəb hər əsas massivin həm ondan yaranan massivin yaddaşda eyni yer tutmasıdır. Bu səbəbdən əsas massivdə dəyişiklik edərsəniz ondan yaranan massivdə də dəyişiklik olacaq."
   ]
  },
  {
   "cell_type": "code",
   "execution_count": 94,
   "metadata": {},
   "outputs": [],
   "source": [
    "#massivin kopyalanması\n",
    "arr_copy = arr.copy()"
   ]
  },
  {
   "cell_type": "markdown",
   "metadata": {},
   "source": [
    "## 2 və ya daha çox ölçülü massivlərdə indeksləmə\n",
    "\n",
    "```python"
   ]
  },
  {
   "cell_type": "code",
   "execution_count": 95,
   "metadata": {},
   "outputs": [
    {
     "data": {
      "text/plain": [
       "array([[ 2,  2, 18, 10, 66],\n",
       "       [46, 62, 68, 33, 86],\n",
       "       [61,  0, 48, 98, 51],\n",
       "       [67, 36, 96, 31, 41],\n",
       "       [96,  4, 66,  9, 84]])"
      ]
     },
     "execution_count": 95,
     "metadata": {},
     "output_type": "execute_result"
    }
   ],
   "source": [
    "arr_2d = np.random.randint(0,100, (5,5))\n",
    "arr_2d"
   ]
  },
  {
   "cell_type": "code",
   "execution_count": 96,
   "metadata": {},
   "outputs": [
    {
     "data": {
      "text/plain": [
       "array([61,  0, 48, 98, 51])"
      ]
     },
     "execution_count": 96,
     "metadata": {},
     "output_type": "execute_result"
    }
   ],
   "source": [
    "#sətirin seçilməsi\n",
    "arr_2d[2]"
   ]
  },
  {
   "cell_type": "code",
   "execution_count": 97,
   "metadata": {},
   "outputs": [
    {
     "data": {
      "text/plain": [
       "array([18, 68, 48, 96, 66])"
      ]
     },
     "execution_count": 97,
     "metadata": {},
     "output_type": "execute_result"
    }
   ],
   "source": [
    "#sütunun seçilməsi\n",
    "arr_2d[:, 2]"
   ]
  },
  {
   "cell_type": "markdown",
   "metadata": {},
   "source": [
    "massiv[sətir, sütun]\n",
    "\n",
    "```python"
   ]
  },
  {
   "cell_type": "code",
   "execution_count": 99,
   "metadata": {},
   "outputs": [
    {
     "data": {
      "text/plain": [
       "51"
      ]
     },
     "execution_count": 99,
     "metadata": {},
     "output_type": "execute_result"
    }
   ],
   "source": [
    "#elementin seçilməsi\n",
    "arr_2d[2, 4]"
   ]
  },
  {
   "cell_type": "code",
   "execution_count": 101,
   "metadata": {},
   "outputs": [
    {
     "data": {
      "text/plain": [
       "array([[ 2, 18, 10, 66],\n",
       "       [62, 68, 33, 86],\n",
       "       [ 0, 48, 98, 51]])"
      ]
     },
     "execution_count": 101,
     "metadata": {},
     "output_type": "execute_result"
    }
   ],
   "source": [
    "#massivin bölünməsi\n",
    "arr_2d[:3, 1:]"
   ]
  },
  {
   "cell_type": "markdown",
   "metadata": {},
   "source": [
    "## Massivlərdə seçim\n",
    "\n",
    "```python"
   ]
  },
  {
   "cell_type": "code",
   "execution_count": 102,
   "metadata": {},
   "outputs": [
    {
     "data": {
      "text/plain": [
       "array([ 1,  2,  3,  4,  5,  6,  7,  8,  9, 10])"
      ]
     },
     "execution_count": 102,
     "metadata": {},
     "output_type": "execute_result"
    }
   ],
   "source": [
    "arr = np.arange(1,11)\n",
    "arr"
   ]
  },
  {
   "cell_type": "code",
   "execution_count": 103,
   "metadata": {},
   "outputs": [
    {
     "data": {
      "text/plain": [
       "array([ 5,  6,  7,  8,  9, 10])"
      ]
     },
     "execution_count": 103,
     "metadata": {},
     "output_type": "execute_result"
    }
   ],
   "source": [
    "#4-dən böyük elementlərin seçilməsi\n",
    "arr[arr>4]"
   ]
  },
  {
   "cell_type": "markdown",
   "metadata": {},
   "source": [
    "## Massivlərdə sort etmə\n",
    "\n",
    "```python"
   ]
  },
  {
   "cell_type": "code",
   "execution_count": 104,
   "metadata": {},
   "outputs": [
    {
     "data": {
      "text/plain": [
       "array([86, 75, 29, 79,  1, 91, 97, 52, 18, 68, 74, 49, 16, 96, 94])"
      ]
     },
     "execution_count": 104,
     "metadata": {},
     "output_type": "execute_result"
    }
   ],
   "source": [
    "arr = np.random.randint(0,100, 15)\n",
    "arr"
   ]
  },
  {
   "cell_type": "code",
   "execution_count": 107,
   "metadata": {},
   "outputs": [
    {
     "data": {
      "text/plain": [
       "array([ 1, 16, 18, 29, 49, 52, 68, 74, 75, 79, 86, 91, 94, 96, 97])"
      ]
     },
     "execution_count": 107,
     "metadata": {},
     "output_type": "execute_result"
    }
   ],
   "source": [
    "np.sort(arr)"
   ]
  },
  {
   "cell_type": "code",
   "execution_count": 110,
   "metadata": {},
   "outputs": [
    {
     "data": {
      "text/plain": [
       "array([[ 3, 93,  3, 12, 73],\n",
       "       [ 4, 93, 39, 55, 51],\n",
       "       [59, 44, 34,  9, 15],\n",
       "       [49,  4, 79, 81, 49],\n",
       "       [88,  0, 37, 65, 96]])"
      ]
     },
     "execution_count": 110,
     "metadata": {},
     "output_type": "execute_result"
    }
   ],
   "source": [
    "#2 və böyük ölçülü massivin sort edilməsi\n",
    "arr_2d = np.random.randint(0,100, (5,5))\n",
    "arr_2d"
   ]
  },
  {
   "cell_type": "code",
   "execution_count": 111,
   "metadata": {},
   "outputs": [
    {
     "data": {
      "text/plain": [
       "array([[ 3,  0,  3,  9, 15],\n",
       "       [ 4,  4, 34, 12, 49],\n",
       "       [49, 44, 37, 55, 51],\n",
       "       [59, 93, 39, 65, 73],\n",
       "       [88, 93, 79, 81, 96]])"
      ]
     },
     "execution_count": 111,
     "metadata": {},
     "output_type": "execute_result"
    }
   ],
   "source": [
    "#sütunlar üzrə sort edilməsi\n",
    "np.sort(arr_2d, axis=0)"
   ]
  },
  {
   "cell_type": "code",
   "execution_count": 112,
   "metadata": {},
   "outputs": [
    {
     "data": {
      "text/plain": [
       "array([[ 3,  3, 12, 73, 93],\n",
       "       [ 4, 39, 51, 55, 93],\n",
       "       [ 9, 15, 34, 44, 59],\n",
       "       [ 4, 49, 49, 79, 81],\n",
       "       [ 0, 37, 65, 88, 96]])"
      ]
     },
     "execution_count": 112,
     "metadata": {},
     "output_type": "execute_result"
    }
   ],
   "source": [
    "#sətirlər üzrə sort edilməsi\n",
    "np.sort(arr_2d, axis=1)"
   ]
  },
  {
   "cell_type": "markdown",
   "metadata": {},
   "source": [
    "## Massivlərdə riyazi əməliyyatlar\n",
    "\n",
    "```python"
   ]
  },
  {
   "cell_type": "code",
   "execution_count": 113,
   "metadata": {},
   "outputs": [],
   "source": [
    "arr = np.arange(0,11)"
   ]
  },
  {
   "cell_type": "code",
   "execution_count": 114,
   "metadata": {},
   "outputs": [
    {
     "data": {
      "text/plain": [
       "array([ 0,  2,  4,  6,  8, 10, 12, 14, 16, 18, 20])"
      ]
     },
     "execution_count": 114,
     "metadata": {},
     "output_type": "execute_result"
    }
   ],
   "source": [
    "#toplama\n",
    "arr + arr"
   ]
  },
  {
   "cell_type": "code",
   "execution_count": 119,
   "metadata": {},
   "outputs": [
    {
     "data": {
      "text/plain": [
       "array([-1,  0,  1,  2,  3,  4,  5,  6,  7,  8,  9])"
      ]
     },
     "execution_count": 119,
     "metadata": {},
     "output_type": "execute_result"
    }
   ],
   "source": [
    "#çıxma\n",
    "arr - 1"
   ]
  },
  {
   "cell_type": "code",
   "execution_count": 120,
   "metadata": {},
   "outputs": [
    {
     "data": {
      "text/plain": [
       "array([ 0,  3,  6,  9, 12, 15, 18, 21, 24, 27, 30])"
      ]
     },
     "execution_count": 120,
     "metadata": {},
     "output_type": "execute_result"
    }
   ],
   "source": [
    "#vurma\n",
    "arr * 3"
   ]
  },
  {
   "cell_type": "code",
   "execution_count": 122,
   "metadata": {},
   "outputs": [
    {
     "data": {
      "text/plain": [
       "(array([[64, 19, 70, 32, 41],\n",
       "        [44, 15, 91, 13, 48],\n",
       "        [49, 68, 25, 46, 88],\n",
       "        [56, 58, 57,  8, 87],\n",
       "        [95, 69, 66, 76, 16]]),\n",
       " array([[46, 34, 59, 25, 50],\n",
       "        [51, 81, 96, 44, 71],\n",
       "        [80, 46, 72, 70, 46],\n",
       "        [31, 29, 77, 28, 49],\n",
       "        [32, 30, 33, 15, 80]]))"
      ]
     },
     "execution_count": 122,
     "metadata": {},
     "output_type": "execute_result"
    }
   ],
   "source": [
    "# 2 və böyük ölçülü massivlərdə hesablamalar\n",
    "arr_1 = np.random.randint(0,100, (5,5))\n",
    "arr_2 = np.random.randint(0,100, (5,5))\n",
    "arr_1, arr_2"
   ]
  },
  {
   "cell_type": "code",
   "execution_count": 123,
   "metadata": {},
   "outputs": [
    {
     "data": {
      "text/plain": [
       "array([[110,  53, 129,  57,  91],\n",
       "       [ 95,  96, 187,  57, 119],\n",
       "       [129, 114,  97, 116, 134],\n",
       "       [ 87,  87, 134,  36, 136],\n",
       "       [127,  99,  99,  91,  96]])"
      ]
     },
     "execution_count": 123,
     "metadata": {},
     "output_type": "execute_result"
    }
   ],
   "source": [
    "#toplama\n",
    "arr_1 + arr_2"
   ]
  },
  {
   "cell_type": "code",
   "execution_count": 124,
   "metadata": {},
   "outputs": [
    {
     "data": {
      "text/plain": [
       "array([[1.39130435, 0.55882353, 1.18644068, 1.28      , 0.82      ],\n",
       "       [0.8627451 , 0.18518519, 0.94791667, 0.29545455, 0.67605634],\n",
       "       [0.6125    , 1.47826087, 0.34722222, 0.65714286, 1.91304348],\n",
       "       [1.80645161, 2.        , 0.74025974, 0.28571429, 1.7755102 ],\n",
       "       [2.96875   , 2.3       , 2.        , 5.06666667, 0.2       ]])"
      ]
     },
     "execution_count": 124,
     "metadata": {},
     "output_type": "execute_result"
    }
   ],
   "source": [
    "#bölmə\n",
    "arr_1 / arr_2"
   ]
  },
  {
   "cell_type": "markdown",
   "metadata": {},
   "source": [
    "## Massivlərdə universal funksiyalar\n",
    "\n",
    "```python"
   ]
  },
  {
   "cell_type": "code",
   "execution_count": 126,
   "metadata": {},
   "outputs": [
    {
     "data": {
      "text/plain": [
       "array([72, 49, 37, 56, 25, 18, 37, 24, 45, 68])"
      ]
     },
     "execution_count": 126,
     "metadata": {},
     "output_type": "execute_result"
    }
   ],
   "source": [
    "arr = np.random.randint(0,100, 10)\n",
    "arr"
   ]
  },
  {
   "cell_type": "code",
   "execution_count": 129,
   "metadata": {},
   "outputs": [
    {
     "data": {
      "text/plain": [
       "43.1"
      ]
     },
     "execution_count": 129,
     "metadata": {},
     "output_type": "execute_result"
    }
   ],
   "source": [
    "#ortalaması\n",
    "np.mean(arr)"
   ]
  },
  {
   "cell_type": "code",
   "execution_count": 130,
   "metadata": {},
   "outputs": [
    {
     "data": {
      "text/plain": [
       "17.483992679019288"
      ]
     },
     "execution_count": 130,
     "metadata": {},
     "output_type": "execute_result"
    }
   ],
   "source": [
    "#standart deviation\n",
    "np.std(arr)"
   ]
  },
  {
   "cell_type": "code",
   "execution_count": 131,
   "metadata": {},
   "outputs": [
    {
     "data": {
      "text/plain": [
       "array([8.48528137, 7.        , 6.08276253, 7.48331477, 5.        ,\n",
       "       4.24264069, 6.08276253, 4.89897949, 6.70820393, 8.24621125])"
      ]
     },
     "execution_count": 131,
     "metadata": {},
     "output_type": "execute_result"
    }
   ],
   "source": [
    "#kvadrat kök\n",
    "np.sqrt(arr)"
   ]
  },
  {
   "cell_type": "code",
   "execution_count": 133,
   "metadata": {},
   "outputs": [
    {
     "data": {
      "text/plain": [
       "array([1.85867175e+31, 1.90734657e+21, 1.17191424e+16, 2.09165950e+24,\n",
       "       7.20048993e+10, 6.56599691e+07, 1.17191424e+16, 2.64891221e+10,\n",
       "       3.49342711e+19, 3.40427605e+29])"
      ]
     },
     "execution_count": 133,
     "metadata": {},
     "output_type": "execute_result"
    }
   ],
   "source": [
    "#exponential funksiya (e^)\n",
    "np.exp(arr)"
   ]
  },
  {
   "cell_type": "code",
   "execution_count": 134,
   "metadata": {},
   "outputs": [
    {
     "data": {
      "text/plain": [
       "array([ 0.25382336, -0.95375265, -0.64353813, -0.521551  , -0.13235175,\n",
       "       -0.75098725, -0.64353813, -0.90557836,  0.85090352, -0.89792768])"
      ]
     },
     "execution_count": 134,
     "metadata": {},
     "output_type": "execute_result"
    }
   ],
   "source": [
    "#sinus funksiya\n",
    "np.sin(arr)"
   ]
  },
  {
   "cell_type": "code",
   "execution_count": 135,
   "metadata": {},
   "outputs": [
    {
     "data": {
      "text/plain": [
       "array([4.27666612, 3.8918203 , 3.61091791, 4.02535169, 3.21887582,\n",
       "       2.89037176, 3.61091791, 3.17805383, 3.80666249, 4.21950771])"
      ]
     },
     "execution_count": 135,
     "metadata": {},
     "output_type": "execute_result"
    }
   ],
   "source": [
    "#logaritma funksiya\n",
    "np.log(arr)"
   ]
  },
  {
   "cell_type": "markdown",
   "metadata": {},
   "source": [
    "## Numpy massivlər və Python listləri\n",
    "\n",
    "```python"
   ]
  },
  {
   "cell_type": "markdown",
   "metadata": {},
   "source": [
    "Numpy massivlərinin Python listlərindən daha sürətli riyazi hesablamalar aparması."
   ]
  },
  {
   "cell_type": "code",
   "execution_count": 136,
   "metadata": {},
   "outputs": [
    {
     "name": "stdout",
     "output_type": "stream",
     "text": [
      "Numpy ilə hesablanan ortalama: 0.5003333757559908\n",
      "Hesablama vaxtı: 0.0019989013671875\n",
      "Listlər ilə hesablanan ortalam: 0.5003333757559908\n",
      "Hesablama vaxtı: 0.032063961029052734\n"
     ]
    }
   ],
   "source": [
    "from time import time\n",
    "#Random numpy massivinin yaradılması\n",
    "numpy_array = np.random.rand(1000000)\n",
    "list_conv = list(numpy_array)#numpy massivinin listə çevrilən versiyası\n",
    "#Numpy hesablanması\n",
    "start1 = time()\n",
    "#Numpy ilə ortalama hesablanması\n",
    "numpy_mean = np.mean(numpy_array)\n",
    "print(f\"Numpy ilə hesablanan ortalama: {numpy_mean}\")\n",
    "#bitmə vaxtı\n",
    "end1 = time()\n",
    "#Sərf olunan vaxt\n",
    "time1 = end1 - start1\n",
    "print(f\"Hesablama vaxtı: {time1}\")\n",
    "#List ilə hesablanması\n",
    "start2 = time()\n",
    "#Listlə ortalama hesablanması\n",
    "list_mean = np.mean(list_conv)\n",
    "print(f\"Listlər ilə hesablanan ortalam: {list_mean}\")\n",
    "#bitmə vaxtı\n",
    "end2 = time()\n",
    "#Sərf olunan vaxt\n",
    "time2 = end2 - start2\n",
    "print(f\"Hesablama vaxtı: {time2}\")"
   ]
  },
  {
   "cell_type": "markdown",
   "metadata": {},
   "source": [
    "## Əlavə Resurslar:\n",
    "* [Numpy documentation](https://numpy.org/)\n",
    "* [Numpy tutorial](https://www.w3schools.com/python/numpy/default.asp)\n",
    "* [Numpy tutorial - Free Code Camp](https://www.youtube.com/watch?v=QUT1VHiLmmI&t=1s)\n",
    "* [Numpy tutorial - Kaggle Notebook](https://www.kaggle.com/code/hkumls/intensive-python-tutorial-numpy)\n",
    "* [Numpy tutorial - Kaggle Notebook](https://www.kaggle.com/code/orhansertkaya/numpy-tutorial-for-beginners/notebook)\n",
    "\n",
    "\n"
   ]
  }
 ],
 "metadata": {
  "kernelspec": {
   "display_name": "Python 3.9.12 ('base')",
   "language": "python",
   "name": "python3"
  },
  "language_info": {
   "codemirror_mode": {
    "name": "ipython",
    "version": 3
   },
   "file_extension": ".py",
   "mimetype": "text/x-python",
   "name": "python",
   "nbconvert_exporter": "python",
   "pygments_lexer": "ipython3",
   "version": "3.9.12"
  },
  "vscode": {
   "interpreter": {
    "hash": "c92bc8fffe5a7a288d6090c008f991380df73b744774f61abf64ba796088e3c7"
   }
  }
 },
 "nbformat": 4,
 "nbformat_minor": 4
}
