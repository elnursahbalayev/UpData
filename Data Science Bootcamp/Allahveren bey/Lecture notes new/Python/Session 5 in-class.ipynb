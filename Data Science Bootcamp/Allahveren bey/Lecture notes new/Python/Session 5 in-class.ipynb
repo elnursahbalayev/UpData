{
 "cells": [
  {
   "cell_type": "markdown",
   "metadata": {},
   "source": [
    "# Session 5"
   ]
  },
  {
   "cell_type": "markdown",
   "metadata": {},
   "source": [
    "<img src='source\\session 5.jpg'>"
   ]
  },
  {
   "cell_type": "markdown",
   "metadata": {},
   "source": [
    "## Anonymous lambda functions"
   ]
  },
  {
   "cell_type": "markdown",
   "metadata": {},
   "source": [
    "Lambda funksiyalar ve ya anonim funksiyalar pythonda genis istifade olunan bir funksiya yaratma novudur. Lambda funksiyalarnin ozelliyi onlari yaradarken her hansi bir ada ehtiyacimizin olmamagidir. Lambda funksiyalar istediyimiz qeder arqument vere bilerik ama yalniz bir ifade qaytara biler. Yalniz ve yalniz 1 ifade. "
   ]
  },
  {
   "cell_type": "markdown",
   "metadata": {},
   "source": [
    "### Syntax of Lambda functions"
   ]
  },
  {
   "cell_type": "code",
   "execution_count": 1,
   "metadata": {},
   "outputs": [
    {
     "data": {
      "text/plain": [
       "11"
      ]
     },
     "execution_count": 1,
     "metadata": {},
     "output_type": "execute_result"
    }
   ],
   "source": [
    "toplama = lambda a, b: a+b\n",
    "toplama(5,6)"
   ]
  },
  {
   "cell_type": "code",
   "execution_count": 3,
   "metadata": {},
   "outputs": [
    {
     "data": {
      "text/plain": [
       "13"
      ]
     },
     "execution_count": 3,
     "metadata": {},
     "output_type": "execute_result"
    }
   ],
   "source": [
    "(lambda a, b: a+b)(6,7)"
   ]
  },
  {
   "cell_type": "markdown",
   "metadata": {},
   "source": [
    "### def vs lambda"
   ]
  },
  {
   "cell_type": "markdown",
   "metadata": {},
   "source": [
    "def ile her hansi bir funksiya yaradarken, biz ilk once hemin funksiyani adlandirmali,  ona bir arqument oturmeli daha sonra return vasitesiyle biz hemin qiymeti aliriq. Lambda ile funksiya yaradarken ise ne adlandirmaga ne returne ehtiyac yoxdur. Xususile 1 setirli kodlarda lambda cox komeyimize catir."
   ]
  },
  {
   "cell_type": "code",
   "execution_count": 4,
   "metadata": {},
   "outputs": [
    {
     "data": {
      "text/plain": [
       "89"
      ]
     },
     "execution_count": 4,
     "metadata": {},
     "output_type": "execute_result"
    }
   ],
   "source": [
    "max = lambda a, b: a if a>b else b\n",
    "max(89,1)"
   ]
  },
  {
   "cell_type": "markdown",
   "metadata": {},
   "source": [
    "### Filter method in lambda functions"
   ]
  },
  {
   "cell_type": "markdown",
   "metadata": {},
   "source": [
    "filter() funksiyasi ile biz listlerde filterleme isleri apara bilerik. filter funksiyasi 2 argument goturur list ve funksiya. Hemin funksiyanin return True sertlerine gore yeni list duzeldir. \n",
    "Biz bunu enenevi def funksiyasi ve ya lambda ile yaza bilerik. "
   ]
  },
  {
   "cell_type": "code",
   "execution_count": 11,
   "metadata": {},
   "outputs": [
    {
     "data": {
      "text/plain": [
       "[5, 3, 9, 91]"
      ]
     },
     "execution_count": 11,
     "metadata": {},
     "output_type": "execute_result"
    }
   ],
   "source": [
    "def tek_eded(a):\n",
    "    if a % 2 != 0:\n",
    "        return True\n",
    "    else:\n",
    "        return False\n",
    "\n",
    "ededler = [5, 10, 3, 6, 8, 38, 9, 8, 91]\n",
    "\n",
    "tek_ededler = list(filter(tek_eded, ededler))\n",
    "tek_ededler"
   ]
  },
  {
   "cell_type": "code",
   "execution_count": 15,
   "metadata": {},
   "outputs": [
    {
     "data": {
      "text/plain": [
       "2"
      ]
     },
     "execution_count": 15,
     "metadata": {},
     "output_type": "execute_result"
    }
   ],
   "source": [
    "def hesablama(a, b):\n",
    "    return a+b, a-b\n",
    "\n",
    "toplama, cixma = hesablama(5,3)\n",
    "toplama\n",
    "cixma"
   ]
  },
  {
   "cell_type": "code",
   "execution_count": null,
   "metadata": {},
   "outputs": [],
   "source": [
    "kalkulyator('5 + 5 + 1 * 8')"
   ]
  },
  {
   "cell_type": "markdown",
   "metadata": {},
   "source": [
    "### Map method in lambda functions"
   ]
  },
  {
   "cell_type": "markdown",
   "metadata": {},
   "source": [
    "map() funksiyasi ile biz listlerimizde her hansi emeliyati yerine yetirib onu listin butun elementlerine tetbiq ede bilerik. map funksiyasi 2 argument goturur list ve funksiya. map()-de biz lambdadan istifade edirik."
   ]
  },
  {
   "cell_type": "code",
   "execution_count": 12,
   "metadata": {},
   "outputs": [
    {
     "data": {
      "text/plain": [
       "[True, False, True, False, False, False, True, False, True]"
      ]
     },
     "execution_count": 12,
     "metadata": {},
     "output_type": "execute_result"
    }
   ],
   "source": [
    "final_ededler = list(map(tek_eded, ededler)) \n",
    "\n",
    "final_ededler"
   ]
  },
  {
   "cell_type": "code",
   "execution_count": null,
   "metadata": {},
   "outputs": [],
   "source": [
    "def toplama2(a,b):\n",
    "    return a+ b\n",
    "\n",
    "def netice():\n",
    "    return toplama2(a,b)+5"
   ]
  },
  {
   "cell_type": "code",
   "execution_count": 16,
   "metadata": {},
   "outputs": [],
   "source": [
    "def toplama_5(cem):\n",
    "    return cem + 5\n",
    "\n",
    "def toplama(a, b):\n",
    "    cem = a + b\n",
    "    return toplama_5(cem=cem)"
   ]
  },
  {
   "cell_type": "code",
   "execution_count": 17,
   "metadata": {},
   "outputs": [
    {
     "data": {
      "text/plain": [
       "12"
      ]
     },
     "execution_count": 17,
     "metadata": {},
     "output_type": "execute_result"
    }
   ],
   "source": [
    "toplama(3,4)"
   ]
  },
  {
   "cell_type": "markdown",
   "metadata": {},
   "source": [
    "## List comprehension"
   ]
  },
  {
   "cell_type": "code",
   "execution_count": null,
   "metadata": {},
   "outputs": [],
   "source": [
    "# Done\n",
    "\n"
   ]
  },
  {
   "cell_type": "markdown",
   "metadata": {},
   "source": [
    "## Dictionary comprehension"
   ]
  },
  {
   "cell_type": "code",
   "execution_count": null,
   "metadata": {},
   "outputs": [],
   "source": [
    "# Done"
   ]
  },
  {
   "cell_type": "markdown",
   "metadata": {},
   "source": [
    "## OOP - Classes"
   ]
  },
  {
   "cell_type": "markdown",
   "metadata": {},
   "source": [
    "Classlar pythonda prototip olaraq islenilen ve en meshur genis conceptlerden biridir. Classlarin en onemli rolu bizim spagetti kod yazmagimizin qarsisini almagidir. Class ve objectler prototip ve hemin prototipler esasinde qurulan modeller esasinde dusunure biler. Her bir klassin attributlari ve metodlari vardir. \n",
    "\n",
    "Classlar haqda bezi notler: \n",
    "* Classlar class acar sozu vasitesi ile yaradilir\n",
    "* Classlarin attributlari ve metodlari classin icinde yaradilir\n",
    "* Class atributlari publicdir ve . vasitesiyle onlara giris ede bilerik"
   ]
  },
  {
   "cell_type": "code",
   "execution_count": 1,
   "metadata": {},
   "outputs": [],
   "source": [
    "class Masin:\n",
    "    pass"
   ]
  },
  {
   "cell_type": "markdown",
   "metadata": {},
   "source": [
    "## Objects"
   ]
  },
  {
   "cell_type": "markdown",
   "metadata": {},
   "source": [
    "Class obyektleri classin instanceleridir. Yeni artiq prototip deyil. Deyek ki biz masin adli bir class yaratdiq. Artiq masin obyekti yaradanda bir prototip yox esl masini yaradiriq. \n",
    "Class obyektlerinin:\n",
    "\n",
    "* State: class obyektinin attributunu gosterir\n",
    "* Behavior: class obyektinin metodunu gosterir\n",
    "* Identity: class obyektinin unikal oldugun gosterir"
   ]
  },
  {
   "cell_type": "code",
   "execution_count": 2,
   "metadata": {},
   "outputs": [],
   "source": [
    "bmw = Masin()"
   ]
  },
  {
   "cell_type": "markdown",
   "metadata": {},
   "source": [
    "## Methods"
   ]
  },
  {
   "cell_type": "markdown",
   "metadata": {},
   "source": [
    "### init method"
   ]
  },
  {
   "cell_type": "code",
   "execution_count": 3,
   "metadata": {},
   "outputs": [],
   "source": [
    "class Masin():\n",
    "\n",
    "    def __init__(self, model, muherrik, qiymet):\n",
    "        self.qiymet = qiymet\n",
    "        self.muherrik = muherrik\n",
    "        self.model = model\n",
    "\n",
    "    def info(self):\n",
    "        print(f'Model: {self.model}')\n",
    "        print(f'Muherrik: {self.muherrik}')\n",
    "        print(f'Qiymet: {self.qiymet}')"
   ]
  },
  {
   "cell_type": "code",
   "execution_count": 4,
   "metadata": {},
   "outputs": [],
   "source": [
    "bmw = Masin('f10','2.2','20000 $')"
   ]
  },
  {
   "cell_type": "code",
   "execution_count": 7,
   "metadata": {},
   "outputs": [
    {
     "name": "stdout",
     "output_type": "stream",
     "text": [
      "Model: GL\n",
      "Muherrik: 4.5\n",
      "Qiymet: 60000 AZN\n"
     ]
    }
   ],
   "source": [
    "mercedes = Masin('GL', '4.5', '60000 AZN')\n",
    "mercedes.info()"
   ]
  },
  {
   "cell_type": "code",
   "execution_count": 5,
   "metadata": {},
   "outputs": [
    {
     "name": "stdout",
     "output_type": "stream",
     "text": [
      "Model: f10\n",
      "Muherrik: 2.2\n",
      "Qiymet: 20000 $\n"
     ]
    }
   ],
   "source": [
    "bmw.info()"
   ]
  },
  {
   "cell_type": "markdown",
   "metadata": {},
   "source": [
    "### self"
   ]
  },
  {
   "cell_type": "markdown",
   "metadata": {},
   "source": [
    "Pythonda instance metodlari yaradilarken (daha sonra etrafli danisilacaq) self attributundan istifade olunur. self attributu instance metodlarda mutleq istifade olunmalidir. self vasitesiyle biz bir nov obyekte istinad etmis oluruq."
   ]
  },
  {
   "cell_type": "markdown",
   "metadata": {},
   "source": [
    "### Class vs Instance"
   ]
  },
  {
   "cell_type": "markdown",
   "metadata": {},
   "source": [
    "Instance deyisenleri yalniz obyektin ozune mexsus olur ve ona her bir obyektin ozune mexsus qiymetlerine sahib olur. Ama class deyisenleri is butun classa mexsus olur ve onu hem classla hem de obyekt vasitesiyle giris etmek ve deyismek olur. Classi yaradarken teyin etdiyimiz deyisenler class deyisenleri ve __init__ metodu ile yaratdigimiz deyisenler ise instance deyisenleridir."
   ]
  },
  {
   "cell_type": "code",
   "execution_count": 10,
   "metadata": {},
   "outputs": [],
   "source": [
    "class Masin():\n",
    "    teker = 4\n",
    "\n",
    "    def __init__(self, model, muherrik, qiymet):\n",
    "        self.qiymet = qiymet\n",
    "        self.muherrik = muherrik\n",
    "        self.model = model\n",
    "\n",
    "    def info(self):\n",
    "        print(f'Model: {self.model}')\n",
    "        print(f'Muherrik: {self.muherrik}')\n",
    "        print(f'Qiymet: {self.qiymet}')"
   ]
  },
  {
   "cell_type": "code",
   "execution_count": 11,
   "metadata": {},
   "outputs": [
    {
     "data": {
      "text/plain": [
       "4"
      ]
     },
     "execution_count": 11,
     "metadata": {},
     "output_type": "execute_result"
    }
   ],
   "source": [
    "mercedes = Masin('GL', '4.5', '60000 AZN')\n",
    "mercedes.teker"
   ]
  },
  {
   "cell_type": "code",
   "execution_count": 12,
   "metadata": {},
   "outputs": [],
   "source": [
    "Masin.ad = 'car'"
   ]
  },
  {
   "cell_type": "code",
   "execution_count": 14,
   "metadata": {},
   "outputs": [
    {
     "data": {
      "text/plain": [
       "'car2'"
      ]
     },
     "execution_count": 14,
     "metadata": {},
     "output_type": "execute_result"
    }
   ],
   "source": [
    "bmw.ad = 'car2'\n",
    "\n",
    "bmw.ad"
   ]
  },
  {
   "cell_type": "code",
   "execution_count": 15,
   "metadata": {},
   "outputs": [
    {
     "data": {
      "text/plain": [
       "'car'"
      ]
     },
     "execution_count": 15,
     "metadata": {},
     "output_type": "execute_result"
    }
   ],
   "source": [
    "mercedes.ad"
   ]
  },
  {
   "cell_type": "markdown",
   "metadata": {},
   "source": [
    "### Instance methods"
   ]
  },
  {
   "cell_type": "markdown",
   "metadata": {},
   "source": [
    "Instance methodlar, class obyektinin ozune mexsus olunan metodlardir. Instance metodlar yaradilarken mutleq ilk parametr olaraq self oturulmelidir. "
   ]
  },
  {
   "cell_type": "code",
   "execution_count": 16,
   "metadata": {},
   "outputs": [],
   "source": [
    "class Telebe:\n",
    "    kurs = 'UpData'\n",
    "\n",
    "    def __init__(self, sql_qiymet, excel_qiymet, python_qiymet, powerbi_qiymet):\n",
    "        self.sql_qiymet = sql_qiymet\n",
    "        self.excel_qiymet = excel_qiymet\n",
    "        self.python_qiymet = python_qiymet\n",
    "        self.powerbi_qiymet = powerbi_qiymet\n",
    "    \n",
    "    def ortalama(self):\n",
    "        return (self.excel_qiymet + self.sql_qiymet + self.python_qiymet + self.powerbi_qiymet) / 4\n"
   ]
  },
  {
   "cell_type": "code",
   "execution_count": 17,
   "metadata": {},
   "outputs": [],
   "source": [
    "Elnur = Telebe(90, 100, 95, 82)"
   ]
  },
  {
   "cell_type": "code",
   "execution_count": 18,
   "metadata": {},
   "outputs": [
    {
     "data": {
      "text/plain": [
       "91.75"
      ]
     },
     "execution_count": 18,
     "metadata": {},
     "output_type": "execute_result"
    }
   ],
   "source": [
    "Elnur.ortalama()"
   ]
  },
  {
   "cell_type": "markdown",
   "metadata": {},
   "source": [
    "### Class methods"
   ]
  },
  {
   "cell_type": "markdown",
   "metadata": {},
   "source": [
    "Class metodlari ise her hansi bir obyektin yox, butun class ile elaqedar olduqda isledilir. Class metodlari yaradilarken @classmethod decoratorundan istifade edirik ve ilk argument olaraq cls yaziriq.\n",
    "Class metodlari instance attributlarini deyise bilmez."
   ]
  },
  {
   "cell_type": "code",
   "execution_count": 19,
   "metadata": {},
   "outputs": [],
   "source": [
    "class Telebe:\n",
    "    kurs = 'UpData'\n",
    "\n",
    "    def __init__(self, sql_qiymet, excel_qiymet, python_qiymet, powerbi_qiymet):\n",
    "        self.sql_qiymet = sql_qiymet\n",
    "        self.excel_qiymet = excel_qiymet\n",
    "        self.python_qiymet = python_qiymet\n",
    "        self.powerbi_qiymet = powerbi_qiymet\n",
    "    \n",
    "    def ortalama(self):\n",
    "        return (self.excel_qiymet + self.sql_qiymet + self.python_qiymet + self.powerbi_qiymet) / 4\n",
    "\n",
    "    @classmethod\n",
    "    def info(cls):\n",
    "        print(f'Telebe {cls.kurs} kursunda tehsil alir')\n",
    "        \n",
    "    @classmethod\n",
    "    def adi_deyis(cls):\n",
    "        cls.kurs = 'Data Analitika Bootcamp'"
   ]
  },
  {
   "cell_type": "code",
   "execution_count": 20,
   "metadata": {},
   "outputs": [],
   "source": [
    "Elnur = Telebe(90, 100, 70, 87)\n"
   ]
  },
  {
   "cell_type": "code",
   "execution_count": 21,
   "metadata": {},
   "outputs": [],
   "source": [
    "Elnur.adi_deyis()"
   ]
  },
  {
   "cell_type": "code",
   "execution_count": 22,
   "metadata": {},
   "outputs": [
    {
     "data": {
      "text/plain": [
       "'Data Analitika Bootcamp'"
      ]
     },
     "execution_count": 22,
     "metadata": {},
     "output_type": "execute_result"
    }
   ],
   "source": [
    "Elnur.kurs"
   ]
  },
  {
   "cell_type": "markdown",
   "metadata": {},
   "source": [
    "### Static methods"
   ]
  },
  {
   "cell_type": "markdown",
   "metadata": {},
   "source": [
    "Statik metodlar ne class ne de her hansi bir obyekt attributuyla elaqesi olmayan metodlardir. Biz statik metodlardan her hansi bir emeliyat aparmaqcun yazdigimiz funksiyada(meselen faktorial hesablayan funksiya) istifade ede bilerik. Statik metodlar yaradilarken onlarda @staticmethod decoratorundan istifade edirik ve her hansi bir arqument oturmek mecburiyetimiz yoxdur."
   ]
  },
  {
   "cell_type": "code",
   "execution_count": 28,
   "metadata": {},
   "outputs": [],
   "source": [
    "class Telebe:\n",
    "    kurs = 'UpData'\n",
    "\n",
    "    def __init__(self, sql_qiymet, excel_qiymet, python_qiymet, powerbi_qiymet):\n",
    "        self.sql_qiymet = sql_qiymet\n",
    "        self.excel_qiymet = excel_qiymet\n",
    "        self.python_qiymet = python_qiymet\n",
    "        self.powerbi_qiymet = powerbi_qiymet\n",
    "    \n",
    "    def ortalama(self):\n",
    "        return (self.excel_qiymet + self.sql_qiymet + self.python_qiymet + self.powerbi_qiymet) / 4\n",
    "\n",
    "    @classmethod\n",
    "    def info(cls):\n",
    "        print(f'Telebe {cls.kurs} kursunda tehsil alir')\n",
    "        \n",
    "    @classmethod\n",
    "    def adi_deyis(cls):\n",
    "        cls.kurs = 'Data Analitika Bootcamp'\n",
    "\n",
    "    @staticmethod\n",
    "    def umumi_qiymet(ortalama):\n",
    "        if ortalama >= 90:\n",
    "            return 'A'\n",
    "        elif ortalama >= 80:\n",
    "            return 'B'\n",
    "        elif ortalama >= 70:\n",
    "            return 'C'\n",
    "        else:\n",
    "            return 'F'"
   ]
  },
  {
   "cell_type": "code",
   "execution_count": 29,
   "metadata": {},
   "outputs": [
    {
     "data": {
      "text/plain": [
       "58.5"
      ]
     },
     "execution_count": 29,
     "metadata": {},
     "output_type": "execute_result"
    }
   ],
   "source": [
    "Aydin = Telebe(100, 39, 55, 40)\n",
    "Aydin.ortalama()"
   ]
  },
  {
   "cell_type": "code",
   "execution_count": 31,
   "metadata": {},
   "outputs": [
    {
     "data": {
      "text/plain": [
       "'F'"
      ]
     },
     "execution_count": 31,
     "metadata": {},
     "output_type": "execute_result"
    }
   ],
   "source": [
    "Aydin.umumi_qiymet(Aydin.ortalama())"
   ]
  },
  {
   "cell_type": "markdown",
   "metadata": {},
   "source": [
    "## Inheritance"
   ]
  },
  {
   "cell_type": "markdown",
   "metadata": {},
   "source": [
    "Inheritance OOPde genis istifade olunan bir metoddur. Inheritance bize icaze verir ki bir class'da olan funksiya ve ozellikleri diger classimizda islede bilek. Parent ve chill class kimi bunu basa dusmek olar. "
   ]
  },
  {
   "cell_type": "code",
   "execution_count": 44,
   "metadata": {},
   "outputs": [],
   "source": [
    "class Telebe:\n",
    "    kurs = 'UpData'\n",
    "\n",
    "    def __init__(self, sql_qiymet, excel_qiymet, python_qiymet, powerbi_qiymet):\n",
    "        self.sql_qiymet = sql_qiymet\n",
    "        self.excel_qiymet = excel_qiymet\n",
    "        self.python_qiymet = python_qiymet\n",
    "        self.powerbi_qiymet = powerbi_qiymet\n",
    "    \n",
    "    def ortalama(self):\n",
    "        return (self.excel_qiymet + self.sql_qiymet + self.python_qiymet + self.powerbi_qiymet) / 4\n",
    "\n",
    "    @classmethod\n",
    "    def info(cls):\n",
    "        print(f'Telebe {cls.kurs} kursunda tehsil alir')\n",
    "        \n",
    "    @classmethod\n",
    "    def adi_deyis(cls):\n",
    "        cls.kurs = 'Data Analitika Bootcamp'\n",
    "\n",
    "    @staticmethod\n",
    "    def umumi_qiymet(ortalama):\n",
    "        if ortalama >= 90:\n",
    "            return 'A'\n",
    "        elif ortalama >= 80:\n",
    "            return 'B'\n",
    "        elif ortalama >= 70:\n",
    "            return 'C'\n",
    "        else:\n",
    "            return 'F'"
   ]
  },
  {
   "cell_type": "code",
   "execution_count": 45,
   "metadata": {},
   "outputs": [],
   "source": [
    "class DA_Telebe(Telebe):\n",
    "    \n",
    "    def __init__(self, sql_qiymet, excel_qiymet, python_qiymet, powerbi_qiymet):\n",
    "        super().__init__(sql_qiymet, excel_qiymet, python_qiymet, powerbi_qiymet)\n",
    "\n",
    "    # def ortalama(self):\n",
    "    #     return (self.sql_qiymet + self.excel_qiymet + self.python_qiymet) / 3 "
   ]
  },
  {
   "cell_type": "code",
   "execution_count": 46,
   "metadata": {},
   "outputs": [],
   "source": [
    "telebe3 = DA_Telebe(60, 60, 60, 69)"
   ]
  },
  {
   "cell_type": "code",
   "execution_count": 47,
   "metadata": {},
   "outputs": [
    {
     "data": {
      "text/plain": [
       "62.25"
      ]
     },
     "execution_count": 47,
     "metadata": {},
     "output_type": "execute_result"
    }
   ],
   "source": [
    "telebe3.ortalama()"
   ]
  },
  {
   "cell_type": "code",
   "execution_count": 60,
   "metadata": {},
   "outputs": [],
   "source": [
    "reqemler = [1, 2, 4, 203, 203, 329, 4023, 38, 34, 34, 3]\n",
    "\n",
    "class Riyaziyyat:\n",
    "\n",
    "    def __init__(self):\n",
    "        pass\n",
    "\n",
    "    def sortla(self, reqemler_listi):\n",
    "        self.reqemler_listi = reqemler_listi\n",
    "        self.reqemler_listi.sort()\n",
    "        return reqemler_listi\n",
    "        \n"
   ]
  },
  {
   "cell_type": "code",
   "execution_count": 61,
   "metadata": {},
   "outputs": [
    {
     "name": "stdout",
     "output_type": "stream",
     "text": [
      "[1, 2, 3, 4, 34, 34, 38, 203, 203, 329, 4023]\n"
     ]
    }
   ],
   "source": [
    "r = Riyaziyyat()\n",
    "\n",
    "reqemler_listi = r.sortla(reqemler))\n",
    "\n"
   ]
  },
  {
   "cell_type": "code",
   "execution_count": 59,
   "metadata": {},
   "outputs": [
    {
     "ename": "AttributeError",
     "evalue": "'list' object has no attribute 'max'",
     "output_type": "error",
     "traceback": [
      "\u001b[1;31m---------------------------------------------------------------------------\u001b[0m",
      "\u001b[1;31mAttributeError\u001b[0m                            Traceback (most recent call last)",
      "\u001b[1;32mc:\\Users\\elnur\\OneDrive - Universiti Teknologi PETRONAS\\Kurslar\\UpData\\Data Science Bootcamp\\Allahveren bey\\Lecture notes new\\Python\\Session 5 in-class.ipynb Cell 71\u001b[0m in \u001b[0;36m<cell line: 2>\u001b[1;34m()\u001b[0m\n\u001b[0;32m      <a href='vscode-notebook-cell:/c%3A/Users/elnur/OneDrive%20-%20Universiti%20Teknologi%20PETRONAS/Kurslar/UpData/Data%20Science%20Bootcamp/Allahveren%20bey/Lecture%20notes%20new/Python/Session%205%20in-class.ipynb#Y134sZmlsZQ%3D%3D?line=0'>1</a>\u001b[0m reqemler \u001b[39m=\u001b[39m [\u001b[39m1\u001b[39m, \u001b[39m2\u001b[39m, \u001b[39m4\u001b[39m, \u001b[39m203\u001b[39m, \u001b[39m203\u001b[39m, \u001b[39m329\u001b[39m, \u001b[39m4023\u001b[39m, \u001b[39m38\u001b[39m, \u001b[39m34\u001b[39m, \u001b[39m34\u001b[39m, \u001b[39m3\u001b[39m]\n\u001b[1;32m----> <a href='vscode-notebook-cell:/c%3A/Users/elnur/OneDrive%20-%20Universiti%20Teknologi%20PETRONAS/Kurslar/UpData/Data%20Science%20Bootcamp/Allahveren%20bey/Lecture%20notes%20new/Python/Session%205%20in-class.ipynb#Y134sZmlsZQ%3D%3D?line=1'>2</a>\u001b[0m reqemler\u001b[39m.\u001b[39;49mmax()\n",
      "\u001b[1;31mAttributeError\u001b[0m: 'list' object has no attribute 'max'"
     ]
    }
   ],
   "source": []
  },
  {
   "cell_type": "code",
   "execution_count": 58,
   "metadata": {},
   "outputs": [
    {
     "data": {
      "text/plain": [
       "[1, 2, 3, 4, 34, 34, 38, 203, 203, 329, 4023]"
      ]
     },
     "execution_count": 58,
     "metadata": {},
     "output_type": "execute_result"
    }
   ],
   "source": [
    "reqemler"
   ]
  },
  {
   "cell_type": "code",
   "execution_count": 62,
   "metadata": {},
   "outputs": [],
   "source": [
    "class A:\n",
    "    def __init__(self):\n",
    "        print('A classi yaradildi')\n",
    "\n",
    "    def funksiya1(self):\n",
    "        print('Funksiya 1 cagirildi')\n",
    "\n",
    "class B:\n",
    "    def __init__(self):\n",
    "        print('B classi yaradildi')\n",
    "\n",
    "    def funksiya2(self):\n",
    "        print('Funksiya 2 cagirildi')\n",
    "\n",
    "class C(A,B):\n",
    "    def __init__(self):\n",
    "        print('C classi yaradildi')\n",
    "\n",
    "    def funksiya3(self):\n",
    "        print('Funksiya 3 cagirildi')"
   ]
  },
  {
   "cell_type": "code",
   "execution_count": 66,
   "metadata": {},
   "outputs": [
    {
     "name": "stdout",
     "output_type": "stream",
     "text": [
      "C classi yaradildi\n",
      "Funksiya 2 cagirildi\n"
     ]
    }
   ],
   "source": [
    "class_c = C()\n",
    "\n",
    "class_c.funksiya2()"
   ]
  },
  {
   "cell_type": "code",
   "execution_count": 69,
   "metadata": {},
   "outputs": [],
   "source": [
    "def kalkulyator(hesablama):\n",
    "    if len(hesablama) ==3:\n",
    "        list_ = hesablama\n",
    "    else:\n",
    "        list_ = hesablama.split(' ')\n",
    "    a = int(list_[0])\n",
    "    b = int(list_[2])\n",
    "    if list_[1] =='+':\n",
    "        return toplama(a,b)\n",
    "    elif list_[1] =='-':\n",
    "        return cixma(a,b)\n",
    "    elif list_[1] =='*':\n",
    "        return vurma(a,b)\n",
    "    elif list_[1] =='/':\n",
    "        return bolme(a,b)\n",
    "\n",
    "def toplama(a,b):\n",
    "    return a + b\n",
    "def cixma(a,b):\n",
    "    return a-b\n",
    "def vurma(a,b):\n",
    "    return a*b\n",
    "def bolme(a,b):\n",
    "    return a/b"
   ]
  },
  {
   "cell_type": "code",
   "execution_count": 71,
   "metadata": {},
   "outputs": [
    {
     "data": {
      "text/plain": [
       "0"
      ]
     },
     "execution_count": 71,
     "metadata": {},
     "output_type": "execute_result"
    }
   ],
   "source": [
    "kalkulyator('5 - 5')"
   ]
  },
  {
   "cell_type": "code",
   "execution_count": 68,
   "metadata": {},
   "outputs": [
    {
     "data": {
      "text/plain": [
       "'5-5'"
      ]
     },
     "execution_count": 68,
     "metadata": {},
     "output_type": "execute_result"
    }
   ],
   "source": [
    "'5-5'.split()[0]"
   ]
  },
  {
   "cell_type": "code",
   "execution_count": 73,
   "metadata": {},
   "outputs": [],
   "source": [
    "import module1 "
   ]
  },
  {
   "cell_type": "code",
   "execution_count": 74,
   "metadata": {},
   "outputs": [
    {
     "ename": "TypeError",
     "evalue": "kalkulyator() missing 1 required positional argument: 'hesablama'",
     "output_type": "error",
     "traceback": [
      "\u001b[1;31m---------------------------------------------------------------------------\u001b[0m",
      "\u001b[1;31mTypeError\u001b[0m                                 Traceback (most recent call last)",
      "\u001b[1;32mc:\\Users\\elnur\\OneDrive - Universiti Teknologi PETRONAS\\Kurslar\\UpData\\Data Science Bootcamp\\Allahveren bey\\Lecture notes new\\Python\\Session 5 in-class.ipynb Cell 79\u001b[0m in \u001b[0;36m<cell line: 1>\u001b[1;34m()\u001b[0m\n\u001b[1;32m----> <a href='vscode-notebook-cell:/c%3A/Users/elnur/OneDrive%20-%20Universiti%20Teknologi%20PETRONAS/Kurslar/UpData/Data%20Science%20Bootcamp/Allahveren%20bey/Lecture%20notes%20new/Python/Session%205%20in-class.ipynb#Y145sZmlsZQ%3D%3D?line=0'>1</a>\u001b[0m module1\u001b[39m.\u001b[39;49mkalkulyator()\n",
      "\u001b[1;31mTypeError\u001b[0m: kalkulyator() missing 1 required positional argument: 'hesablama'"
     ]
    }
   ],
   "source": [
    "module1.kalkulyator('5+5')"
   ]
  },
  {
   "cell_type": "code",
   "execution_count": 75,
   "metadata": {},
   "outputs": [
    {
     "name": "stdout",
     "output_type": "stream",
     "text": [
      "Xos gelmisiniz Guess Game oyununa\n",
      "Oyun erzinde siz reqem sececeksiniz. 1 ile 10 arasinda\n",
      "Sizin 5 seciminiz var\n",
      "Cox asagi\n",
      "Qalan secim sayiniz 5\n",
      "Cox asagi\n",
      "Qalan secim sayiniz 4\n",
      "Qalib geldiniz! TEBRIKLEEER!\n"
     ]
    }
   ],
   "source": [
    "from random import randint\n",
    "\n",
    "\n",
    "print('Xos gelmisiniz Guess Game oyununa')\n",
    "print('Oyun erzinde siz reqem sececeksiniz. 1 ile 10 arasinda')\n",
    "\n",
    "\n",
    "random_reqem = randint(1,10)\n",
    "\n",
    "\n",
    "derece = input('Secim edin: (Cetin,Asan) ')\n",
    "\n",
    "if derece == 'Cetin':\n",
    "    print('Sizin 10 seciminiz var')\n",
    "    loop_sayi = 10\n",
    "else:\n",
    "    print('Sizin 5 seciminiz var')\n",
    "    loop_sayi = 5\n",
    "\n",
    "\n",
    "for i in range(loop_sayi,0,-1):\n",
    "    reqem = int(input('Reqem deyin: '))\n",
    "    if reqem < random_reqem :\n",
    "        print('Cox asagi')\n",
    "        print(f'Qalan secim sayiniz {i}')\n",
    "    elif reqem > random_reqem:\n",
    "        print('Cox yuxari')\n",
    "        print(f'Qalan secim sayiniz {i}')\n",
    "    else:\n",
    "        break\n",
    "\n",
    "if reqem == random_reqem:\n",
    "    print('Qalib geldiniz! TEBRIKLEEER!')\n",
    "else:\n",
    "    print('Uduzdunuz, cox heyf. gelen gorusleredek!')"
   ]
  },
  {
   "cell_type": "code",
   "execution_count": 5,
   "metadata": {},
   "outputs": [],
   "source": [
    "from random import randint\n",
    "class guessing_game:\n",
    "\n",
    "    def __init__(self) -> None:\n",
    "        pass\n",
    "\n",
    "    def salamlamaq(self):\n",
    "        print('Xos gelmisiniz Guess Game oyununa')\n",
    "        print('Oyun erzinde siz reqem sececeksiniz. 1 ile 10 arasinda')\n",
    "\n",
    "    def random_req(self):\n",
    "        self.random_reqem = randint(1,10)\n",
    "\n",
    "    def seviyye_secimi(self):\n",
    "        self.derece = input('Secim edin: (Cetin,Asan) ').title()\n",
    "\n",
    "    def secim_sayi(self):\n",
    "        if self.derece == 'Asan':\n",
    "            print('Sizin 10 seciminiz var')\n",
    "            self.loop_sayi = 9\n",
    "        else:\n",
    "            print('Sizin 5 seciminiz var')\n",
    "            self.loop_sayi = 4\n",
    "\n",
    "    def main_loop(self):\n",
    "        for i in range(self.loop_sayi,0,-1):\n",
    "            self.reqem = int(input('Reqem deyin: '))\n",
    "            if self.reqem < self.random_reqem :\n",
    "                print('Cox asagi')\n",
    "                print(f'Qalan secim sayiniz {i}')\n",
    "            elif self.reqem > self.random_reqem:\n",
    "                print('Cox yuxari')\n",
    "                print(f'Qalan secim sayiniz {i}')\n",
    "            else:\n",
    "                break\n",
    "    def finish(self):\n",
    "        if self.reqem == self.random_reqem:\n",
    "            print('Qalib geldiniz! TEBRIKLEEER!')\n",
    "        else:\n",
    "            print('Uduzdunuz, cox heyf. gelen gorusleredek!')\n",
    "\n",
    "    def play_game(self):\n",
    "        self.salamlamaq()\n",
    "        self.random_req()\n",
    "        self.seviyye_secimi()\n",
    "        self.secim_sayi()\n",
    "        self.main_loop()\n",
    "        self.finish()"
   ]
  },
  {
   "cell_type": "code",
   "execution_count": 6,
   "metadata": {},
   "outputs": [],
   "source": [
    "Alik = guessing_game()"
   ]
  },
  {
   "cell_type": "code",
   "execution_count": 7,
   "metadata": {},
   "outputs": [
    {
     "name": "stdout",
     "output_type": "stream",
     "text": [
      "Xos gelmisiniz Guess Game oyununa\n",
      "Oyun erzinde siz reqem sececeksiniz. 1 ile 10 arasinda\n",
      "Sizin 5 seciminiz var\n",
      "Cox yuxari\n",
      "Qalan secim sayiniz 4\n",
      "Cox yuxari\n",
      "Qalan secim sayiniz 3\n",
      "Cox yuxari\n",
      "Qalan secim sayiniz 2\n",
      "Cox yuxari\n",
      "Qalan secim sayiniz 1\n",
      "Uduzdunuz, cox heyf. gelen gorusleredek!\n"
     ]
    }
   ],
   "source": [
    "Alik.play_game()"
   ]
  },
  {
   "cell_type": "code",
   "execution_count": null,
   "metadata": {},
   "outputs": [],
   "source": []
  }
 ],
 "metadata": {
  "kernelspec": {
   "display_name": "Python 3.9.12 ('base')",
   "language": "python",
   "name": "python3"
  },
  "language_info": {
   "codemirror_mode": {
    "name": "ipython",
    "version": 3
   },
   "file_extension": ".py",
   "mimetype": "text/x-python",
   "name": "python",
   "nbconvert_exporter": "python",
   "pygments_lexer": "ipython3",
   "version": "3.9.12"
  },
  "orig_nbformat": 4,
  "vscode": {
   "interpreter": {
    "hash": "437bf6181af474c3c2ca7aa4118132330bd9bbcf1914470b1d094818705239da"
   }
  }
 },
 "nbformat": 4,
 "nbformat_minor": 2
}
