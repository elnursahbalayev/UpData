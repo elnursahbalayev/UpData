{
 "cells": [
  {
   "cell_type": "markdown",
   "metadata": {},
   "source": [
    "# Session 5"
   ]
  },
  {
   "cell_type": "markdown",
   "metadata": {},
   "source": [
    "<img src='source\\session 5.jpg'>"
   ]
  },
  {
   "cell_type": "markdown",
   "metadata": {},
   "source": [
    "## Anonymous lambda functions"
   ]
  },
  {
   "cell_type": "markdown",
   "metadata": {},
   "source": [
    "Lambda funksiyalar ve ya anonim funksiyalar pythonda genis istifade olunan bir funksiya yaratma novudur. Lambda funksiyalarnin ozelliyi onlari yaradarken her hansi bir ada ehtiyacimizin olmamagidir. Lambda funksiyalar istediyimiz qeder arqument vere bilerik ama yalniz bir ifade qaytara biler. Yalniz ve yalniz 1 ifade. "
   ]
  },
  {
   "cell_type": "markdown",
   "metadata": {},
   "source": [
    "### Syntax of Lambda functions"
   ]
  },
  {
   "cell_type": "markdown",
   "metadata": {},
   "source": [
    "### def vs lambda"
   ]
  },
  {
   "cell_type": "markdown",
   "metadata": {},
   "source": [
    "def ile her hansi bir funksiya yaradarken, biz ilk once hemin funksiyani adlandirmali,  ona bir arqument oturmeli daha sonra return vasitesiyle biz hemin qiymeti aliriq. Lambda ile funksiya yaradarken ise ne adlandirmaga ne returne ehtiyac yoxdur. Xususile 1 setirli kodlarda lambda cox komeyimize catir."
   ]
  },
  {
   "cell_type": "markdown",
   "metadata": {},
   "source": [
    "### Filter method in lambda functions"
   ]
  },
  {
   "cell_type": "markdown",
   "metadata": {},
   "source": [
    "filter() funksiyasi ile biz listlerde filterleme isleri apara bilerik. filter funksiyasi 2 argument goturur list ve funksiya. Hemin funksiyanin return True sertlerine gore yeni list duzeldir. \n",
    "Biz bunu enenevi def funksiyasi ve ya lambda ile yaza bilerik. "
   ]
  },
  {
   "cell_type": "markdown",
   "metadata": {},
   "source": [
    "### Map method in lambda functions"
   ]
  },
  {
   "cell_type": "markdown",
   "metadata": {},
   "source": [
    "map() funksiyasi ile biz listlerimizde her hansi emeliyati yerine yetirib onu listin butun elementlerine tetbiq ede bilerik. map funksiyasi 2 argument goturur list ve funksiya. map()-de biz lambdadan istifade edirik."
   ]
  },
  {
   "cell_type": "markdown",
   "metadata": {},
   "source": [
    "## List comprehension"
   ]
  },
  {
   "cell_type": "markdown",
   "metadata": {},
   "source": [
    "## Dictionary comprehension"
   ]
  },
  {
   "cell_type": "markdown",
   "metadata": {},
   "source": [
    "## OOP - Classes"
   ]
  },
  {
   "cell_type": "markdown",
   "metadata": {},
   "source": [
    "Classlar pythonda prototip olaraq islenilen ve en meshur genis conceptlerden biridir. Classlarin en onemli rolu bizim spagetti kod yazmagimizin qarsisini almagidir. Class ve objectler prototip ve hemin prototipler esasinde qurulan modeller esasinde dusunure biler. Her bir klassin attributlari ve metodlari vardir. \n",
    "\n",
    "Classlar haqda bezi notler: \n",
    "* Classlar class acar sozu vasitesi ile yaradilir\n",
    "* Classlarin attributlari ve metodlari classin icinde yaradilir\n",
    "* Class atributlari publicdir ve . vasitesiyle onlara giris ede bilerik"
   ]
  },
  {
   "cell_type": "markdown",
   "metadata": {},
   "source": [
    "## Objects"
   ]
  },
  {
   "cell_type": "markdown",
   "metadata": {},
   "source": [
    "Class obyektleri classin instanceleridir. Yeni artiq prototip deyil. Deyek ki biz masin adli bir class yaratdiq. Artiq masin obyekti yaradanda bir prototip yox esl masini yaradiriq. \n",
    "Class obyektlerinin:\n",
    "\n",
    "* State: class obyektinin attributunu gosterir\n",
    "* Behavior: class obyektinin metodunu gosterir\n",
    "* Identity: class obyektinin unikal oldugun gosterir"
   ]
  },
  {
   "cell_type": "markdown",
   "metadata": {},
   "source": [
    "## Methods"
   ]
  },
  {
   "cell_type": "markdown",
   "metadata": {},
   "source": [
    "### init method"
   ]
  },
  {
   "cell_type": "markdown",
   "metadata": {},
   "source": [
    "### self"
   ]
  },
  {
   "cell_type": "markdown",
   "metadata": {},
   "source": [
    "Pythonda instance metodlari yaradilarken (daha sonra etrafli danisilacaq) self attributundan istifade olunur. self attributu instance metodlarda mutleq istifade olunmalidir. self vasitesiyle biz bir nov obyekte istinad etmis oluruq."
   ]
  },
  {
   "cell_type": "markdown",
   "metadata": {},
   "source": [
    "### Class vs Instance"
   ]
  },
  {
   "cell_type": "markdown",
   "metadata": {},
   "source": [
    "Instance deyisenleri yalniz obyektin ozune mexsus olur ve ona her bir obyektin ozune mexsus qiymetlerine sahib olur. Ama class deyisenleri is butun classa mexsus olur ve onu hem classla hem de obyekt vasitesiyle giris etmek ve deyismek olur. Classi yaradarken teyin etdiyimiz deyisenler class deyisenleri ve __init__ metodu ile yaratdigimiz deyisenler ise instance deyisenleridir."
   ]
  },
  {
   "cell_type": "markdown",
   "metadata": {},
   "source": [
    "### Instance methods"
   ]
  },
  {
   "cell_type": "markdown",
   "metadata": {},
   "source": [
    "Instance methodlar, class obyektinin ozune mexsus olunan metodlardir. Instance metodlar yaradilarken mutleq ilk parametr olaraq self oturulmelidir. "
   ]
  },
  {
   "cell_type": "markdown",
   "metadata": {},
   "source": [
    "### Class methods"
   ]
  },
  {
   "cell_type": "markdown",
   "metadata": {},
   "source": [
    "Class metodlari ise her hansi bir obyektin yox, butun class ile elaqedar olduqda isledilir. Class metodlari yaradilarken @classmethod decoratorundan istifade edirik ve ilk argument olaraq cls yaziriq.\n",
    "Class metodlari instance attributlarini deyise bilmez."
   ]
  },
  {
   "cell_type": "markdown",
   "metadata": {},
   "source": [
    "### Static methods"
   ]
  },
  {
   "cell_type": "markdown",
   "metadata": {},
   "source": [
    "Statik metodlar ne class ne de her hansi bir obyekt attributuyla elaqesi olmayan metodlardir. Biz statik metodlardan her hansi bir emeliyat aparmaqcun yazdigimiz funksiyada(meselen faktorial hesablayan funksiya) istifade ede bilerik. Statik metodlar yaradilarken onlarda @staticmethod decoratorundan istifade edirik ve her hansi bir arqument oturmek mecburiyetimiz yoxdur."
   ]
  },
  {
   "cell_type": "markdown",
   "metadata": {},
   "source": [
    "## Inheritance"
   ]
  },
  {
   "cell_type": "markdown",
   "metadata": {},
   "source": [
    "Inheritance OOPde genis istifade olunan bir metoddur. Inheritance bize icaze verir ki bir class'da olan funksiya ve ozellikleri diger classimizda islede bilek. Parent ve chill class kimi bunu basa dusmek olar. "
   ]
  }
 ],
 "metadata": {
  "kernelspec": {
   "display_name": "Python 3.9.12 ('base')",
   "language": "python",
   "name": "python3"
  },
  "language_info": {
   "codemirror_mode": {
    "name": "ipython",
    "version": 3
   },
   "file_extension": ".py",
   "mimetype": "text/x-python",
   "name": "python",
   "nbconvert_exporter": "python",
   "pygments_lexer": "ipython3",
   "version": "3.9.12"
  },
  "orig_nbformat": 4,
  "vscode": {
   "interpreter": {
    "hash": "437bf6181af474c3c2ca7aa4118132330bd9bbcf1914470b1d094818705239da"
   }
  }
 },
 "nbformat": 4,
 "nbformat_minor": 2
}
