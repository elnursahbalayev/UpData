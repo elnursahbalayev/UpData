{
 "cells": [
  {
   "cell_type": "markdown",
   "metadata": {},
   "source": [
    "# Session 5"
   ]
  },
  {
   "cell_type": "markdown",
   "metadata": {},
   "source": [
    "<img src='source\\session 5.jpg'>"
   ]
  },
  {
   "cell_type": "markdown",
   "metadata": {},
   "source": [
    "## Anonymous lambda functions"
   ]
  },
  {
   "cell_type": "markdown",
   "metadata": {},
   "source": [
    "Lambda funksiyalar ve ya anonim funksiyalar pythonda genis istifade olunan bir funksiya yaratma novudur. Lambda funksiyalarnin ozelliyi onlari yaradarken her hansi bir ada ehtiyacimizin olmamagidir. Lambda funksiyalar istediyimiz qeder arqument vere bilerik ama yalniz bir ifade qaytara biler. Yalniz ve yalniz 1 ifade. "
   ]
  },
  {
   "cell_type": "markdown",
   "metadata": {},
   "source": [
    "### Syntax of Lambda functions"
   ]
  },
  {
   "cell_type": "code",
   "execution_count": null,
   "metadata": {},
   "outputs": [],
   "source": [
    "toplama = lambda a, b : a+b\n",
    "toplama(5,6)"
   ]
  },
  {
   "cell_type": "code",
   "execution_count": null,
   "metadata": {},
   "outputs": [],
   "source": [
    "(lambda a,b : a-b)(7,2)"
   ]
  },
  {
   "cell_type": "markdown",
   "metadata": {},
   "source": [
    "### def vs lambda"
   ]
  },
  {
   "cell_type": "markdown",
   "metadata": {},
   "source": [
    "def ile her hansi bir funksiya yaradarken, biz ilk once hemin funksiyani adlandirmali,  ona bir arqument oturmeli daha sonra return vasitesiyle biz hemin qiymeti aliriq. Lambda ile funksiya yaradarken ise ne adlandirmaga ne returne ehtiyac yoxdur. Xususile 1 setirli kodlarda lambda cox komeyimize catir."
   ]
  },
  {
   "cell_type": "code",
   "execution_count": null,
   "metadata": {},
   "outputs": [],
   "source": [
    "def sahe(a, b):\n",
    "    return a*b\n",
    "\n",
    "sahe(5,6)"
   ]
  },
  {
   "cell_type": "code",
   "execution_count": null,
   "metadata": {},
   "outputs": [],
   "source": [
    "(lambda a, b : a*b)(5,6)"
   ]
  },
  {
   "cell_type": "code",
   "execution_count": null,
   "metadata": {},
   "outputs": [],
   "source": [
    "# if else ile lambda\n",
    "Max = lambda a,b : a if a>b else b\n",
    "Max(89,1)"
   ]
  },
  {
   "cell_type": "markdown",
   "metadata": {},
   "source": [
    "### Filter method in lambda functions"
   ]
  },
  {
   "cell_type": "markdown",
   "metadata": {},
   "source": [
    "filter() funksiyasi ile biz listlerde filterleme isleri apara bilerik. filter funksiyasi 2 argument goturur list ve funksiya. Hemin funksiyanin return True sertlerine gore yeni list duzeldir. \n",
    "Biz bunu enenevi def funksiyasi ve ya lambda ile yaza bilerik. "
   ]
  },
  {
   "cell_type": "code",
   "execution_count": null,
   "metadata": {},
   "outputs": [],
   "source": [
    "#enenevi def usulu ile\n",
    "def tek_eded(a):\n",
    "    if a%2!=0:\n",
    "        return True\n",
    "    \n",
    "ededler = [12,21,90,77, 65, 92, 45, 33, 10]\n",
    "\n",
    "tek_ededler = list(filter(tek_eded, ededler))\n",
    "tek_ededler"
   ]
  },
  {
   "cell_type": "code",
   "execution_count": null,
   "metadata": {},
   "outputs": [],
   "source": [
    "#lambda usulu ile\n",
    "tek_ededler = list(filter(lambda a : a%2!=0, ededler))\n",
    "tek_ededler"
   ]
  },
  {
   "cell_type": "code",
   "execution_count": null,
   "metadata": {},
   "outputs": [],
   "source": [
    "#numune\n",
    "#yasi 18den yuxarilar ucun ayrica listin yaradilmasi\n",
    "yas = [17, 23, 43, 11, 9, 15, 21, 35]\n",
    "yetkin = list(filter(lambda a : a>18, yas))\n",
    "yetkin"
   ]
  },
  {
   "cell_type": "markdown",
   "metadata": {},
   "source": [
    "### Map method in lambda functions"
   ]
  },
  {
   "cell_type": "markdown",
   "metadata": {},
   "source": [
    "map() funksiyasi ile biz listlerimizde her hansi emeliyati yerine yetirib onu listin butun elementlerine tetbiq ede bilerik. map funksiyasi 2 argument goturur list ve funksiya. map()-de biz lambdadan istifade edirik."
   ]
  },
  {
   "cell_type": "code",
   "execution_count": 1,
   "metadata": {},
   "outputs": [
    {
     "data": {
      "text/plain": [
       "[2, 4, 6, 8, 10, 12, 14, 16, 18, 20]"
      ]
     },
     "execution_count": 1,
     "metadata": {},
     "output_type": "execute_result"
    }
   ],
   "source": [
    "ededler = [1,2,3,4,5,6,7,8,9,10]\n",
    "\n",
    "final_ededler = list(map(lambda a : a*2, ededler))\n",
    "final_ededler"
   ]
  },
  {
   "cell_type": "code",
   "execution_count": null,
   "metadata": {},
   "outputs": [],
   "source": [
    "#butun herflerin boyuk herfe cevrilmesi\n",
    "meyveler = ['alma', 'armud', 'nar', 'Uzum', 'PorTagal']\n",
    "\n",
    "meyveler_final = list(map(lambda a : a.upper(), meyveler))\n",
    "meyveler_final"
   ]
  },
  {
   "cell_type": "markdown",
   "metadata": {},
   "source": [
    "## List comprehension"
   ]
  },
  {
   "cell_type": "code",
   "execution_count": null,
   "metadata": {},
   "outputs": [],
   "source": [
    "# Done"
   ]
  },
  {
   "cell_type": "markdown",
   "metadata": {},
   "source": [
    "## Dictionary comprehension"
   ]
  },
  {
   "cell_type": "code",
   "execution_count": null,
   "metadata": {},
   "outputs": [],
   "source": []
  },
  {
   "cell_type": "markdown",
   "metadata": {},
   "source": [
    "## OOP - Classes"
   ]
  },
  {
   "cell_type": "markdown",
   "metadata": {},
   "source": [
    "Classlar pythonda prototip olaraq islenilen ve en meshur genis conceptlerden biridir. Classlarin en onemli rolu bizim spagetti kod yazmagimizin qarsisini almagidir. Class ve objectler prototip ve hemin prototipler esasinde qurulan modeller esasinde dusunure biler. Her bir klassin attributlari ve metodlari vardir. \n",
    "\n",
    "Classlar haqda bezi notler: \n",
    "* Classlar class acar sozu vasitesi ile yaradilir\n",
    "* Classlarin attributlari ve metodlari classin icinde yaradilir\n",
    "* Class atributlari publicdir ve . vasitesiyle onlara giris ede bilerik"
   ]
  },
  {
   "cell_type": "code",
   "execution_count": null,
   "metadata": {},
   "outputs": [],
   "source": [
    "class Masin:\n",
    "    pass"
   ]
  },
  {
   "cell_type": "markdown",
   "metadata": {},
   "source": [
    "## Objects"
   ]
  },
  {
   "cell_type": "markdown",
   "metadata": {},
   "source": [
    "Class obyektleri classin instanceleridir. Yeni artiq prototip deyil. Deyek ki biz masin adli bir class yaratdiq. Artiq masin obyekti yaradanda bir prototip yox esl masini yaradiriq. \n",
    "Class obyektlerinin:\n",
    "\n",
    "* State: class obyektinin attributunu gosterir\n",
    "* Behavior: class obyektinin metodunu gosterir\n",
    "* Identity: class obyektinin unikal oldugun gosterir"
   ]
  },
  {
   "cell_type": "code",
   "execution_count": 2,
   "metadata": {},
   "outputs": [],
   "source": [
    "class Masin:\n",
    "    pass\n",
    "\n",
    "bmw = Masin()"
   ]
  },
  {
   "cell_type": "markdown",
   "metadata": {},
   "source": [
    "## Methods"
   ]
  },
  {
   "cell_type": "markdown",
   "metadata": {},
   "source": [
    "### init method"
   ]
  },
  {
   "cell_type": "code",
   "execution_count": null,
   "metadata": {},
   "outputs": [],
   "source": [
    "#classin yaradilmasi\n",
    "class Masin:\n",
    "    def __init__(self, model, muherrik, qiymet):\n",
    "        self.model = model\n",
    "        self.muherrik = muherrik\n",
    "        self.qiymet = qiymet\n",
    "    \n",
    "    def info(self):\n",
    "        print(f\"Model: {self.model}\")\n",
    "        print(f\"Muherrik: {self.muherrik}\")\n",
    "        print(f\"Qiymet: {self.qiymet}\")"
   ]
  },
  {
   "cell_type": "code",
   "execution_count": null,
   "metadata": {},
   "outputs": [],
   "source": [
    "#obyektin yaradilmasi\n",
    "masin1 = Masin(\"BMW\", \"2.0\", \"100000\")"
   ]
  },
  {
   "cell_type": "code",
   "execution_count": null,
   "metadata": {},
   "outputs": [],
   "source": [
    "masin1.info()"
   ]
  },
  {
   "cell_type": "markdown",
   "metadata": {},
   "source": [
    "### self"
   ]
  },
  {
   "cell_type": "markdown",
   "metadata": {},
   "source": [
    "Pythonda instance metodlari yaradilarken (daha sonra etrafli danisilacaq) self attributundan istifade olunur. self attributu instance metodlarda mutleq istifade olunmalidir. self vasitesiyle biz bir nov obyekte istinad etmis oluruq."
   ]
  },
  {
   "cell_type": "markdown",
   "metadata": {},
   "source": [
    "### Class vs Instance"
   ]
  },
  {
   "cell_type": "markdown",
   "metadata": {},
   "source": [
    "Instance deyisenleri yalniz obyektin ozune mexsus olur ve ona her bir obyektin ozune mexsus qiymetlerine sahib olur. Ama class deyisenleri is butun classa mexsus olur ve onu hem classla hem de obyekt vasitesiyle giris etmek ve deyismek olur. Classi yaradarken teyin etdiyimiz deyisenler class deyisenleri ve __init__ metodu ile yaratdigimiz deyisenler ise instance deyisenleridir."
   ]
  },
  {
   "cell_type": "code",
   "execution_count": null,
   "metadata": {},
   "outputs": [],
   "source": [
    "class Masin():\n",
    "    #class deyisen\n",
    "    teker = 4\n",
    "\n",
    "    def __init__(self, model, muherrik, qiymet):\n",
    "        #instance deyisen\n",
    "        self.model = model\n",
    "        self.muherrik = muherrik\n",
    "        self.qiymet = qiymet\n",
    "    \n",
    "\n",
    "masin2 = Masin(\"Mercedes\", \"1.5\", \"230000\")\n",
    "print(masin2.teker)\n",
    "print(Masin.teker)"
   ]
  },
  {
   "cell_type": "code",
   "execution_count": null,
   "metadata": {},
   "outputs": [],
   "source": [
    "Masin.ad = 'car'\n",
    "print(masin2.ad)"
   ]
  },
  {
   "cell_type": "code",
   "execution_count": null,
   "metadata": {},
   "outputs": [],
   "source": [
    "masin1.teker =5"
   ]
  },
  {
   "cell_type": "code",
   "execution_count": null,
   "metadata": {},
   "outputs": [],
   "source": [
    "print(masin1.teker)"
   ]
  },
  {
   "cell_type": "markdown",
   "metadata": {},
   "source": [
    "### Instance methods"
   ]
  },
  {
   "cell_type": "markdown",
   "metadata": {},
   "source": [
    "Instance methodlar, class obyektinin ozune mexsus olunan metodlardir. Instance metodlar yaradilarken mutleq ilk parametr olaraq self oturulmelidir. "
   ]
  },
  {
   "cell_type": "code",
   "execution_count": null,
   "metadata": {},
   "outputs": [],
   "source": [
    "class Telebe:\n",
    "\n",
    "    kurs = 'UpData'\n",
    "\n",
    "    def __init__(self, sql_mark, python_mark, excel_mark):\n",
    "        self.sql_mark = sql_mark\n",
    "        self.python_mark = python_mark\n",
    "        self.excel_mark = excel_mark\n",
    "    \n",
    "\n",
    "    def ortalama(self):\n",
    "        return (self.sql_mark + self.python_mark + self.excel_mark) / 3\n",
    "\n",
    "\n",
    "telebe1 = Telebe(90, 100, 95)\n",
    "print(telebe1.ortalama())"
   ]
  },
  {
   "cell_type": "code",
   "execution_count": null,
   "metadata": {},
   "outputs": [],
   "source": [
    "class Telebe:\n",
    "\n",
    "    kurs = 'UpData'\n",
    "\n",
    "    def __init__(self, sql_mark, python_mark, excel_mark):\n",
    "        self.sql_mark = sql_mark\n",
    "        self.python_mark = python_mark\n",
    "        self.excel_mark = excel_mark\n",
    "    \n",
    "\n",
    "    def ortalama(self):\n",
    "        return (self.sql_mark + self.python_mark + self.excel_mark) / 3\n",
    "    \n",
    "    @classmethod\n",
    "    def info(cls):\n",
    "        print(f'Telebe {cls.kurs} kursunda tehsil alir')\n",
    "        # cls.sql_mark = 100  instance attributlarin deyise bilmez\n",
    "    \n",
    "    @classmethod\n",
    "    def adi_deyis(cls):\n",
    "        cls.kurs = 'Galactech Kids'\n",
    "          \n",
    "\n",
    "\n",
    "telebe1 = Telebe(90, 100, 95)\n",
    "print(telebe1.ortalama())\n"
   ]
  },
  {
   "cell_type": "markdown",
   "metadata": {},
   "source": [
    "## Inheritance"
   ]
  },
  {
   "cell_type": "markdown",
   "metadata": {},
   "source": []
  }
 ],
 "metadata": {
  "kernelspec": {
   "display_name": "Python 3.9.12 ('base')",
   "language": "python",
   "name": "python3"
  },
  "language_info": {
   "codemirror_mode": {
    "name": "ipython",
    "version": 3
   },
   "file_extension": ".py",
   "mimetype": "text/x-python",
   "name": "python",
   "nbconvert_exporter": "python",
   "pygments_lexer": "ipython3",
   "version": "3.9.12"
  },
  "orig_nbformat": 4,
  "vscode": {
   "interpreter": {
    "hash": "437bf6181af474c3c2ca7aa4118132330bd9bbcf1914470b1d094818705239da"
   }
  }
 },
 "nbformat": 4,
 "nbformat_minor": 2
}
