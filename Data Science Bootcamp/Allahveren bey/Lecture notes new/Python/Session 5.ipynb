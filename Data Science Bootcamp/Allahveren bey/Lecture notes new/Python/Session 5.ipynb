{
 "cells": [
  {
   "cell_type": "markdown",
   "metadata": {},
   "source": [
    "# Session 5"
   ]
  },
  {
   "cell_type": "markdown",
   "metadata": {},
   "source": [
    "<img src='source\\session 5.jpg'>"
   ]
  },
  {
   "cell_type": "markdown",
   "metadata": {},
   "source": [
    "## Anonymous lambda functions"
   ]
  },
  {
   "cell_type": "markdown",
   "metadata": {},
   "source": [
    "Lambda funksiyalar ve ya anonim funksiyalar pythonda genis istifade olunan bir funksiya yaratma novudur. Lambda funksiyalarnin ozelliyi onlari yaradarken her hansi bir ada ehtiyacimizin olmamagidir. Lambda funksiyalar istediyimiz qeder arqument vere bilerik ama yalniz bir ifade qaytara biler. Yalniz ve yalniz 1 ifade. "
   ]
  },
  {
   "cell_type": "markdown",
   "metadata": {},
   "source": [
    "### Syntax of Lambda functions"
   ]
  },
  {
   "cell_type": "code",
   "execution_count": 1,
   "metadata": {},
   "outputs": [
    {
     "data": {
      "text/plain": [
       "11"
      ]
     },
     "execution_count": 1,
     "metadata": {},
     "output_type": "execute_result"
    }
   ],
   "source": [
    "toplama = lambda a, b : a+b\n",
    "toplama(5,6)"
   ]
  },
  {
   "cell_type": "code",
   "execution_count": 2,
   "metadata": {},
   "outputs": [
    {
     "data": {
      "text/plain": [
       "5"
      ]
     },
     "execution_count": 2,
     "metadata": {},
     "output_type": "execute_result"
    }
   ],
   "source": [
    "(lambda a,b : a-b)(7,2)"
   ]
  },
  {
   "cell_type": "markdown",
   "metadata": {},
   "source": [
    "### def vs lambda"
   ]
  },
  {
   "cell_type": "markdown",
   "metadata": {},
   "source": [
    "def ile her hansi bir funksiya yaradarken, biz ilk once hemin funksiyani adlandirmali,  ona bir arqument oturmeli daha sonra return vasitesiyle biz hemin qiymeti aliriq. Lambda ile funksiya yaradarken ise ne adlandirmaga ne returne ehtiyac yoxdur. Xususile 1 setirli kodlarda lambda cox komeyimize catir."
   ]
  },
  {
   "cell_type": "code",
   "execution_count": 3,
   "metadata": {},
   "outputs": [
    {
     "data": {
      "text/plain": [
       "30"
      ]
     },
     "execution_count": 3,
     "metadata": {},
     "output_type": "execute_result"
    }
   ],
   "source": [
    "def sahe(a, b):\n",
    "    return a*b\n",
    "\n",
    "sahe(5,6)"
   ]
  },
  {
   "cell_type": "code",
   "execution_count": 4,
   "metadata": {},
   "outputs": [
    {
     "data": {
      "text/plain": [
       "30"
      ]
     },
     "execution_count": 4,
     "metadata": {},
     "output_type": "execute_result"
    }
   ],
   "source": [
    "(lambda a, b : a*b)(5,6)"
   ]
  },
  {
   "cell_type": "code",
   "execution_count": 5,
   "metadata": {},
   "outputs": [
    {
     "data": {
      "text/plain": [
       "89"
      ]
     },
     "execution_count": 5,
     "metadata": {},
     "output_type": "execute_result"
    }
   ],
   "source": [
    "# if else ile lambda\n",
    "Max = lambda a,b : a if a>b else b\n",
    "Max(89,1)"
   ]
  },
  {
   "cell_type": "markdown",
   "metadata": {},
   "source": [
    "### Filter method in lambda functions"
   ]
  },
  {
   "cell_type": "markdown",
   "metadata": {},
   "source": [
    "filter() funksiyasi ile biz listlerde filterleme isleri apara bilerik. filter funksiyasi 2 argument goturur list ve funksiya. Hemin funksiyanin return True sertlerine gore yeni list duzeldir. \n",
    "Biz bunu enenevi def funksiyasi ve ya lambda ile yaza bilerik. "
   ]
  },
  {
   "cell_type": "code",
   "execution_count": 6,
   "metadata": {},
   "outputs": [
    {
     "data": {
      "text/plain": [
       "[21, 77, 65, 45, 33]"
      ]
     },
     "execution_count": 6,
     "metadata": {},
     "output_type": "execute_result"
    }
   ],
   "source": [
    "#enenevi def usulu ile\n",
    "def tek_eded(a):\n",
    "    if a%2!=0:\n",
    "        return True\n",
    "    \n",
    "ededler = [12,21,90,77, 65, 92, 45, 33, 10]\n",
    "\n",
    "tek_ededler = list(filter(tek_eded, ededler))\n",
    "tek_ededler"
   ]
  },
  {
   "cell_type": "code",
   "execution_count": 7,
   "metadata": {},
   "outputs": [
    {
     "data": {
      "text/plain": [
       "[21, 77, 65, 45, 33]"
      ]
     },
     "execution_count": 7,
     "metadata": {},
     "output_type": "execute_result"
    }
   ],
   "source": [
    "#lambda usulu ile\n",
    "tek_ededler = list(filter(lambda a : a%2!=0, ededler))\n",
    "tek_ededler"
   ]
  },
  {
   "cell_type": "code",
   "execution_count": 8,
   "metadata": {},
   "outputs": [
    {
     "data": {
      "text/plain": [
       "[23, 43, 21, 35]"
      ]
     },
     "execution_count": 8,
     "metadata": {},
     "output_type": "execute_result"
    }
   ],
   "source": [
    "#numune\n",
    "#yasi 18den yuxarilar ucun ayrica listin yaradilmasi\n",
    "yas = [17, 23, 43, 11, 9, 15, 21, 35]\n",
    "yetkin = list(filter(lambda a : a>18, yas))\n",
    "yetkin"
   ]
  },
  {
   "cell_type": "markdown",
   "metadata": {},
   "source": [
    "### Map method in lambda functions"
   ]
  },
  {
   "cell_type": "markdown",
   "metadata": {},
   "source": [
    "map() funksiyasi ile biz listlerimizde her hansi emeliyati yerine yetirib onu listin butun elementlerine tetbiq ede bilerik. map funksiyasi 2 argument goturur list ve funksiya. map()-de biz lambdadan istifade edirik."
   ]
  },
  {
   "cell_type": "code",
   "execution_count": 9,
   "metadata": {},
   "outputs": [
    {
     "data": {
      "text/plain": [
       "[2, 4, 6, 8, 10, 12, 14, 16, 18, 20]"
      ]
     },
     "execution_count": 9,
     "metadata": {},
     "output_type": "execute_result"
    }
   ],
   "source": [
    "ededler = [1,2,3,4,5,6,7,8,9,10]\n",
    "\n",
    "final_ededler = list(map(lambda a : a*2, ededler))\n",
    "final_ededler"
   ]
  },
  {
   "cell_type": "code",
   "execution_count": 10,
   "metadata": {},
   "outputs": [
    {
     "data": {
      "text/plain": [
       "['ALMA', 'ARMUD', 'NAR', 'UZUM', 'PORTAGAL']"
      ]
     },
     "execution_count": 10,
     "metadata": {},
     "output_type": "execute_result"
    }
   ],
   "source": [
    "#butun herflerin boyuk herfe cevrilmesi\n",
    "meyveler = ['alma', 'armud', 'nar', 'Uzum', 'PorTagal']\n",
    "\n",
    "meyveler_final = list(map(lambda a : a.upper(), meyveler))\n",
    "meyveler_final"
   ]
  },
  {
   "cell_type": "markdown",
   "metadata": {},
   "source": [
    "## List comprehension"
   ]
  },
  {
   "cell_type": "code",
   "execution_count": 11,
   "metadata": {},
   "outputs": [],
   "source": [
    "# Done"
   ]
  },
  {
   "cell_type": "markdown",
   "metadata": {},
   "source": [
    "## Dictionary comprehension"
   ]
  },
  {
   "cell_type": "code",
   "execution_count": null,
   "metadata": {},
   "outputs": [],
   "source": []
  },
  {
   "cell_type": "markdown",
   "metadata": {},
   "source": [
    "## OOP - Classes"
   ]
  },
  {
   "cell_type": "markdown",
   "metadata": {},
   "source": [
    "Classlar pythonda prototip olaraq islenilen ve en meshur genis conceptlerden biridir. Classlarin en onemli rolu bizim spagetti kod yazmagimizin qarsisini almagidir. Class ve objectler prototip ve hemin prototipler esasinde qurulan modeller esasinde dusunure biler. Her bir klassin attributlari ve metodlari vardir. \n",
    "\n",
    "Classlar haqda bezi notler: \n",
    "* Classlar class acar sozu vasitesi ile yaradilir\n",
    "* Classlarin attributlari ve metodlari classin icinde yaradilir\n",
    "* Class atributlari publicdir ve . vasitesiyle onlara giris ede bilerik"
   ]
  },
  {
   "cell_type": "code",
   "execution_count": 12,
   "metadata": {},
   "outputs": [],
   "source": [
    "class Masin:\n",
    "    pass"
   ]
  },
  {
   "cell_type": "markdown",
   "metadata": {},
   "source": [
    "## Objects"
   ]
  },
  {
   "cell_type": "markdown",
   "metadata": {},
   "source": [
    "Class obyektleri classin instanceleridir. Yeni artiq prototip deyil. Deyek ki biz masin adli bir class yaratdiq. Artiq masin obyekti yaradanda bir prototip yox esl masini yaradiriq. \n",
    "Class obyektlerinin:\n",
    "\n",
    "* State: class obyektinin attributunu gosterir\n",
    "* Behavior: class obyektinin metodunu gosterir\n",
    "* Identity: class obyektinin unikal oldugun gosterir"
   ]
  },
  {
   "cell_type": "code",
   "execution_count": 13,
   "metadata": {},
   "outputs": [],
   "source": [
    "class Masin:\n",
    "    pass\n",
    "\n",
    "bmw = Masin()"
   ]
  },
  {
   "cell_type": "markdown",
   "metadata": {},
   "source": [
    "## Methods"
   ]
  },
  {
   "cell_type": "markdown",
   "metadata": {},
   "source": [
    "### init method"
   ]
  },
  {
   "cell_type": "code",
   "execution_count": 14,
   "metadata": {},
   "outputs": [],
   "source": [
    "#classin yaradilmasi\n",
    "class Masin:\n",
    "    def __init__(self, model, muherrik, qiymet):\n",
    "        self.model = model\n",
    "        self.muherrik = muherrik\n",
    "        self.qiymet = qiymet\n",
    "    \n",
    "    def info(self):\n",
    "        print(f\"Model: {self.model}\")\n",
    "        print(f\"Muherrik: {self.muherrik}\")\n",
    "        print(f\"Qiymet: {self.qiymet}\")"
   ]
  },
  {
   "cell_type": "code",
   "execution_count": 15,
   "metadata": {},
   "outputs": [],
   "source": [
    "#obyektin yaradilmasi\n",
    "masin1 = Masin(\"BMW\", \"2.0\", \"100000\")"
   ]
  },
  {
   "cell_type": "code",
   "execution_count": 16,
   "metadata": {},
   "outputs": [
    {
     "name": "stdout",
     "output_type": "stream",
     "text": [
      "Model: BMW\n",
      "Muherrik: 2.0\n",
      "Qiymet: 100000\n"
     ]
    }
   ],
   "source": [
    "masin1.info()"
   ]
  },
  {
   "cell_type": "markdown",
   "metadata": {},
   "source": [
    "### self"
   ]
  },
  {
   "cell_type": "markdown",
   "metadata": {},
   "source": [
    "Pythonda instance metodlari yaradilarken (daha sonra etrafli danisilacaq) self attributundan istifade olunur. self attributu instance metodlarda mutleq istifade olunmalidir. self vasitesiyle biz bir nov obyekte istinad etmis oluruq."
   ]
  },
  {
   "cell_type": "markdown",
   "metadata": {},
   "source": [
    "### Class vs Instance"
   ]
  },
  {
   "cell_type": "markdown",
   "metadata": {},
   "source": [
    "Instance deyisenleri yalniz obyektin ozune mexsus olur ve ona her bir obyektin ozune mexsus qiymetlerine sahib olur. Ama class deyisenleri is butun classa mexsus olur ve onu hem classla hem de obyekt vasitesiyle giris etmek ve deyismek olur. Classi yaradarken teyin etdiyimiz deyisenler class deyisenleri ve __init__ metodu ile yaratdigimiz deyisenler ise instance deyisenleridir."
   ]
  },
  {
   "cell_type": "code",
   "execution_count": 17,
   "metadata": {},
   "outputs": [
    {
     "name": "stdout",
     "output_type": "stream",
     "text": [
      "4\n",
      "4\n"
     ]
    }
   ],
   "source": [
    "class Masin():\n",
    "    #class deyisen\n",
    "    teker = 4\n",
    "\n",
    "    def __init__(self, model, muherrik, qiymet):\n",
    "        #instance deyisen\n",
    "        self.model = model\n",
    "        self.muherrik = muherrik\n",
    "        self.qiymet = qiymet\n",
    "    \n",
    "\n",
    "masin2 = Masin(\"Mercedes\", \"1.5\", \"230000\")\n",
    "print(masin2.teker)\n",
    "print(Masin.teker)"
   ]
  },
  {
   "cell_type": "code",
   "execution_count": 18,
   "metadata": {},
   "outputs": [
    {
     "name": "stdout",
     "output_type": "stream",
     "text": [
      "car\n"
     ]
    }
   ],
   "source": [
    "Masin.ad = 'car'\n",
    "print(masin2.ad)"
   ]
  },
  {
   "cell_type": "code",
   "execution_count": 19,
   "metadata": {},
   "outputs": [],
   "source": [
    "masin1.teker =5"
   ]
  },
  {
   "cell_type": "code",
   "execution_count": 20,
   "metadata": {},
   "outputs": [
    {
     "name": "stdout",
     "output_type": "stream",
     "text": [
      "5\n"
     ]
    }
   ],
   "source": [
    "print(masin1.teker)"
   ]
  },
  {
   "cell_type": "markdown",
   "metadata": {},
   "source": [
    "### Instance methods"
   ]
  },
  {
   "cell_type": "markdown",
   "metadata": {},
   "source": [
    "Instance methodlar, class obyektinin ozune mexsus olunan metodlardir. Instance metodlar yaradilarken mutleq ilk parametr olaraq self oturulmelidir. "
   ]
  },
  {
   "cell_type": "code",
   "execution_count": 21,
   "metadata": {},
   "outputs": [
    {
     "name": "stdout",
     "output_type": "stream",
     "text": [
      "95.0\n"
     ]
    }
   ],
   "source": [
    "class Telebe:\n",
    "\n",
    "    kurs = 'UpData'\n",
    "\n",
    "    def __init__(self, sql_mark, python_mark, excel_mark):\n",
    "        self.sql_mark = sql_mark\n",
    "        self.python_mark = python_mark\n",
    "        self.excel_mark = excel_mark\n",
    "    \n",
    "\n",
    "    def ortalama(self):\n",
    "        return (self.sql_mark + self.python_mark + self.excel_mark) / 3\n",
    "\n",
    "\n",
    "telebe1 = Telebe(90, 100, 95)\n",
    "print(telebe1.ortalama())"
   ]
  },
  {
   "cell_type": "markdown",
   "metadata": {},
   "source": [
    "### Class methods"
   ]
  },
  {
   "cell_type": "markdown",
   "metadata": {},
   "source": [
    "Class metodlari ise her hansi bir obyektin yox, butun class ile elaqedar olduqda isledilir. Class metodlari yaradilarken @classmethod decoratorundan istifade edirik ve ilk argument olaraq cls yaziriq.\n",
    "Class metodlari instance attributlarini deyise bilmez."
   ]
  },
  {
   "cell_type": "code",
   "execution_count": 22,
   "metadata": {},
   "outputs": [
    {
     "name": "stdout",
     "output_type": "stream",
     "text": [
      "95.0\n"
     ]
    }
   ],
   "source": [
    "class Telebe:\n",
    "\n",
    "    kurs = 'UpData'\n",
    "\n",
    "    def __init__(self, sql_mark, python_mark, excel_mark):\n",
    "        self.sql_mark = sql_mark\n",
    "        self.python_mark = python_mark\n",
    "        self.excel_mark = excel_mark\n",
    "    \n",
    "\n",
    "    def ortalama(self):\n",
    "        return (self.sql_mark + self.python_mark + self.excel_mark) / 3\n",
    "    \n",
    "    @classmethod\n",
    "    def info(cls):\n",
    "        print(f'Telebe {cls.kurs} kursunda tehsil alir')\n",
    "        # cls.sql_mark = 100  instance attributlarin deyise bilmez\n",
    "    \n",
    "    @classmethod\n",
    "    def adi_deyis(cls):\n",
    "        cls.kurs = 'Data Analytics Bootcamp'\n",
    "          \n",
    "\n",
    "\n",
    "telebe1 = Telebe(90, 100, 95)\n",
    "print(telebe1.ortalama())\n"
   ]
  },
  {
   "cell_type": "code",
   "execution_count": 23,
   "metadata": {},
   "outputs": [
    {
     "name": "stdout",
     "output_type": "stream",
     "text": [
      "Telebe UpData kursunda tehsil alir\n",
      "None\n"
     ]
    }
   ],
   "source": [
    "print(telebe1.info())\n"
   ]
  },
  {
   "cell_type": "code",
   "execution_count": 24,
   "metadata": {},
   "outputs": [
    {
     "name": "stdout",
     "output_type": "stream",
     "text": [
      "90\n"
     ]
    }
   ],
   "source": [
    "print(telebe1.sql_mark)\n"
   ]
  },
  {
   "cell_type": "code",
   "execution_count": 25,
   "metadata": {},
   "outputs": [],
   "source": [
    "Telebe.adi_deyis()\n"
   ]
  },
  {
   "cell_type": "code",
   "execution_count": 26,
   "metadata": {},
   "outputs": [
    {
     "name": "stdout",
     "output_type": "stream",
     "text": [
      "Data Analytics Bootcamp\n"
     ]
    }
   ],
   "source": [
    "print(Telebe.kurs)\n"
   ]
  },
  {
   "cell_type": "code",
   "execution_count": 27,
   "metadata": {},
   "outputs": [
    {
     "name": "stdout",
     "output_type": "stream",
     "text": [
      "Data Analytics Bootcamp\n"
     ]
    }
   ],
   "source": [
    "print(telebe1.kurs)"
   ]
  },
  {
   "cell_type": "code",
   "execution_count": 28,
   "metadata": {},
   "outputs": [
    {
     "ename": "TypeError",
     "evalue": "ortalama() missing 1 required positional argument: 'self'",
     "output_type": "error",
     "traceback": [
      "\u001b[1;31m---------------------------------------------------------------------------\u001b[0m",
      "\u001b[1;31mTypeError\u001b[0m                                 Traceback (most recent call last)",
      "\u001b[1;32mc:\\Users\\elnur\\OneDrive - Universiti Teknologi PETRONAS\\Kurslar\\UpData\\Data Science Bootcamp\\Allahveren bey\\Lecture notes new\\Python\\Session 5.ipynb Cell 56\u001b[0m in \u001b[0;36m<cell line: 1>\u001b[1;34m()\u001b[0m\n\u001b[1;32m----> <a href='vscode-notebook-cell:/c%3A/Users/elnur/OneDrive%20-%20Universiti%20Teknologi%20PETRONAS/Kurslar/UpData/Data%20Science%20Bootcamp/Allahveren%20bey/Lecture%20notes%20new/Python/Session%205.ipynb#Y111sZmlsZQ%3D%3D?line=0'>1</a>\u001b[0m \u001b[39mprint\u001b[39m(Telebe\u001b[39m.\u001b[39;49mortalama())\n",
      "\u001b[1;31mTypeError\u001b[0m: ortalama() missing 1 required positional argument: 'self'"
     ]
    }
   ],
   "source": [
    "print(Telebe.ortalama())\n"
   ]
  },
  {
   "cell_type": "code",
   "execution_count": 29,
   "metadata": {},
   "outputs": [
    {
     "name": "stdout",
     "output_type": "stream",
     "text": [
      "Telebe Data Analytics Bootcamp kursunda tehsil alir\n",
      "None\n"
     ]
    }
   ],
   "source": [
    "print(Telebe.info())\n"
   ]
  },
  {
   "cell_type": "code",
   "execution_count": 30,
   "metadata": {},
   "outputs": [
    {
     "name": "stdout",
     "output_type": "stream",
     "text": [
      "Telebe Data Analytics Bootcamp kursunda tehsil alir\n",
      "None\n"
     ]
    }
   ],
   "source": [
    "print(telebe1.info())"
   ]
  },
  {
   "cell_type": "markdown",
   "metadata": {},
   "source": [
    "### Static methods"
   ]
  },
  {
   "cell_type": "markdown",
   "metadata": {},
   "source": [
    "Statik metodlar ne class ne de her hansi bir obyekt attributuyla elaqesi olmayan metodlardir. Biz statik metodlardan her hansi bir emeliyat aparmaqcun yazdigimiz funksiyada(meselen faktorial hesablayan funksiya) istifade ede bilerik. Statik metodlar yaradilarken onlarda @staticmethod decoratorundan istifade edirik ve her hansi bir arqument oturmek mecburiyetimiz yoxdur."
   ]
  },
  {
   "cell_type": "code",
   "execution_count": 31,
   "metadata": {},
   "outputs": [],
   "source": [
    "class Telebe:\n",
    "\n",
    "    kurs = 'UpData'\n",
    "\n",
    "    def __init__(self, sql_mark, python_mark, excel_mark):\n",
    "        self.sql_mark = sql_mark\n",
    "        self.python_mark = python_mark\n",
    "        self.excel_mark = excel_mark\n",
    "    \n",
    "\n",
    "    def ortalama(self):\n",
    "        return (self.sql_mark + self.python_mark + self.excel_mark) / 3\n",
    "    \n",
    "\n",
    "    \n",
    "    @classmethod\n",
    "    def info(cls):\n",
    "        print(f'Telebe {cls.kurs} kursunda tehsil alir')\n",
    "\n",
    "\n",
    "    @staticmethod\n",
    "    def umumi_qiymet(ortalama):\n",
    "        if ortalama>=90:\n",
    "            return 'A'\n",
    "        elif ortalama>=80:\n",
    "            return 'B'\n",
    "        elif ortalama>=70:\n",
    "            return 'C'\n",
    "        else:\n",
    "            return 'F'\n",
    "    "
   ]
  },
  {
   "cell_type": "code",
   "execution_count": 32,
   "metadata": {},
   "outputs": [
    {
     "name": "stdout",
     "output_type": "stream",
     "text": [
      "95.0\n",
      "A\n"
     ]
    }
   ],
   "source": [
    "telebe3 = Telebe(90, 100, 95)\n",
    "print(telebe3.ortalama())\n",
    "print(Telebe.umumi_qiymet(telebe3.ortalama()))"
   ]
  },
  {
   "cell_type": "markdown",
   "metadata": {},
   "source": [
    "## Inheritance"
   ]
  },
  {
   "cell_type": "markdown",
   "metadata": {},
   "source": [
    "Inheritance OOPde genis istifade olunan bir metoddur. Inheritance bize icaze verir ki bir class'da olan funksiya ve ozellikleri diger classimizda islede bilek. Parent ve chill class kimi bunu basa dusmek olar. "
   ]
  },
  {
   "cell_type": "code",
   "execution_count": 33,
   "metadata": {},
   "outputs": [],
   "source": [
    "class Telebe():\n",
    "    def __init__(self, ad, soyad, yas):\n",
    "        self.ad = ad\n",
    "        self.soyad = soyad\n",
    "        self.yas = yas\n",
    "    \n",
    "\n",
    "    def status(self):\n",
    "        print(f'{self.ad} adli telebemiz kursda tehsil alir')"
   ]
  },
  {
   "cell_type": "code",
   "execution_count": 34,
   "metadata": {},
   "outputs": [
    {
     "name": "stdout",
     "output_type": "stream",
     "text": [
      "Elnur adli telebemiz kursda tehsil alir\n"
     ]
    }
   ],
   "source": [
    "telebe1 = Telebe('Elnur', 'Shahbalayev', 23)\n",
    "telebe1.status()"
   ]
  },
  {
   "cell_type": "code",
   "execution_count": 35,
   "metadata": {},
   "outputs": [],
   "source": [
    "#single level inheritance\n",
    "class DA_Telebe(Telebe):\n",
    "    def __init__(self, ad, soyad, yas, sql_qiymet, python_qiymet, excel_qiymet):\n",
    "        super().__init__(ad, soyad, yas)\n",
    "        self.sql_qiymet = sql_qiymet\n",
    "        self.python_qiymet = python_qiymet\n",
    "        self.excel_qiymet = excel_qiymet\n",
    "    \n",
    "\n",
    "    def ortalama(self):\n",
    "        return (self.sql_qiymet + self.python_qiymet + self.excel_qiymet) / 3"
   ]
  },
  {
   "cell_type": "code",
   "execution_count": 36,
   "metadata": {},
   "outputs": [],
   "source": [
    "telebe2 = DA_Telebe('Mehemmed', 'Mustafayev', '25', 90, 100, 95)\n"
   ]
  },
  {
   "cell_type": "code",
   "execution_count": 37,
   "metadata": {},
   "outputs": [
    {
     "name": "stdout",
     "output_type": "stream",
     "text": [
      "Mehemmed adli telebemiz kursda tehsil alir\n"
     ]
    }
   ],
   "source": [
    "telebe2.status()\n"
   ]
  },
  {
   "cell_type": "code",
   "execution_count": 38,
   "metadata": {},
   "outputs": [
    {
     "data": {
      "text/plain": [
       "95.0"
      ]
     },
     "execution_count": 38,
     "metadata": {},
     "output_type": "execute_result"
    }
   ],
   "source": [
    "telebe2.ortalama()\n"
   ]
  },
  {
   "cell_type": "code",
   "execution_count": 39,
   "metadata": {},
   "outputs": [
    {
     "ename": "AttributeError",
     "evalue": "'Telebe' object has no attribute 'ortalama'",
     "output_type": "error",
     "traceback": [
      "\u001b[1;31m---------------------------------------------------------------------------\u001b[0m",
      "\u001b[1;31mAttributeError\u001b[0m                            Traceback (most recent call last)",
      "\u001b[1;32mc:\\Users\\elnur\\OneDrive - Universiti Teknologi PETRONAS\\Kurslar\\UpData\\Data Science Bootcamp\\Allahveren bey\\Lecture notes new\\Python\\Session 5.ipynb Cell 71\u001b[0m in \u001b[0;36m<cell line: 1>\u001b[1;34m()\u001b[0m\n\u001b[1;32m----> <a href='vscode-notebook-cell:/c%3A/Users/elnur/OneDrive%20-%20Universiti%20Teknologi%20PETRONAS/Kurslar/UpData/Data%20Science%20Bootcamp/Allahveren%20bey/Lecture%20notes%20new/Python/Session%205.ipynb#Y132sZmlsZQ%3D%3D?line=0'>1</a>\u001b[0m telebe1\u001b[39m.\u001b[39;49mortalama()\n",
      "\u001b[1;31mAttributeError\u001b[0m: 'Telebe' object has no attribute 'ortalama'"
     ]
    }
   ],
   "source": [
    "telebe1.ortalama()\n"
   ]
  },
  {
   "cell_type": "code",
   "execution_count": 40,
   "metadata": {},
   "outputs": [],
   "source": [
    "#multilevel inheritance\n",
    "class A():\n",
    "    def __init__(self):\n",
    "        print('A classi yaradildi')\n",
    "    \n",
    "    def funksiya1(self):\n",
    "        print('Funksiya 1 cagirildi')\n",
    "\n",
    "\n",
    "class B():\n",
    "    def __init__(self):\n",
    "        print('B classi yaradildi')\n",
    "    \n",
    "    def funksiya2(self):\n",
    "        print('Funksiya 2 cagirildi')\n",
    "\n",
    "\n",
    "class C(A, B):\n",
    "    def __init__(self):\n",
    "        print('C classi yaradildi')\n",
    "    \n",
    "    def funksiya3(self):\n",
    "        print('Funksiya 3 cagirildi')"
   ]
  },
  {
   "cell_type": "code",
   "execution_count": 41,
   "metadata": {},
   "outputs": [
    {
     "name": "stdout",
     "output_type": "stream",
     "text": [
      "C classi yaradildi\n"
     ]
    }
   ],
   "source": [
    "c1 = C()\n"
   ]
  },
  {
   "cell_type": "code",
   "execution_count": 42,
   "metadata": {},
   "outputs": [
    {
     "name": "stdout",
     "output_type": "stream",
     "text": [
      "Funksiya 1 cagirildi\n"
     ]
    }
   ],
   "source": [
    "c1.funksiya1()\n"
   ]
  },
  {
   "cell_type": "code",
   "execution_count": 43,
   "metadata": {},
   "outputs": [
    {
     "name": "stdout",
     "output_type": "stream",
     "text": [
      "Funksiya 2 cagirildi\n"
     ]
    }
   ],
   "source": [
    "c1.funksiya2()\n"
   ]
  },
  {
   "cell_type": "code",
   "execution_count": 44,
   "metadata": {},
   "outputs": [
    {
     "name": "stdout",
     "output_type": "stream",
     "text": [
      "Funksiya 3 cagirildi\n"
     ]
    }
   ],
   "source": [
    "c1.funksiya3()\n"
   ]
  }
 ],
 "metadata": {
  "kernelspec": {
   "display_name": "Python 3.9.12 ('base')",
   "language": "python",
   "name": "python3"
  },
  "language_info": {
   "codemirror_mode": {
    "name": "ipython",
    "version": 3
   },
   "file_extension": ".py",
   "mimetype": "text/x-python",
   "name": "python",
   "nbconvert_exporter": "python",
   "pygments_lexer": "ipython3",
   "version": "3.9.12"
  },
  "orig_nbformat": 4,
  "vscode": {
   "interpreter": {
    "hash": "437bf6181af474c3c2ca7aa4118132330bd9bbcf1914470b1d094818705239da"
   }
  }
 },
 "nbformat": 4,
 "nbformat_minor": 2
}
