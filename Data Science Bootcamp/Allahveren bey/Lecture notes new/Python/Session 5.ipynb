{
 "cells": [
  {
   "cell_type": "markdown",
   "metadata": {},
   "source": [
    "# Coffee Machine Project"
   ]
  },
  {
   "cell_type": "code",
   "execution_count": 1,
   "metadata": {},
   "outputs": [
    {
     "name": "stdout",
     "output_type": "stream",
     "text": [
      "Please insert coins.\n",
      "Here is $1.7 in change.\n",
      "Here is your latte ☕️. Enjoy!\n",
      "​Sorry there is not enough water.\n",
      "Water: 100ml\n",
      "Milk: 50ml\n",
      "Coffee: 76g\n",
      "Money: $2.5\n",
      "Water: 100ml\n",
      "Milk: 50ml\n",
      "Coffee: 76g\n",
      "Money: $2.5\n"
     ]
    }
   ],
   "source": [
    "MENU = {\n",
    "    \"espresso\": {\n",
    "        \"ingredients\": {\n",
    "            \"water\": 50,\n",
    "            \"coffee\": 18,\n",
    "        },\n",
    "        \"cost\": 1.5,\n",
    "    },\n",
    "    \"latte\": {\n",
    "        \"ingredients\": {\n",
    "            \"water\": 200,\n",
    "            \"milk\": 150,\n",
    "            \"coffee\": 24,\n",
    "        },\n",
    "        \"cost\": 2.5,\n",
    "    },\n",
    "    \"cappuccino\": {\n",
    "        \"ingredients\": {\n",
    "            \"water\": 250,\n",
    "            \"milk\": 100,\n",
    "            \"coffee\": 24,\n",
    "        },\n",
    "        \"cost\": 3.0,\n",
    "    }\n",
    "}\n",
    "\n",
    "profit = 0\n",
    "resources = {\n",
    "    \"water\": 300,\n",
    "    \"milk\": 200,\n",
    "    \"coffee\": 100,\n",
    "}\n",
    "\n",
    "\n",
    "def is_resource_sufficient(order_ingredients):\n",
    "    \"\"\"Returns True when order can be made, False if ingredients are insufficient.\"\"\"\n",
    "    for item in order_ingredients:\n",
    "        if order_ingredients[item] > resources[item]:\n",
    "            print(f\"​Sorry there is not enough {item}.\")\n",
    "            return False\n",
    "    return True\n",
    "\n",
    "\n",
    "def process_coins():\n",
    "    \"\"\"Returns the total calculated from coins inserted.\"\"\"\n",
    "    print(\"Please insert coins.\")\n",
    "    total = int(input(\"how many quarters?: \")) * 0.25\n",
    "    total += int(input(\"how many dimes?: \")) * 0.1\n",
    "    total += int(input(\"how many nickles?: \")) * 0.05\n",
    "    total += int(input(\"how many pennies?: \")) * 0.01\n",
    "    return total\n",
    "\n",
    "\n",
    "def is_transaction_successful(money_received, drink_cost):\n",
    "    \"\"\"Return True when the payment is accepted, or False if money is insufficient.\"\"\"\n",
    "    if money_received >= drink_cost:\n",
    "        change = round(money_received - drink_cost, 2)\n",
    "        print(f\"Here is ${change} in change.\")\n",
    "        global profit\n",
    "        profit += drink_cost\n",
    "        return True\n",
    "    else:\n",
    "        print(\"Sorry that's not enough money. Money refunded.\")\n",
    "        return False\n",
    "\n",
    "\n",
    "def make_coffee(drink_name, order_ingredients):\n",
    "    \"\"\"Deduct the required ingredients from the resources.\"\"\"\n",
    "    for item in order_ingredients:\n",
    "        resources[item] -= order_ingredients[item]\n",
    "    print(f\"Here is your {drink_name} ☕️. Enjoy!\")\n",
    "\n",
    "\n",
    "is_on = True\n",
    "\n",
    "while is_on:\n",
    "    choice = input(\"​What would you like? (espresso/latte/cappuccino): \")\n",
    "    if choice == \"off\":\n",
    "        is_on = False\n",
    "    elif choice == \"report\":\n",
    "        print(f\"Water: {resources['water']}ml\")\n",
    "        print(f\"Milk: {resources['milk']}ml\")\n",
    "        print(f\"Coffee: {resources['coffee']}g\")\n",
    "        print(f\"Money: ${profit}\")\n",
    "    else:\n",
    "        drink = MENU[choice]\n",
    "        if is_resource_sufficient(drink[\"ingredients\"]):\n",
    "            payment = process_coins()\n",
    "            if is_transaction_successful(payment, drink[\"cost\"]):\n",
    "                make_coffee(choice, drink[\"ingredients\"])\n",
    "\n",
    "\n",
    "\n",
    "\n",
    "\n",
    "\n",
    "\n",
    "\n"
   ]
  },
  {
   "cell_type": "markdown",
   "metadata": {},
   "source": [
    "# Git, Github "
   ]
  },
  {
   "cell_type": "markdown",
   "metadata": {},
   "source": [
    "- git init\n",
    "- git clone\n",
    "- git status\n",
    "- git add .\n",
    "- git commit -m \"something\"\n",
    "- git push\n",
    "- git log"
   ]
  },
  {
   "cell_type": "markdown",
   "metadata": {},
   "source": [
    "# SQL"
   ]
  },
  {
   "cell_type": "markdown",
   "metadata": {},
   "source": [
    "cx_oracle - oracle database"
   ]
  },
  {
   "cell_type": "code",
   "execution_count": 10,
   "metadata": {},
   "outputs": [],
   "source": [
    "# importing database module\n",
    "import cx_Oracle\n",
    "import psycopg2\n",
    "import sqlite3"
   ]
  },
  {
   "cell_type": "code",
   "execution_count": 11,
   "metadata": {},
   "outputs": [],
   "source": [
    "# establishing connection with python and oracle\n",
    "# conn = cx_Oracle.connect('scott/tiger@localhost')\n",
    "\n",
    "# conn = psycopg2.connect(database='postgres', user='postgres', password='1966')\n",
    "\n",
    "conn = sqlite3.connect('db.sqlite3')\n"
   ]
  },
  {
   "cell_type": "code",
   "execution_count": 12,
   "metadata": {},
   "outputs": [],
   "source": [
    "# creating cursor\n",
    "cursor = conn.cursor()"
   ]
  },
  {
   "cell_type": "code",
   "execution_count": 14,
   "metadata": {},
   "outputs": [
    {
     "data": {
      "text/plain": [
       "<sqlite3.Cursor at 0x219b1cc0c00>"
      ]
     },
     "execution_count": 14,
     "metadata": {},
     "output_type": "execute_result"
    }
   ],
   "source": [
    "# execute a query\n",
    "cursor.execute('''CREATE TABLE IF NOT EXISTS users(\n",
    "        id INTEGER PRIMARY KEY,\n",
    "        name TEXT,\n",
    "        phone TEXT,\n",
    "        email TEXT,\n",
    "        password TEXT\n",
    "    ) ''')"
   ]
  },
  {
   "cell_type": "code",
   "execution_count": null,
   "metadata": {},
   "outputs": [],
   "source": [
    "# execute many queries \n",
    "# cursor.executemany()"
   ]
  },
  {
   "cell_type": "code",
   "execution_count": 18,
   "metadata": {},
   "outputs": [],
   "source": [
    "users = [('a','1', 'a@b.com', 'a1'),\n",
    "         ('b','2', 'b@b.com', 'b1'),\n",
    "         ('c','3', 'c@b.com', 'c1'),\n",
    "         ('c','3', 'c@b.com', 'c1')]\n",
    "cursor.executemany(''' INSERT INTO users(name, phone, email, password) VALUES(?,?,?,?)''', users)\n",
    "conn.commit()"
   ]
  },
  {
   "cell_type": "code",
   "execution_count": 22,
   "metadata": {},
   "outputs": [
    {
     "data": {
      "text/plain": [
       "[(1, 'a', '1', 'a@b.com', 'a1'),\n",
       " (2, 'b', '2', 'b@b.com', 'b1'),\n",
       " (3, 'c', '3', 'c@b.com', 'c1'),\n",
       " (4, 'c', '3', 'c@b.com', 'c1'),\n",
       " (5, 'a', '1', 'a@b.com', 'a1'),\n",
       " (6, 'b', '2', 'b@b.com', 'b1'),\n",
       " (7, 'c', '3', 'c@b.com', 'c1'),\n",
       " (8, 'c', '3', 'c@b.com', 'c1')]"
      ]
     },
     "execution_count": 22,
     "metadata": {},
     "output_type": "execute_result"
    }
   ],
   "source": [
    "cursor.execute(\"\"\"SELECT * FROM users\"\"\").fetchall()"
   ]
  },
  {
   "cell_type": "code",
   "execution_count": 19,
   "metadata": {},
   "outputs": [
    {
     "data": {
      "text/plain": [
       "[]"
      ]
     },
     "execution_count": 19,
     "metadata": {},
     "output_type": "execute_result"
    }
   ],
   "source": [
    "# fetching results\n",
    "\n",
    "# fetching one row only\n",
    "# cursor.fetchone()\n",
    "\n",
    "# fetching all rows\n",
    "cursor.fetchall()\n",
    "\n",
    "# fetch n number of rows\n",
    "# cursor.fetchmany(n)"
   ]
  },
  {
   "cell_type": "code",
   "execution_count": 15,
   "metadata": {},
   "outputs": [],
   "source": [
    "# commit or rollback\n",
    "conn.commit()\n",
    "\n",
    "# conn.rollback()1"
   ]
  },
  {
   "cell_type": "code",
   "execution_count": null,
   "metadata": {},
   "outputs": [],
   "source": [
    "# close objects\n",
    "\n",
    "cursor.close()\n",
    "conn.close()\n"
   ]
  }
 ],
 "metadata": {
  "kernelspec": {
   "display_name": "Python 3.9.12 ('selenium')",
   "language": "python",
   "name": "python3"
  },
  "language_info": {
   "codemirror_mode": {
    "name": "ipython",
    "version": 3
   },
   "file_extension": ".py",
   "mimetype": "text/x-python",
   "name": "python",
   "nbconvert_exporter": "python",
   "pygments_lexer": "ipython3",
   "version": "3.9.12"
  },
  "orig_nbformat": 4,
  "vscode": {
   "interpreter": {
    "hash": "a49d6986c6eaa757219e9e24f96f2ecda457eef285604a40f3d4cd5fe5e2c5e5"
   }
  }
 },
 "nbformat": 4,
 "nbformat_minor": 2
}
