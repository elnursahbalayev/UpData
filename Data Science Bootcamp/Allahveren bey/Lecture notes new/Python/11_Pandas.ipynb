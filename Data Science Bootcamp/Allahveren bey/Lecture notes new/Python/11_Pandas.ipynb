{
 "cells": [
  {
   "cell_type": "markdown",
   "metadata": {},
   "source": [
    "# Pandas"
   ]
  },
  {
   "cell_type": "markdown",
   "metadata": {
    "_uuid": "8851575f447385ce4440ddb0247c64bca54fd46e"
   },
   "source": [
    "# **Pandas nədir?** <a id=\"2\"></a>\n",
    "Pandas  tabular data ilə rahat işləmək üçün istifadə olunan open-source python kitabxanasıdır."
   ]
  },
  {
   "cell_type": "markdown",
   "metadata": {
    "_uuid": "4f0d13801b0c7e0cac286cb5219ccf2d39047225"
   },
   "source": [
    "# **Pandas kitabxanası** <a id=\"3\"></a>\n",
    "<hr>"
   ]
  },
  {
   "cell_type": "code",
   "execution_count": 17,
   "metadata": {
    "_cell_guid": "b1076dfc-b9ad-4769-8c92-a6c4dae69d19",
    "_uuid": "8f2839f25d086af736a60e9eeb907d3b93b6e0e5"
   },
   "outputs": [],
   "source": [
    "import numpy as np \n",
    "import pandas as pd # import in pandas\n",
    "from IPython.display import Image"
   ]
  },
  {
   "cell_type": "markdown",
   "metadata": {
    "_uuid": "a426ae53d18d45d00983d551db00a7467187d619"
   },
   "source": [
    "# **Pandas Data Strukturu** <a id=\"4\"></a>\n",
    "<hr>\n",
    "\n",
    "Pandas-da iki data strukturu var. Bunlar series və dataframe-dir.\n",
    "\n",
    "### **Series** <a id=\"5\"></a>\n",
    "\n",
    "Series bir-ölçülü etiketlənmiş array-dir. İçinə hər hansı bir tip data yerləşdirə bilər.\n"
   ]
  },
  {
   "cell_type": "code",
   "execution_count": 3,
   "metadata": {
    "_uuid": "1263fb3f8afa0fc2b233693bb8b14305be64a868"
   },
   "outputs": [
    {
     "data": {
      "text/plain": [
       "a    3\n",
       "b   -5\n",
       "c    7\n",
       "d    4\n",
       "dtype: int64"
      ]
     },
     "execution_count": 3,
     "metadata": {},
     "output_type": "execute_result"
    }
   ],
   "source": [
    "mySeries = pd.Series([3,-5,7,4], index=['a','b','c','d'])\n",
    "mySeries\n"
   ]
  },
  {
   "cell_type": "code",
   "execution_count": 4,
   "metadata": {},
   "outputs": [
    {
     "data": {
      "text/plain": [
       "pandas.core.series.Series"
      ]
     },
     "execution_count": 4,
     "metadata": {},
     "output_type": "execute_result"
    }
   ],
   "source": [
    "type(mySeries)"
   ]
  },
  {
   "cell_type": "markdown",
   "metadata": {
    "_uuid": "2b73b3f939dde85b87b827c6ce48887598c5f206"
   },
   "source": [
    "### **DataFrame** <a id=\"6\"></a>\n",
    "\n",
    "Dataframe iki-ölçülü data strukturudur. Dataframe-lər sütunlarla işləyir."
   ]
  },
  {
   "cell_type": "code",
   "execution_count": 5,
   "metadata": {
    "_uuid": "5fe39122825e7b4ad3b51dd48fc265326343f289"
   },
   "outputs": [
    {
     "data": {
      "text/html": [
       "<div>\n",
       "<style scoped>\n",
       "    .dataframe tbody tr th:only-of-type {\n",
       "        vertical-align: middle;\n",
       "    }\n",
       "\n",
       "    .dataframe tbody tr th {\n",
       "        vertical-align: top;\n",
       "    }\n",
       "\n",
       "    .dataframe thead th {\n",
       "        text-align: right;\n",
       "    }\n",
       "</style>\n",
       "<table border=\"1\" class=\"dataframe\">\n",
       "  <thead>\n",
       "    <tr style=\"text-align: right;\">\n",
       "      <th></th>\n",
       "      <th>Country</th>\n",
       "      <th>Capital</th>\n",
       "      <th>Population</th>\n",
       "    </tr>\n",
       "  </thead>\n",
       "  <tbody>\n",
       "    <tr>\n",
       "      <th>0</th>\n",
       "      <td>Belgium</td>\n",
       "      <td>Brussels</td>\n",
       "      <td>1234</td>\n",
       "    </tr>\n",
       "    <tr>\n",
       "      <th>1</th>\n",
       "      <td>India</td>\n",
       "      <td>New Delhi</td>\n",
       "      <td>1234</td>\n",
       "    </tr>\n",
       "    <tr>\n",
       "      <th>2</th>\n",
       "      <td>Brazil</td>\n",
       "      <td>Brassilia</td>\n",
       "      <td>1234</td>\n",
       "    </tr>\n",
       "  </tbody>\n",
       "</table>\n",
       "</div>"
      ],
      "text/plain": [
       "   Country    Capital  Population\n",
       "0  Belgium   Brussels        1234\n",
       "1    India  New Delhi        1234\n",
       "2   Brazil  Brassilia        1234"
      ]
     },
     "execution_count": 5,
     "metadata": {},
     "output_type": "execute_result"
    }
   ],
   "source": [
    "data = {'Country' : ['Belgium', 'India', 'Brazil' ],\n",
    "        'Capital': ['Brussels', 'New Delhi', 'Brassilia'],\n",
    "        'Population': [1234,1234,1234]}\n",
    "datas = pd.DataFrame(data, columns=['Country','Capital','Population'])\n",
    "datas"
   ]
  },
  {
   "cell_type": "code",
   "execution_count": 6,
   "metadata": {},
   "outputs": [
    {
     "name": "stdout",
     "output_type": "stream",
     "text": [
      "<class 'dict'>\n",
      "<class 'pandas.core.frame.DataFrame'>\n"
     ]
    }
   ],
   "source": [
    "print(type(data))\n",
    "print(type(datas))"
   ]
  },
  {
   "cell_type": "markdown",
   "metadata": {
    "_uuid": "1316f32ba568af226f868caf2b0e693130a5bb5f"
   },
   "source": [
    "# **Import Library** <a id=\"7\"></a>\n",
    "<hr>\n",
    "\n",
    "\n",
    "Pandas ilə CSV, Excel və SQL bazalarını aça bilərik. Bu metodun yalnız CSV və Excel faylları üçün necə istifadə ediləcəyini göstərəcəm.\n",
    "\n",
    "### **CSV(comma - separated values)** <a id=\"8\"></a>\n",
    "\n",
    "CSV fayllarını açmaq və oxumaq çox asandır və CSV faylını yenidən yazmaq da asandır."
   ]
  },
  {
   "cell_type": "code",
   "execution_count": 7,
   "metadata": {
    "_uuid": "504c6eeb8668b0a46380e5e24f314269284e119d"
   },
   "outputs": [
    {
     "data": {
      "text/plain": [
       "pandas.core.frame.DataFrame"
      ]
     },
     "execution_count": 7,
     "metadata": {},
     "output_type": "execute_result"
    }
   ],
   "source": [
    "df = pd.read_csv('StockPrices.csv')\n",
    "type(df)\n",
    "# Əgər Python faylı ilə CSV faylının yerində deyilsə, bu şəkildə bu şəkildə yapılmalıdır.\n",
    "# df = pd.read_csv('/home/desktop/Iris.csv')"
   ]
  },
  {
   "cell_type": "markdown",
   "metadata": {
    "_uuid": "644c4eceafba990426b635cd66cb49a4be34de0a"
   },
   "source": [
    "### **Excel** <a id=\"9\"></a>\n"
   ]
  },
  {
   "cell_type": "code",
   "execution_count": 5,
   "metadata": {
    "_uuid": "468b5105d9feffb1d54cb7752cc57a07687e61dc"
   },
   "outputs": [],
   "source": [
    "# pd.read_excel('filename')\n",
    "# pd.to_excel('dir/dataFrame.xlsx', sheet_name='Sheet1')"
   ]
  },
  {
   "cell_type": "markdown",
   "metadata": {
    "_uuid": "3b7d9b79a7b22a994648e4fe7cd7cd5622aae105"
   },
   "source": [
    "# **DataFrame yaradılması** <a id=\"12\"></a>\n",
    "<mark>[ ](#0)\n",
    "<hr>"
   ]
  },
  {
   "cell_type": "code",
   "execution_count": 8,
   "metadata": {
    "_uuid": "0cf5537b0c3930da09e825bdf5a0058456c10715"
   },
   "outputs": [
    {
     "data": {
      "text/html": [
       "<div>\n",
       "<style scoped>\n",
       "    .dataframe tbody tr th:only-of-type {\n",
       "        vertical-align: middle;\n",
       "    }\n",
       "\n",
       "    .dataframe tbody tr th {\n",
       "        vertical-align: top;\n",
       "    }\n",
       "\n",
       "    .dataframe thead th {\n",
       "        text-align: right;\n",
       "    }\n",
       "</style>\n",
       "<table border=\"1\" class=\"dataframe\">\n",
       "  <thead>\n",
       "    <tr style=\"text-align: right;\">\n",
       "      <th></th>\n",
       "      <th>0</th>\n",
       "      <th>1</th>\n",
       "      <th>2</th>\n",
       "      <th>3</th>\n",
       "      <th>4</th>\n",
       "    </tr>\n",
       "  </thead>\n",
       "  <tbody>\n",
       "    <tr>\n",
       "      <th>0</th>\n",
       "      <td>0.342499</td>\n",
       "      <td>0.070522</td>\n",
       "      <td>0.204225</td>\n",
       "      <td>0.660444</td>\n",
       "      <td>0.297547</td>\n",
       "    </tr>\n",
       "    <tr>\n",
       "      <th>1</th>\n",
       "      <td>0.731301</td>\n",
       "      <td>0.991722</td>\n",
       "      <td>0.107624</td>\n",
       "      <td>0.546981</td>\n",
       "      <td>0.301043</td>\n",
       "    </tr>\n",
       "    <tr>\n",
       "      <th>2</th>\n",
       "      <td>0.344547</td>\n",
       "      <td>0.004509</td>\n",
       "      <td>0.743975</td>\n",
       "      <td>0.920044</td>\n",
       "      <td>0.678128</td>\n",
       "    </tr>\n",
       "    <tr>\n",
       "      <th>3</th>\n",
       "      <td>0.156291</td>\n",
       "      <td>0.846931</td>\n",
       "      <td>0.099024</td>\n",
       "      <td>0.630790</td>\n",
       "      <td>0.066022</td>\n",
       "    </tr>\n",
       "    <tr>\n",
       "      <th>4</th>\n",
       "      <td>0.359270</td>\n",
       "      <td>0.495790</td>\n",
       "      <td>0.978261</td>\n",
       "      <td>0.402193</td>\n",
       "      <td>0.070037</td>\n",
       "    </tr>\n",
       "    <tr>\n",
       "      <th>5</th>\n",
       "      <td>0.385741</td>\n",
       "      <td>0.643922</td>\n",
       "      <td>0.813919</td>\n",
       "      <td>0.699281</td>\n",
       "      <td>0.792407</td>\n",
       "    </tr>\n",
       "    <tr>\n",
       "      <th>6</th>\n",
       "      <td>0.910513</td>\n",
       "      <td>0.214008</td>\n",
       "      <td>0.509478</td>\n",
       "      <td>0.336121</td>\n",
       "      <td>0.214665</td>\n",
       "    </tr>\n",
       "    <tr>\n",
       "      <th>7</th>\n",
       "      <td>0.204943</td>\n",
       "      <td>0.079375</td>\n",
       "      <td>0.205522</td>\n",
       "      <td>0.032204</td>\n",
       "      <td>0.412043</td>\n",
       "    </tr>\n",
       "    <tr>\n",
       "      <th>8</th>\n",
       "      <td>0.615615</td>\n",
       "      <td>0.313284</td>\n",
       "      <td>0.489592</td>\n",
       "      <td>0.179026</td>\n",
       "      <td>0.198381</td>\n",
       "    </tr>\n",
       "    <tr>\n",
       "      <th>9</th>\n",
       "      <td>0.468463</td>\n",
       "      <td>0.235842</td>\n",
       "      <td>0.772537</td>\n",
       "      <td>0.507307</td>\n",
       "      <td>0.425646</td>\n",
       "    </tr>\n",
       "    <tr>\n",
       "      <th>10</th>\n",
       "      <td>0.901363</td>\n",
       "      <td>0.680534</td>\n",
       "      <td>0.960105</td>\n",
       "      <td>0.394168</td>\n",
       "      <td>0.737046</td>\n",
       "    </tr>\n",
       "    <tr>\n",
       "      <th>11</th>\n",
       "      <td>0.679882</td>\n",
       "      <td>0.749769</td>\n",
       "      <td>0.559883</td>\n",
       "      <td>0.607470</td>\n",
       "      <td>0.166974</td>\n",
       "    </tr>\n",
       "    <tr>\n",
       "      <th>12</th>\n",
       "      <td>0.159164</td>\n",
       "      <td>0.601377</td>\n",
       "      <td>0.893614</td>\n",
       "      <td>0.052709</td>\n",
       "      <td>0.452417</td>\n",
       "    </tr>\n",
       "    <tr>\n",
       "      <th>13</th>\n",
       "      <td>0.618674</td>\n",
       "      <td>0.311397</td>\n",
       "      <td>0.258769</td>\n",
       "      <td>0.437074</td>\n",
       "      <td>0.127128</td>\n",
       "    </tr>\n",
       "    <tr>\n",
       "      <th>14</th>\n",
       "      <td>0.560385</td>\n",
       "      <td>0.730212</td>\n",
       "      <td>0.561764</td>\n",
       "      <td>0.926147</td>\n",
       "      <td>0.166771</td>\n",
       "    </tr>\n",
       "    <tr>\n",
       "      <th>15</th>\n",
       "      <td>0.886574</td>\n",
       "      <td>0.053514</td>\n",
       "      <td>0.026709</td>\n",
       "      <td>0.627216</td>\n",
       "      <td>0.588403</td>\n",
       "    </tr>\n",
       "    <tr>\n",
       "      <th>16</th>\n",
       "      <td>0.195881</td>\n",
       "      <td>0.012497</td>\n",
       "      <td>0.210902</td>\n",
       "      <td>0.696229</td>\n",
       "      <td>0.630642</td>\n",
       "    </tr>\n",
       "    <tr>\n",
       "      <th>17</th>\n",
       "      <td>0.334311</td>\n",
       "      <td>0.105646</td>\n",
       "      <td>0.379632</td>\n",
       "      <td>0.833760</td>\n",
       "      <td>0.584436</td>\n",
       "    </tr>\n",
       "    <tr>\n",
       "      <th>18</th>\n",
       "      <td>0.910727</td>\n",
       "      <td>0.869369</td>\n",
       "      <td>0.879744</td>\n",
       "      <td>0.442520</td>\n",
       "      <td>0.957062</td>\n",
       "    </tr>\n",
       "    <tr>\n",
       "      <th>19</th>\n",
       "      <td>0.843502</td>\n",
       "      <td>0.586784</td>\n",
       "      <td>0.497206</td>\n",
       "      <td>0.620127</td>\n",
       "      <td>0.802700</td>\n",
       "    </tr>\n",
       "  </tbody>\n",
       "</table>\n",
       "</div>"
      ],
      "text/plain": [
       "           0         1         2         3         4\n",
       "0   0.342499  0.070522  0.204225  0.660444  0.297547\n",
       "1   0.731301  0.991722  0.107624  0.546981  0.301043\n",
       "2   0.344547  0.004509  0.743975  0.920044  0.678128\n",
       "3   0.156291  0.846931  0.099024  0.630790  0.066022\n",
       "4   0.359270  0.495790  0.978261  0.402193  0.070037\n",
       "5   0.385741  0.643922  0.813919  0.699281  0.792407\n",
       "6   0.910513  0.214008  0.509478  0.336121  0.214665\n",
       "7   0.204943  0.079375  0.205522  0.032204  0.412043\n",
       "8   0.615615  0.313284  0.489592  0.179026  0.198381\n",
       "9   0.468463  0.235842  0.772537  0.507307  0.425646\n",
       "10  0.901363  0.680534  0.960105  0.394168  0.737046\n",
       "11  0.679882  0.749769  0.559883  0.607470  0.166974\n",
       "12  0.159164  0.601377  0.893614  0.052709  0.452417\n",
       "13  0.618674  0.311397  0.258769  0.437074  0.127128\n",
       "14  0.560385  0.730212  0.561764  0.926147  0.166771\n",
       "15  0.886574  0.053514  0.026709  0.627216  0.588403\n",
       "16  0.195881  0.012497  0.210902  0.696229  0.630642\n",
       "17  0.334311  0.105646  0.379632  0.833760  0.584436\n",
       "18  0.910727  0.869369  0.879744  0.442520  0.957062\n",
       "19  0.843502  0.586784  0.497206  0.620127  0.802700"
      ]
     },
     "execution_count": 8,
     "metadata": {},
     "output_type": "execute_result"
    }
   ],
   "source": [
    "pd.DataFrame(np.random.rand(20,5)) # 5 sütun və 20 sətir"
   ]
  },
  {
   "cell_type": "markdown",
   "metadata": {
    "_uuid": "4b6898acc1f32bab20b37fe7b0dee8f47a321301"
   },
   "source": [
    "# **Data haqda ümumi məlumat** <a id=\"13\"></a>\n",
    " \n",
    "<hr>\n"
   ]
  },
  {
   "cell_type": "markdown",
   "metadata": {
    "_uuid": "bd615451f4c5670bd4e8fa3f727d1c0f1d82dbed"
   },
   "source": [
    "### **df.info()** <a id=\"14\"></a>\n",
    "Bu kod data haqqında ümumi məlumat verir.\n",
    "\n",
    "* **RangeIndex:** dataframe-dən əvvəlki sətirlər arasındakı index\n",
    "* **Data Columns:** dataframe-dən sütunlar\n",
    "* **Columns:** dataframe-dən sütunların adları\n",
    "* **dtypes:** dataframe-dən sütunların tipi\n",
    "* **Memory Usage:** dataframe-dən istifadə edilən memory-i\n",
    "\n",
    " \n",
    "<hr>"
   ]
  },
  {
   "cell_type": "code",
   "execution_count": 9,
   "metadata": {
    "_uuid": "10c546875a26f15d71ae9517d1f165b3e9a70781"
   },
   "outputs": [
    {
     "name": "stdout",
     "output_type": "stream",
     "text": [
      "<class 'pandas.core.frame.DataFrame'>\n",
      "RangeIndex: 1989 entries, 0 to 1988\n",
      "Data columns (total 7 columns):\n",
      " #   Column     Non-Null Count  Dtype  \n",
      "---  ------     --------------  -----  \n",
      " 0   Date       1989 non-null   object \n",
      " 1   Open       1989 non-null   float64\n",
      " 2   High       1989 non-null   float64\n",
      " 3   Low        1989 non-null   float64\n",
      " 4   Close      1989 non-null   float64\n",
      " 5   Volume     1989 non-null   int64  \n",
      " 6   Adj Close  1989 non-null   float64\n",
      "dtypes: float64(5), int64(1), object(1)\n",
      "memory usage: 108.9+ KB\n"
     ]
    }
   ],
   "source": [
    "df.info()"
   ]
  },
  {
   "cell_type": "markdown",
   "metadata": {
    "_uuid": "f885b5ef0f5cde44dc5fbdffac16695503b35fc6"
   },
   "source": [
    "### **df.shape()** <a id=\"15\"></a>\n",
    "Burda dataframe-dən sətirlər və sütunların sayını göstərir.\n",
    "\n",
    " \n",
    "<hr>"
   ]
  },
  {
   "cell_type": "code",
   "execution_count": 10,
   "metadata": {
    "_uuid": "6a2f6f6ef1d420c6ccdb2d52b1ab531fb1148d24"
   },
   "outputs": [
    {
     "data": {
      "text/plain": [
       "(1989, 7)"
      ]
     },
     "execution_count": 10,
     "metadata": {},
     "output_type": "execute_result"
    }
   ],
   "source": [
    "df.shape"
   ]
  },
  {
   "cell_type": "markdown",
   "metadata": {
    "_uuid": "617ea072afc3ca84a35ccd9b451ea32ead59823f"
   },
   "source": [
    "### **df.index** <a id=\"16\"></a>\n",
    "Bu kod ümumi index sayını göstərir.\n",
    "\n",
    " \n",
    "<hr>"
   ]
  },
  {
   "cell_type": "code",
   "execution_count": 11,
   "metadata": {
    "_uuid": "7faf88abf28731ab59c9838c665026b6348ce32d"
   },
   "outputs": [
    {
     "data": {
      "text/plain": [
       "RangeIndex(start=0, stop=1989, step=1)"
      ]
     },
     "execution_count": 11,
     "metadata": {},
     "output_type": "execute_result"
    }
   ],
   "source": [
    "df.index"
   ]
  },
  {
   "cell_type": "markdown",
   "metadata": {
    "_uuid": "35bc3f0f534f3882d7462fa91d51f57e8361327b"
   },
   "source": [
    "### **df.columns** <a id=\"17\"></a>\n",
    "Bu kod dataframe-dən sütunların adlarını göstərir.\n",
    "\n",
    " \n",
    "<hr>"
   ]
  },
  {
   "cell_type": "code",
   "execution_count": 12,
   "metadata": {
    "_uuid": "e31b26213b05a838e5376d370e14acba61790a2e"
   },
   "outputs": [
    {
     "data": {
      "text/plain": [
       "Index(['Date', 'Open', 'High', 'Low', 'Close', 'Volume', 'Adj Close'], dtype='object')"
      ]
     },
     "execution_count": 12,
     "metadata": {},
     "output_type": "execute_result"
    }
   ],
   "source": [
    "df.columns"
   ]
  },
  {
   "cell_type": "markdown",
   "metadata": {
    "_uuid": "9c1b1229f876a1791c34337b13b789106d0bcfef"
   },
   "source": [
    "### **df.count()** <a id=\"18\"></a>\n",
    "Bu kod hər sütunda olan data-lərin sayını göstərir.\n",
    "\n",
    " \n",
    "<hr>"
   ]
  },
  {
   "cell_type": "code",
   "execution_count": 13,
   "metadata": {
    "_uuid": "3509654c02ace990c098b9cdef6d43a4d35c2454"
   },
   "outputs": [
    {
     "data": {
      "text/plain": [
       "Date         1989\n",
       "Open         1989\n",
       "High         1989\n",
       "Low          1989\n",
       "Close        1989\n",
       "Volume       1989\n",
       "Adj Close    1989\n",
       "dtype: int64"
      ]
     },
     "execution_count": 13,
     "metadata": {},
     "output_type": "execute_result"
    }
   ],
   "source": [
    "df.count()"
   ]
  },
  {
   "cell_type": "markdown",
   "metadata": {
    "_uuid": "8a36d94e3e0d961dbd674c808dc14be1a0958371"
   },
   "source": [
    "### **df.min()** <a id=\"21\"></a>\n",
    "Bu kod hər sütunda olan data-lərin minimumunu göstərir.\n",
    "\n",
    " \n",
    "<hr>"
   ]
  },
  {
   "cell_type": "code",
   "execution_count": 14,
   "metadata": {
    "_uuid": "dcef4961748e9eb2b0c1311265d5e2c69a8c8e4a"
   },
   "outputs": [
    {
     "data": {
      "text/plain": [
       "Date          2008-08-08\n",
       "Open         6547.009766\n",
       "High         6709.609863\n",
       "Low          6469.950195\n",
       "Close        6547.049805\n",
       "Volume           8410000\n",
       "Adj Close    6547.049805\n",
       "dtype: object"
      ]
     },
     "execution_count": 14,
     "metadata": {},
     "output_type": "execute_result"
    }
   ],
   "source": [
    "df.min()"
   ]
  },
  {
   "cell_type": "markdown",
   "metadata": {
    "_uuid": "6387ac8877231eeb35e210275d9f0c4fe4bab90b"
   },
   "source": [
    "### **df.max()** <a id=\"22\"></a>\n",
    "Bu kod hər sütunda olan data-lərin maksimumunu göstərir.\n",
    " \n",
    "<hr>"
   ]
  },
  {
   "cell_type": "code",
   "execution_count": 15,
   "metadata": {
    "_uuid": "bce741708b2a6387ccdf7bccf7bc44d37307ad31"
   },
   "outputs": [
    {
     "data": {
      "text/plain": [
       "Date           2016-07-01\n",
       "Open         18315.060547\n",
       "High         18351.359375\n",
       "Low          18272.560547\n",
       "Close        18312.390625\n",
       "Volume          674920000\n",
       "Adj Close    18312.390625\n",
       "dtype: object"
      ]
     },
     "execution_count": 15,
     "metadata": {},
     "output_type": "execute_result"
    }
   ],
   "source": [
    "df.max()"
   ]
  },
  {
   "cell_type": "markdown",
   "metadata": {
    "_uuid": "97f89c5cc2ca00c8a9848ac77066fee54f935ec3"
   },
   "source": [
    "### **df.describe()**  <a id=\"25\"></a>\n",
    "This Code provides basic statistical information about the data. The numerical column is based.\n",
    "Bu kod dataframe-dən sütunların ümumi statistikalarını göstərir.\n",
    "\n",
    "* **count:** dataframe-də ümumi data sayı\n",
    "* **mean: **dataframe-dən ümumi data-lərin ortalaması\n",
    "* **std:** dataframe-dən ümumi data-lərin standart deviation-u\n",
    "* **min:** dataframe-dən ümumi data-lərin minimumu\n",
    "* **25%:** dataframe-dən ümumi data-lərin 25%-ının yeri\n",
    "* **50%:** dataframe-dən ümumi data-lərin 50%-ının yeri\n",
    "* **75%:** dataframe-dən ümumi data-lərin 75%-ının yeri\n",
    "* **max:** dataframe-dən ümumi data-lərin maximumu\n",
    "\n",
    " \n",
    "<hr>"
   ]
  },
  {
   "cell_type": "markdown",
   "metadata": {},
   "source": [
    "![](https://miro.medium.com/max/1400/1*vMcoKXjQzmIfsxQdEEC6kQ.jpeg)"
   ]
  },
  {
   "cell_type": "code",
   "execution_count": 21,
   "metadata": {
    "_uuid": "f75c57e9f16adc167f8148b2225111056ebbf432"
   },
   "outputs": [
    {
     "data": {
      "text/html": [
       "<div>\n",
       "<style scoped>\n",
       "    .dataframe tbody tr th:only-of-type {\n",
       "        vertical-align: middle;\n",
       "    }\n",
       "\n",
       "    .dataframe tbody tr th {\n",
       "        vertical-align: top;\n",
       "    }\n",
       "\n",
       "    .dataframe thead th {\n",
       "        text-align: right;\n",
       "    }\n",
       "</style>\n",
       "<table border=\"1\" class=\"dataframe\">\n",
       "  <thead>\n",
       "    <tr style=\"text-align: right;\">\n",
       "      <th></th>\n",
       "      <th>Open</th>\n",
       "      <th>High</th>\n",
       "      <th>Low</th>\n",
       "      <th>Close</th>\n",
       "      <th>Volume</th>\n",
       "      <th>Adj Close</th>\n",
       "    </tr>\n",
       "  </thead>\n",
       "  <tbody>\n",
       "    <tr>\n",
       "      <th>count</th>\n",
       "      <td>1989.000000</td>\n",
       "      <td>1989.000000</td>\n",
       "      <td>1989.000000</td>\n",
       "      <td>1989.000000</td>\n",
       "      <td>1.989000e+03</td>\n",
       "      <td>1989.000000</td>\n",
       "    </tr>\n",
       "    <tr>\n",
       "      <th>mean</th>\n",
       "      <td>13459.116048</td>\n",
       "      <td>13541.303173</td>\n",
       "      <td>13372.931728</td>\n",
       "      <td>13463.032255</td>\n",
       "      <td>1.628110e+08</td>\n",
       "      <td>13463.032255</td>\n",
       "    </tr>\n",
       "    <tr>\n",
       "      <th>std</th>\n",
       "      <td>3143.281634</td>\n",
       "      <td>3136.271725</td>\n",
       "      <td>3150.420934</td>\n",
       "      <td>3144.006996</td>\n",
       "      <td>9.392343e+07</td>\n",
       "      <td>3144.006996</td>\n",
       "    </tr>\n",
       "    <tr>\n",
       "      <th>min</th>\n",
       "      <td>6547.009766</td>\n",
       "      <td>6709.609863</td>\n",
       "      <td>6469.950195</td>\n",
       "      <td>6547.049805</td>\n",
       "      <td>8.410000e+06</td>\n",
       "      <td>6547.049805</td>\n",
       "    </tr>\n",
       "    <tr>\n",
       "      <th>25%</th>\n",
       "      <td>10907.339844</td>\n",
       "      <td>11000.980469</td>\n",
       "      <td>10824.759766</td>\n",
       "      <td>10913.379883</td>\n",
       "      <td>1.000000e+08</td>\n",
       "      <td>10913.379883</td>\n",
       "    </tr>\n",
       "    <tr>\n",
       "      <th>50%</th>\n",
       "      <td>13022.049805</td>\n",
       "      <td>13088.110352</td>\n",
       "      <td>12953.129883</td>\n",
       "      <td>13025.580078</td>\n",
       "      <td>1.351700e+08</td>\n",
       "      <td>13025.580078</td>\n",
       "    </tr>\n",
       "    <tr>\n",
       "      <th>75%</th>\n",
       "      <td>16477.699219</td>\n",
       "      <td>16550.070312</td>\n",
       "      <td>16392.769531</td>\n",
       "      <td>16478.410156</td>\n",
       "      <td>1.926000e+08</td>\n",
       "      <td>16478.410156</td>\n",
       "    </tr>\n",
       "    <tr>\n",
       "      <th>max</th>\n",
       "      <td>18315.060547</td>\n",
       "      <td>18351.359375</td>\n",
       "      <td>18272.560547</td>\n",
       "      <td>18312.390625</td>\n",
       "      <td>6.749200e+08</td>\n",
       "      <td>18312.390625</td>\n",
       "    </tr>\n",
       "  </tbody>\n",
       "</table>\n",
       "</div>"
      ],
      "text/plain": [
       "               Open          High           Low         Close        Volume  \\\n",
       "count   1989.000000   1989.000000   1989.000000   1989.000000  1.989000e+03   \n",
       "mean   13459.116048  13541.303173  13372.931728  13463.032255  1.628110e+08   \n",
       "std     3143.281634   3136.271725   3150.420934   3144.006996  9.392343e+07   \n",
       "min     6547.009766   6709.609863   6469.950195   6547.049805  8.410000e+06   \n",
       "25%    10907.339844  11000.980469  10824.759766  10913.379883  1.000000e+08   \n",
       "50%    13022.049805  13088.110352  12953.129883  13025.580078  1.351700e+08   \n",
       "75%    16477.699219  16550.070312  16392.769531  16478.410156  1.926000e+08   \n",
       "max    18315.060547  18351.359375  18272.560547  18312.390625  6.749200e+08   \n",
       "\n",
       "          Adj Close  \n",
       "count   1989.000000  \n",
       "mean   13463.032255  \n",
       "std     3144.006996  \n",
       "min     6547.049805  \n",
       "25%    10913.379883  \n",
       "50%    13025.580078  \n",
       "75%    16478.410156  \n",
       "max    18312.390625  "
      ]
     },
     "execution_count": 21,
     "metadata": {},
     "output_type": "execute_result"
    }
   ],
   "source": [
    "df.describe()"
   ]
  },
  {
   "cell_type": "markdown",
   "metadata": {
    "_uuid": "ee81ed576d22d6e350d59e961697231de83dbd6c"
   },
   "source": [
    "### **df.mean()**  <a id=\"26\"></a>\n",
    "Bu kod dataframe-dən sütunların ortalamasını göstərir.\n",
    "\n",
    " \n",
    "<hr>"
   ]
  },
  {
   "cell_type": "code",
   "execution_count": 22,
   "metadata": {
    "_uuid": "a48fe07b2e9edf425eea43ee8efc7208451053b8"
   },
   "outputs": [
    {
     "name": "stderr",
     "output_type": "stream",
     "text": [
      "C:\\Users\\aliyu\\AppData\\Local\\Temp\\ipykernel_13104\\3698961737.py:1: FutureWarning: Dropping of nuisance columns in DataFrame reductions (with 'numeric_only=None') is deprecated; in a future version this will raise TypeError.  Select only valid columns before calling the reduction.\n",
      "  df.mean()\n"
     ]
    },
    {
     "data": {
      "text/plain": [
       "Open         1.345912e+04\n",
       "High         1.354130e+04\n",
       "Low          1.337293e+04\n",
       "Close        1.346303e+04\n",
       "Volume       1.628110e+08\n",
       "Adj Close    1.346303e+04\n",
       "dtype: float64"
      ]
     },
     "execution_count": 22,
     "metadata": {},
     "output_type": "execute_result"
    }
   ],
   "source": [
    "df.mean()"
   ]
  },
  {
   "cell_type": "markdown",
   "metadata": {
    "_uuid": "9505e713279ca2d4f9ee8e9e8f493fc6fc1dffaf"
   },
   "source": [
    "### **df.median()**  <a id=\"27\"></a>\n",
    "Bu kod dataframe-dən sütunların medianlarını göstərir.\n",
    "\n",
    " \n",
    "<hr>"
   ]
  },
  {
   "cell_type": "code",
   "execution_count": 23,
   "metadata": {
    "_uuid": "e8f946be9ec391af5cf4cdc720bd86f08b1e11f8"
   },
   "outputs": [
    {
     "name": "stderr",
     "output_type": "stream",
     "text": [
      "C:\\Users\\aliyu\\AppData\\Local\\Temp\\ipykernel_13104\\530051474.py:1: FutureWarning: Dropping of nuisance columns in DataFrame reductions (with 'numeric_only=None') is deprecated; in a future version this will raise TypeError.  Select only valid columns before calling the reduction.\n",
      "  df.median()\n"
     ]
    },
    {
     "data": {
      "text/plain": [
       "Open         1.302205e+04\n",
       "High         1.308811e+04\n",
       "Low          1.295313e+04\n",
       "Close        1.302558e+04\n",
       "Volume       1.351700e+08\n",
       "Adj Close    1.302558e+04\n",
       "dtype: float64"
      ]
     },
     "execution_count": 23,
     "metadata": {},
     "output_type": "execute_result"
    }
   ],
   "source": [
    "df.median()"
   ]
  },
  {
   "cell_type": "markdown",
   "metadata": {
    "_uuid": "e6ef1d3c59446abef4af4e9a8f9e4c7091268d07"
   },
   "source": [
    "### **df.quantile([0.25,0.75])**  <a id=\"28\"></a>\n",
    "Bu kod dataframe-dən sütunların 0.25 və 0.75-inin yeri göstərir.\n",
    "\n",
    " \n",
    "<hr>"
   ]
  },
  {
   "cell_type": "code",
   "execution_count": 24,
   "metadata": {
    "_uuid": "8145c67dde8b9aba6803436d28cc7225445343a3"
   },
   "outputs": [
    {
     "data": {
      "text/html": [
       "<div>\n",
       "<style scoped>\n",
       "    .dataframe tbody tr th:only-of-type {\n",
       "        vertical-align: middle;\n",
       "    }\n",
       "\n",
       "    .dataframe tbody tr th {\n",
       "        vertical-align: top;\n",
       "    }\n",
       "\n",
       "    .dataframe thead th {\n",
       "        text-align: right;\n",
       "    }\n",
       "</style>\n",
       "<table border=\"1\" class=\"dataframe\">\n",
       "  <thead>\n",
       "    <tr style=\"text-align: right;\">\n",
       "      <th></th>\n",
       "      <th>Open</th>\n",
       "      <th>High</th>\n",
       "      <th>Low</th>\n",
       "      <th>Close</th>\n",
       "      <th>Volume</th>\n",
       "      <th>Adj Close</th>\n",
       "    </tr>\n",
       "  </thead>\n",
       "  <tbody>\n",
       "    <tr>\n",
       "      <th>0.25</th>\n",
       "      <td>10907.339844</td>\n",
       "      <td>11000.980469</td>\n",
       "      <td>10824.759766</td>\n",
       "      <td>10913.379883</td>\n",
       "      <td>100000000.0</td>\n",
       "      <td>10913.379883</td>\n",
       "    </tr>\n",
       "    <tr>\n",
       "      <th>0.75</th>\n",
       "      <td>16477.699219</td>\n",
       "      <td>16550.070312</td>\n",
       "      <td>16392.769531</td>\n",
       "      <td>16478.410156</td>\n",
       "      <td>192600000.0</td>\n",
       "      <td>16478.410156</td>\n",
       "    </tr>\n",
       "  </tbody>\n",
       "</table>\n",
       "</div>"
      ],
      "text/plain": [
       "              Open          High           Low         Close       Volume  \\\n",
       "0.25  10907.339844  11000.980469  10824.759766  10913.379883  100000000.0   \n",
       "0.75  16477.699219  16550.070312  16392.769531  16478.410156  192600000.0   \n",
       "\n",
       "         Adj Close  \n",
       "0.25  10913.379883  \n",
       "0.75  16478.410156  "
      ]
     },
     "execution_count": 24,
     "metadata": {},
     "output_type": "execute_result"
    }
   ],
   "source": [
    "df.quantile([0.25,0.75])"
   ]
  },
  {
   "cell_type": "markdown",
   "metadata": {
    "_uuid": "9dadcadc50fa2f35d0be27c491706ae64ddb5879"
   },
   "source": [
    "### **df.std()** <a id=\"30\"></a>\n",
    "Bu kod dataframe-dən sütunların standart deviation-u göstərir.\n",
    "\n",
    " \n",
    "<hr>"
   ]
  },
  {
   "cell_type": "code",
   "execution_count": 25,
   "metadata": {
    "_uuid": "dc29b13723a50b444d0892194aa9c131a6969217"
   },
   "outputs": [
    {
     "name": "stderr",
     "output_type": "stream",
     "text": [
      "C:\\Users\\aliyu\\AppData\\Local\\Temp\\ipykernel_13104\\3390915376.py:1: FutureWarning: Dropping of nuisance columns in DataFrame reductions (with 'numeric_only=None') is deprecated; in a future version this will raise TypeError.  Select only valid columns before calling the reduction.\n",
      "  df.std()\n"
     ]
    },
    {
     "data": {
      "text/plain": [
       "Open         3.143282e+03\n",
       "High         3.136272e+03\n",
       "Low          3.150421e+03\n",
       "Close        3.144007e+03\n",
       "Volume       9.392343e+07\n",
       "Adj Close    3.144007e+03\n",
       "dtype: float64"
      ]
     },
     "execution_count": 25,
     "metadata": {},
     "output_type": "execute_result"
    }
   ],
   "source": [
    "df.std()"
   ]
  },
  {
   "cell_type": "markdown",
   "metadata": {
    "_uuid": "dbbb7f7547fa7499cd81ef2e2ceb6e62e353f193"
   },
   "source": [
    "### **len(df)** <a id=\"34\"></a>\n",
    "Bu kod dataframe-dən ümumi data sayını göstərir.\n",
    "\n",
    " \n",
    "<hr>"
   ]
  },
  {
   "cell_type": "code",
   "execution_count": 26,
   "metadata": {
    "_uuid": "e773df58aa59556aea40bbd379b47cb99bfc5629"
   },
   "outputs": [
    {
     "data": {
      "text/plain": [
       "1989"
      ]
     },
     "execution_count": 26,
     "metadata": {},
     "output_type": "execute_result"
    }
   ],
   "source": [
    "len(df)"
   ]
  },
  {
   "cell_type": "markdown",
   "metadata": {
    "_uuid": "14ff3ff54a24aa3ad8996f3ef68e119a7b03f8f9"
   },
   "source": [
    "### **df.isnull()** <a id=\"35\"></a>\n",
    "Bu kod dataframe-dən null-lər varmı yoxlayır. True və ya False qaytarır.\n",
    "\n",
    " \n",
    "<hr>"
   ]
  },
  {
   "cell_type": "code",
   "execution_count": 27,
   "metadata": {
    "_uuid": "d6c4c3ed8f7bd639db1eb3487a5e61aff1651847"
   },
   "outputs": [
    {
     "data": {
      "text/html": [
       "<div>\n",
       "<style scoped>\n",
       "    .dataframe tbody tr th:only-of-type {\n",
       "        vertical-align: middle;\n",
       "    }\n",
       "\n",
       "    .dataframe tbody tr th {\n",
       "        vertical-align: top;\n",
       "    }\n",
       "\n",
       "    .dataframe thead th {\n",
       "        text-align: right;\n",
       "    }\n",
       "</style>\n",
       "<table border=\"1\" class=\"dataframe\">\n",
       "  <thead>\n",
       "    <tr style=\"text-align: right;\">\n",
       "      <th></th>\n",
       "      <th>Date</th>\n",
       "      <th>Open</th>\n",
       "      <th>High</th>\n",
       "      <th>Low</th>\n",
       "      <th>Close</th>\n",
       "      <th>Volume</th>\n",
       "      <th>Adj Close</th>\n",
       "    </tr>\n",
       "  </thead>\n",
       "  <tbody>\n",
       "    <tr>\n",
       "      <th>0</th>\n",
       "      <td>False</td>\n",
       "      <td>False</td>\n",
       "      <td>False</td>\n",
       "      <td>False</td>\n",
       "      <td>False</td>\n",
       "      <td>False</td>\n",
       "      <td>False</td>\n",
       "    </tr>\n",
       "    <tr>\n",
       "      <th>1</th>\n",
       "      <td>False</td>\n",
       "      <td>False</td>\n",
       "      <td>False</td>\n",
       "      <td>False</td>\n",
       "      <td>False</td>\n",
       "      <td>False</td>\n",
       "      <td>False</td>\n",
       "    </tr>\n",
       "    <tr>\n",
       "      <th>2</th>\n",
       "      <td>False</td>\n",
       "      <td>False</td>\n",
       "      <td>False</td>\n",
       "      <td>False</td>\n",
       "      <td>False</td>\n",
       "      <td>False</td>\n",
       "      <td>False</td>\n",
       "    </tr>\n",
       "    <tr>\n",
       "      <th>3</th>\n",
       "      <td>False</td>\n",
       "      <td>False</td>\n",
       "      <td>False</td>\n",
       "      <td>False</td>\n",
       "      <td>False</td>\n",
       "      <td>False</td>\n",
       "      <td>False</td>\n",
       "    </tr>\n",
       "    <tr>\n",
       "      <th>4</th>\n",
       "      <td>False</td>\n",
       "      <td>False</td>\n",
       "      <td>False</td>\n",
       "      <td>False</td>\n",
       "      <td>False</td>\n",
       "      <td>False</td>\n",
       "      <td>False</td>\n",
       "    </tr>\n",
       "  </tbody>\n",
       "</table>\n",
       "</div>"
      ],
      "text/plain": [
       "    Date   Open   High    Low  Close  Volume  Adj Close\n",
       "0  False  False  False  False  False   False      False\n",
       "1  False  False  False  False  False   False      False\n",
       "2  False  False  False  False  False   False      False\n",
       "3  False  False  False  False  False   False      False\n",
       "4  False  False  False  False  False   False      False"
      ]
     },
     "execution_count": 27,
     "metadata": {},
     "output_type": "execute_result"
    }
   ],
   "source": [
    "df.isnull().head()"
   ]
  },
  {
   "cell_type": "markdown",
   "metadata": {
    "_uuid": "9c2242ccb54b0cccecd0f5ebdfda70f454cb35d7"
   },
   "source": [
    "### **df.corr()** <a id=\"81\"></a>\n",
    "Bu kod dataframe-dən sütunların korelasyonlarını göstərir.\n",
    "\n",
    " \n",
    "<hr>"
   ]
  },
  {
   "cell_type": "code",
   "execution_count": 28,
   "metadata": {
    "_uuid": "7ad15ffbc630aa1ffbeebe5270844112e1c88b18"
   },
   "outputs": [
    {
     "data": {
      "text/html": [
       "<div>\n",
       "<style scoped>\n",
       "    .dataframe tbody tr th:only-of-type {\n",
       "        vertical-align: middle;\n",
       "    }\n",
       "\n",
       "    .dataframe tbody tr th {\n",
       "        vertical-align: top;\n",
       "    }\n",
       "\n",
       "    .dataframe thead th {\n",
       "        text-align: right;\n",
       "    }\n",
       "</style>\n",
       "<table border=\"1\" class=\"dataframe\">\n",
       "  <thead>\n",
       "    <tr style=\"text-align: right;\">\n",
       "      <th></th>\n",
       "      <th>Open</th>\n",
       "      <th>High</th>\n",
       "      <th>Low</th>\n",
       "      <th>Close</th>\n",
       "      <th>Volume</th>\n",
       "      <th>Adj Close</th>\n",
       "    </tr>\n",
       "  </thead>\n",
       "  <tbody>\n",
       "    <tr>\n",
       "      <th>Open</th>\n",
       "      <td>1.000000</td>\n",
       "      <td>0.999592</td>\n",
       "      <td>0.999436</td>\n",
       "      <td>0.998991</td>\n",
       "      <td>-0.691621</td>\n",
       "      <td>0.998991</td>\n",
       "    </tr>\n",
       "    <tr>\n",
       "      <th>High</th>\n",
       "      <td>0.999592</td>\n",
       "      <td>1.000000</td>\n",
       "      <td>0.999373</td>\n",
       "      <td>0.999546</td>\n",
       "      <td>-0.686997</td>\n",
       "      <td>0.999546</td>\n",
       "    </tr>\n",
       "    <tr>\n",
       "      <th>Low</th>\n",
       "      <td>0.999436</td>\n",
       "      <td>0.999373</td>\n",
       "      <td>1.000000</td>\n",
       "      <td>0.999595</td>\n",
       "      <td>-0.699572</td>\n",
       "      <td>0.999595</td>\n",
       "    </tr>\n",
       "    <tr>\n",
       "      <th>Close</th>\n",
       "      <td>0.998991</td>\n",
       "      <td>0.999546</td>\n",
       "      <td>0.999595</td>\n",
       "      <td>1.000000</td>\n",
       "      <td>-0.694281</td>\n",
       "      <td>1.000000</td>\n",
       "    </tr>\n",
       "    <tr>\n",
       "      <th>Volume</th>\n",
       "      <td>-0.691621</td>\n",
       "      <td>-0.686997</td>\n",
       "      <td>-0.699572</td>\n",
       "      <td>-0.694281</td>\n",
       "      <td>1.000000</td>\n",
       "      <td>-0.694281</td>\n",
       "    </tr>\n",
       "    <tr>\n",
       "      <th>Adj Close</th>\n",
       "      <td>0.998991</td>\n",
       "      <td>0.999546</td>\n",
       "      <td>0.999595</td>\n",
       "      <td>1.000000</td>\n",
       "      <td>-0.694281</td>\n",
       "      <td>1.000000</td>\n",
       "    </tr>\n",
       "  </tbody>\n",
       "</table>\n",
       "</div>"
      ],
      "text/plain": [
       "               Open      High       Low     Close    Volume  Adj Close\n",
       "Open       1.000000  0.999592  0.999436  0.998991 -0.691621   0.998991\n",
       "High       0.999592  1.000000  0.999373  0.999546 -0.686997   0.999546\n",
       "Low        0.999436  0.999373  1.000000  0.999595 -0.699572   0.999595\n",
       "Close      0.998991  0.999546  0.999595  1.000000 -0.694281   1.000000\n",
       "Volume    -0.691621 -0.686997 -0.699572 -0.694281  1.000000  -0.694281\n",
       "Adj Close  0.998991  0.999546  0.999595  1.000000 -0.694281   1.000000"
      ]
     },
     "execution_count": 28,
     "metadata": {},
     "output_type": "execute_result"
    }
   ],
   "source": [
    "df.corr()"
   ]
  },
  {
   "cell_type": "markdown",
   "metadata": {
    "_uuid": "37ec533a2bdbadc4271c1eabe3956ca7f112bf11"
   },
   "source": [
    "# **Seçmə & Filterləmə** <a id=\"36\"></a>\n",
    " \n",
    "<hr>\n",
    "\n",
    "Pandas ilə data seçmə və filtrelemə kodlarının yaradılması."
   ]
  },
  {
   "cell_type": "markdown",
   "metadata": {
    "_uuid": "b0276f695b6ee645cf6c65fc15198973b1bf1b2f"
   },
   "source": [
    "### **df[n:n]** <a id=\"38\"></a>\n",
    "Bu kod N-dən N-ə qədər data götürür.\n",
    "\n",
    " \n",
    "<hr>"
   ]
  },
  {
   "cell_type": "code",
   "execution_count": 29,
   "metadata": {
    "_uuid": "68fc73b45d10fbba5dbf09ebcf87621885bf1787"
   },
   "outputs": [
    {
     "data": {
      "text/html": [
       "<div>\n",
       "<style scoped>\n",
       "    .dataframe tbody tr th:only-of-type {\n",
       "        vertical-align: middle;\n",
       "    }\n",
       "\n",
       "    .dataframe tbody tr th {\n",
       "        vertical-align: top;\n",
       "    }\n",
       "\n",
       "    .dataframe thead th {\n",
       "        text-align: right;\n",
       "    }\n",
       "</style>\n",
       "<table border=\"1\" class=\"dataframe\">\n",
       "  <thead>\n",
       "    <tr style=\"text-align: right;\">\n",
       "      <th></th>\n",
       "      <th>Date</th>\n",
       "      <th>Open</th>\n",
       "      <th>High</th>\n",
       "      <th>Low</th>\n",
       "      <th>Close</th>\n",
       "      <th>Volume</th>\n",
       "      <th>Adj Close</th>\n",
       "    </tr>\n",
       "  </thead>\n",
       "  <tbody>\n",
       "    <tr>\n",
       "      <th>1982</th>\n",
       "      <td>2008-08-18</td>\n",
       "      <td>11659.650391</td>\n",
       "      <td>11690.429688</td>\n",
       "      <td>11434.120117</td>\n",
       "      <td>11479.389648</td>\n",
       "      <td>156290000</td>\n",
       "      <td>11479.389648</td>\n",
       "    </tr>\n",
       "    <tr>\n",
       "      <th>1983</th>\n",
       "      <td>2008-08-15</td>\n",
       "      <td>11611.209961</td>\n",
       "      <td>11709.889648</td>\n",
       "      <td>11599.730469</td>\n",
       "      <td>11659.900391</td>\n",
       "      <td>215040000</td>\n",
       "      <td>11659.900391</td>\n",
       "    </tr>\n",
       "    <tr>\n",
       "      <th>1984</th>\n",
       "      <td>2008-08-14</td>\n",
       "      <td>11532.070312</td>\n",
       "      <td>11718.280273</td>\n",
       "      <td>11450.889648</td>\n",
       "      <td>11615.929688</td>\n",
       "      <td>159790000</td>\n",
       "      <td>11615.929688</td>\n",
       "    </tr>\n",
       "    <tr>\n",
       "      <th>1985</th>\n",
       "      <td>2008-08-13</td>\n",
       "      <td>11632.809570</td>\n",
       "      <td>11633.780273</td>\n",
       "      <td>11453.339844</td>\n",
       "      <td>11532.959961</td>\n",
       "      <td>182550000</td>\n",
       "      <td>11532.959961</td>\n",
       "    </tr>\n",
       "    <tr>\n",
       "      <th>1986</th>\n",
       "      <td>2008-08-12</td>\n",
       "      <td>11781.700195</td>\n",
       "      <td>11782.349609</td>\n",
       "      <td>11601.519531</td>\n",
       "      <td>11642.469727</td>\n",
       "      <td>173590000</td>\n",
       "      <td>11642.469727</td>\n",
       "    </tr>\n",
       "    <tr>\n",
       "      <th>1987</th>\n",
       "      <td>2008-08-11</td>\n",
       "      <td>11729.669922</td>\n",
       "      <td>11867.110352</td>\n",
       "      <td>11675.530273</td>\n",
       "      <td>11782.349609</td>\n",
       "      <td>183190000</td>\n",
       "      <td>11782.349609</td>\n",
       "    </tr>\n",
       "    <tr>\n",
       "      <th>1988</th>\n",
       "      <td>2008-08-08</td>\n",
       "      <td>11432.089844</td>\n",
       "      <td>11759.959961</td>\n",
       "      <td>11388.040039</td>\n",
       "      <td>11734.320312</td>\n",
       "      <td>212830000</td>\n",
       "      <td>11734.320312</td>\n",
       "    </tr>\n",
       "  </tbody>\n",
       "</table>\n",
       "</div>"
      ],
      "text/plain": [
       "            Date          Open          High           Low         Close  \\\n",
       "1982  2008-08-18  11659.650391  11690.429688  11434.120117  11479.389648   \n",
       "1983  2008-08-15  11611.209961  11709.889648  11599.730469  11659.900391   \n",
       "1984  2008-08-14  11532.070312  11718.280273  11450.889648  11615.929688   \n",
       "1985  2008-08-13  11632.809570  11633.780273  11453.339844  11532.959961   \n",
       "1986  2008-08-12  11781.700195  11782.349609  11601.519531  11642.469727   \n",
       "1987  2008-08-11  11729.669922  11867.110352  11675.530273  11782.349609   \n",
       "1988  2008-08-08  11432.089844  11759.959961  11388.040039  11734.320312   \n",
       "\n",
       "         Volume     Adj Close  \n",
       "1982  156290000  11479.389648  \n",
       "1983  215040000  11659.900391  \n",
       "1984  159790000  11615.929688  \n",
       "1985  182550000  11532.959961  \n",
       "1986  173590000  11642.469727  \n",
       "1987  183190000  11782.349609  \n",
       "1988  212830000  11734.320312  "
      ]
     },
     "execution_count": 29,
     "metadata": {},
     "output_type": "execute_result"
    }
   ],
   "source": [
    "df[1982:]\n",
    "#Or\n",
    "#df[5:7]"
   ]
  },
  {
   "cell_type": "markdown",
   "metadata": {
    "_uuid": "0d16f5649598feb417b990ac8d6e1571a193ef35"
   },
   "source": [
    "### **df.iloc[[n],[n]]** <a id=\"39\"></a>\n",
    "Bu kod dataframe-dən N-ci sətirdəki və N-ci sütundakı data-ları götürür.\n",
    "\n",
    " \n",
    "<hr>"
   ]
  },
  {
   "cell_type": "code",
   "execution_count": 30,
   "metadata": {
    "_uuid": "de6796a0684aac7f6c37c9c9ff3e67308ba20adb"
   },
   "outputs": [
    {
     "data": {
      "text/html": [
       "<div>\n",
       "<style scoped>\n",
       "    .dataframe tbody tr th:only-of-type {\n",
       "        vertical-align: middle;\n",
       "    }\n",
       "\n",
       "    .dataframe tbody tr th {\n",
       "        vertical-align: top;\n",
       "    }\n",
       "\n",
       "    .dataframe thead th {\n",
       "        text-align: right;\n",
       "    }\n",
       "</style>\n",
       "<table border=\"1\" class=\"dataframe\">\n",
       "  <thead>\n",
       "    <tr style=\"text-align: right;\">\n",
       "      <th></th>\n",
       "      <th>Low</th>\n",
       "    </tr>\n",
       "  </thead>\n",
       "  <tbody>\n",
       "    <tr>\n",
       "      <th>0</th>\n",
       "      <td>17916.910156</td>\n",
       "    </tr>\n",
       "  </tbody>\n",
       "</table>\n",
       "</div>"
      ],
      "text/plain": [
       "            Low\n",
       "0  17916.910156"
      ]
     },
     "execution_count": 30,
     "metadata": {},
     "output_type": "execute_result"
    }
   ],
   "source": [
    "df.iloc[[0],[3]]"
   ]
  },
  {
   "cell_type": "markdown",
   "metadata": {
    "_uuid": "bb3b27a4c73fa3bccaf3457e8a6a8bacdb7f8b88"
   },
   "source": [
    "### **df.loc[n:n]** <a id=\"40\"></a>\n",
    "Bu kod xüsusi aralıqda olan data-ları götürür.\n",
    "\n",
    " \n",
    "<hr>"
   ]
  },
  {
   "cell_type": "code",
   "execution_count": 31,
   "metadata": {
    "_uuid": "e0791dc5f7012b248d6216bc3edfc5af591c50ea"
   },
   "outputs": [
    {
     "data": {
      "text/html": [
       "<div>\n",
       "<style scoped>\n",
       "    .dataframe tbody tr th:only-of-type {\n",
       "        vertical-align: middle;\n",
       "    }\n",
       "\n",
       "    .dataframe tbody tr th {\n",
       "        vertical-align: top;\n",
       "    }\n",
       "\n",
       "    .dataframe thead th {\n",
       "        text-align: right;\n",
       "    }\n",
       "</style>\n",
       "<table border=\"1\" class=\"dataframe\">\n",
       "  <thead>\n",
       "    <tr style=\"text-align: right;\">\n",
       "      <th></th>\n",
       "      <th>Date</th>\n",
       "      <th>Open</th>\n",
       "      <th>High</th>\n",
       "      <th>Low</th>\n",
       "      <th>Close</th>\n",
       "      <th>Volume</th>\n",
       "      <th>Adj Close</th>\n",
       "    </tr>\n",
       "  </thead>\n",
       "  <tbody>\n",
       "    <tr>\n",
       "      <th>5</th>\n",
       "      <td>2016-06-24</td>\n",
       "      <td>17946.630859</td>\n",
       "      <td>17946.630859</td>\n",
       "      <td>17356.339844</td>\n",
       "      <td>17400.750000</td>\n",
       "      <td>239000000</td>\n",
       "      <td>17400.750000</td>\n",
       "    </tr>\n",
       "    <tr>\n",
       "      <th>6</th>\n",
       "      <td>2016-06-23</td>\n",
       "      <td>17844.109375</td>\n",
       "      <td>18011.070312</td>\n",
       "      <td>17844.109375</td>\n",
       "      <td>18011.070312</td>\n",
       "      <td>98070000</td>\n",
       "      <td>18011.070312</td>\n",
       "    </tr>\n",
       "    <tr>\n",
       "      <th>7</th>\n",
       "      <td>2016-06-22</td>\n",
       "      <td>17832.669922</td>\n",
       "      <td>17920.160156</td>\n",
       "      <td>17770.359375</td>\n",
       "      <td>17780.830078</td>\n",
       "      <td>89440000</td>\n",
       "      <td>17780.830078</td>\n",
       "    </tr>\n",
       "  </tbody>\n",
       "</table>\n",
       "</div>"
      ],
      "text/plain": [
       "         Date          Open          High           Low         Close  \\\n",
       "5  2016-06-24  17946.630859  17946.630859  17356.339844  17400.750000   \n",
       "6  2016-06-23  17844.109375  18011.070312  17844.109375  18011.070312   \n",
       "7  2016-06-22  17832.669922  17920.160156  17770.359375  17780.830078   \n",
       "\n",
       "      Volume     Adj Close  \n",
       "5  239000000  17400.750000  \n",
       "6   98070000  18011.070312  \n",
       "7   89440000  17780.830078  "
      ]
     },
     "execution_count": 31,
     "metadata": {},
     "output_type": "execute_result"
    }
   ],
   "source": [
    "#df.loc[n:]\n",
    "# OR\n",
    "df.loc[5:7]"
   ]
  },
  {
   "cell_type": "markdown",
   "metadata": {
    "_uuid": "5d7dfc275348d58e53436938e96d3233b4d6753e"
   },
   "source": [
    "### **df['columnName']** <a id=\"41\"></a>\n",
    "Bu kod istədiyimiz sütunu götürür.\n",
    "\n",
    " \n",
    "<hr>"
   ]
  },
  {
   "cell_type": "code",
   "execution_count": 32,
   "metadata": {
    "_uuid": "da3167e40f0419054bde6e6d168bb22bce24973b"
   },
   "outputs": [
    {
     "data": {
      "text/plain": [
       "0    17924.240234\n",
       "1    17712.759766\n",
       "2    17456.019531\n",
       "3    17190.509766\n",
       "4    17355.210938\n",
       "Name: Open, dtype: float64"
      ]
     },
     "execution_count": 32,
     "metadata": {},
     "output_type": "execute_result"
    }
   ],
   "source": [
    "df['Open'].head()\n",
    "# OR\n",
    "# df.Open"
   ]
  },
  {
   "cell_type": "markdown",
   "metadata": {
    "_uuid": "394d9e7a7b3bd7077a490a264ef4d308e035771f"
   },
   "source": [
    "### **df['columnName'][n]** <a id=\"42\"></a>\n",
    "Bu kod istədiyimiz sütundakı N-ci data-nı götürür.\n",
    " \n",
    "<hr>"
   ]
  },
  {
   "cell_type": "code",
   "execution_count": 33,
   "metadata": {
    "_uuid": "40f514f220034b9d27c8390147c577f69a5c5dac"
   },
   "outputs": [
    {
     "data": {
      "text/plain": [
       "17924.240234"
      ]
     },
     "execution_count": 33,
     "metadata": {},
     "output_type": "execute_result"
    }
   ],
   "source": [
    "df['Open'][0]\n",
    "# OR\n",
    "# df.Open[0]\n",
    "# df[\"Open\"][1]\n",
    "# df.loc[1,[\"Open\"]]"
   ]
  },
  {
   "cell_type": "markdown",
   "metadata": {
    "_uuid": "714c9cc591916b1bd88f2bc164a76aa37092ab3e"
   },
   "source": [
    "### **df['columnName'].nunique()** <a id=\"43\"></a>\n",
    "Bu kod sütundakı unique data-ların sayını göstərir.\n",
    "\n",
    " \n",
    "<hr>"
   ]
  },
  {
   "cell_type": "code",
   "execution_count": 34,
   "metadata": {
    "_uuid": "7e5559e6f63e2d975e99666574f110b87a58e74a"
   },
   "outputs": [
    {
     "data": {
      "text/plain": [
       "1980"
      ]
     },
     "execution_count": 34,
     "metadata": {},
     "output_type": "execute_result"
    }
   ],
   "source": [
    "df['Open'].nunique()"
   ]
  },
  {
   "cell_type": "markdown",
   "metadata": {
    "_uuid": "1326f2c62207fd3345f16bfc5728b8ddf3988257"
   },
   "source": [
    "### **df['columnName'].unique()** <a id=\"44\"></a>\n",
    "Bu kod unique data-ları göstərir.\n",
    "\n",
    " \n",
    "<hr>"
   ]
  },
  {
   "cell_type": "code",
   "execution_count": 35,
   "metadata": {
    "_uuid": "88ffb43d255ad0a471be3a27732e3c5158ba8fd7"
   },
   "outputs": [
    {
     "data": {
      "text/plain": [
       "array([17924.240234, 17712.759766, 17456.019531, ..., 11781.700195,\n",
       "       11729.669922, 11432.089844])"
      ]
     },
     "execution_count": 35,
     "metadata": {},
     "output_type": "execute_result"
    }
   ],
   "source": [
    "df['Open'].unique()\n",
    "# We can write the above code as follows:: df.Open.unique()"
   ]
  },
  {
   "cell_type": "markdown",
   "metadata": {
    "_uuid": "f9b78c632be9052e8713a529fd74dd59ae769b71"
   },
   "source": [
    "### **df.head(n)** <a id=\"47\"></a>\n",
    "Bu kod ilk 5 data götürür. N yerinə istədiyiniz data sayını qoyaraq onu götürə bilərsiniz.\n",
    "\n",
    " \n",
    "<hr>"
   ]
  },
  {
   "cell_type": "code",
   "execution_count": 36,
   "metadata": {
    "_uuid": "e9751b0512899f2d84eb07d8bd24b45351f564a3"
   },
   "outputs": [
    {
     "data": {
      "text/html": [
       "<div>\n",
       "<style scoped>\n",
       "    .dataframe tbody tr th:only-of-type {\n",
       "        vertical-align: middle;\n",
       "    }\n",
       "\n",
       "    .dataframe tbody tr th {\n",
       "        vertical-align: top;\n",
       "    }\n",
       "\n",
       "    .dataframe thead th {\n",
       "        text-align: right;\n",
       "    }\n",
       "</style>\n",
       "<table border=\"1\" class=\"dataframe\">\n",
       "  <thead>\n",
       "    <tr style=\"text-align: right;\">\n",
       "      <th></th>\n",
       "      <th>Date</th>\n",
       "      <th>Open</th>\n",
       "      <th>High</th>\n",
       "      <th>Low</th>\n",
       "      <th>Close</th>\n",
       "      <th>Volume</th>\n",
       "      <th>Adj Close</th>\n",
       "    </tr>\n",
       "  </thead>\n",
       "  <tbody>\n",
       "    <tr>\n",
       "      <th>0</th>\n",
       "      <td>2016-07-01</td>\n",
       "      <td>17924.240234</td>\n",
       "      <td>18002.380859</td>\n",
       "      <td>17916.910156</td>\n",
       "      <td>17949.369141</td>\n",
       "      <td>82160000</td>\n",
       "      <td>17949.369141</td>\n",
       "    </tr>\n",
       "    <tr>\n",
       "      <th>1</th>\n",
       "      <td>2016-06-30</td>\n",
       "      <td>17712.759766</td>\n",
       "      <td>17930.609375</td>\n",
       "      <td>17711.800781</td>\n",
       "      <td>17929.990234</td>\n",
       "      <td>133030000</td>\n",
       "      <td>17929.990234</td>\n",
       "    </tr>\n",
       "    <tr>\n",
       "      <th>2</th>\n",
       "      <td>2016-06-29</td>\n",
       "      <td>17456.019531</td>\n",
       "      <td>17704.509766</td>\n",
       "      <td>17456.019531</td>\n",
       "      <td>17694.679688</td>\n",
       "      <td>106380000</td>\n",
       "      <td>17694.679688</td>\n",
       "    </tr>\n",
       "    <tr>\n",
       "      <th>3</th>\n",
       "      <td>2016-06-28</td>\n",
       "      <td>17190.509766</td>\n",
       "      <td>17409.720703</td>\n",
       "      <td>17190.509766</td>\n",
       "      <td>17409.720703</td>\n",
       "      <td>112190000</td>\n",
       "      <td>17409.720703</td>\n",
       "    </tr>\n",
       "    <tr>\n",
       "      <th>4</th>\n",
       "      <td>2016-06-27</td>\n",
       "      <td>17355.210938</td>\n",
       "      <td>17355.210938</td>\n",
       "      <td>17063.080078</td>\n",
       "      <td>17140.240234</td>\n",
       "      <td>138740000</td>\n",
       "      <td>17140.240234</td>\n",
       "    </tr>\n",
       "  </tbody>\n",
       "</table>\n",
       "</div>"
      ],
      "text/plain": [
       "         Date          Open          High           Low         Close  \\\n",
       "0  2016-07-01  17924.240234  18002.380859  17916.910156  17949.369141   \n",
       "1  2016-06-30  17712.759766  17930.609375  17711.800781  17929.990234   \n",
       "2  2016-06-29  17456.019531  17704.509766  17456.019531  17694.679688   \n",
       "3  2016-06-28  17190.509766  17409.720703  17190.509766  17409.720703   \n",
       "4  2016-06-27  17355.210938  17355.210938  17063.080078  17140.240234   \n",
       "\n",
       "      Volume     Adj Close  \n",
       "0   82160000  17949.369141  \n",
       "1  133030000  17929.990234  \n",
       "2  106380000  17694.679688  \n",
       "3  112190000  17409.720703  \n",
       "4  138740000  17140.240234  "
      ]
     },
     "execution_count": 36,
     "metadata": {},
     "output_type": "execute_result"
    }
   ],
   "source": [
    "df.head()\n",
    "# OR\n",
    "# df.head(15)"
   ]
  },
  {
   "cell_type": "markdown",
   "metadata": {
    "_uuid": "be2de7201deaea863247067fe5432746c0d04cba"
   },
   "source": [
    "### **df.tail(n)** <a id=\"48\"></a>\n",
    "Bu kod son 5 data götürür. N yerinə istədiyiniz data sayını qoyaraq onu götürə bilərsiniz.\n",
    "\n",
    " \n",
    "<hr>"
   ]
  },
  {
   "cell_type": "code",
   "execution_count": 37,
   "metadata": {
    "_uuid": "318f20d9624d31dc6a3f8150523b266da9acfcc5"
   },
   "outputs": [
    {
     "data": {
      "text/html": [
       "<div>\n",
       "<style scoped>\n",
       "    .dataframe tbody tr th:only-of-type {\n",
       "        vertical-align: middle;\n",
       "    }\n",
       "\n",
       "    .dataframe tbody tr th {\n",
       "        vertical-align: top;\n",
       "    }\n",
       "\n",
       "    .dataframe thead th {\n",
       "        text-align: right;\n",
       "    }\n",
       "</style>\n",
       "<table border=\"1\" class=\"dataframe\">\n",
       "  <thead>\n",
       "    <tr style=\"text-align: right;\">\n",
       "      <th></th>\n",
       "      <th>Date</th>\n",
       "      <th>Open</th>\n",
       "      <th>High</th>\n",
       "      <th>Low</th>\n",
       "      <th>Close</th>\n",
       "      <th>Volume</th>\n",
       "      <th>Adj Close</th>\n",
       "    </tr>\n",
       "  </thead>\n",
       "  <tbody>\n",
       "    <tr>\n",
       "      <th>1984</th>\n",
       "      <td>2008-08-14</td>\n",
       "      <td>11532.070312</td>\n",
       "      <td>11718.280273</td>\n",
       "      <td>11450.889648</td>\n",
       "      <td>11615.929688</td>\n",
       "      <td>159790000</td>\n",
       "      <td>11615.929688</td>\n",
       "    </tr>\n",
       "    <tr>\n",
       "      <th>1985</th>\n",
       "      <td>2008-08-13</td>\n",
       "      <td>11632.809570</td>\n",
       "      <td>11633.780273</td>\n",
       "      <td>11453.339844</td>\n",
       "      <td>11532.959961</td>\n",
       "      <td>182550000</td>\n",
       "      <td>11532.959961</td>\n",
       "    </tr>\n",
       "    <tr>\n",
       "      <th>1986</th>\n",
       "      <td>2008-08-12</td>\n",
       "      <td>11781.700195</td>\n",
       "      <td>11782.349609</td>\n",
       "      <td>11601.519531</td>\n",
       "      <td>11642.469727</td>\n",
       "      <td>173590000</td>\n",
       "      <td>11642.469727</td>\n",
       "    </tr>\n",
       "    <tr>\n",
       "      <th>1987</th>\n",
       "      <td>2008-08-11</td>\n",
       "      <td>11729.669922</td>\n",
       "      <td>11867.110352</td>\n",
       "      <td>11675.530273</td>\n",
       "      <td>11782.349609</td>\n",
       "      <td>183190000</td>\n",
       "      <td>11782.349609</td>\n",
       "    </tr>\n",
       "    <tr>\n",
       "      <th>1988</th>\n",
       "      <td>2008-08-08</td>\n",
       "      <td>11432.089844</td>\n",
       "      <td>11759.959961</td>\n",
       "      <td>11388.040039</td>\n",
       "      <td>11734.320312</td>\n",
       "      <td>212830000</td>\n",
       "      <td>11734.320312</td>\n",
       "    </tr>\n",
       "  </tbody>\n",
       "</table>\n",
       "</div>"
      ],
      "text/plain": [
       "            Date          Open          High           Low         Close  \\\n",
       "1984  2008-08-14  11532.070312  11718.280273  11450.889648  11615.929688   \n",
       "1985  2008-08-13  11632.809570  11633.780273  11453.339844  11532.959961   \n",
       "1986  2008-08-12  11781.700195  11782.349609  11601.519531  11642.469727   \n",
       "1987  2008-08-11  11729.669922  11867.110352  11675.530273  11782.349609   \n",
       "1988  2008-08-08  11432.089844  11759.959961  11388.040039  11734.320312   \n",
       "\n",
       "         Volume     Adj Close  \n",
       "1984  159790000  11615.929688  \n",
       "1985  182550000  11532.959961  \n",
       "1986  173590000  11642.469727  \n",
       "1987  183190000  11782.349609  \n",
       "1988  212830000  11734.320312  "
      ]
     },
     "execution_count": 37,
     "metadata": {},
     "output_type": "execute_result"
    }
   ],
   "source": [
    "df.tail()\n",
    "# OR\n",
    "# df.tail(20)"
   ]
  },
  {
   "cell_type": "markdown",
   "metadata": {
    "_uuid": "fb84fc0ec1005c386ca34948dbc31a2f78482524"
   },
   "source": [
    "### **df.sample(n)** <a id=\"49\"></a>\n",
    "Bu kod data-dan random n data götürür.\n",
    "\n",
    " \n",
    "<hr>"
   ]
  },
  {
   "cell_type": "code",
   "execution_count": 38,
   "metadata": {
    "_uuid": "9b7035347af1daf7a0ad44800c58655ec290a5ad"
   },
   "outputs": [
    {
     "data": {
      "text/html": [
       "<div>\n",
       "<style scoped>\n",
       "    .dataframe tbody tr th:only-of-type {\n",
       "        vertical-align: middle;\n",
       "    }\n",
       "\n",
       "    .dataframe tbody tr th {\n",
       "        vertical-align: top;\n",
       "    }\n",
       "\n",
       "    .dataframe thead th {\n",
       "        text-align: right;\n",
       "    }\n",
       "</style>\n",
       "<table border=\"1\" class=\"dataframe\">\n",
       "  <thead>\n",
       "    <tr style=\"text-align: right;\">\n",
       "      <th></th>\n",
       "      <th>Date</th>\n",
       "      <th>Open</th>\n",
       "      <th>High</th>\n",
       "      <th>Low</th>\n",
       "      <th>Close</th>\n",
       "      <th>Volume</th>\n",
       "      <th>Adj Close</th>\n",
       "    </tr>\n",
       "  </thead>\n",
       "  <tbody>\n",
       "    <tr>\n",
       "      <th>1013</th>\n",
       "      <td>2012-06-21</td>\n",
       "      <td>12823.099609</td>\n",
       "      <td>12857.389648</td>\n",
       "      <td>12561.459961</td>\n",
       "      <td>12573.570312</td>\n",
       "      <td>146750000</td>\n",
       "      <td>12573.570312</td>\n",
       "    </tr>\n",
       "    <tr>\n",
       "      <th>1660</th>\n",
       "      <td>2009-11-25</td>\n",
       "      <td>10432.959961</td>\n",
       "      <td>10481.480469</td>\n",
       "      <td>10420.940430</td>\n",
       "      <td>10464.400391</td>\n",
       "      <td>130080000</td>\n",
       "      <td>10464.400391</td>\n",
       "    </tr>\n",
       "    <tr>\n",
       "      <th>509</th>\n",
       "      <td>2014-06-25</td>\n",
       "      <td>16817.679688</td>\n",
       "      <td>16883.539062</td>\n",
       "      <td>16799.410156</td>\n",
       "      <td>16867.509766</td>\n",
       "      <td>73920000</td>\n",
       "      <td>16867.509766</td>\n",
       "    </tr>\n",
       "    <tr>\n",
       "      <th>565</th>\n",
       "      <td>2014-04-04</td>\n",
       "      <td>16576.019531</td>\n",
       "      <td>16631.630859</td>\n",
       "      <td>16392.769531</td>\n",
       "      <td>16412.710938</td>\n",
       "      <td>104350000</td>\n",
       "      <td>16412.710938</td>\n",
       "    </tr>\n",
       "    <tr>\n",
       "      <th>1424</th>\n",
       "      <td>2010-11-03</td>\n",
       "      <td>11184.879883</td>\n",
       "      <td>11226.639648</td>\n",
       "      <td>11097.370117</td>\n",
       "      <td>11215.129883</td>\n",
       "      <td>177580000</td>\n",
       "      <td>11215.129883</td>\n",
       "    </tr>\n",
       "  </tbody>\n",
       "</table>\n",
       "</div>"
      ],
      "text/plain": [
       "            Date          Open          High           Low         Close  \\\n",
       "1013  2012-06-21  12823.099609  12857.389648  12561.459961  12573.570312   \n",
       "1660  2009-11-25  10432.959961  10481.480469  10420.940430  10464.400391   \n",
       "509   2014-06-25  16817.679688  16883.539062  16799.410156  16867.509766   \n",
       "565   2014-04-04  16576.019531  16631.630859  16392.769531  16412.710938   \n",
       "1424  2010-11-03  11184.879883  11226.639648  11097.370117  11215.129883   \n",
       "\n",
       "         Volume     Adj Close  \n",
       "1013  146750000  12573.570312  \n",
       "1660  130080000  10464.400391  \n",
       "509    73920000  16867.509766  \n",
       "565   104350000  16412.710938  \n",
       "1424  177580000  11215.129883  "
      ]
     },
     "execution_count": 38,
     "metadata": {},
     "output_type": "execute_result"
    }
   ],
   "source": [
    "df.sample(5)"
   ]
  },
  {
   "cell_type": "markdown",
   "metadata": {
    "_uuid": "a51ee840ca8cd0400f2c4d95221158b25133d12f"
   },
   "source": [
    "### **df[df.columnName < 5]** <a id=\"53\"></a>\n",
    "Bu kod sütunda 5-dən kiçik olan data-ları götürür.\n",
    "\n",
    " \n",
    "<hr>"
   ]
  },
  {
   "cell_type": "code",
   "execution_count": 39,
   "metadata": {
    "_uuid": "52be41ac78b67ca5c95a18199fa7f09f2d2efc4c"
   },
   "outputs": [
    {
     "data": {
      "text/html": [
       "<div>\n",
       "<style scoped>\n",
       "    .dataframe tbody tr th:only-of-type {\n",
       "        vertical-align: middle;\n",
       "    }\n",
       "\n",
       "    .dataframe tbody tr th {\n",
       "        vertical-align: top;\n",
       "    }\n",
       "\n",
       "    .dataframe thead th {\n",
       "        text-align: right;\n",
       "    }\n",
       "</style>\n",
       "<table border=\"1\" class=\"dataframe\">\n",
       "  <thead>\n",
       "    <tr style=\"text-align: right;\">\n",
       "      <th></th>\n",
       "      <th>Date</th>\n",
       "      <th>Open</th>\n",
       "      <th>High</th>\n",
       "      <th>Low</th>\n",
       "      <th>Close</th>\n",
       "      <th>Volume</th>\n",
       "      <th>Adj Close</th>\n",
       "    </tr>\n",
       "  </thead>\n",
       "  <tbody>\n",
       "    <tr>\n",
       "      <th>280</th>\n",
       "      <td>2015-05-22</td>\n",
       "      <td>18286.869141</td>\n",
       "      <td>18286.869141</td>\n",
       "      <td>18217.140625</td>\n",
       "      <td>18232.019531</td>\n",
       "      <td>78890000</td>\n",
       "      <td>18232.019531</td>\n",
       "    </tr>\n",
       "    <tr>\n",
       "      <th>281</th>\n",
       "      <td>2015-05-21</td>\n",
       "      <td>18285.869141</td>\n",
       "      <td>18314.890625</td>\n",
       "      <td>18249.900391</td>\n",
       "      <td>18285.740234</td>\n",
       "      <td>84270000</td>\n",
       "      <td>18285.740234</td>\n",
       "    </tr>\n",
       "    <tr>\n",
       "      <th>282</th>\n",
       "      <td>2015-05-20</td>\n",
       "      <td>18315.060547</td>\n",
       "      <td>18350.130859</td>\n",
       "      <td>18272.560547</td>\n",
       "      <td>18285.400391</td>\n",
       "      <td>80190000</td>\n",
       "      <td>18285.400391</td>\n",
       "    </tr>\n",
       "    <tr>\n",
       "      <th>283</th>\n",
       "      <td>2015-05-19</td>\n",
       "      <td>18300.480469</td>\n",
       "      <td>18351.359375</td>\n",
       "      <td>18261.349609</td>\n",
       "      <td>18312.390625</td>\n",
       "      <td>87200000</td>\n",
       "      <td>18312.390625</td>\n",
       "    </tr>\n",
       "  </tbody>\n",
       "</table>\n",
       "</div>"
      ],
      "text/plain": [
       "           Date          Open          High           Low         Close  \\\n",
       "280  2015-05-22  18286.869141  18286.869141  18217.140625  18232.019531   \n",
       "281  2015-05-21  18285.869141  18314.890625  18249.900391  18285.740234   \n",
       "282  2015-05-20  18315.060547  18350.130859  18272.560547  18285.400391   \n",
       "283  2015-05-19  18300.480469  18351.359375  18261.349609  18312.390625   \n",
       "\n",
       "       Volume     Adj Close  \n",
       "280  78890000  18232.019531  \n",
       "281  84270000  18285.740234  \n",
       "282  80190000  18285.400391  \n",
       "283  87200000  18312.390625  "
      ]
     },
     "execution_count": 39,
     "metadata": {},
     "output_type": "execute_result"
    }
   ],
   "source": [
    "df[df.Open > 18281.949219]"
   ]
  },
  {
   "cell_type": "markdown",
   "metadata": {
    "_uuid": "b0ff118b7df06756d55ce9196aa558325e214b23"
   },
   "source": [
    "### **df[['columnName','columnName']]** <a id=\"54\"></a>\n",
    "Bu kod istədiyimiz sütunları götürür.\n",
    "\n",
    " \n",
    "<hr>"
   ]
  },
  {
   "cell_type": "code",
   "execution_count": 40,
   "metadata": {
    "_uuid": "979f91158aaba4a2c287c70096c4f63f289da3e5"
   },
   "outputs": [
    {
     "data": {
      "text/html": [
       "<div>\n",
       "<style scoped>\n",
       "    .dataframe tbody tr th:only-of-type {\n",
       "        vertical-align: middle;\n",
       "    }\n",
       "\n",
       "    .dataframe tbody tr th {\n",
       "        vertical-align: top;\n",
       "    }\n",
       "\n",
       "    .dataframe thead th {\n",
       "        text-align: right;\n",
       "    }\n",
       "</style>\n",
       "<table border=\"1\" class=\"dataframe\">\n",
       "  <thead>\n",
       "    <tr style=\"text-align: right;\">\n",
       "      <th></th>\n",
       "      <th>High</th>\n",
       "      <th>Low</th>\n",
       "    </tr>\n",
       "  </thead>\n",
       "  <tbody>\n",
       "    <tr>\n",
       "      <th>0</th>\n",
       "      <td>18002.380859</td>\n",
       "      <td>17916.910156</td>\n",
       "    </tr>\n",
       "    <tr>\n",
       "      <th>1</th>\n",
       "      <td>17930.609375</td>\n",
       "      <td>17711.800781</td>\n",
       "    </tr>\n",
       "    <tr>\n",
       "      <th>2</th>\n",
       "      <td>17704.509766</td>\n",
       "      <td>17456.019531</td>\n",
       "    </tr>\n",
       "    <tr>\n",
       "      <th>3</th>\n",
       "      <td>17409.720703</td>\n",
       "      <td>17190.509766</td>\n",
       "    </tr>\n",
       "    <tr>\n",
       "      <th>4</th>\n",
       "      <td>17355.210938</td>\n",
       "      <td>17063.080078</td>\n",
       "    </tr>\n",
       "  </tbody>\n",
       "</table>\n",
       "</div>"
      ],
      "text/plain": [
       "           High           Low\n",
       "0  18002.380859  17916.910156\n",
       "1  17930.609375  17711.800781\n",
       "2  17704.509766  17456.019531\n",
       "3  17409.720703  17190.509766\n",
       "4  17355.210938  17063.080078"
      ]
     },
     "execution_count": 40,
     "metadata": {},
     "output_type": "execute_result"
    }
   ],
   "source": [
    "df[['High','Low']].head()\n",
    "# df.loc[:,[\"High\",\"Low\"]]"
   ]
  },
  {
   "cell_type": "markdown",
   "metadata": {
    "_uuid": "33045814a6e5e2735bedffbfe5c69184e7e2a68a"
   },
   "source": [
    "### **df.loc[:,\"columnName1\":\"columnName2\"]** <a id=\"55\"></a>\n",
    "Bu kod sütun adları arasındakı sütunları götürür.\n",
    "\n",
    " \n",
    "<hr>"
   ]
  },
  {
   "cell_type": "code",
   "execution_count": 41,
   "metadata": {
    "_uuid": "3fef8f90c9972582f593a0af3dae462146bc871d"
   },
   "outputs": [
    {
     "data": {
      "text/html": [
       "<div>\n",
       "<style scoped>\n",
       "    .dataframe tbody tr th:only-of-type {\n",
       "        vertical-align: middle;\n",
       "    }\n",
       "\n",
       "    .dataframe tbody tr th {\n",
       "        vertical-align: top;\n",
       "    }\n",
       "\n",
       "    .dataframe thead th {\n",
       "        text-align: right;\n",
       "    }\n",
       "</style>\n",
       "<table border=\"1\" class=\"dataframe\">\n",
       "  <thead>\n",
       "    <tr style=\"text-align: right;\">\n",
       "      <th></th>\n",
       "      <th>Date</th>\n",
       "      <th>Open</th>\n",
       "      <th>High</th>\n",
       "      <th>Low</th>\n",
       "      <th>Close</th>\n",
       "    </tr>\n",
       "  </thead>\n",
       "  <tbody>\n",
       "    <tr>\n",
       "      <th>0</th>\n",
       "      <td>2016-07-01</td>\n",
       "      <td>17924.240234</td>\n",
       "      <td>18002.380859</td>\n",
       "      <td>17916.910156</td>\n",
       "      <td>17949.369141</td>\n",
       "    </tr>\n",
       "    <tr>\n",
       "      <th>1</th>\n",
       "      <td>2016-06-30</td>\n",
       "      <td>17712.759766</td>\n",
       "      <td>17930.609375</td>\n",
       "      <td>17711.800781</td>\n",
       "      <td>17929.990234</td>\n",
       "    </tr>\n",
       "    <tr>\n",
       "      <th>2</th>\n",
       "      <td>2016-06-29</td>\n",
       "      <td>17456.019531</td>\n",
       "      <td>17704.509766</td>\n",
       "      <td>17456.019531</td>\n",
       "      <td>17694.679688</td>\n",
       "    </tr>\n",
       "    <tr>\n",
       "      <th>3</th>\n",
       "      <td>2016-06-28</td>\n",
       "      <td>17190.509766</td>\n",
       "      <td>17409.720703</td>\n",
       "      <td>17190.509766</td>\n",
       "      <td>17409.720703</td>\n",
       "    </tr>\n",
       "    <tr>\n",
       "      <th>4</th>\n",
       "      <td>2016-06-27</td>\n",
       "      <td>17355.210938</td>\n",
       "      <td>17355.210938</td>\n",
       "      <td>17063.080078</td>\n",
       "      <td>17140.240234</td>\n",
       "    </tr>\n",
       "  </tbody>\n",
       "</table>\n",
       "</div>"
      ],
      "text/plain": [
       "         Date          Open          High           Low         Close\n",
       "0  2016-07-01  17924.240234  18002.380859  17916.910156  17949.369141\n",
       "1  2016-06-30  17712.759766  17930.609375  17711.800781  17929.990234\n",
       "2  2016-06-29  17456.019531  17704.509766  17456.019531  17694.679688\n",
       "3  2016-06-28  17190.509766  17409.720703  17190.509766  17409.720703\n",
       "4  2016-06-27  17355.210938  17355.210938  17063.080078  17140.240234"
      ]
     },
     "execution_count": 41,
     "metadata": {},
     "output_type": "execute_result"
    }
   ],
   "source": [
    "df.loc[:,\"Date\":\"Close\"].head()\n",
    "# OR\n",
    "# data.loc[:3,\"Date\":\"Close\"]"
   ]
  },
  {
   "cell_type": "markdown",
   "metadata": {
    "_uuid": "09d20f2795a29736a8a444f1f7bd1bdf3bb607d0"
   },
   "source": [
    "### **Filter yaratmaq** <a id=\"56\"></a>\n",
    " \n",
    "<hr>"
   ]
  },
  {
   "cell_type": "code",
   "execution_count": 42,
   "metadata": {
    "_uuid": "920f513014e6ef5a46f13a71c24a0114e3fb9c44"
   },
   "outputs": [
    {
     "data": {
      "text/html": [
       "<div>\n",
       "<style scoped>\n",
       "    .dataframe tbody tr th:only-of-type {\n",
       "        vertical-align: middle;\n",
       "    }\n",
       "\n",
       "    .dataframe tbody tr th {\n",
       "        vertical-align: top;\n",
       "    }\n",
       "\n",
       "    .dataframe thead th {\n",
       "        text-align: right;\n",
       "    }\n",
       "</style>\n",
       "<table border=\"1\" class=\"dataframe\">\n",
       "  <thead>\n",
       "    <tr style=\"text-align: right;\">\n",
       "      <th></th>\n",
       "      <th>Date</th>\n",
       "      <th>Open</th>\n",
       "      <th>High</th>\n",
       "      <th>Low</th>\n",
       "      <th>Close</th>\n",
       "      <th>Volume</th>\n",
       "      <th>Adj Close</th>\n",
       "    </tr>\n",
       "  </thead>\n",
       "  <tbody>\n",
       "    <tr>\n",
       "      <th>0</th>\n",
       "      <td>2016-07-01</td>\n",
       "      <td>17924.240234</td>\n",
       "      <td>18002.380859</td>\n",
       "      <td>17916.910156</td>\n",
       "      <td>17949.369141</td>\n",
       "      <td>82160000</td>\n",
       "      <td>17949.369141</td>\n",
       "    </tr>\n",
       "    <tr>\n",
       "      <th>1</th>\n",
       "      <td>2016-06-30</td>\n",
       "      <td>17712.759766</td>\n",
       "      <td>17930.609375</td>\n",
       "      <td>17711.800781</td>\n",
       "      <td>17929.990234</td>\n",
       "      <td>133030000</td>\n",
       "      <td>17929.990234</td>\n",
       "    </tr>\n",
       "    <tr>\n",
       "      <th>2</th>\n",
       "      <td>2016-06-29</td>\n",
       "      <td>17456.019531</td>\n",
       "      <td>17704.509766</td>\n",
       "      <td>17456.019531</td>\n",
       "      <td>17694.679688</td>\n",
       "      <td>106380000</td>\n",
       "      <td>17694.679688</td>\n",
       "    </tr>\n",
       "    <tr>\n",
       "      <th>3</th>\n",
       "      <td>2016-06-28</td>\n",
       "      <td>17190.509766</td>\n",
       "      <td>17409.720703</td>\n",
       "      <td>17190.509766</td>\n",
       "      <td>17409.720703</td>\n",
       "      <td>112190000</td>\n",
       "      <td>17409.720703</td>\n",
       "    </tr>\n",
       "  </tbody>\n",
       "</table>\n",
       "</div>"
      ],
      "text/plain": [
       "         Date          Open          High           Low         Close  \\\n",
       "0  2016-07-01  17924.240234  18002.380859  17916.910156  17949.369141   \n",
       "1  2016-06-30  17712.759766  17930.609375  17711.800781  17929.990234   \n",
       "2  2016-06-29  17456.019531  17704.509766  17456.019531  17694.679688   \n",
       "3  2016-06-28  17190.509766  17409.720703  17190.509766  17409.720703   \n",
       "\n",
       "      Volume     Adj Close  \n",
       "0   82160000  17949.369141  \n",
       "1  133030000  17929.990234  \n",
       "2  106380000  17694.679688  \n",
       "3  112190000  17409.720703  "
      ]
     },
     "execution_count": 42,
     "metadata": {},
     "output_type": "execute_result"
    }
   ],
   "source": [
    "filters = df.Date > '2016-06-27'\n",
    "df[filters]"
   ]
  },
  {
   "cell_type": "markdown",
   "metadata": {
    "_uuid": "be8cc807047dd7037f0013d573c58573649c3097"
   },
   "source": [
    "### **& ilə filterləmə** <a id=\"59\"></a>\n",
    " \n",
    "<hr>"
   ]
  },
  {
   "cell_type": "code",
   "execution_count": 43,
   "metadata": {
    "_uuid": "48930d97ce2d7aebf9fc44d41ef9a21b21ece804"
   },
   "outputs": [
    {
     "data": {
      "text/html": [
       "<div>\n",
       "<style scoped>\n",
       "    .dataframe tbody tr th:only-of-type {\n",
       "        vertical-align: middle;\n",
       "    }\n",
       "\n",
       "    .dataframe tbody tr th {\n",
       "        vertical-align: top;\n",
       "    }\n",
       "\n",
       "    .dataframe thead th {\n",
       "        text-align: right;\n",
       "    }\n",
       "</style>\n",
       "<table border=\"1\" class=\"dataframe\">\n",
       "  <thead>\n",
       "    <tr style=\"text-align: right;\">\n",
       "      <th></th>\n",
       "      <th>Date</th>\n",
       "      <th>Open</th>\n",
       "      <th>High</th>\n",
       "      <th>Low</th>\n",
       "      <th>Close</th>\n",
       "      <th>Volume</th>\n",
       "      <th>Adj Close</th>\n",
       "    </tr>\n",
       "  </thead>\n",
       "  <tbody>\n",
       "    <tr>\n",
       "      <th>280</th>\n",
       "      <td>2015-05-22</td>\n",
       "      <td>18286.869141</td>\n",
       "      <td>18286.869141</td>\n",
       "      <td>18217.140625</td>\n",
       "      <td>18232.019531</td>\n",
       "      <td>78890000</td>\n",
       "      <td>18232.019531</td>\n",
       "    </tr>\n",
       "    <tr>\n",
       "      <th>281</th>\n",
       "      <td>2015-05-21</td>\n",
       "      <td>18285.869141</td>\n",
       "      <td>18314.890625</td>\n",
       "      <td>18249.900391</td>\n",
       "      <td>18285.740234</td>\n",
       "      <td>84270000</td>\n",
       "      <td>18285.740234</td>\n",
       "    </tr>\n",
       "  </tbody>\n",
       "</table>\n",
       "</div>"
      ],
      "text/plain": [
       "           Date          Open          High           Low         Close  \\\n",
       "280  2015-05-22  18286.869141  18286.869141  18217.140625  18232.019531   \n",
       "281  2015-05-21  18285.869141  18314.890625  18249.900391  18285.740234   \n",
       "\n",
       "       Volume     Adj Close  \n",
       "280  78890000  18232.019531  \n",
       "281  84270000  18285.740234  "
      ]
     },
     "execution_count": 43,
     "metadata": {},
     "output_type": "execute_result"
    }
   ],
   "source": [
    "df[(df['Open']>18281.949219) & (df['Date']>'2015-05-20')]"
   ]
  },
  {
   "cell_type": "markdown",
   "metadata": {
    "_uuid": "9bb0b4f8e2b1b4e5c4d1d54404078201fe64b774"
   },
   "source": [
    "# **Data sortlanması** <a id=\"60\"></a>\n",
    "\n",
    " \n",
    "<hr>\n",
    "\n",
    "### **df.sort_values('columnName')** <a id=\"61\"></a>\n",
    "This code sorts the column we specify in the form of low to high.\n",
    "Bu kod göstərdiyimiz sütunu kiçikdən böyüyə doğru sort edir."
   ]
  },
  {
   "cell_type": "markdown",
   "metadata": {
    "_uuid": "9bb0b4f8e2b1b4e5c4d1d54404078201fe64b774"
   },
   "source": [
    "# **Data sortlanması** <a id=\"60\"></a>\n",
    "\n",
    " \n",
    "<hr>\n",
    "\n",
    "### **df.sort_values('columnName')** <a id=\"61\"></a>\n",
    "This code sorts the column we specify in the form of low to high.\n",
    "Bu kod göstərdiyimiz sütunu kiçikdən böyüyə doğru sort edir."
   ]
  },
  {
   "cell_type": "code",
   "execution_count": 44,
   "metadata": {
    "_uuid": "f15141d1d55decedc9682157f4f02be6ece75be2"
   },
   "outputs": [
    {
     "data": {
      "text/html": [
       "<div>\n",
       "<style scoped>\n",
       "    .dataframe tbody tr th:only-of-type {\n",
       "        vertical-align: middle;\n",
       "    }\n",
       "\n",
       "    .dataframe tbody tr th {\n",
       "        vertical-align: top;\n",
       "    }\n",
       "\n",
       "    .dataframe thead th {\n",
       "        text-align: right;\n",
       "    }\n",
       "</style>\n",
       "<table border=\"1\" class=\"dataframe\">\n",
       "  <thead>\n",
       "    <tr style=\"text-align: right;\">\n",
       "      <th></th>\n",
       "      <th>Date</th>\n",
       "      <th>Open</th>\n",
       "      <th>High</th>\n",
       "      <th>Low</th>\n",
       "      <th>Close</th>\n",
       "      <th>Volume</th>\n",
       "      <th>Adj Close</th>\n",
       "    </tr>\n",
       "  </thead>\n",
       "  <tbody>\n",
       "    <tr>\n",
       "      <th>1842</th>\n",
       "      <td>2009-03-10</td>\n",
       "      <td>6547.009766</td>\n",
       "      <td>6926.490234</td>\n",
       "      <td>6546.609863</td>\n",
       "      <td>6926.490234</td>\n",
       "      <td>640020000</td>\n",
       "      <td>6926.490234</td>\n",
       "    </tr>\n",
       "    <tr>\n",
       "      <th>1844</th>\n",
       "      <td>2009-03-06</td>\n",
       "      <td>6595.160156</td>\n",
       "      <td>6755.169922</td>\n",
       "      <td>6469.950195</td>\n",
       "      <td>6626.939941</td>\n",
       "      <td>425170000</td>\n",
       "      <td>6626.939941</td>\n",
       "    </tr>\n",
       "    <tr>\n",
       "      <th>1843</th>\n",
       "      <td>2009-03-09</td>\n",
       "      <td>6625.740234</td>\n",
       "      <td>6709.609863</td>\n",
       "      <td>6516.859863</td>\n",
       "      <td>6547.049805</td>\n",
       "      <td>365990000</td>\n",
       "      <td>6547.049805</td>\n",
       "    </tr>\n",
       "    <tr>\n",
       "      <th>1846</th>\n",
       "      <td>2009-03-04</td>\n",
       "      <td>6726.500000</td>\n",
       "      <td>6979.220215</td>\n",
       "      <td>6726.419922</td>\n",
       "      <td>6875.839844</td>\n",
       "      <td>464830000</td>\n",
       "      <td>6875.839844</td>\n",
       "    </tr>\n",
       "    <tr>\n",
       "      <th>1847</th>\n",
       "      <td>2009-03-03</td>\n",
       "      <td>6764.810059</td>\n",
       "      <td>6855.290039</td>\n",
       "      <td>6705.629883</td>\n",
       "      <td>6726.020020</td>\n",
       "      <td>445280000</td>\n",
       "      <td>6726.020020</td>\n",
       "    </tr>\n",
       "  </tbody>\n",
       "</table>\n",
       "</div>"
      ],
      "text/plain": [
       "            Date         Open         High          Low        Close  \\\n",
       "1842  2009-03-10  6547.009766  6926.490234  6546.609863  6926.490234   \n",
       "1844  2009-03-06  6595.160156  6755.169922  6469.950195  6626.939941   \n",
       "1843  2009-03-09  6625.740234  6709.609863  6516.859863  6547.049805   \n",
       "1846  2009-03-04  6726.500000  6979.220215  6726.419922  6875.839844   \n",
       "1847  2009-03-03  6764.810059  6855.290039  6705.629883  6726.020020   \n",
       "\n",
       "         Volume    Adj Close  \n",
       "1842  640020000  6926.490234  \n",
       "1844  425170000  6626.939941  \n",
       "1843  365990000  6547.049805  \n",
       "1846  464830000  6875.839844  \n",
       "1847  445280000  6726.020020  "
      ]
     },
     "execution_count": 44,
     "metadata": {},
     "output_type": "execute_result"
    }
   ],
   "source": [
    "df.sort_values('Open').head()"
   ]
  },
  {
   "cell_type": "markdown",
   "metadata": {
    "_uuid": "8816e0ceab950045905c67d7782733690001908c"
   },
   "source": [
    "### **df.sort_values('columnName', ascending=False)** <a id=\"62\"></a>\n",
    "Bu kod göstərdiyimiz sütunu böyükdən kiçiyə doğru sort edir.\n",
    "\n",
    " \n",
    "<hr>"
   ]
  },
  {
   "cell_type": "code",
   "execution_count": 56,
   "metadata": {
    "_uuid": "13f2b3ac2b4c80f75acdcbdfa08fbcd5c61fd710"
   },
   "outputs": [
    {
     "data": {
      "text/html": [
       "<div>\n",
       "<style scoped>\n",
       "    .dataframe tbody tr th:only-of-type {\n",
       "        vertical-align: middle;\n",
       "    }\n",
       "\n",
       "    .dataframe tbody tr th {\n",
       "        vertical-align: top;\n",
       "    }\n",
       "\n",
       "    .dataframe thead th {\n",
       "        text-align: right;\n",
       "    }\n",
       "</style>\n",
       "<table border=\"1\" class=\"dataframe\">\n",
       "  <thead>\n",
       "    <tr style=\"text-align: right;\">\n",
       "      <th></th>\n",
       "      <th>Date</th>\n",
       "      <th>Open</th>\n",
       "      <th>High</th>\n",
       "      <th>Low</th>\n",
       "      <th>Close</th>\n",
       "      <th>Volume</th>\n",
       "      <th>Adj Close</th>\n",
       "    </tr>\n",
       "  </thead>\n",
       "  <tbody>\n",
       "    <tr>\n",
       "      <th>0</th>\n",
       "      <td>2016-07-01</td>\n",
       "      <td>17924.240234</td>\n",
       "      <td>18002.380859</td>\n",
       "      <td>17916.910156</td>\n",
       "      <td>17949.369141</td>\n",
       "      <td>82160000</td>\n",
       "      <td>17949.369141</td>\n",
       "    </tr>\n",
       "    <tr>\n",
       "      <th>1</th>\n",
       "      <td>2016-06-30</td>\n",
       "      <td>17712.759766</td>\n",
       "      <td>17930.609375</td>\n",
       "      <td>17711.800781</td>\n",
       "      <td>17929.990234</td>\n",
       "      <td>133030000</td>\n",
       "      <td>17929.990234</td>\n",
       "    </tr>\n",
       "    <tr>\n",
       "      <th>2</th>\n",
       "      <td>2016-06-29</td>\n",
       "      <td>17456.019531</td>\n",
       "      <td>17704.509766</td>\n",
       "      <td>17456.019531</td>\n",
       "      <td>17694.679688</td>\n",
       "      <td>106380000</td>\n",
       "      <td>17694.679688</td>\n",
       "    </tr>\n",
       "    <tr>\n",
       "      <th>3</th>\n",
       "      <td>2016-06-28</td>\n",
       "      <td>17190.509766</td>\n",
       "      <td>17409.720703</td>\n",
       "      <td>17190.509766</td>\n",
       "      <td>17409.720703</td>\n",
       "      <td>112190000</td>\n",
       "      <td>17409.720703</td>\n",
       "    </tr>\n",
       "    <tr>\n",
       "      <th>4</th>\n",
       "      <td>2016-06-27</td>\n",
       "      <td>17355.210938</td>\n",
       "      <td>17355.210938</td>\n",
       "      <td>17063.080078</td>\n",
       "      <td>17140.240234</td>\n",
       "      <td>138740000</td>\n",
       "      <td>17140.240234</td>\n",
       "    </tr>\n",
       "  </tbody>\n",
       "</table>\n",
       "</div>"
      ],
      "text/plain": [
       "         Date          Open          High           Low         Close  \\\n",
       "0  2016-07-01  17924.240234  18002.380859  17916.910156  17949.369141   \n",
       "1  2016-06-30  17712.759766  17930.609375  17711.800781  17929.990234   \n",
       "2  2016-06-29  17456.019531  17704.509766  17456.019531  17694.679688   \n",
       "3  2016-06-28  17190.509766  17409.720703  17190.509766  17409.720703   \n",
       "4  2016-06-27  17355.210938  17355.210938  17063.080078  17140.240234   \n",
       "\n",
       "      Volume     Adj Close  \n",
       "0   82160000  17949.369141  \n",
       "1  133030000  17929.990234  \n",
       "2  106380000  17694.679688  \n",
       "3  112190000  17409.720703  \n",
       "4  138740000  17140.240234  "
      ]
     },
     "execution_count": 56,
     "metadata": {},
     "output_type": "execute_result"
    }
   ],
   "source": [
    "df.sort_values('Date', ascending=False).head()"
   ]
  },
  {
   "cell_type": "markdown",
   "metadata": {
    "_uuid": "8cba417bec9ee6ac67ed1e37c2132842e4cfefb9"
   },
   "source": [
    "### **df.sort_index()** <a id=\"63\"></a>\n",
    "Bu kod dataframe-in index-ə görə kiçikdən böyüyə doğru sort edir.\n",
    "\n",
    " \n",
    "<hr>"
   ]
  },
  {
   "cell_type": "code",
   "execution_count": 45,
   "metadata": {
    "_uuid": "0317290f54888b03bf983a84382c6f78494a2a25"
   },
   "outputs": [
    {
     "data": {
      "text/html": [
       "<div>\n",
       "<style scoped>\n",
       "    .dataframe tbody tr th:only-of-type {\n",
       "        vertical-align: middle;\n",
       "    }\n",
       "\n",
       "    .dataframe tbody tr th {\n",
       "        vertical-align: top;\n",
       "    }\n",
       "\n",
       "    .dataframe thead th {\n",
       "        text-align: right;\n",
       "    }\n",
       "</style>\n",
       "<table border=\"1\" class=\"dataframe\">\n",
       "  <thead>\n",
       "    <tr style=\"text-align: right;\">\n",
       "      <th></th>\n",
       "      <th>Date</th>\n",
       "      <th>Open</th>\n",
       "      <th>High</th>\n",
       "      <th>Low</th>\n",
       "      <th>Close</th>\n",
       "      <th>Volume</th>\n",
       "      <th>Adj Close</th>\n",
       "    </tr>\n",
       "  </thead>\n",
       "  <tbody>\n",
       "    <tr>\n",
       "      <th>0</th>\n",
       "      <td>2016-07-01</td>\n",
       "      <td>17924.240234</td>\n",
       "      <td>18002.380859</td>\n",
       "      <td>17916.910156</td>\n",
       "      <td>17949.369141</td>\n",
       "      <td>82160000</td>\n",
       "      <td>17949.369141</td>\n",
       "    </tr>\n",
       "    <tr>\n",
       "      <th>1</th>\n",
       "      <td>2016-06-30</td>\n",
       "      <td>17712.759766</td>\n",
       "      <td>17930.609375</td>\n",
       "      <td>17711.800781</td>\n",
       "      <td>17929.990234</td>\n",
       "      <td>133030000</td>\n",
       "      <td>17929.990234</td>\n",
       "    </tr>\n",
       "    <tr>\n",
       "      <th>2</th>\n",
       "      <td>2016-06-29</td>\n",
       "      <td>17456.019531</td>\n",
       "      <td>17704.509766</td>\n",
       "      <td>17456.019531</td>\n",
       "      <td>17694.679688</td>\n",
       "      <td>106380000</td>\n",
       "      <td>17694.679688</td>\n",
       "    </tr>\n",
       "    <tr>\n",
       "      <th>3</th>\n",
       "      <td>2016-06-28</td>\n",
       "      <td>17190.509766</td>\n",
       "      <td>17409.720703</td>\n",
       "      <td>17190.509766</td>\n",
       "      <td>17409.720703</td>\n",
       "      <td>112190000</td>\n",
       "      <td>17409.720703</td>\n",
       "    </tr>\n",
       "    <tr>\n",
       "      <th>4</th>\n",
       "      <td>2016-06-27</td>\n",
       "      <td>17355.210938</td>\n",
       "      <td>17355.210938</td>\n",
       "      <td>17063.080078</td>\n",
       "      <td>17140.240234</td>\n",
       "      <td>138740000</td>\n",
       "      <td>17140.240234</td>\n",
       "    </tr>\n",
       "  </tbody>\n",
       "</table>\n",
       "</div>"
      ],
      "text/plain": [
       "         Date          Open          High           Low         Close  \\\n",
       "0  2016-07-01  17924.240234  18002.380859  17916.910156  17949.369141   \n",
       "1  2016-06-30  17712.759766  17930.609375  17711.800781  17929.990234   \n",
       "2  2016-06-29  17456.019531  17704.509766  17456.019531  17694.679688   \n",
       "3  2016-06-28  17190.509766  17409.720703  17190.509766  17409.720703   \n",
       "4  2016-06-27  17355.210938  17355.210938  17063.080078  17140.240234   \n",
       "\n",
       "      Volume     Adj Close  \n",
       "0   82160000  17949.369141  \n",
       "1  133030000  17929.990234  \n",
       "2  106380000  17694.679688  \n",
       "3  112190000  17409.720703  \n",
       "4  138740000  17140.240234  "
      ]
     },
     "execution_count": 45,
     "metadata": {},
     "output_type": "execute_result"
    }
   ],
   "source": [
    "df.sort_index().head()"
   ]
  },
  {
   "cell_type": "markdown",
   "metadata": {
    "_uuid": "1e10d8a4929a0bd2587d0826dc863d35784bcd68"
   },
   "source": [
    "# **Sütun adlandırma** <a id=\"64\"></a>\n",
    " \n",
    "<hr>"
   ]
  },
  {
   "cell_type": "markdown",
   "metadata": {
    "_uuid": "e6d2f6146eee2aec07942640be832e6f465f8b13"
   },
   "source": [
    "### **df.rename(columns= {'columnName' : 'newColumnName'})** <a id=\"65\"></a>\n",
    "Bu kod sütun adını dəyişməyə kömək edir. Aşağıda yazdığım kod ID dəyərini dəyişdirir, lakin dəyişikliyi DF dəyişəninə təyin etmədikdən görünmür."
   ]
  },
  {
   "cell_type": "code",
   "execution_count": 46,
   "metadata": {
    "_uuid": "f9629a7d893e2d06b28cd894755960b330abc5f1"
   },
   "outputs": [
    {
     "data": {
      "text/html": [
       "<div>\n",
       "<style scoped>\n",
       "    .dataframe tbody tr th:only-of-type {\n",
       "        vertical-align: middle;\n",
       "    }\n",
       "\n",
       "    .dataframe tbody tr th {\n",
       "        vertical-align: top;\n",
       "    }\n",
       "\n",
       "    .dataframe thead th {\n",
       "        text-align: right;\n",
       "    }\n",
       "</style>\n",
       "<table border=\"1\" class=\"dataframe\">\n",
       "  <thead>\n",
       "    <tr style=\"text-align: right;\">\n",
       "      <th></th>\n",
       "      <th>Date</th>\n",
       "      <th>Open</th>\n",
       "      <th>High</th>\n",
       "      <th>Low</th>\n",
       "      <th>Close</th>\n",
       "      <th>Volume</th>\n",
       "      <th>Adjclose</th>\n",
       "    </tr>\n",
       "  </thead>\n",
       "  <tbody>\n",
       "    <tr>\n",
       "      <th>0</th>\n",
       "      <td>2016-07-01</td>\n",
       "      <td>17924.240234</td>\n",
       "      <td>18002.380859</td>\n",
       "      <td>17916.910156</td>\n",
       "      <td>17949.369141</td>\n",
       "      <td>82160000</td>\n",
       "      <td>17949.369141</td>\n",
       "    </tr>\n",
       "    <tr>\n",
       "      <th>1</th>\n",
       "      <td>2016-06-30</td>\n",
       "      <td>17712.759766</td>\n",
       "      <td>17930.609375</td>\n",
       "      <td>17711.800781</td>\n",
       "      <td>17929.990234</td>\n",
       "      <td>133030000</td>\n",
       "      <td>17929.990234</td>\n",
       "    </tr>\n",
       "    <tr>\n",
       "      <th>2</th>\n",
       "      <td>2016-06-29</td>\n",
       "      <td>17456.019531</td>\n",
       "      <td>17704.509766</td>\n",
       "      <td>17456.019531</td>\n",
       "      <td>17694.679688</td>\n",
       "      <td>106380000</td>\n",
       "      <td>17694.679688</td>\n",
       "    </tr>\n",
       "    <tr>\n",
       "      <th>3</th>\n",
       "      <td>2016-06-28</td>\n",
       "      <td>17190.509766</td>\n",
       "      <td>17409.720703</td>\n",
       "      <td>17190.509766</td>\n",
       "      <td>17409.720703</td>\n",
       "      <td>112190000</td>\n",
       "      <td>17409.720703</td>\n",
       "    </tr>\n",
       "    <tr>\n",
       "      <th>4</th>\n",
       "      <td>2016-06-27</td>\n",
       "      <td>17355.210938</td>\n",
       "      <td>17355.210938</td>\n",
       "      <td>17063.080078</td>\n",
       "      <td>17140.240234</td>\n",
       "      <td>138740000</td>\n",
       "      <td>17140.240234</td>\n",
       "    </tr>\n",
       "  </tbody>\n",
       "</table>\n",
       "</div>"
      ],
      "text/plain": [
       "         Date          Open          High           Low         Close  \\\n",
       "0  2016-07-01  17924.240234  18002.380859  17916.910156  17949.369141   \n",
       "1  2016-06-30  17712.759766  17930.609375  17711.800781  17929.990234   \n",
       "2  2016-06-29  17456.019531  17704.509766  17456.019531  17694.679688   \n",
       "3  2016-06-28  17190.509766  17409.720703  17190.509766  17409.720703   \n",
       "4  2016-06-27  17355.210938  17355.210938  17063.080078  17140.240234   \n",
       "\n",
       "      Volume      Adjclose  \n",
       "0   82160000  17949.369141  \n",
       "1  133030000  17929.990234  \n",
       "2  106380000  17694.679688  \n",
       "3  112190000  17409.720703  \n",
       "4  138740000  17140.240234  "
      ]
     },
     "execution_count": 46,
     "metadata": {},
     "output_type": "execute_result"
    }
   ],
   "source": [
    "df.rename(columns= {'Adj Close' : 'Adjclose'}).head()\n",
    "# df = df.rename(columns= {'Id' : 'Identif'}, inplace=True) -> True way\n",
    "# inplace= True or False; This meaning, overwrite the data set.\n",
    "# Other Way\n",
    "# df.columns = ['date', 'open', 'high', 'low', 'close', 'volume', 'adjclose']"
   ]
  },
  {
   "cell_type": "markdown",
   "metadata": {
    "_uuid": "589a1f14eb9a14430b16fe7bdbb7f8f75739a672"
   },
   "source": [
    "###  **Yeni sütun** <a id=\"66\"></a>\n",
    "Yeni sütun yaratmaq\n",
    "\n",
    " \n",
    "<hr>"
   ]
  },
  {
   "cell_type": "code",
   "execution_count": 47,
   "metadata": {
    "_uuid": "6056aa5ff4fbfa729cf28f13fe12693bc2baad24"
   },
   "outputs": [
    {
     "data": {
      "text/html": [
       "<div>\n",
       "<style scoped>\n",
       "    .dataframe tbody tr th:only-of-type {\n",
       "        vertical-align: middle;\n",
       "    }\n",
       "\n",
       "    .dataframe tbody tr th {\n",
       "        vertical-align: top;\n",
       "    }\n",
       "\n",
       "    .dataframe thead th {\n",
       "        text-align: right;\n",
       "    }\n",
       "</style>\n",
       "<table border=\"1\" class=\"dataframe\">\n",
       "  <thead>\n",
       "    <tr style=\"text-align: right;\">\n",
       "      <th></th>\n",
       "      <th>Date</th>\n",
       "      <th>Open</th>\n",
       "      <th>High</th>\n",
       "      <th>Low</th>\n",
       "      <th>Close</th>\n",
       "      <th>Volume</th>\n",
       "      <th>Adj Close</th>\n",
       "      <th>Difference</th>\n",
       "    </tr>\n",
       "  </thead>\n",
       "  <tbody>\n",
       "    <tr>\n",
       "      <th>0</th>\n",
       "      <td>2016-07-01</td>\n",
       "      <td>17924.240234</td>\n",
       "      <td>18002.380859</td>\n",
       "      <td>17916.910156</td>\n",
       "      <td>17949.369141</td>\n",
       "      <td>82160000</td>\n",
       "      <td>17949.369141</td>\n",
       "      <td>85.470703</td>\n",
       "    </tr>\n",
       "    <tr>\n",
       "      <th>1</th>\n",
       "      <td>2016-06-30</td>\n",
       "      <td>17712.759766</td>\n",
       "      <td>17930.609375</td>\n",
       "      <td>17711.800781</td>\n",
       "      <td>17929.990234</td>\n",
       "      <td>133030000</td>\n",
       "      <td>17929.990234</td>\n",
       "      <td>218.808594</td>\n",
       "    </tr>\n",
       "    <tr>\n",
       "      <th>2</th>\n",
       "      <td>2016-06-29</td>\n",
       "      <td>17456.019531</td>\n",
       "      <td>17704.509766</td>\n",
       "      <td>17456.019531</td>\n",
       "      <td>17694.679688</td>\n",
       "      <td>106380000</td>\n",
       "      <td>17694.679688</td>\n",
       "      <td>248.490235</td>\n",
       "    </tr>\n",
       "    <tr>\n",
       "      <th>3</th>\n",
       "      <td>2016-06-28</td>\n",
       "      <td>17190.509766</td>\n",
       "      <td>17409.720703</td>\n",
       "      <td>17190.509766</td>\n",
       "      <td>17409.720703</td>\n",
       "      <td>112190000</td>\n",
       "      <td>17409.720703</td>\n",
       "      <td>219.210937</td>\n",
       "    </tr>\n",
       "    <tr>\n",
       "      <th>4</th>\n",
       "      <td>2016-06-27</td>\n",
       "      <td>17355.210938</td>\n",
       "      <td>17355.210938</td>\n",
       "      <td>17063.080078</td>\n",
       "      <td>17140.240234</td>\n",
       "      <td>138740000</td>\n",
       "      <td>17140.240234</td>\n",
       "      <td>292.130860</td>\n",
       "    </tr>\n",
       "  </tbody>\n",
       "</table>\n",
       "</div>"
      ],
      "text/plain": [
       "         Date          Open          High           Low         Close  \\\n",
       "0  2016-07-01  17924.240234  18002.380859  17916.910156  17949.369141   \n",
       "1  2016-06-30  17712.759766  17930.609375  17711.800781  17929.990234   \n",
       "2  2016-06-29  17456.019531  17704.509766  17456.019531  17694.679688   \n",
       "3  2016-06-28  17190.509766  17409.720703  17190.509766  17409.720703   \n",
       "4  2016-06-27  17355.210938  17355.210938  17063.080078  17140.240234   \n",
       "\n",
       "      Volume     Adj Close  Difference  \n",
       "0   82160000  17949.369141   85.470703  \n",
       "1  133030000  17929.990234  218.808594  \n",
       "2  106380000  17694.679688  248.490235  \n",
       "3  112190000  17409.720703  219.210937  \n",
       "4  138740000  17140.240234  292.130860  "
      ]
     },
     "execution_count": 47,
     "metadata": {},
     "output_type": "execute_result"
    }
   ],
   "source": [
    "df[\"Difference\"] = df.High - df.Low\n",
    "df.head()"
   ]
  },
  {
   "cell_type": "markdown",
   "metadata": {
    "_uuid": "15710f63a62ff12196912e9b41919b6157b90dff"
   },
   "source": [
    "### **Sütun adlarını kiçik hərfə keçirmək** <a id=\"68\"></a>\n",
    " \n",
    "<hr>"
   ]
  },
  {
   "cell_type": "code",
   "execution_count": 48,
   "metadata": {
    "_uuid": "ae9b53e39babf6b99fae1ebc3746ccd41be813b3"
   },
   "outputs": [],
   "source": [
    "#df.columns = map(str.lower(), df.columns)"
   ]
  },
  {
   "cell_type": "markdown",
   "metadata": {
    "_uuid": "5e56335f86a4e3e463151a9e4470bdf71183b863"
   },
   "source": [
    "### **Sütun adlarını böyük hərfə keçirmək** <a id=\"69\"></a>\n",
    " \n",
    "<hr>"
   ]
  },
  {
   "cell_type": "code",
   "execution_count": 49,
   "metadata": {
    "_uuid": "7c1800e1b60aadffc1105b77dae3ae98f62b67fa"
   },
   "outputs": [],
   "source": [
    "#df.columns = map(str.upper(), df.columns)"
   ]
  },
  {
   "cell_type": "markdown",
   "metadata": {
    "_uuid": "6b289272d9dff6967d82110f9e71b8cf0754cf1f"
   },
   "source": [
    "# **Datanın silinməsi** <a id=\"70\"></a>\n",
    "\n",
    " \n",
    "<hr>"
   ]
  },
  {
   "cell_type": "markdown",
   "metadata": {
    "_uuid": "e9ac8aff9d77672a72d8460ccc00612d13fff631"
   },
   "source": [
    "### **df.drop(columns=['columnName'])** <a id=\"71\"></a>\n",
    "Bu kod göstərdiyimiz sütunu silir. Lakin yuxarıda yazdığım kimi silməni DF dəyişəninə təyin etmədikdən görünmür."
   ]
  },
  {
   "cell_type": "code",
   "execution_count": 50,
   "metadata": {
    "_uuid": "41d2d8fff5ad5d5e1175ec4bc985169bf3872f23"
   },
   "outputs": [
    {
     "data": {
      "text/html": [
       "<div>\n",
       "<style scoped>\n",
       "    .dataframe tbody tr th:only-of-type {\n",
       "        vertical-align: middle;\n",
       "    }\n",
       "\n",
       "    .dataframe tbody tr th {\n",
       "        vertical-align: top;\n",
       "    }\n",
       "\n",
       "    .dataframe thead th {\n",
       "        text-align: right;\n",
       "    }\n",
       "</style>\n",
       "<table border=\"1\" class=\"dataframe\">\n",
       "  <thead>\n",
       "    <tr style=\"text-align: right;\">\n",
       "      <th></th>\n",
       "      <th>Date</th>\n",
       "      <th>Open</th>\n",
       "      <th>High</th>\n",
       "      <th>Low</th>\n",
       "      <th>Close</th>\n",
       "      <th>Volume</th>\n",
       "      <th>Difference</th>\n",
       "    </tr>\n",
       "  </thead>\n",
       "  <tbody>\n",
       "    <tr>\n",
       "      <th>0</th>\n",
       "      <td>2016-07-01</td>\n",
       "      <td>17924.240234</td>\n",
       "      <td>18002.380859</td>\n",
       "      <td>17916.910156</td>\n",
       "      <td>17949.369141</td>\n",
       "      <td>82160000</td>\n",
       "      <td>85.470703</td>\n",
       "    </tr>\n",
       "    <tr>\n",
       "      <th>1</th>\n",
       "      <td>2016-06-30</td>\n",
       "      <td>17712.759766</td>\n",
       "      <td>17930.609375</td>\n",
       "      <td>17711.800781</td>\n",
       "      <td>17929.990234</td>\n",
       "      <td>133030000</td>\n",
       "      <td>218.808594</td>\n",
       "    </tr>\n",
       "    <tr>\n",
       "      <th>2</th>\n",
       "      <td>2016-06-29</td>\n",
       "      <td>17456.019531</td>\n",
       "      <td>17704.509766</td>\n",
       "      <td>17456.019531</td>\n",
       "      <td>17694.679688</td>\n",
       "      <td>106380000</td>\n",
       "      <td>248.490235</td>\n",
       "    </tr>\n",
       "    <tr>\n",
       "      <th>3</th>\n",
       "      <td>2016-06-28</td>\n",
       "      <td>17190.509766</td>\n",
       "      <td>17409.720703</td>\n",
       "      <td>17190.509766</td>\n",
       "      <td>17409.720703</td>\n",
       "      <td>112190000</td>\n",
       "      <td>219.210937</td>\n",
       "    </tr>\n",
       "    <tr>\n",
       "      <th>4</th>\n",
       "      <td>2016-06-27</td>\n",
       "      <td>17355.210938</td>\n",
       "      <td>17355.210938</td>\n",
       "      <td>17063.080078</td>\n",
       "      <td>17140.240234</td>\n",
       "      <td>138740000</td>\n",
       "      <td>292.130860</td>\n",
       "    </tr>\n",
       "  </tbody>\n",
       "</table>\n",
       "</div>"
      ],
      "text/plain": [
       "         Date          Open          High           Low         Close  \\\n",
       "0  2016-07-01  17924.240234  18002.380859  17916.910156  17949.369141   \n",
       "1  2016-06-30  17712.759766  17930.609375  17711.800781  17929.990234   \n",
       "2  2016-06-29  17456.019531  17704.509766  17456.019531  17694.679688   \n",
       "3  2016-06-28  17190.509766  17409.720703  17190.509766  17409.720703   \n",
       "4  2016-06-27  17355.210938  17355.210938  17063.080078  17140.240234   \n",
       "\n",
       "      Volume  Difference  \n",
       "0   82160000   85.470703  \n",
       "1  133030000  218.808594  \n",
       "2  106380000  248.490235  \n",
       "3  112190000  219.210937  \n",
       "4  138740000  292.130860  "
      ]
     },
     "execution_count": 50,
     "metadata": {},
     "output_type": "execute_result"
    }
   ],
   "source": [
    "df.drop(columns=['Adj Close']).head()\n",
    "# df = df.drop(columns=['Id']) -> True way\n",
    "# OR\n",
    "# df = df.drop('col', axis=1)\n",
    "# axis = 1 is meaning delete columns\n",
    "# axis = 0 is meaning delete rows"
   ]
  },
  {
   "cell_type": "markdown",
   "metadata": {
    "_uuid": "6a472c27b3703d89606949b355c5008ff8981908"
   },
   "source": [
    "### **Sətir silinməsi** <a id=\"82\"></a>\n",
    "\n",
    " \n",
    "<hr>"
   ]
  },
  {
   "cell_type": "code",
   "execution_count": 51,
   "metadata": {
    "_uuid": "3fb937803e52af8a17314cfd0ccb24e0d87f7423"
   },
   "outputs": [],
   "source": [
    "# df.drop(['2016-07-01', '2016-06-27'])"
   ]
  },
  {
   "cell_type": "markdown",
   "metadata": {
    "_uuid": "24773e44d98f5c9bcb97c7aa8b7109919f8c8d91"
   },
   "source": [
    "### **Sütun silinməsi** <a id=\"83\"></a>\n",
    "\n",
    " \n",
    "<hr>\n",
    "Note: axis=1, sütunu silməyimiz üçündür"
   ]
  },
  {
   "cell_type": "code",
   "execution_count": 52,
   "metadata": {
    "_uuid": "3b341838cde86e0bf29cf10acd86c89fd5e3dae9"
   },
   "outputs": [],
   "source": [
    "# df.drop('Volume', axis=1)"
   ]
  },
  {
   "cell_type": "markdown",
   "metadata": {
    "_uuid": "257734e1e5181e1a7983b246b96fd9d48e82c383"
   },
   "source": [
    "# **Data tipinin dəyişdirilməsi/** <a id=\"73\"></a>\n",
    "\n",
    " \n",
    "<hr>\n",
    "\n",
    "### **df.dtypes** <a id=\"74\"></a>\n",
    "Bu kod sütunların data tipini göstərir. Boolean, int, float, object(String), date."
   ]
  },
  {
   "cell_type": "code",
   "execution_count": 53,
   "metadata": {
    "_uuid": "d02e7c7f166080e52b16976bbf2e823bc341f6c9"
   },
   "outputs": [
    {
     "data": {
      "text/plain": [
       "Date           object\n",
       "Open          float64\n",
       "High          float64\n",
       "Low           float64\n",
       "Close         float64\n",
       "Volume          int64\n",
       "Adj Close     float64\n",
       "Difference    float64\n",
       "dtype: object"
      ]
     },
     "execution_count": 53,
     "metadata": {},
     "output_type": "execute_result"
    }
   ],
   "source": [
    "df.dtypes"
   ]
  },
  {
   "cell_type": "markdown",
   "metadata": {
    "_uuid": "ca2aa5c9ab554e05194f2d615b951e7bd0dd53a5"
   },
   "source": [
    "### **df['columnName'] = df['columnName'].astype('dataType')** <a id=\"75\"></a>\n",
    "Bu kod göstərdiyimiz sütunu göstərdiyimiz data tipinə çevirir.\n",
    "\n",
    " \n",
    "<hr>"
   ]
  },
  {
   "cell_type": "code",
   "execution_count": 54,
   "metadata": {
    "_uuid": "ab77df3bc11b833c288e65de5b14942623323141"
   },
   "outputs": [
    {
     "data": {
      "text/plain": [
       "dtype('float64')"
      ]
     },
     "execution_count": 54,
     "metadata": {},
     "output_type": "execute_result"
    }
   ],
   "source": [
    "df.Volume.astype('float').dtypes\n",
    "# OR Convert Datetime\n",
    "# df.Date= pd.to_datetime(df.Date)"
   ]
  },
  {
   "cell_type": "markdown",
   "metadata": {
    "_uuid": "019d675c8328676e2a53c936359a83530f2fccf8"
   },
   "source": [
    "# **Lambda** <a id=\"77\"></a>\n",
    "\n",
    " \n",
    "<hr>\n",
    "\n",
    "### **Metod 1** <a id=\"78\"></a>"
   ]
  },
  {
   "cell_type": "code",
   "execution_count": 55,
   "metadata": {
    "_uuid": "f3d0a47f7f60f42ab74031960962dca9f5c51a90"
   },
   "outputs": [
    {
     "data": {
      "text/plain": [
       "0    35848.480468\n",
       "1    35425.519532\n",
       "2    34912.039062\n",
       "3    34381.019532\n",
       "4    34710.421876\n",
       "Name: Open, dtype: float64"
      ]
     },
     "execution_count": 55,
     "metadata": {},
     "output_type": "execute_result"
    }
   ],
   "source": [
    "def examples(x):   #funksiya yaratmaq\n",
    "    return x*2\n",
    "\n",
    "df.Open.apply(examples).head()  #funksiyanı uygulamaq"
   ]
  },
  {
   "cell_type": "markdown",
   "metadata": {
    "_uuid": "45734ddf89edf8ad9075a2222c78448b0e455214"
   },
   "source": [
    "### **Method 2** <a id=\"79\"></a>"
   ]
  },
  {
   "cell_type": "code",
   "execution_count": 56,
   "metadata": {
    "_uuid": "6447848a7f2fd2c7a0100317e1c4869260f4c11e"
   },
   "outputs": [
    {
     "data": {
      "text/plain": [
       "0    35848.480468\n",
       "1    35425.519532\n",
       "2    34912.039062\n",
       "3    34381.019532\n",
       "4    34710.421876\n",
       "Name: Open, dtype: float64"
      ]
     },
     "execution_count": 56,
     "metadata": {},
     "output_type": "execute_result"
    }
   ],
   "source": [
    "df.Open.apply(lambda x: x*2).head()"
   ]
  },
  {
   "cell_type": "markdown",
   "metadata": {},
   "source": [
    "# Resurslar\n",
    "* [w3schools-Pandas Tutorial](https://www.w3schools.com/python/pandas/default.asp)\n",
    "* [Pandas Documentation](https://pandas.pydata.org/docs/getting_started/tutorials.html)\n",
    "* [Pandas Cheat Sheet](https://pandas.pydata.org/Pandas_Cheat_Sheet.pdf)\n",
    "* [Keith Galli-Pandas Tutorial](https://www.youtube.com/watch?v=vmEHCJofslg)"
   ]
  }
 ],
 "metadata": {
  "kernelspec": {
   "display_name": "Python 3.9.12 ('galactech')",
   "language": "python",
   "name": "python3"
  },
  "language_info": {
   "codemirror_mode": {
    "name": "ipython",
    "version": 3
   },
   "file_extension": ".py",
   "mimetype": "text/x-python",
   "name": "python",
   "nbconvert_exporter": "python",
   "pygments_lexer": "ipython3",
   "version": "3.9.12"
  },
  "vscode": {
   "interpreter": {
    "hash": "72dd4f9d5f0cf6107f7b41e5ab0be3c7740324286abc368bcdd524d5bcd06392"
   }
  }
 },
 "nbformat": 4,
 "nbformat_minor": 1
}
