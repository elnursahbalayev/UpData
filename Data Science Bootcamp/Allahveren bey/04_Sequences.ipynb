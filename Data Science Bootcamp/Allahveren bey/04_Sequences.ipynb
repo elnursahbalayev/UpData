{
 "cells": [
  {
   "cell_type": "markdown",
   "metadata": {},
   "source": [
    "# 04 Sequences"
   ]
  },
  {
   "cell_type": "markdown",
   "metadata": {},
   "source": [
    "## List "
   ]
  },
  {
   "cell_type": "markdown",
   "metadata": {},
   "source": [
    "Listlər muxtəlif deyisənləri bir deyişən içində saxlamaq üçün istifadə olunur. Pythonda ən vacib 4 ardıcıllıqlardan biridir"
   ]
  },
  {
   "cell_type": "code",
   "execution_count": 1,
   "metadata": {},
   "outputs": [],
   "source": [
    "#listin yaradılması\n",
    "ededler = [1,2,3,4,5]"
   ]
  },
  {
   "cell_type": "markdown",
   "metadata": {},
   "source": [
    "Listlər:\n",
    "* dəyişilibilən(listə qiymət əlavə etmək, silmək və dəyişənin qiymətini başqası qiymıt ilə əvəz eləmək)\n",
    "* təkrar qiymətlərə icazə verilən\n",
    "* sıralana bilən -  1 dəfə list təyin olunduqdan sonra həmin ardıcllıq dəyişmir və yeni element əlavə edildikdə həmin listin sonuna əlavə edilir"
   ]
  },
  {
   "cell_type": "markdown",
   "metadata": {},
   "source": [
    "![list](https://media.geeksforgeeks.org/wp-content/uploads/List-Slicing.jpg)"
   ]
  },
  {
   "cell_type": "code",
   "execution_count": 4,
   "metadata": {},
   "outputs": [
    {
     "data": {
      "text/plain": [
       "[1, 2, 3, 4, 5]"
      ]
     },
     "execution_count": 4,
     "metadata": {},
     "output_type": "execute_result"
    }
   ],
   "source": [
    "ededler = [1,2,3,4,5]\n",
    "ededler"
   ]
  },
  {
   "cell_type": "code",
   "execution_count": 5,
   "metadata": {},
   "outputs": [
    {
     "data": {
      "text/plain": [
       "['alma', 'banan', 'nar', 'alma']"
      ]
     },
     "execution_count": 5,
     "metadata": {},
     "output_type": "execute_result"
    }
   ],
   "source": [
    "#təkrar element\n",
    "meyveler = ['alma', 'banan', 'nar', 'alma']\n",
    "meyveler"
   ]
  },
  {
   "cell_type": "code",
   "execution_count": 6,
   "metadata": {},
   "outputs": [
    {
     "data": {
      "text/plain": [
       "4"
      ]
     },
     "execution_count": 6,
     "metadata": {},
     "output_type": "execute_result"
    }
   ],
   "source": [
    "#listin uzunluğu\n",
    "len(meyveler)"
   ]
  },
  {
   "cell_type": "code",
   "execution_count": 7,
   "metadata": {},
   "outputs": [],
   "source": [
    "#ldata tipləri \n",
    "list_1 = [1,2,3,4,5]\n",
    "list_2 = ['apple', 'banana', 'orange', 'pear', 'strawberry']\n",
    "list_3 = [True, False, True, False, True]\n",
    "list_4 = [1,2,3,4,5, 'bananana', True]"
   ]
  },
  {
   "cell_type": "code",
   "execution_count": 8,
   "metadata": {},
   "outputs": [
    {
     "data": {
      "text/plain": [
       "[1, 2, 3, 4, 5, 'bananana', True]"
      ]
     },
     "execution_count": 8,
     "metadata": {},
     "output_type": "execute_result"
    }
   ],
   "source": [
    "list_4"
   ]
  },
  {
   "cell_type": "markdown",
   "metadata": {},
   "source": [
    "### List elementlerinə giriş\n"
   ]
  },
  {
   "cell_type": "code",
   "execution_count": 8,
   "metadata": {},
   "outputs": [],
   "source": [
    "masinlar = ['Nissan', 'Toyota', 'BMW', 'Mercedes', 'Audi']\n",
    "#listlərdə nömrələmə 0-dan başlayır"
   ]
  },
  {
   "cell_type": "markdown",
   "metadata": {},
   "source": [
    "### Indeksləmə hərzaman 0-dan başlayır"
   ]
  },
  {
   "cell_type": "code",
   "execution_count": 10,
   "metadata": {},
   "outputs": [
    {
     "data": {
      "text/plain": [
       "'Nissan'"
      ]
     },
     "execution_count": 10,
     "metadata": {},
     "output_type": "execute_result"
    }
   ],
   "source": [
    "#indeks ilə giriş\n",
    "masinlar[0]"
   ]
  },
  {
   "cell_type": "code",
   "execution_count": 3,
   "metadata": {},
   "outputs": [
    {
     "data": {
      "text/plain": [
       "'Audi'"
      ]
     },
     "execution_count": 3,
     "metadata": {},
     "output_type": "execute_result"
    }
   ],
   "source": [
    "#neqativ indeksləmə\n",
    "masinlar[-1]"
   ]
  },
  {
   "cell_type": "code",
   "execution_count": 4,
   "metadata": {},
   "outputs": [
    {
     "data": {
      "text/plain": [
       "['Toyota', 'BMW']"
      ]
     },
     "execution_count": 4,
     "metadata": {},
     "output_type": "execute_result"
    }
   ],
   "source": [
    "#indeks aralığı\n",
    "masinlar[1:3]"
   ]
  },
  {
   "cell_type": "code",
   "execution_count": 13,
   "metadata": {},
   "outputs": [
    {
     "data": {
      "text/plain": [
       "['Nissan', 'Toyota', 'BMW']"
      ]
     },
     "execution_count": 13,
     "metadata": {},
     "output_type": "execute_result"
    }
   ],
   "source": [
    "masinlar[:3]"
   ]
  },
  {
   "cell_type": "code",
   "execution_count": 14,
   "metadata": {},
   "outputs": [],
   "source": [
    "#indeksləmədən kənar olması\n",
    "# masinlar[7]"
   ]
  },
  {
   "cell_type": "code",
   "execution_count": 5,
   "metadata": {},
   "outputs": [
    {
     "name": "stdout",
     "output_type": "stream",
     "text": [
      "BMW bu listin icindedir\n"
     ]
    }
   ],
   "source": [
    "#elementin listin içərisində olması\n",
    "if 'BMW' in masinlar:\n",
    "    print('BMW bu listin icindedir')"
   ]
  },
  {
   "cell_type": "markdown",
   "metadata": {},
   "source": [
    "### Listin içində elementin dəyişdirilməsi"
   ]
  },
  {
   "cell_type": "code",
   "execution_count": 6,
   "metadata": {},
   "outputs": [],
   "source": [
    "masinlar[3] = 'Ford'"
   ]
  },
  {
   "cell_type": "code",
   "execution_count": 17,
   "metadata": {},
   "outputs": [
    {
     "data": {
      "text/plain": [
       "['Nissan', 'Toyota', 'BMW', 'Ford', 'Audi']"
      ]
     },
     "execution_count": 17,
     "metadata": {},
     "output_type": "execute_result"
    }
   ],
   "source": [
    "masinlar"
   ]
  },
  {
   "cell_type": "code",
   "execution_count": 9,
   "metadata": {},
   "outputs": [],
   "source": [
    "#müəyyən aralıqlarla listin elementlerinin dəyişdirilməsi\n",
    "masinlar[1:3] = ['Vaz', 'Renault']"
   ]
  },
  {
   "cell_type": "code",
   "execution_count": 19,
   "metadata": {},
   "outputs": [
    {
     "data": {
      "text/plain": [
       "['Nissan', 'Vaz', 'Renault', 'Ford', 'Audi']"
      ]
     },
     "execution_count": 19,
     "metadata": {},
     "output_type": "execute_result"
    }
   ],
   "source": [
    "masinlar"
   ]
  },
  {
   "cell_type": "markdown",
   "metadata": {},
   "source": [
    "### Listə element əlavə edilməsi"
   ]
  },
  {
   "cell_type": "markdown",
   "metadata": {},
   "source": [
    "append(), insert(), extend()"
   ]
  },
  {
   "cell_type": "code",
   "execution_count": 10,
   "metadata": {},
   "outputs": [],
   "source": [
    "#append() bir element əlavə etmək\n",
    "masinlar.append('Ferrari')"
   ]
  },
  {
   "cell_type": "code",
   "execution_count": 22,
   "metadata": {},
   "outputs": [
    {
     "data": {
      "text/plain": [
       "['Nissan', 'Vaz', 'Renault', 'Ford', 'Audi', 'Ferrari']"
      ]
     },
     "execution_count": 22,
     "metadata": {},
     "output_type": "execute_result"
    }
   ],
   "source": [
    "masinlar"
   ]
  },
  {
   "cell_type": "code",
   "execution_count": 11,
   "metadata": {},
   "outputs": [],
   "source": [
    "#insert() elementin hər hansı indeksdə əlavə edilməsi\n",
    "masinlar.insert(3, 'Fiat')"
   ]
  },
  {
   "cell_type": "code",
   "execution_count": 24,
   "metadata": {},
   "outputs": [
    {
     "data": {
      "text/plain": [
       "['Nissan', 'Vaz', 'Renault', 'Fiat', 'Ford', 'Audi', 'Ferrari']"
      ]
     },
     "execution_count": 24,
     "metadata": {},
     "output_type": "execute_result"
    }
   ],
   "source": [
    "masinlar"
   ]
  },
  {
   "cell_type": "code",
   "execution_count": 7,
   "metadata": {},
   "outputs": [],
   "source": [
    "#extend() bir neçə elementin eyni anda əlavə etmək\n",
    "masinlar.extend(['BMW', 'Mercedes'])"
   ]
  },
  {
   "cell_type": "code",
   "execution_count": 26,
   "metadata": {},
   "outputs": [
    {
     "data": {
      "text/plain": [
       "['Nissan',\n",
       " 'Vaz',\n",
       " 'Renault',\n",
       " 'Fiat',\n",
       " 'Ford',\n",
       " 'Audi',\n",
       " 'Ferrari',\n",
       " 'BMW',\n",
       " 'Mercedes']"
      ]
     },
     "execution_count": 26,
     "metadata": {},
     "output_type": "execute_result"
    }
   ],
   "source": [
    "masinlar"
   ]
  },
  {
   "cell_type": "markdown",
   "metadata": {},
   "source": [
    "### Listdən element silinməsi"
   ]
  },
  {
   "cell_type": "code",
   "execution_count": 57,
   "metadata": {},
   "outputs": [],
   "source": [
    "# remove()\n",
    "masinlar.remove('Fiat')"
   ]
  },
  {
   "cell_type": "code",
   "execution_count": 58,
   "metadata": {},
   "outputs": [
    {
     "data": {
      "text/plain": [
       "['Nissan', 'Vaz', 'Renault', 'Ford', 'Audi', 'Ferrari', 'BMW', 'Mercedes']"
      ]
     },
     "execution_count": 58,
     "metadata": {},
     "output_type": "execute_result"
    }
   ],
   "source": [
    "masinlar"
   ]
  },
  {
   "cell_type": "code",
   "execution_count": 12,
   "metadata": {},
   "outputs": [
    {
     "data": {
      "text/plain": [
       "'Fiat'"
      ]
     },
     "execution_count": 12,
     "metadata": {},
     "output_type": "execute_result"
    }
   ],
   "source": [
    "#indeks ilə silmə pop()\n",
    "masinlar.pop(3)"
   ]
  },
  {
   "cell_type": "code",
   "execution_count": 60,
   "metadata": {},
   "outputs": [
    {
     "data": {
      "text/plain": [
       "['Nissan', 'Vaz', 'Renault', 'Audi', 'Ferrari', 'BMW', 'Mercedes']"
      ]
     },
     "execution_count": 60,
     "metadata": {},
     "output_type": "execute_result"
    }
   ],
   "source": [
    "masinlar"
   ]
  },
  {
   "cell_type": "code",
   "execution_count": 61,
   "metadata": {},
   "outputs": [
    {
     "data": {
      "text/plain": [
       "'Mercedes'"
      ]
     },
     "execution_count": 61,
     "metadata": {},
     "output_type": "execute_result"
    }
   ],
   "source": [
    "#indekssiz pop()\n",
    "masinlar.pop()"
   ]
  },
  {
   "cell_type": "code",
   "execution_count": 62,
   "metadata": {},
   "outputs": [
    {
     "data": {
      "text/plain": [
       "['Nissan', 'Vaz', 'Renault', 'Audi', 'Ferrari', 'BMW']"
      ]
     },
     "execution_count": 62,
     "metadata": {},
     "output_type": "execute_result"
    }
   ],
   "source": [
    "masinlar"
   ]
  },
  {
   "cell_type": "code",
   "execution_count": 14,
   "metadata": {},
   "outputs": [],
   "source": [
    "#listin təmizlənməsi clear()\n",
    "masinlar.clear()"
   ]
  },
  {
   "cell_type": "code",
   "execution_count": 27,
   "metadata": {},
   "outputs": [
    {
     "data": {
      "text/plain": [
       "['Nissan',\n",
       " 'Vaz',\n",
       " 'Renault',\n",
       " 'Fiat',\n",
       " 'Ford',\n",
       " 'Audi',\n",
       " 'Ferrari',\n",
       " 'BMW',\n",
       " 'Mercedes']"
      ]
     },
     "execution_count": 27,
     "metadata": {},
     "output_type": "execute_result"
    }
   ],
   "source": [
    "masinlar"
   ]
  },
  {
   "cell_type": "markdown",
   "metadata": {},
   "source": [
    "### Listlərdə loop"
   ]
  },
  {
   "cell_type": "code",
   "execution_count": 15,
   "metadata": {},
   "outputs": [],
   "source": [
    "#loop\n",
    "for masin in masinlar:\n",
    "    print(masin)"
   ]
  },
  {
   "cell_type": "markdown",
   "metadata": {},
   "source": [
    "### List comprehension"
   ]
  },
  {
   "cell_type": "markdown",
   "metadata": {},
   "source": [
    "![list comprehension](https://www.freecodecamp.org/news/content/images/2021/07/list-comprehension.png)"
   ]
  },
  {
   "cell_type": "code",
   "execution_count": 16,
   "metadata": {},
   "outputs": [],
   "source": [
    "#listin elementlərindən müəyyən şərt daxilində yeni list yaradılması\n",
    "#adi üsul\n",
    "yeni_list = []\n",
    "for masin in masinlar:\n",
    "    if 'a' in masin:\n",
    "        yeni_list.append(masin)"
   ]
  },
  {
   "cell_type": "code",
   "execution_count": 30,
   "metadata": {},
   "outputs": [
    {
     "data": {
      "text/plain": [
       "['Nissan', 'Vaz', 'Renault', 'Fiat', 'Ferrari']"
      ]
     },
     "execution_count": 30,
     "metadata": {},
     "output_type": "execute_result"
    }
   ],
   "source": [
    "yeni_list"
   ]
  },
  {
   "cell_type": "code",
   "execution_count": 17,
   "metadata": {},
   "outputs": [],
   "source": [
    "#list comprehension\n",
    "yeni_list = [masin for masin in masinlar if 'a' in masin]"
   ]
  },
  {
   "cell_type": "code",
   "execution_count": 32,
   "metadata": {},
   "outputs": [
    {
     "data": {
      "text/plain": [
       "['Nissan', 'Vaz', 'Renault', 'Fiat', 'Ferrari']"
      ]
     },
     "execution_count": 32,
     "metadata": {},
     "output_type": "execute_result"
    }
   ],
   "source": [
    "yeni_list"
   ]
  },
  {
   "cell_type": "code",
   "execution_count": 33,
   "metadata": {},
   "outputs": [],
   "source": [
    "#sintaksis\n",
    "# new_list = [expression for item in list if condition]"
   ]
  },
  {
   "cell_type": "code",
   "execution_count": 18,
   "metadata": {},
   "outputs": [
    {
     "data": {
      "text/plain": [
       "[]"
      ]
     },
     "execution_count": 18,
     "metadata": {},
     "output_type": "execute_result"
    }
   ],
   "source": [
    "#listin içindəki bütün elementləri böyük hərfli etmək\n",
    "yeni_list = [masin.upper() for masin in masinlar]\n",
    "yeni_list"
   ]
  },
  {
   "cell_type": "markdown",
   "metadata": {},
   "source": [
    "# Tapşırıq 1\n",
    "* Müxtəlif random ədədlərdən 10 elementi olan listi yaratmaq\n",
    "* List comprehension istifadə edərək yalnız cüt elementlərdən ibarət list yaratmaq\n",
    "* List comprehension istifadə edərək yalnız tək elementlərdən ibarət list yaratmaq\n"
   ]
  },
  {
   "cell_type": "code",
   "execution_count": 79,
   "metadata": {},
   "outputs": [],
   "source": [
    "# 1. \n",
    "ededler = [1,2,3,4,5, 6, 7, 8, 9, 10]"
   ]
  },
  {
   "cell_type": "code",
   "execution_count": 80,
   "metadata": {},
   "outputs": [
    {
     "data": {
      "text/plain": [
       "[2, 4, 6, 8, 10]"
      ]
     },
     "execution_count": 80,
     "metadata": {},
     "output_type": "execute_result"
    }
   ],
   "source": [
    "# 2.\n",
    "cut_ededler = [eded for eded in ededler if eded % 2 == 0]\n",
    "cut_ededler"
   ]
  },
  {
   "cell_type": "code",
   "execution_count": 81,
   "metadata": {},
   "outputs": [
    {
     "data": {
      "text/plain": [
       "[1, 3, 5, 7, 9]"
      ]
     },
     "execution_count": 81,
     "metadata": {},
     "output_type": "execute_result"
    }
   ],
   "source": [
    "# 2.\n",
    "tek_ededler = [eded for eded in ededler if eded % 2 != 0]\n",
    "tek_ededler"
   ]
  },
  {
   "cell_type": "markdown",
   "metadata": {},
   "source": [
    "### Listin sıralanması"
   ]
  },
  {
   "cell_type": "code",
   "execution_count": 38,
   "metadata": {},
   "outputs": [
    {
     "data": {
      "text/plain": [
       "['Nissan',\n",
       " 'Vaz',\n",
       " 'Renault',\n",
       " 'Fiat',\n",
       " 'Ford',\n",
       " 'Audi',\n",
       " 'Ferrari',\n",
       " 'BMW',\n",
       " 'Mercedes']"
      ]
     },
     "execution_count": 38,
     "metadata": {},
     "output_type": "execute_result"
    }
   ],
   "source": [
    "masinlar"
   ]
  },
  {
   "cell_type": "code",
   "execution_count": 19,
   "metadata": {},
   "outputs": [
    {
     "data": {
      "text/plain": [
       "[]"
      ]
     },
     "execution_count": 19,
     "metadata": {},
     "output_type": "execute_result"
    }
   ],
   "source": [
    "#əlifba sırasıyla\n",
    "masinlar.sort()\n",
    "masinlar"
   ]
  },
  {
   "cell_type": "code",
   "execution_count": 42,
   "metadata": {},
   "outputs": [],
   "source": [
    "ededler = [100, 300, 200, 600, 50]"
   ]
  },
  {
   "cell_type": "code",
   "execution_count": 20,
   "metadata": {},
   "outputs": [
    {
     "data": {
      "text/plain": [
       "[1, 2, 3, 4, 5]"
      ]
     },
     "execution_count": 20,
     "metadata": {},
     "output_type": "execute_result"
    }
   ],
   "source": [
    "#ədədlərin sıralanması\n",
    "ededler.sort()\n",
    "ededler"
   ]
  },
  {
   "cell_type": "code",
   "execution_count": 44,
   "metadata": {},
   "outputs": [
    {
     "data": {
      "text/plain": [
       "[600, 300, 200, 100, 50]"
      ]
     },
     "execution_count": 44,
     "metadata": {},
     "output_type": "execute_result"
    }
   ],
   "source": [
    "#tərsinə sıralam\n",
    "ededler.sort(reverse=True)\n",
    "ededler"
   ]
  },
  {
   "cell_type": "markdown",
   "metadata": {},
   "source": [
    "sort() funsksiyası case sensitivedir, yəni sıralama zamanı ilk olaraq böyük hərfli sözləri sıralayır, daha sonra isə kiçik hərfli sözləri sıralayır"
   ]
  },
  {
   "cell_type": "code",
   "execution_count": 46,
   "metadata": {},
   "outputs": [
    {
     "data": {
      "text/plain": [
       "['Nar', 'Zeytun', 'alma', 'armud', 'banan']"
      ]
     },
     "execution_count": 46,
     "metadata": {},
     "output_type": "execute_result"
    }
   ],
   "source": [
    "meyveler = ['alma', 'banan', 'Nar', 'armud', 'Zeytun']\n",
    "meyveler.sort()\n",
    "meyveler"
   ]
  },
  {
   "cell_type": "code",
   "execution_count": 21,
   "metadata": {},
   "outputs": [
    {
     "data": {
      "text/plain": [
       "['alma', 'armud', 'banan', 'Nar', 'Zeytun']"
      ]
     },
     "execution_count": 21,
     "metadata": {},
     "output_type": "execute_result"
    }
   ],
   "source": [
    "#belə olduqda key parametrtdindən istifadə etmək lazımdır\n",
    "meyveler = ['alma', 'banan', 'Nar', 'armud', 'Zeytun']\n",
    "meyveler.sort(key=str.lower)\n",
    "meyveler"
   ]
  },
  {
   "cell_type": "markdown",
   "metadata": {},
   "source": [
    "### Listing kopyalanması"
   ]
  },
  {
   "cell_type": "markdown",
   "metadata": {},
   "source": [
    "Hər hansl bir listi kopyalayarkən list1=list2 yazmaq olmaz, çünki buzaman biz həmin listi kopyalamırıq sadəcə həmin listə istinad edirik. \n"
   ]
  },
  {
   "cell_type": "code",
   "execution_count": 50,
   "metadata": {},
   "outputs": [
    {
     "data": {
      "text/plain": [
       "['alma', 'armud', 'banan', 'Nar', 'Zeytun']"
      ]
     },
     "execution_count": 50,
     "metadata": {},
     "output_type": "execute_result"
    }
   ],
   "source": [
    "meyveler2 = meyveler\n",
    "meyveler2"
   ]
  },
  {
   "cell_type": "code",
   "execution_count": 51,
   "metadata": {},
   "outputs": [],
   "source": [
    "meyveler[0] ='saftali'"
   ]
  },
  {
   "cell_type": "code",
   "execution_count": 52,
   "metadata": {},
   "outputs": [
    {
     "data": {
      "text/plain": [
       "['saftali', 'armud', 'banan', 'Nar', 'Zeytun']"
      ]
     },
     "execution_count": 52,
     "metadata": {},
     "output_type": "execute_result"
    }
   ],
   "source": [
    "meyveler2"
   ]
  },
  {
   "cell_type": "code",
   "execution_count": 53,
   "metadata": {},
   "outputs": [
    {
     "data": {
      "text/plain": [
       "['saftali', 'armud', 'banan', 'Nar', 'Zeytun']"
      ]
     },
     "execution_count": 53,
     "metadata": {},
     "output_type": "execute_result"
    }
   ],
   "source": [
    "#copy()\n",
    "meyveler2 = meyveler.copy()\n",
    "meyveler2"
   ]
  },
  {
   "cell_type": "markdown",
   "metadata": {},
   "source": [
    "### Listlerin birləşdirilməsi"
   ]
  },
  {
   "cell_type": "code",
   "execution_count": 23,
   "metadata": {},
   "outputs": [
    {
     "data": {
      "text/plain": [
       "[1, 2, 3, 4, 5, 6, 7, 8, 9, 10]"
      ]
     },
     "execution_count": 23,
     "metadata": {},
     "output_type": "execute_result"
    }
   ],
   "source": [
    "ededler1 = [1,2,3,4,5]\n",
    "ededler2 = [6,7,8,9,10]\n",
    "butun_ededler = ededler1 + ededler2\n",
    "butun_ededler"
   ]
  },
  {
   "cell_type": "code",
   "execution_count": 24,
   "metadata": {},
   "outputs": [
    {
     "data": {
      "text/plain": [
       "[1, 2, 3, 4, 5, 6, 7, 8, 9, 10]"
      ]
     },
     "execution_count": 24,
     "metadata": {},
     "output_type": "execute_result"
    }
   ],
   "source": [
    "ededler1.extend(ededler2)\n",
    "ededler1"
   ]
  },
  {
   "cell_type": "markdown",
   "metadata": {},
   "source": [
    "## Tuple"
   ]
  },
  {
   "cell_type": "markdown",
   "metadata": {},
   "source": [
    "Tuple'lar listlərə bənzəyən yaddaşda element toplusu saxlamaq növüdür\n",
    "* Listlərə bənzəsə də tuple dəyişilməzdir\n",
    "* Təkrar elementə icazə verir\n",
    "* Sıralanandır  "
   ]
  },
  {
   "cell_type": "markdown",
   "metadata": {},
   "source": [
    "![tuple](https://favtutor.com/resources/images/uploads/python_list_to_tuple.png)"
   ]
  },
  {
   "cell_type": "code",
   "execution_count": 25,
   "metadata": {},
   "outputs": [
    {
     "data": {
      "text/plain": [
       "(1, 2, 3, 4, 5)"
      ]
     },
     "execution_count": 25,
     "metadata": {},
     "output_type": "execute_result"
    }
   ],
   "source": [
    "#tuple yaradılması\n",
    "tuple_1 = (1,2,3,4,5)\n",
    "tuple_1"
   ]
  },
  {
   "cell_type": "code",
   "execution_count": 26,
   "metadata": {},
   "outputs": [],
   "source": [
    "# tuple_1[0] = 10"
   ]
  },
  {
   "cell_type": "code",
   "execution_count": 60,
   "metadata": {},
   "outputs": [
    {
     "data": {
      "text/plain": [
       "5"
      ]
     },
     "execution_count": 60,
     "metadata": {},
     "output_type": "execute_result"
    }
   ],
   "source": [
    "#uzunluq\n",
    "len(tuple_1)"
   ]
  },
  {
   "cell_type": "code",
   "execution_count": 61,
   "metadata": {},
   "outputs": [],
   "source": [
    "#bir elementli tuple\n",
    "tuple_1 = (1,)"
   ]
  },
  {
   "cell_type": "code",
   "execution_count": 62,
   "metadata": {},
   "outputs": [],
   "source": [
    "#fərqli data növləri\n",
    "tuple_1 = (1,2,3,4,5)\n",
    "tuple_2 = ('Alma', 'armud', 'heyva')\n",
    "tuple_3 = (True, False, True)"
   ]
  },
  {
   "cell_type": "markdown",
   "metadata": {},
   "source": [
    "### Tuple elementlerinə giriş"
   ]
  },
  {
   "cell_type": "code",
   "execution_count": 27,
   "metadata": {},
   "outputs": [
    {
     "data": {
      "text/plain": [
       "1"
      ]
     },
     "execution_count": 27,
     "metadata": {},
     "output_type": "execute_result"
    }
   ],
   "source": [
    "#indeks\n",
    "tuple_1[0]"
   ]
  },
  {
   "cell_type": "code",
   "execution_count": 30,
   "metadata": {},
   "outputs": [
    {
     "data": {
      "text/plain": [
       "5"
      ]
     },
     "execution_count": 30,
     "metadata": {},
     "output_type": "execute_result"
    }
   ],
   "source": [
    "#neqativ indeks\n",
    "tuple_1[-1]"
   ]
  },
  {
   "cell_type": "code",
   "execution_count": 31,
   "metadata": {},
   "outputs": [
    {
     "data": {
      "text/plain": [
       "(2, 3)"
      ]
     },
     "execution_count": 31,
     "metadata": {},
     "output_type": "execute_result"
    }
   ],
   "source": [
    "#indeks aralığı\n",
    "tuple_1[1:3]"
   ]
  },
  {
   "cell_type": "code",
   "execution_count": 32,
   "metadata": {},
   "outputs": [
    {
     "name": "stdout",
     "output_type": "stream",
     "text": [
      "1 var\n"
     ]
    }
   ],
   "source": [
    "if 1 in tuple_1:\n",
    "    print('1 var')\n",
    "else:\n",
    "    print('Yoxdur')"
   ]
  },
  {
   "cell_type": "markdown",
   "metadata": {},
   "source": [
    "### Tuple elementlərinin dəyişdirilməsi"
   ]
  },
  {
   "cell_type": "markdown",
   "metadata": {},
   "source": [
    "Tuple elemmentləri dəyişilməzdir, biz onları yalnız listə çevirərək dəyişə bilərik"
   ]
  },
  {
   "cell_type": "code",
   "execution_count": 33,
   "metadata": {},
   "outputs": [
    {
     "data": {
      "text/plain": [
       "(10, 2, 3, 4, 5)"
      ]
     },
     "execution_count": 33,
     "metadata": {},
     "output_type": "execute_result"
    }
   ],
   "source": [
    "list_1 = list(tuple_1)\n",
    "list_1[0] = 10\n",
    "tuple_1 = tuple(list_1)\n",
    "tuple_1"
   ]
  },
  {
   "cell_type": "code",
   "execution_count": 34,
   "metadata": {},
   "outputs": [
    {
     "data": {
      "text/plain": [
       "(10, 2, 3, 4, 5, 8)"
      ]
     },
     "execution_count": 34,
     "metadata": {},
     "output_type": "execute_result"
    }
   ],
   "source": [
    "list_1 = list(tuple_1)\n",
    "list_1.append(8)\n",
    "tuple_1 = tuple(list_1)\n",
    "tuple_1"
   ]
  },
  {
   "cell_type": "code",
   "execution_count": 35,
   "metadata": {},
   "outputs": [
    {
     "data": {
      "text/plain": [
       "(1, 2, 3, 4, 5, 6, 7, 8, 9, 10)"
      ]
     },
     "execution_count": 35,
     "metadata": {},
     "output_type": "execute_result"
    }
   ],
   "source": [
    "#birləşdirmək\n",
    "tuple_1 = (1,2,3,4,5)\n",
    "tuple_2 = (6,7,8,9,10)\n",
    "tuple_3 = tuple_1 + tuple_2\n",
    "tuple_3"
   ]
  },
  {
   "cell_type": "code",
   "execution_count": 36,
   "metadata": {},
   "outputs": [
    {
     "data": {
      "text/plain": [
       "(1, 3, 4, 5)"
      ]
     },
     "execution_count": 36,
     "metadata": {},
     "output_type": "execute_result"
    }
   ],
   "source": [
    "#elementin silmək\n",
    "list_1 = list(tuple_1)\n",
    "list_1.remove(2)\n",
    "tuple_1 = tuple(list_1)\n",
    "tuple_1"
   ]
  },
  {
   "cell_type": "markdown",
   "metadata": {},
   "source": [
    "### Tuple'in açılması"
   ]
  },
  {
   "cell_type": "code",
   "execution_count": 37,
   "metadata": {},
   "outputs": [
    {
     "name": "stdout",
     "output_type": "stream",
     "text": [
      "alma\n",
      "banan\n",
      "armud\n"
     ]
    }
   ],
   "source": [
    "meyveler = ('alma', 'banan', 'armud')\n",
    "alma, banan, armud = meyveler\n",
    "print(alma)\n",
    "print(banan)\n",
    "print(armud)"
   ]
  },
  {
   "cell_type": "code",
   "execution_count": 38,
   "metadata": {},
   "outputs": [
    {
     "name": "stdout",
     "output_type": "stream",
     "text": [
      "alma\n",
      "banan\n",
      "['armud', 'nar', 'ciyelek']\n"
     ]
    }
   ],
   "source": [
    "#digər elementlər\n",
    "meyveler = ('alma', 'banan', 'armud', 'nar', 'ciyelek')\n",
    "alma, banan, *diger = meyveler\n",
    "print(alma)\n",
    "print(banan)\n",
    "print(diger)"
   ]
  },
  {
   "cell_type": "markdown",
   "metadata": {},
   "source": [
    "### Tuple'larda loop"
   ]
  },
  {
   "cell_type": "code",
   "execution_count": 39,
   "metadata": {},
   "outputs": [
    {
     "name": "stdout",
     "output_type": "stream",
     "text": [
      "alma\n",
      "banan\n",
      "armud\n",
      "nar\n",
      "ciyelek\n"
     ]
    }
   ],
   "source": [
    "#loop\n",
    "meyveler = ('alma', 'banan', 'armud', 'nar', 'ciyelek')\n",
    "for meyve in meyveler:\n",
    "    print(meyve)"
   ]
  },
  {
   "cell_type": "markdown",
   "metadata": {},
   "source": [
    "### Tuple'ların birləşdirilməsi"
   ]
  },
  {
   "cell_type": "code",
   "execution_count": 40,
   "metadata": {},
   "outputs": [
    {
     "data": {
      "text/plain": [
       "(1, 2, 3, 4, 5, 6, 7, 8, 9, 10)"
      ]
     },
     "execution_count": 40,
     "metadata": {},
     "output_type": "execute_result"
    }
   ],
   "source": [
    "tuple_1 = (1,2,3,4,5)\n",
    "tuple_2 = (6,7,8,9,10)\n",
    "tuple_3 = tuple_1 + tuple_2\n",
    "tuple_3"
   ]
  },
  {
   "cell_type": "code",
   "execution_count": 41,
   "metadata": {},
   "outputs": [
    {
     "data": {
      "text/plain": [
       "('alma',\n",
       " 'banan',\n",
       " 'armud',\n",
       " 'nar',\n",
       " 'ciyelek',\n",
       " 'alma',\n",
       " 'banan',\n",
       " 'armud',\n",
       " 'nar',\n",
       " 'ciyelek')"
      ]
     },
     "execution_count": 41,
     "metadata": {},
     "output_type": "execute_result"
    }
   ],
   "source": [
    "meyveler = ('alma', 'banan', 'armud', 'nar', 'ciyelek')\n",
    "my_tuple = meyveler*2\n",
    "my_tuple"
   ]
  },
  {
   "cell_type": "markdown",
   "metadata": {},
   "source": [
    "## Set"
   ]
  },
  {
   "cell_type": "markdown",
   "metadata": {},
   "source": [
    "Set data toplusunu yaddaşda saxlamaq üçündür. \n",
    "Set-lər:\n",
    "* sıralanmayan\n",
    "* dəyişilməyən\n",
    "* indekssizdir"
   ]
  },
  {
   "cell_type": "code",
   "execution_count": 42,
   "metadata": {},
   "outputs": [
    {
     "name": "stdout",
     "output_type": "stream",
     "text": [
      "{'alma', 'nar', 'ciyelek', 'banan', 'armud'}\n"
     ]
    }
   ],
   "source": [
    "#set\n",
    "meyveler = {'alma', 'banan', 'armud', 'nar', 'ciyelek'}\n",
    "print(meyveler)"
   ]
  },
  {
   "cell_type": "markdown",
   "metadata": {},
   "source": [
    "Set-lər sıralanmayan və indekssiz olduğuna görə onun elementlərinə indeks ilə giriş edə bilmirik. Həmçinin listlər təkrar elementlərə icazə vermir.\n"
   ]
  },
  {
   "cell_type": "code",
   "execution_count": 3,
   "metadata": {},
   "outputs": [
    {
     "data": {
      "text/plain": [
       "{1, 2, 3, 4}"
      ]
     },
     "execution_count": 3,
     "metadata": {},
     "output_type": "execute_result"
    }
   ],
   "source": [
    "ededler = {1,2,3,4,3}\n",
    "ededler"
   ]
  },
  {
   "cell_type": "code",
   "execution_count": 43,
   "metadata": {},
   "outputs": [],
   "source": [
    "meyveler = {'alma', 'banan', 'armud', 'nar', 'ciyelek'}\n",
    "ededler = {1,2,3,4,3}\n",
    "myset = {True, False, True}\n",
    "mixed_set = {1, 'Alma', 1.5}"
   ]
  },
  {
   "cell_type": "code",
   "execution_count": 5,
   "metadata": {},
   "outputs": [
    {
     "name": "stdout",
     "output_type": "stream",
     "text": [
      "{1, 'Alma', 1.5}\n"
     ]
    }
   ],
   "source": [
    "print(mixed_set)"
   ]
  },
  {
   "cell_type": "markdown",
   "metadata": {},
   "source": [
    "### Set elementlerinə giriş\n"
   ]
  },
  {
   "cell_type": "code",
   "execution_count": 44,
   "metadata": {},
   "outputs": [
    {
     "name": "stdout",
     "output_type": "stream",
     "text": [
      "alma\n",
      "banan\n",
      "armud\n",
      "nar\n",
      "ciyelek\n"
     ]
    }
   ],
   "source": [
    "#loop yolu ilə\n",
    "meyveler = ['alma', 'banan', 'armud', 'nar', 'ciyelek']\n",
    "for meyve in meyveler:\n",
    "    print(meyve)"
   ]
  },
  {
   "cell_type": "code",
   "execution_count": 45,
   "metadata": {},
   "outputs": [
    {
     "name": "stdout",
     "output_type": "stream",
     "text": [
      "True\n"
     ]
    }
   ],
   "source": [
    "#elementin mövcudluğunu yoxlamaq\n",
    "print('alma' in meyveler)"
   ]
  },
  {
   "cell_type": "markdown",
   "metadata": {},
   "source": [
    "### Set-ə element əlavə edilməsi"
   ]
  },
  {
   "cell_type": "markdown",
   "metadata": {},
   "source": [
    "Set dəyişilməzdir, lakin biz onlara yeni element əlavə edə bilərik, mövcud olanları dəyişə bilmərik"
   ]
  },
  {
   "cell_type": "code",
   "execution_count": 9,
   "metadata": {},
   "outputs": [
    {
     "data": {
      "text/plain": [
       "{'alma', 'armud', 'banan', 'ciyelek', 'mango', 'nar'}"
      ]
     },
     "execution_count": 9,
     "metadata": {},
     "output_type": "execute_result"
    }
   ],
   "source": [
    "#add()\n",
    "set_1 = {'alma', 'banan', 'armud', 'nar', 'ciyelek'}\n",
    "set_1.add('mango')\n",
    "set_1"
   ]
  },
  {
   "cell_type": "code",
   "execution_count": 11,
   "metadata": {},
   "outputs": [
    {
     "data": {
      "text/plain": [
       "{'alma', 'ananas', 'armud', 'banan', 'ciyelek', 'mango', 'nar'}"
      ]
     },
     "execution_count": 11,
     "metadata": {},
     "output_type": "execute_result"
    }
   ],
   "source": [
    "#digər setdən element əlavə etmək update()\n",
    "set_1 = {'alma', 'banan', 'armud', 'nar', 'ciyelek'}\n",
    "set_2 = {'mango', 'ananas'}\n",
    "set_1.update(set_2)\n",
    "set_1"
   ]
  },
  {
   "cell_type": "markdown",
   "metadata": {},
   "source": [
    "### Setdən element silinməsi"
   ]
  },
  {
   "cell_type": "code",
   "execution_count": 12,
   "metadata": {},
   "outputs": [
    {
     "data": {
      "text/plain": [
       "{'armud', 'banan', 'ciyelek', 'nar'}"
      ]
     },
     "execution_count": 12,
     "metadata": {},
     "output_type": "execute_result"
    }
   ],
   "source": [
    "#remove()\n",
    "set_1 = {'alma', 'banan', 'armud', 'nar', 'ciyelek'}\n",
    "set_1.remove('alma')\n",
    "set_1"
   ]
  },
  {
   "cell_type": "code",
   "execution_count": 14,
   "metadata": {},
   "outputs": [
    {
     "data": {
      "text/plain": [
       "{'armud', 'banan', 'ciyelek', 'nar'}"
      ]
     },
     "execution_count": 14,
     "metadata": {},
     "output_type": "execute_result"
    }
   ],
   "source": [
    "#discard()\n",
    "set_1 = {'alma', 'banan', 'armud', 'nar', 'ciyelek'}\n",
    "set_1.discard('alma')\n",
    "set_1"
   ]
  },
  {
   "cell_type": "markdown",
   "metadata": {},
   "source": [
    "#### discard vs remove\n",
    "Discard metodu element set-də element olmadlqda bir xəta vermir amma remove metodu isə element set-də olmadıqda xəta verir."
   ]
  },
  {
   "cell_type": "code",
   "execution_count": 16,
   "metadata": {},
   "outputs": [
    {
     "data": {
      "text/plain": [
       "set()"
      ]
     },
     "execution_count": 16,
     "metadata": {},
     "output_type": "execute_result"
    }
   ],
   "source": [
    "#təmizləmək clear()\n",
    "set_1 = {'alma', 'banan', 'armud', 'nar', 'ciyelek'}\n",
    "set_1.clear()\n",
    "set_1"
   ]
  },
  {
   "cell_type": "markdown",
   "metadata": {},
   "source": [
    "### Setlərin birləşdirilməsi"
   ]
  },
  {
   "cell_type": "code",
   "execution_count": 46,
   "metadata": {},
   "outputs": [
    {
     "data": {
      "text/plain": [
       "{1, 2, 3, 4, 5, 'alma', 'armud', 'banan', 'ciyelek', 'nar'}"
      ]
     },
     "execution_count": 46,
     "metadata": {},
     "output_type": "execute_result"
    }
   ],
   "source": [
    "#union() metoduyla\n",
    "set_1 = {'alma', 'banan', 'armud', 'nar', 'ciyelek'}\n",
    "set_2 = {1,2,3,4,5}\n",
    "set_3 = set_1.union(set_2)\n",
    "set_3"
   ]
  },
  {
   "cell_type": "code",
   "execution_count": 47,
   "metadata": {},
   "outputs": [
    {
     "data": {
      "text/plain": [
       "{'alma', 'ananas', 'armud', 'banan', 'ciyelek', 'mango', 'nar'}"
      ]
     },
     "execution_count": 47,
     "metadata": {},
     "output_type": "execute_result"
    }
   ],
   "source": [
    "#union() metodu təkrar elementləri daxil etmir\n",
    "set_1 = {'alma', 'banan', 'armud', 'nar', 'ciyelek'}\n",
    "set_2 = {'alma', 'mango', 'ananas'}\n",
    "set_3 = set_1.union(set_2)\n",
    "set_3"
   ]
  },
  {
   "cell_type": "code",
   "execution_count": 48,
   "metadata": {},
   "outputs": [
    {
     "data": {
      "text/plain": [
       "{'alma'}"
      ]
     },
     "execution_count": 48,
     "metadata": {},
     "output_type": "execute_result"
    }
   ],
   "source": [
    "#yalnız ortaq elementlərdən set düzəltmək\n",
    "set_1 = {'alma', 'banan', 'armud', 'nar', 'ciyelek'}\n",
    "set_2 = {'alma', 'mango', 'ananas'}\n",
    "set_3 = set_1.intersection(set_2)\n",
    "set_3"
   ]
  },
  {
   "cell_type": "markdown",
   "metadata": {},
   "source": [
    "![](https://miro.medium.com/max/1134/1*WMiNIQ9THariDSJw47uU1w.png)"
   ]
  },
  {
   "cell_type": "markdown",
   "metadata": {},
   "source": [
    "## Dictionary"
   ]
  },
  {
   "cell_type": "markdown",
   "metadata": {},
   "source": [
    "Dictionary məlumatları yaddaşda açar:qiymət formatında saxlamaq üçündür\n",
    "* sıralanan\n",
    "* dəyişilə bilən\n",
    "* təkrar elementə icazə vermeyəndir(açar)"
   ]
  },
  {
   "cell_type": "markdown",
   "metadata": {},
   "source": [
    "![dictionary](https://programmathically.com/wp-content/uploads/2021/05/dictionary-1024x554.png)"
   ]
  },
  {
   "cell_type": "code",
   "execution_count": 49,
   "metadata": {},
   "outputs": [],
   "source": [
    "#dictionary yaradılması\n",
    "dict_1 = {\n",
    "    'brend': 'BMW',\n",
    "    'model': 'X5',\n",
    "    'il': '2020'\n",
    "}"
   ]
  },
  {
   "cell_type": "code",
   "execution_count": 50,
   "metadata": {},
   "outputs": [],
   "source": [
    "#təkrarlanmayan\n",
    "dict_1 = {\n",
    "    'brend': 'BMW',\n",
    "    'model': 'X5',\n",
    "    'il': '2020',\n",
    "    'il': '2021'\n",
    "}\n",
    "# dictionary = {'acar':'qiymet'}"
   ]
  },
  {
   "cell_type": "code",
   "execution_count": 29,
   "metadata": {},
   "outputs": [
    {
     "data": {
      "text/plain": [
       "{'brend': 'BMW', 'model': 'X5', 'year': '2021'}"
      ]
     },
     "execution_count": 29,
     "metadata": {},
     "output_type": "execute_result"
    }
   ],
   "source": [
    "dict_1"
   ]
  },
  {
   "cell_type": "code",
   "execution_count": 51,
   "metadata": {},
   "outputs": [],
   "source": [
    "#dictionary qiymətləri eyni və ya fərqli data növləri ola bilər\n",
    "dict_1={\n",
    "    'brend': 'BMW',\n",
    "    'model': 'X5',\n",
    "    'il': 2020,\n",
    "    'qiymet': '100000',\n",
    "    'temir_olunub': True\n",
    "}"
   ]
  },
  {
   "cell_type": "code",
   "execution_count": 36,
   "metadata": {},
   "outputs": [
    {
     "data": {
      "text/plain": [
       "'BMW'"
      ]
     },
     "execution_count": 36,
     "metadata": {},
     "output_type": "execute_result"
    }
   ],
   "source": [
    "dict_1['brend']"
   ]
  },
  {
   "cell_type": "markdown",
   "metadata": {},
   "source": [
    "### Dictionary elementlerinə giriş"
   ]
  },
  {
   "cell_type": "code",
   "execution_count": 52,
   "metadata": {},
   "outputs": [
    {
     "data": {
      "text/plain": [
       "2020"
      ]
     },
     "execution_count": 52,
     "metadata": {},
     "output_type": "execute_result"
    }
   ],
   "source": [
    "#açarla\n",
    "dict_1['il']"
   ]
  },
  {
   "cell_type": "code",
   "execution_count": 39,
   "metadata": {},
   "outputs": [
    {
     "data": {
      "text/plain": [
       "2020"
      ]
     },
     "execution_count": 39,
     "metadata": {},
     "output_type": "execute_result"
    }
   ],
   "source": [
    "#get()\n",
    "dict_1.get('il')"
   ]
  },
  {
   "cell_type": "code",
   "execution_count": 40,
   "metadata": {},
   "outputs": [
    {
     "data": {
      "text/plain": [
       "dict_keys(['brend', 'model', 'il', 'qiymet', 'temir_olunub'])"
      ]
     },
     "execution_count": 40,
     "metadata": {},
     "output_type": "execute_result"
    }
   ],
   "source": [
    "#mövcud olan açarlar - keys()\n",
    "dict_1.keys()"
   ]
  },
  {
   "cell_type": "code",
   "execution_count": 41,
   "metadata": {},
   "outputs": [
    {
     "data": {
      "text/plain": [
       "dict_values(['BMW', 'X5', 2020, '100000', True])"
      ]
     },
     "execution_count": 41,
     "metadata": {},
     "output_type": "execute_result"
    }
   ],
   "source": [
    "#qiymətlər - values()\n",
    "dict_1.values()"
   ]
  },
  {
   "cell_type": "markdown",
   "metadata": {},
   "source": [
    "### Dictionary qiymetlərinin dəyişdirilməsi"
   ]
  },
  {
   "cell_type": "code",
   "execution_count": 53,
   "metadata": {},
   "outputs": [],
   "source": [
    "dict_1 = {\n",
    "    'brend': 'BMW',\n",
    "    'model': 'X5',\n",
    "    'il': 2020,\n",
    "    'qiymet': '100000',\n",
    "}"
   ]
  },
  {
   "cell_type": "code",
   "execution_count": 54,
   "metadata": {},
   "outputs": [],
   "source": [
    "dict_1['qiymet'] = '200000'"
   ]
  },
  {
   "cell_type": "code",
   "execution_count": 55,
   "metadata": {},
   "outputs": [
    {
     "data": {
      "text/plain": [
       "{'brend': 'BMW', 'model': 'X5', 'il': 2020, 'qiymet': '200000'}"
      ]
     },
     "execution_count": 55,
     "metadata": {},
     "output_type": "execute_result"
    }
   ],
   "source": [
    "dict_1"
   ]
  },
  {
   "cell_type": "code",
   "execution_count": 57,
   "metadata": {},
   "outputs": [],
   "source": [
    "#update() metodu ilə\n",
    "dict_1.update({'qiymet': '300000'})"
   ]
  },
  {
   "cell_type": "code",
   "execution_count": 50,
   "metadata": {},
   "outputs": [
    {
     "data": {
      "text/plain": [
       "{'brend': 'BMW', 'model': 'X5', 'il': 2020, 'qiymet': '300000'}"
      ]
     },
     "execution_count": 50,
     "metadata": {},
     "output_type": "execute_result"
    }
   ],
   "source": [
    "dict_1"
   ]
  },
  {
   "cell_type": "markdown",
   "metadata": {},
   "source": [
    "### Dictionary qiymət əlavə edilməsi"
   ]
  },
  {
   "cell_type": "code",
   "execution_count": 58,
   "metadata": {},
   "outputs": [],
   "source": [
    "dict_1['reng'] = 'qara'"
   ]
  },
  {
   "cell_type": "code",
   "execution_count": 59,
   "metadata": {},
   "outputs": [
    {
     "data": {
      "text/plain": [
       "{'brend': 'BMW', 'model': 'X5', 'il': 2020, 'qiymet': '300000', 'reng': 'qara'}"
      ]
     },
     "execution_count": 59,
     "metadata": {},
     "output_type": "execute_result"
    }
   ],
   "source": [
    "dict_1"
   ]
  },
  {
   "cell_type": "markdown",
   "metadata": {},
   "source": [
    "### Dictionary element silinməsi"
   ]
  },
  {
   "cell_type": "code",
   "execution_count": 60,
   "metadata": {},
   "outputs": [
    {
     "data": {
      "text/plain": [
       "'qara'"
      ]
     },
     "execution_count": 60,
     "metadata": {},
     "output_type": "execute_result"
    }
   ],
   "source": [
    "#pop() metoduyla\n",
    "dict_1.pop('reng')"
   ]
  },
  {
   "cell_type": "code",
   "execution_count": 55,
   "metadata": {},
   "outputs": [
    {
     "data": {
      "text/plain": [
       "{'brend': 'BMW', 'model': 'X5', 'il': 2020, 'qiymet': '300000'}"
      ]
     },
     "execution_count": 55,
     "metadata": {},
     "output_type": "execute_result"
    }
   ],
   "source": [
    "dict_1"
   ]
  },
  {
   "cell_type": "code",
   "execution_count": 61,
   "metadata": {},
   "outputs": [
    {
     "data": {
      "text/plain": [
       "('qiymet', '300000')"
      ]
     },
     "execution_count": 61,
     "metadata": {},
     "output_type": "execute_result"
    }
   ],
   "source": [
    "#popitem() metoduyla son elementi silə bilərik\n",
    "dict_1.popitem()"
   ]
  },
  {
   "cell_type": "code",
   "execution_count": 57,
   "metadata": {},
   "outputs": [
    {
     "data": {
      "text/plain": [
       "{'brend': 'BMW', 'model': 'X5', 'il': 2020}"
      ]
     },
     "execution_count": 57,
     "metadata": {},
     "output_type": "execute_result"
    }
   ],
   "source": [
    "dict_1"
   ]
  },
  {
   "cell_type": "code",
   "execution_count": 62,
   "metadata": {},
   "outputs": [],
   "source": [
    "#təmizləmə - clear()\n",
    "dict_1.clear()"
   ]
  },
  {
   "cell_type": "code",
   "execution_count": 59,
   "metadata": {},
   "outputs": [
    {
     "data": {
      "text/plain": [
       "{}"
      ]
     },
     "execution_count": 59,
     "metadata": {},
     "output_type": "execute_result"
    }
   ],
   "source": [
    "dict_1"
   ]
  },
  {
   "cell_type": "markdown",
   "metadata": {},
   "source": [
    "### Dictionary looplar"
   ]
  },
  {
   "cell_type": "code",
   "execution_count": 63,
   "metadata": {},
   "outputs": [],
   "source": [
    "#loop\n",
    "dict_1={\n",
    "    'brend': 'BMW',\n",
    "    'model': 'X5',\n",
    "    'il': 2020,\n",
    "    'qiymet': '100000',\n",
    "}"
   ]
  },
  {
   "cell_type": "code",
   "execution_count": 61,
   "metadata": {},
   "outputs": [
    {
     "name": "stdout",
     "output_type": "stream",
     "text": [
      "brend\n",
      "model\n",
      "il\n",
      "qiymet\n"
     ]
    }
   ],
   "source": [
    "for acar in dict_1:\n",
    "    print(acar)"
   ]
  },
  {
   "cell_type": "code",
   "execution_count": 64,
   "metadata": {},
   "outputs": [
    {
     "name": "stdout",
     "output_type": "stream",
     "text": [
      "BMW\n",
      "X5\n",
      "2020\n",
      "100000\n"
     ]
    }
   ],
   "source": [
    "#loop - qiymətlərə access\n",
    "for acar in dict_1:\n",
    "    print(dict_1[acar])"
   ]
  },
  {
   "cell_type": "code",
   "execution_count": 64,
   "metadata": {},
   "outputs": [
    {
     "name": "stdout",
     "output_type": "stream",
     "text": [
      "brend BMW\n",
      "model X5\n",
      "il 2020\n",
      "qiymet 100000\n"
     ]
    }
   ],
   "source": [
    "#həm açar həm də qiymətlər üçün\n",
    "for acar, qiymet in dict_1.items():\n",
    "    print(acar, qiymet)"
   ]
  },
  {
   "cell_type": "markdown",
   "metadata": {},
   "source": [
    "### Dictionary kopyalanması"
   ]
  },
  {
   "cell_type": "code",
   "execution_count": 67,
   "metadata": {},
   "outputs": [
    {
     "data": {
      "text/plain": [
       "{'brend': 'BMW', 'model': 'X5', 'il': 2020, 'qiymet': '100000'}"
      ]
     },
     "execution_count": 67,
     "metadata": {},
     "output_type": "execute_result"
    }
   ],
   "source": [
    "dict_2 = dict_1.copy()\n",
    "dict_2"
   ]
  },
  {
   "cell_type": "markdown",
   "metadata": {},
   "source": [
    "### Dictionary bir birinin içərisində yazılması"
   ]
  },
  {
   "cell_type": "code",
   "execution_count": 65,
   "metadata": {},
   "outputs": [],
   "source": [
    "masinlar = {\n",
    "    'masin1':{\n",
    "        'brend': 'BMW',\n",
    "        'model': 'X5',\n",
    "        'il': 2020,\n",
    "    },\n",
    "    'masin2':{\n",
    "        'brend': 'Mercedes',\n",
    "        'model': 'GLC',\n",
    "        'il': 2019,\n",
    "    }\n",
    "}"
   ]
  },
  {
   "cell_type": "code",
   "execution_count": 70,
   "metadata": {},
   "outputs": [
    {
     "data": {
      "text/plain": [
       "'BMW'"
      ]
     },
     "execution_count": 70,
     "metadata": {},
     "output_type": "execute_result"
    }
   ],
   "source": [
    "#elementlərə giriş\n",
    "masinlar['masin1']['brend']"
   ]
  },
  {
   "cell_type": "code",
   "execution_count": 85,
   "metadata": {},
   "outputs": [],
   "source": [
    "#list içində dictionary\n",
    "masinlar = [\n",
    "    {\n",
    "        'brend': 'BMW',\n",
    "        'model': 'X5',\n",
    "        'il': 2020,\n",
    "    },\n",
    "    {\n",
    "        'brend': 'Mercedes',\n",
    "        'model': 'GLC',\n",
    "        'il': 2019,\n",
    "    }\n",
    "]"
   ]
  },
  {
   "cell_type": "code",
   "execution_count": 86,
   "metadata": {},
   "outputs": [
    {
     "data": {
      "text/plain": [
       "2019"
      ]
     },
     "execution_count": 86,
     "metadata": {},
     "output_type": "execute_result"
    }
   ],
   "source": [
    "#elementlərə giriş\n",
    "masinlar[1]['il']"
   ]
  },
  {
   "cell_type": "markdown",
   "metadata": {},
   "source": [
    "# Tapsiriq 2:\n",
    "* Bir seyahet adli bir list yaradin ve bu listin icinde seyahat etdiyiniz olkeler haqda bir dictionary yaradin(olke adi, seherler ve hansi ilde ziyaret etdiyiniz).(Minimum 3 olke olmalidir)\n",
    "* Hemin seyahet listindede 2ci olkede hansi seherlerde seyahet etdiyinizi ekranda gosterin\n",
    "* Eyni listde 3cu elementde seyahet ilinizi deyisin\n",
    "\n"
   ]
  },
  {
   "cell_type": "markdown",
   "metadata": {},
   "source": [
    "# Tapsiriq 2:\n",
    "* 3 ölkədən ibarət səyahət listi düzəldin. Həmin listdə hər ölkə haqda məlumatları(ölkə adı, şəhər adları, hansi ilde seyahat etdiyiniz)dictionary formatında yazır\n",
    "* Həmin list-də 2-ci ölkədə hansı şəhərləri ziyarət etdiynizi ekranda göstərin\n",
    "* Həmin list-də 3-cü ölkə üçün səyahət ilini dəyişin    "
   ]
  },
  {
   "cell_type": "code",
   "execution_count": 91,
   "metadata": {},
   "outputs": [
    {
     "data": {
      "text/plain": [
       "[{'olke': 'Almaniya',\n",
       "  'seherler': ['Berlin', 'Munchen', 'Frankfurt'],\n",
       "  'il': '2020'},\n",
       " {'olke': 'Rusiya', 'seherler': ['Moskova', 'Sankt-Peterburg'], 'il': '2022'},\n",
       " {'olke': 'Italiya', 'seherler': ['Roma', 'Milano', 'Napoli'], 'il': '2019'}]"
      ]
     },
     "execution_count": 91,
     "metadata": {},
     "output_type": "execute_result"
    }
   ],
   "source": [
    "# 1.\n",
    "seyahet = [\n",
    "    {\n",
    "        'olke': 'Almaniya',\n",
    "        'seherler': ['Berlin', 'Munchen', 'Frankfurt'],\n",
    "        'il': '2020',\n",
    "    },\n",
    "\n",
    "    {\n",
    "        'olke': 'Rusiya',\n",
    "        'seherler': ['Moskova', 'Sankt-Peterburg'],\n",
    "        'il': '2022',\n",
    "    },\n",
    "\n",
    "    {\n",
    "        'olke': 'Italiya',\n",
    "        'seherler': ['Roma', 'Milano', 'Napoli'],\n",
    "        'il': '2019',\n",
    "    }\n",
    "]\n",
    "seyahet"
   ]
  },
  {
   "cell_type": "code",
   "execution_count": 89,
   "metadata": {},
   "outputs": [
    {
     "data": {
      "text/plain": [
       "['Moskova', 'Sankt-Peterburg']"
      ]
     },
     "execution_count": 89,
     "metadata": {},
     "output_type": "execute_result"
    }
   ],
   "source": [
    "# 2. \n",
    "seyahet[1]['seherler']"
   ]
  },
  {
   "cell_type": "code",
   "execution_count": 90,
   "metadata": {},
   "outputs": [
    {
     "data": {
      "text/plain": [
       "[{'olke': 'Almaniya',\n",
       "  'seherler': ['Berlin', 'Munchen', 'Frankfurt'],\n",
       "  'il': '2020'},\n",
       " {'olke': 'Rusiya', 'seherler': ['Moskova', 'Sankt-Peterburg'], 'il': '2022'},\n",
       " {'olke': 'Italiya', 'seherler': ['Roma', 'Milano', 'Napoli'], 'il': '2015'}]"
      ]
     },
     "execution_count": 90,
     "metadata": {},
     "output_type": "execute_result"
    }
   ],
   "source": [
    "# 3. \n",
    "seyahet[2]['il'] = '2015'\n",
    "seyahet"
   ]
  },
  {
   "cell_type": "markdown",
   "metadata": {},
   "source": [
    "#  SON"
   ]
  },
  {
   "cell_type": "markdown",
   "metadata": {},
   "source": []
  }
 ],
 "metadata": {
  "kernelspec": {
   "display_name": "Python 3.9.12 ('galactech')",
   "language": "python",
   "name": "python3"
  },
  "language_info": {
   "codemirror_mode": {
    "name": "ipython",
    "version": 3
   },
   "file_extension": ".py",
   "mimetype": "text/x-python",
   "name": "python",
   "nbconvert_exporter": "python",
   "pygments_lexer": "ipython3",
   "version": "3.9.12"
  },
  "orig_nbformat": 4,
  "vscode": {
   "interpreter": {
    "hash": "72dd4f9d5f0cf6107f7b41e5ab0be3c7740324286abc368bcdd524d5bcd06392"
   }
  }
 },
 "nbformat": 4,
 "nbformat_minor": 2
}
