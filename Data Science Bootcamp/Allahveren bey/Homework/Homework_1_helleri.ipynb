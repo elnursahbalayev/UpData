{
 "cells": [
  {
   "cell_type": "markdown",
   "metadata": {},
   "source": [
    "# Çalışma 1.\n",
    "\n",
    "Ele bir proqram yazin ki 1 den 10 a kimi butun ededleri asagida verilen kimi cixararaq toplayib cemini gostersin. Proqramin neticesi tam asagidaki kimi olmalidir\n",
    "\n",
    "```\n",
    "Current Number 0 Previous Number  0  Sum:  0\n",
    "Current Number 1 Previous Number  0  Sum:  1\n",
    "Current Number 2 Previous Number  1  Sum:  3\n",
    "Current Number 3 Previous Number  2  Sum:  5\n",
    "Current Number 4 Previous Number  3  Sum:  7\n",
    "Current Number 5 Previous Number  4  Sum:  9\n",
    "Current Number 6 Previous Number  5  Sum:  11\n",
    "Current Number 7 Previous Number  6  Sum:  13\n",
    "Current Number 8 Previous Number  7  Sum:  15\n",
    "Current Number 9 Previous Number  8  Sum:  17\n",
    "```\n",
    "**Qeyd:**\n",
    "\n",
    "Current Number - Indiki reqem demekdir\n",
    "\n",
    "Previous Number - Evvelki reqem demekdir"
   ]
  },
  {
   "cell_type": "code",
   "execution_count": 10,
   "metadata": {},
   "outputs": [
    {
     "name": "stdout",
     "output_type": "stream",
     "text": [
      "Current Number 0 Previous Number 0 Sum: 0\n",
      "Current Number 1 Previous Number 0 Sum: 1\n",
      "Current Number 2 Previous Number 1 Sum: 3\n",
      "Current Number 3 Previous Number 2 Sum: 5\n",
      "Current Number 4 Previous Number 3 Sum: 7\n",
      "Current Number 5 Previous Number 4 Sum: 9\n",
      "Current Number 6 Previous Number 5 Sum: 11\n",
      "Current Number 7 Previous Number 6 Sum: 13\n",
      "Current Number 8 Previous Number 7 Sum: 15\n",
      "Current Number 9 Previous Number 8 Sum: 17\n",
      "Current Number 10 Previous Number 9 Sum: 19\n"
     ]
    }
   ],
   "source": [
    "cem = 0\n",
    "for i in range(11):\n",
    "    if i == 0:\n",
    "        cem = i\n",
    "        print(f'Current Number {i} Previous Number {i} Sum: {cem}')\n",
    "    else:\n",
    "        cem = i + (i-1)\n",
    "        print(f'Current Number {i} Previous Number {i-1} Sum: {cem}')\n",
    "    "
   ]
  },
  {
   "cell_type": "markdown",
   "metadata": {},
   "source": [
    "# Calisma 2.\n",
    "\n",
    "Ele bir proqram yazin ki\n",
    "1) soz istesin istifadeciden\n",
    "2) bir reqem istesin istifadeciden\n",
    "3) sozden reqem miqdari qeder character silerek yerde qalanini cixarsin. Error verecek hallar nezere alinsin\n",
    "\n",
    "Asagida misal olaraq nece goruneceyi gosterilib:\n",
    "\n",
    "```\n",
    "Zehmet olmasa ad daxil edin: Elnur\n",
    "Zehmet olmasa reqem daxil edin: 3\n",
    "Nur\n",
    "```"
   ]
  },
  {
   "cell_type": "code",
   "execution_count": 1,
   "metadata": {},
   "outputs": [
    {
     "name": "stdout",
     "output_type": "stream",
     "text": [
      "ur\n"
     ]
    }
   ],
   "source": [
    "soz = input('Zehmet olmasa ad daxil edin: ')\n",
    "reqem = int(input('Zehmet olmasa reqem daxil edin: '))\n",
    "\n",
    "\n",
    "ad = ''\n",
    "for i in range(len(soz)):\n",
    "    if i>=reqem:\n",
    "        ad += soz[i]\n",
    "print(ad)"
   ]
  },
  {
   "cell_type": "markdown",
   "metadata": {},
   "source": [
    "# Calisma 3.\n",
    "\n",
    "Asagida gosterilen neticeni loopdan istifade ederek ekranda cap edin\n",
    "\n",
    "```\n",
    "1 \n",
    "2 2 \n",
    "3 3 3 \n",
    "4 4 4 4 \n",
    "5 5 5 5 5\n",
    "```"
   ]
  },
  {
   "cell_type": "code",
   "execution_count": 30,
   "metadata": {},
   "outputs": [
    {
     "name": "stdout",
     "output_type": "stream",
     "text": [
      "1 \n",
      "2 2 \n",
      "3 3 3 \n",
      "4 4 4 4 \n",
      "5 5 5 5 5 \n"
     ]
    }
   ],
   "source": [
    "for i in range(1,6):\n",
    "    text = str(i)+' '\n",
    "    print(text*i)\n"
   ]
  },
  {
   "cell_type": "markdown",
   "metadata": {},
   "source": [
    "# Calisma 4.\n",
    "Verilen ededin Polindrom olub olmadigini yoxlayan program yazin. Polindrom ededler sagdan ve soldan eyni oxunan reqemlerdir. Meselen **121**, **1991** polindrom ededlerdir. Proqram bele gorunecek.\n",
    "\n",
    "```\n",
    "zehmet olmasa reqemi daxil edin: 1991\n",
    "verdiyiniz reqem polindromdur\n",
    "\n",
    "zehmet olmasa reqemi daxil edin: 1002\n",
    "verdiyiniz reqem polindromdur\n",
    "```\n",
    "\n",
    "**qeyd:** list.reverse() den istifade etmek olmaz. Looplardan istifade edin"
   ]
  },
  {
   "cell_type": "code",
   "execution_count": 2,
   "metadata": {},
   "outputs": [
    {
     "name": "stdout",
     "output_type": "stream",
     "text": [
      "1991\n",
      "Verdiyiniz reqem polindromdur\n"
     ]
    }
   ],
   "source": [
    "reqem = str(input('Zehmet olmasa, reqem daxil edin: '))\n",
    "txt = ''\n",
    "\n",
    "for i in range(1,len(reqem)+1):\n",
    "    txt += reqem[-i]\n",
    "print(txt)\n",
    "\n",
    "if txt == reqem:\n",
    "    print('Verdiyiniz reqem polindromdur')\n",
    "else:\n",
    "    print('Verdiyiniz reqem polindrom deyil')\n",
    "    "
   ]
  },
  {
   "cell_type": "markdown",
   "metadata": {},
   "source": [
    "# Calisma 5.\n",
    "Asagidaki neticeni looplardan istifade ederek cap edin\n",
    "\n",
    "```\n",
    "* * * * *  \n",
    "* * * *  \n",
    "* * *  \n",
    "* *  \n",
    "*\n",
    "```"
   ]
  },
  {
   "cell_type": "code",
   "execution_count": 50,
   "metadata": {},
   "outputs": [
    {
     "name": "stdout",
     "output_type": "stream",
     "text": [
      "* * * * * \n",
      "* * * * \n",
      "* * * \n",
      "* * \n",
      "* \n"
     ]
    }
   ],
   "source": [
    "for i in range(5,0,-1):\n",
    "    ulduz = '* ' \n",
    "    print(ulduz*i)\n"
   ]
  },
  {
   "cell_type": "markdown",
   "metadata": {},
   "source": [
    "# Calisma 6\n",
    "Fibonacci ardicilligini ekranda cap eleyen proqram yazin. Fibonacci ardicilligi evvelki iki reqemi toplayaraq sonraki ededi tapilaraq yazilir. \n",
    "```\n",
    "0 1 1 2 3 5 8 13 21 34\n",
    "```"
   ]
  },
  {
   "cell_type": "code",
   "execution_count": 68,
   "metadata": {},
   "outputs": [
    {
     "name": "stdout",
     "output_type": "stream",
     "text": [
      "1 1 2 3 5 8 13 21 34 "
     ]
    }
   ],
   "source": [
    "reqem1 = 0\n",
    "reqem2 = 1\n",
    "cem =0\n",
    "\n",
    "for i in range(9):\n",
    "    cem= reqem1 + reqem2\n",
    "    reqem2 = reqem1\n",
    "    reqem1 = cem\n",
    "    print(cem,end=' ')\n",
    "\n",
    "    \n",
    "\n"
   ]
  },
  {
   "cell_type": "markdown",
   "metadata": {},
   "source": [
    "# Calisma 7.\n",
    "Ededin faktorialini tapin. Program asagida gosterildiyi kimi islemelidir.\n",
    "\n",
    "```\n",
    "zehmet olmasa ededi daxil edin: 5\n",
    "1*2*3*4*5 = 120\n",
    "```"
   ]
  },
  {
   "cell_type": "code",
   "execution_count": 82,
   "metadata": {},
   "outputs": [
    {
     "name": "stdout",
     "output_type": "stream",
     "text": [
      "1*2*3*4*5*6*7*8 = 40320\n"
     ]
    }
   ],
   "source": [
    "say = int(input('Zehmet olmasa reqem daxil edin: '))\n",
    "fakt = 1\n",
    "txt ='' \n",
    "\n",
    "for i in range(1,say+1):\n",
    "    fakt = fakt*i\n",
    "    if i < say:\n",
    "        txt = txt + str(i) + '*'\n",
    "    else:\n",
    "        txt = txt+str(i)\n",
    "print(f'{txt} = {fakt}')"
   ]
  },
  {
   "cell_type": "markdown",
   "metadata": {},
   "source": [
    "# Calisma 8. \n",
    "Asagidaki fiquru looplardan istifade ederek cap edin\n",
    "```\n",
    "* \n",
    "* * \n",
    "* * * \n",
    "* * * * \n",
    "* * * * * \n",
    "* * * * \n",
    "* * * \n",
    "* * \n",
    "*\n",
    "```"
   ]
  },
  {
   "cell_type": "code",
   "execution_count": 96,
   "metadata": {},
   "outputs": [
    {
     "name": "stdout",
     "output_type": "stream",
     "text": [
      "* \n",
      "* * \n",
      "* * * \n",
      "* * * * \n",
      "* * * * * \n",
      "* * * * \n",
      "* * * \n",
      "* * \n",
      "* \n"
     ]
    }
   ],
   "source": [
    "say = int(input('Reqem daxil edin: '))\n",
    "ulduz = '* ' \n",
    "\n",
    "for i in range(1,say*2):\n",
    "    if i > say:\n",
    "        print(ulduz*(say*2-i))\n",
    "    else:\n",
    "        print(ulduz*i)\n",
    "\n"
   ]
  },
  {
   "cell_type": "markdown",
   "metadata": {},
   "source": [
    "# Calisma 9.\n",
    "Listden bos olan stringleri silin. \n",
    "\n",
    "Elimizdeki listin qiymeti beledir.\n",
    "\n",
    "list = ['Mike', 'Emma', '', 'Kelly', '', 'Brad']\n",
    "\n",
    "```\n",
    "netice: ['Mike', 'Emma', 'Kelly', 'Brad']\n",
    "```"
   ]
  },
  {
   "cell_type": "code",
   "execution_count": 97,
   "metadata": {},
   "outputs": [
    {
     "name": "stdout",
     "output_type": "stream",
     "text": [
      "['Mike', 'Emma', 'Kelly', 'Brad']\n"
     ]
    }
   ],
   "source": [
    "list_ = ['Mike','Emma','','Kelly','','Brad']\n",
    "\n",
    "for i in list_:\n",
    "    if len(i)==0:\n",
    "        list_.remove(i)\n",
    "print(list_)\n"
   ]
  },
  {
   "cell_type": "markdown",
   "metadata": {},
   "source": [
    "# Calisma 10.\n",
    "\n",
    "listdeki butun 20 leri silin\n",
    "\n",
    "list = [5, 20, 15, 20, 24, 23, 20, 50, 20]"
   ]
  },
  {
   "cell_type": "code",
   "execution_count": 98,
   "metadata": {},
   "outputs": [
    {
     "name": "stdout",
     "output_type": "stream",
     "text": [
      "[5, 15, 24, 23, 50]\n"
     ]
    }
   ],
   "source": [
    "list_ = [5,20,15,20,24,23,20,50,20]\n",
    "\n",
    "for i in list_:\n",
    "    if i==20:\n",
    "        list_.remove(i)\n",
    "print(list_)"
   ]
  },
  {
   "cell_type": "markdown",
   "metadata": {},
   "source": [
    "# Calisma 11.\n",
    "Asagida verilen dictionaryden Bradin maasini 8500 e deyisin\n",
    "\n",
    "```\n",
    "sample_dict = {\n",
    "    'emp1': {'name': 'Jhon', 'salary': 7500},\n",
    "    'emp2': {'name': 'Emma', 'salary': 8000},\n",
    "    'emp3': {'name': 'Brad', 'salary': 500}\n",
    "}\n",
    "\n",
    "```"
   ]
  },
  {
   "cell_type": "code",
   "execution_count": 104,
   "metadata": {},
   "outputs": [
    {
     "name": "stdout",
     "output_type": "stream",
     "text": [
      "{'emp1': {'name': 'John', 'salary': 7500}, 'emp2': {'name': 'Emma', 'salary': 8000}, 'emp3': {'name': 'Brad', 'salary': 500}}\n",
      "\n",
      "{'emp1': {'name': 'John', 'salary': 7500}, 'emp2': {'name': 'Emma', 'salary': 8000}, 'emp3': {'name': 'Brad', 'salary': 8500}}\n"
     ]
    }
   ],
   "source": [
    "sample_dict = {'emp1':{'name':'John','salary':7500},\n",
    "               'emp2':{'name':'Emma','salary':8000},\n",
    "                'emp3':{'name':'Brad','salary':500}}\n",
    "print(sample_dict)\n",
    "sample_dict['emp3']['salary']=8500\n",
    "print()\n",
    "print(sample_dict)\n"
   ]
  }
 ],
 "metadata": {
  "kernelspec": {
   "display_name": "Python 3.9.12 ('base')",
   "language": "python",
   "name": "python3"
  },
  "language_info": {
   "codemirror_mode": {
    "name": "ipython",
    "version": 3
   },
   "file_extension": ".py",
   "mimetype": "text/x-python",
   "name": "python",
   "nbconvert_exporter": "python",
   "pygments_lexer": "ipython3",
   "version": "3.9.12"
  },
  "orig_nbformat": 4,
  "vscode": {
   "interpreter": {
    "hash": "437bf6181af474c3c2ca7aa4118132330bd9bbcf1914470b1d094818705239da"
   }
  }
 },
 "nbformat": 4,
 "nbformat_minor": 2
}
