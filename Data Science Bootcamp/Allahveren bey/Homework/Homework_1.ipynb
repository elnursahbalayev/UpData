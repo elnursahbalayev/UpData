{
 "cells": [
  {
   "cell_type": "markdown",
   "metadata": {},
   "source": [
    "# Çalışma 1.\n",
    "\n",
    "Ele bir proqram yazin ki 1 den 10 a kimi butun ededleri asagida verilen kimi cixararaq toplayib cemini gostersin. Proqramin neticesi tam asagidaki kimi olmalidir\n",
    "\n",
    "```\n",
    "Current Number 0 Previous Number  0  Sum:  0\n",
    "Current Number 1 Previous Number  0  Sum:  1\n",
    "Current Number 2 Previous Number  1  Sum:  3\n",
    "Current Number 3 Previous Number  2  Sum:  5\n",
    "Current Number 4 Previous Number  3  Sum:  7\n",
    "Current Number 5 Previous Number  4  Sum:  9\n",
    "Current Number 6 Previous Number  5  Sum:  11\n",
    "Current Number 7 Previous Number  6  Sum:  13\n",
    "Current Number 8 Previous Number  7  Sum:  15\n",
    "Current Number 9 Previous Number  8  Sum:  17\n",
    "```\n",
    "**Qeyd:**\n",
    "\n",
    "Current Number - Indiki reqem demekdir\n",
    "\n",
    "Previous Number - Evvelki reqem demekdir"
   ]
  },
  {
   "cell_type": "code",
   "execution_count": null,
   "metadata": {},
   "outputs": [],
   "source": []
  },
  {
   "cell_type": "markdown",
   "metadata": {},
   "source": [
    "# Calisma 2.\n",
    "\n",
    "Ele bir proqram yazin ki\n",
    "1) soz istesin istifadeciden\n",
    "2) bir reqem istesin istifadeciden\n",
    "3) sozden reqem miqdari qeder character silerek yerde qalanini cixarsin. Error verecek hallar nezere alinsin\n",
    "\n",
    "Asagida misal olaraq nece goruneceyi gosterilib:\n",
    "\n",
    "```\n",
    "Zehmet olmasa ad daxil edin: Elnur\n",
    "Zehmet olmasa reqem daxil edin: 3\n",
    "Nur\n",
    "```"
   ]
  },
  {
   "cell_type": "code",
   "execution_count": null,
   "metadata": {},
   "outputs": [],
   "source": []
  },
  {
   "cell_type": "markdown",
   "metadata": {},
   "source": [
    "# Calisma 3.\n",
    "\n",
    "Asagida gosterilen neticeni loopdan istifade ederek ekranda cap edin\n",
    "\n",
    "```\n",
    "1 \n",
    "2 2 \n",
    "3 3 3 \n",
    "4 4 4 4 \n",
    "5 5 5 5 5\n",
    "```"
   ]
  },
  {
   "cell_type": "code",
   "execution_count": null,
   "metadata": {},
   "outputs": [],
   "source": []
  },
  {
   "cell_type": "markdown",
   "metadata": {},
   "source": [
    "# Calisma 4.\n",
    "Verilen ededin Polindrom olub olmadigini yoxlayan program yazin. Polindrom ededler sagdan ve soldan eyni oxunan reqemlerdir. Meselen **121**, **1991** polindrom ededlerdir. Proqram bele gorunecek.\n",
    "\n",
    "```\n",
    "zehmet olmasa reqemi daxil edin: 1991\n",
    "verdiyiniz reqem polindromdur\n",
    "\n",
    "zehmet olmasa reqemi daxil edin: 1002\n",
    "verdiyiniz reqem polindromdur\n",
    "```\n",
    "\n",
    "**qeyd:** list.reverse() den istifade etmek olmaz. Looplardan istifade edin"
   ]
  },
  {
   "cell_type": "code",
   "execution_count": null,
   "metadata": {},
   "outputs": [],
   "source": []
  },
  {
   "cell_type": "markdown",
   "metadata": {},
   "source": [
    "# Calisma 5.\n",
    "Asagidaki neticeni looplardan istifade ederek cap edin\n",
    "\n",
    "```\n",
    "* * * * *  \n",
    "* * * *  \n",
    "* * *  \n",
    "* *  \n",
    "*\n",
    "```"
   ]
  },
  {
   "cell_type": "code",
   "execution_count": null,
   "metadata": {},
   "outputs": [],
   "source": []
  },
  {
   "cell_type": "markdown",
   "metadata": {},
   "source": [
    "# Calisma 6\n",
    "Fibonacci ardicilligini ekranda cap eleyen proqram yazin. Fibonacci ardicilligi evvelki iki reqemi toplayaraq sonraki ededi tapilaraq yazilir. \n",
    "```\n",
    "0 1 1 2 3 5 8 13 21 34\n",
    "```"
   ]
  },
  {
   "cell_type": "code",
   "execution_count": null,
   "metadata": {},
   "outputs": [],
   "source": []
  },
  {
   "cell_type": "markdown",
   "metadata": {},
   "source": [
    "# Calisma 7.\n",
    "Ededin faktorialini tapin. Program asagida gosterildiyi kimi islemelidir.\n",
    "\n",
    "```\n",
    "zehmet olmasa ededi daxil edin: 5\n",
    "1*2*3*4*5 = 120\n",
    "```"
   ]
  },
  {
   "cell_type": "code",
   "execution_count": null,
   "metadata": {},
   "outputs": [],
   "source": []
  },
  {
   "cell_type": "markdown",
   "metadata": {},
   "source": [
    "# Calisma 8. \n",
    "Asagidaki fiquru looplardan istifade ederek cap edin\n",
    "```\n",
    "* \n",
    "* * \n",
    "* * * \n",
    "* * * * \n",
    "* * * * * \n",
    "* * * * \n",
    "* * * \n",
    "* * \n",
    "*\n",
    "```"
   ]
  },
  {
   "cell_type": "code",
   "execution_count": null,
   "metadata": {},
   "outputs": [],
   "source": []
  },
  {
   "cell_type": "markdown",
   "metadata": {},
   "source": [
    "# Calisma 9.\n",
    "Listden bos olan stringleri silin. \n",
    "\n",
    "Elimizdeki listin qiymeti beledir.\n",
    "\n",
    "list = ['Mike', 'Emma', '', 'Kelly', '', 'Brad']\n",
    "\n",
    "```\n",
    "netice: ['Mike', 'Emma', 'Kelly', 'Brad']\n",
    "```"
   ]
  },
  {
   "cell_type": "code",
   "execution_count": null,
   "metadata": {},
   "outputs": [],
   "source": []
  },
  {
   "cell_type": "markdown",
   "metadata": {},
   "source": [
    "# Calisma 10.\n",
    "\n",
    "listdeki butun 20 leri silin\n",
    "\n",
    "list = [5, 20, 15, 20, 24, 23, 20, 50, 20]"
   ]
  },
  {
   "cell_type": "code",
   "execution_count": null,
   "metadata": {},
   "outputs": [],
   "source": []
  },
  {
   "cell_type": "markdown",
   "metadata": {},
   "source": [
    "# Calisma 11.\n",
    "Asagida verilen dictionaryden Bradin maasini 8500 e deyisin\n",
    "\n",
    "```\n",
    "sample_dict = {\n",
    "    'emp1': {'name': 'Jhon', 'salary': 7500},\n",
    "    'emp2': {'name': 'Emma', 'salary': 8000},\n",
    "    'emp3': {'name': 'Brad', 'salary': 500}\n",
    "}\n",
    "\n",
    "```"
   ]
  },
  {
   "cell_type": "code",
   "execution_count": null,
   "metadata": {},
   "outputs": [],
   "source": []
  }
 ],
 "metadata": {
  "kernelspec": {
   "display_name": "Python 3.9.12 ('base')",
   "language": "python",
   "name": "python3"
  },
  "language_info": {
   "name": "python",
   "version": "3.9.12"
  },
  "orig_nbformat": 4,
  "vscode": {
   "interpreter": {
    "hash": "437bf6181af474c3c2ca7aa4118132330bd9bbcf1914470b1d094818705239da"
   }
  }
 },
 "nbformat": 4,
 "nbformat_minor": 2
}
