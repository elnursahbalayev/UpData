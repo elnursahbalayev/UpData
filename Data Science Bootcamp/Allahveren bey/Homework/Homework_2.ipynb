{
 "cells": [
  {
   "cell_type": "markdown",
   "metadata": {},
   "source": [
    "# Calisma 1 - Das, Kagiz, Qayci oyunu\n",
    "\n",
    "Baslangicda istifadeciden 3unden birini secmek teleb olunur. Ondan sonra komputer random bir secim edir. Bu secimlerden sonra hem istifadecinin hem de komputerin secimleri yeniden print olunur. Yeni setirde hesab gosterilir. Ilk 5 xala catan qalib olur, oyun bitir. \n",
    "\n",
    "1) Nezere alin ki bunlarin hamsi classlarda yazilmalidir.\n",
    "2) Classlar da hemcinin basqa file da - yeni modulda yazilmalidir.\n",
    "3) Yazilan modullar evvel qeyd olundugu kimi izahlari olan funksiyalarla, ve hemcinin kommentlerle yazilmalidir."
   ]
  },
  {
   "cell_type": "code",
   "execution_count": null,
   "metadata": {},
   "outputs": [],
   "source": []
  },
  {
   "cell_type": "markdown",
   "metadata": {},
   "source": [
    "# Calisma 2. - Tic, Tac, Toe oyunu\n",
    "\n",
    "Tic Tac Toe oyunu duzeldin.Komputer her defe random secim etsin. Her defe xananin veziyyeti cap olunsun. Tic, tac, toe oyununun ne olduguna baxmaq ucun buraya klikleye bilersiniz.\n",
    "[tik, tak, toe oyunu](https://www.google.com/search?q=tictactoe+oyunu&rlz=1C1KNTJ_enAZ1017AZ1017&oq=tictactoe+oyunu&aqs=chrome..69i57j0i13j0i13i30l6j0i8i13i30j0i13i30.3895j0j7&sourceid=chrome&ie=UTF-8) "
   ]
  },
  {
   "cell_type": "code",
   "execution_count": null,
   "metadata": {},
   "outputs": [],
   "source": []
  }
 ],
 "metadata": {
  "kernelspec": {
   "display_name": "Python 3.9.12 ('base')",
   "language": "python",
   "name": "python3"
  },
  "language_info": {
   "name": "python",
   "version": "3.9.12"
  },
  "orig_nbformat": 4,
  "vscode": {
   "interpreter": {
    "hash": "437bf6181af474c3c2ca7aa4118132330bd9bbcf1914470b1d094818705239da"
   }
  }
 },
 "nbformat": 4,
 "nbformat_minor": 2
}
