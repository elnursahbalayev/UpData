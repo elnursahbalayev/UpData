{
 "cells": [
  {
   "cell_type": "markdown",
   "metadata": {},
   "source": [
    "# Control Flow"
   ]
  },
  {
   "cell_type": "markdown",
   "metadata": {},
   "source": [
    "## Conditional Statements"
   ]
  },
  {
   "cell_type": "markdown",
   "metadata": {},
   "source": [
    "### if and else"
   ]
  },
  {
   "cell_type": "markdown",
   "metadata": {},
   "source": [
    "if ve else her hansi bir sherti yoxlamaq ucun istifade olunan serti ifadelerdir."
   ]
  },
  {
   "cell_type": "code",
   "execution_count": 1,
   "metadata": {},
   "outputs": [
    {
     "name": "stdout",
     "output_type": "stream",
     "text": [
      "Atraksiyona xosh gelmisiz!\n",
      "Siz attraksiyondan istifade ede bilersiz\n"
     ]
    }
   ],
   "source": [
    "print('Atraksiyona xosh gelmisiz!')\n",
    "\n",
    "boy = float(input('Zehmet olmasa boyunuzu daxil edin(cm):'))\n",
    "\n",
    "if boy>130:\n",
    "    print('Siz attraksiyondan istifade ede bilersiz')\n",
    "\n",
    "else:\n",
    "    print('Tessuf ki, bu attraksiyondan istifade ede bilmeyeceksiz:(')"
   ]
  },
  {
   "cell_type": "code",
   "execution_count": 3,
   "metadata": {},
   "outputs": [
    {
     "name": "stdout",
     "output_type": "stream",
     "text": [
      "Eded tekdir\n"
     ]
    }
   ],
   "source": [
    "#cut ve ya tek olan eded\n",
    "eded = int(input('Zehmet olmasa ededi daxil edin:'))\n",
    "\n",
    "if eded%2==0:\n",
    "    print('Eded cutdur')\n",
    "else:\n",
    "    print('Eded tekdir')"
   ]
  },
  {
   "cell_type": "code",
   "execution_count": 4,
   "metadata": {},
   "outputs": [
    {
     "name": "stdout",
     "output_type": "stream",
     "text": [
      "Luna parka xos gelmisiz\n",
      "Luna parka xos gelmisen\n",
      "Sizin ucun biletin qiymeti 10AZN olacaq\n"
     ]
    }
   ],
   "source": [
    "#ic ice yazilmis if ve else(nested if and else) - her hansi bir serti diger sertin icerisinde yazdigimiz zaman istifade edirik\n",
    "print('Luna parka xos gelmisiz')\n",
    "\n",
    "boy = float(input('Zehmet olmasa boyunu daxil edin'))\n",
    "\n",
    "if boy>130:\n",
    "    print('Luna parka xos gelmisen')\n",
    "    yas = int(input('Zehmet olmasa yasinizi daxil edin:'))\n",
    "    if yas>18:\n",
    "        print('Sizin ucun biletin qiymeti 10AZN olacaq')\n",
    "    else:\n",
    "        print('Sizin ucun biletin qiymeti 5AZN olacaq')\n",
    "\n",
    "else:\n",
    "    print('Teessuf ki, siz parka daxil ola bilmezsiniz')"
   ]
  },
  {
   "cell_type": "code",
   "execution_count": 5,
   "metadata": {},
   "outputs": [
    {
     "name": "stdout",
     "output_type": "stream",
     "text": [
      "Luna parka xos gelmisiz\n",
      "Luna parka xos gelmisen\n",
      "Sizin ucun bilet 7AZN olacaq\n"
     ]
    }
   ],
   "source": [
    "#elif-eyni situasiya ucun 2den artiq sert olduqda istifade olunur\n",
    "\n",
    "print('Luna parka xos gelmisiz')\n",
    "\n",
    "boy = float(input('Zehmet olmasa boyunu daxil edin'))\n",
    "\n",
    "if boy>130:\n",
    "    print('Luna parka xos gelmisen')\n",
    "    yas = int(input('Zehmet olmasa yasinizi daxil edin:'))\n",
    "    if yas<10:\n",
    "        print('Sizin ucun bilet 5AZN olacaq')\n",
    "    elif yas<=18:\n",
    "        print('Sizin ucun bilet 7AZN olacaq')\n",
    "    else:\n",
    "        print('Sizin ucun bilet 10AZN olacaq')\n",
    "\n",
    "else:\n",
    "    print('Teessuf ki, siz parka daxil ola bilmezsiniz')"
   ]
  },
  {
   "cell_type": "markdown",
   "metadata": {},
   "source": [
    "# ![title](https://raw.githubusercontent.com/aliyusifov99/gts_resources/main/bmiformula.png)"
   ]
  },
  {
   "cell_type": "markdown",
   "metadata": {},
   "source": [
    "# ![title](https://raw.githubusercontent.com/aliyusifov99/gts_resources/main/bmi.png)"
   ]
  },
  {
   "cell_type": "code",
   "execution_count": 17,
   "metadata": {},
   "outputs": [
    {
     "name": "stdout",
     "output_type": "stream",
     "text": [
      "28.73\n",
      "Kateqoriya: Artiq cekili\n"
     ]
    }
   ],
   "source": [
    "#bmi hesablayan\n",
    "ceki = float(input('Zehmet olmasa cekinizi daxil edin(kg):'))\n",
    "boy = float(input('Zehmet olmasa boyunuzu daxil edin(m):'))\n",
    "\n",
    "bmi = ceki/(boy*boy)\n",
    "print(round(bmi,2))\n",
    "\n",
    "if bmi<18.5:\n",
    "    print('Kateqoriya: Ashagi cekili')\n",
    "elif bmi>=18.5 and bmi<=25:\n",
    "    print('Kateqoriya: Normal cekili')\n",
    "\n",
    "elif bmi>=25 and bmi<=30:\n",
    "    print('Kateqoriya: Artiq cekili')\n",
    "else:\n",
    "    print('Kateqoriya: Obezite')"
   ]
  },
  {
   "cell_type": "code",
   "execution_count": 22,
   "metadata": {},
   "outputs": [
    {
     "name": "stdout",
     "output_type": "stream",
     "text": [
      "Burger House-a xos gelmisiz!\n",
      "Menu:\n",
      "\n",
      "Kicik burger:5AZN\n",
      "Orta Burger:7AZN\n",
      "Boyuk Burger:10AZN\n",
      "Fries:+2AZN\n",
      "Icki:+1AZn\n",
      "Boyuk olculu burger\n",
      "Sizin umumi odenis 12, zehmet olmasa kasaya yaxinlasin\n"
     ]
    }
   ],
   "source": [
    "#bir nece if serti (multiple if statements)\n",
    "print('Burger House-a xos gelmisiz!')\n",
    "print('Menu:\\n')\n",
    "print('Kicik burger:5AZN\\nOrta Burger:7AZN\\nBoyuk Burger:10AZN\\nFries:+2AZN\\nIcki:+1AZn')\n",
    "olcu = input('Zehmet olmasa olcunu daxil edin, kicik ucun S, orta ucun M, boyuk ucun L')\n",
    "umumi_odenis = 0\n",
    "if olcu.upper()=='S':\n",
    "    print('Kicik olculu burger')\n",
    "    umumi_odenis=5\n",
    "elif olcu.upper()=='M':\n",
    "    print('Orta olculu burger')\n",
    "    umumi_odenis=7\n",
    "elif olcu.upper()=='L':\n",
    "    print('Boyuk olculu burger')\n",
    "    umumi_odenis=10\n",
    "\n",
    "fries = input('Elave olaraq fries isteyirsiz mi? he ve ya Yox yazin')\n",
    "if fries.upper()=='HE':\n",
    "    umumi_odenis+=2\n",
    "icki = input('Elave olaraq icki isteyirsiz mi? He ve ya Yox yazin:')\n",
    "if icki.upper()=='HE':\n",
    "    umumi_odenis+=1\n",
    "\n",
    "print(f'Sizin umumi odenis {umumi_odenis}, zehmet olmasa kasaya yaxinlasin')\n",
    "\n"
   ]
  },
  {
   "cell_type": "markdown",
   "metadata": {},
   "source": [
    "## Loops"
   ]
  },
  {
   "cell_type": "markdown",
   "metadata": {},
   "source": [
    "### for loop"
   ]
  },
  {
   "cell_type": "markdown",
   "metadata": {},
   "source": [
    "for loopu pythonda her hansi tekrarlanan bir ardicilliq ucun isledilir."
   ]
  },
  {
   "cell_type": "code",
   "execution_count": 23,
   "metadata": {},
   "outputs": [
    {
     "name": "stdout",
     "output_type": "stream",
     "text": [
      "Alma\n",
      "Armud\n",
      "Nar\n"
     ]
    }
   ],
   "source": [
    "print('Alma')\n",
    "print('Armud')\n",
    "print('Nar')"
   ]
  },
  {
   "cell_type": "code",
   "execution_count": 24,
   "metadata": {},
   "outputs": [],
   "source": [
    "meyveler = ['alma', 'armud', 'nar']"
   ]
  },
  {
   "cell_type": "code",
   "execution_count": 25,
   "metadata": {},
   "outputs": [
    {
     "name": "stdout",
     "output_type": "stream",
     "text": [
      "alma\n",
      "armud\n",
      "nar\n"
     ]
    }
   ],
   "source": [
    "for meyve in meyveler:\n",
    "    print(meyve)"
   ]
  },
  {
   "cell_type": "code",
   "execution_count": 26,
   "metadata": {},
   "outputs": [
    {
     "name": "stdout",
     "output_type": "stream",
     "text": [
      "n\n",
      "a\n",
      "r\n"
     ]
    }
   ],
   "source": [
    "#strignlerde loop\n",
    "for herf in 'nar':\n",
    "    print(herf)"
   ]
  },
  {
   "cell_type": "code",
   "execution_count": 28,
   "metadata": {},
   "outputs": [
    {
     "name": "stdout",
     "output_type": "stream",
     "text": [
      "1\n",
      "2\n",
      "3\n",
      "4\n"
     ]
    }
   ],
   "source": [
    "#break -  for loopunun kesilmesi ucun istifade olunur\n",
    "ededler = [1,2,3,4,45,6]\n",
    "for eded in ededler:\n",
    "    print(eded)\n",
    "    if eded==4:\n",
    "        break\n"
   ]
  },
  {
   "cell_type": "code",
   "execution_count": 29,
   "metadata": {},
   "outputs": [
    {
     "name": "stdout",
     "output_type": "stream",
     "text": [
      "1\n",
      "2\n",
      "4\n",
      "45\n",
      "6\n"
     ]
    }
   ],
   "source": [
    "#continue - hemin situasiyada stop edib daha sonraki elementlerde davam etmeyimiz ucundur\n",
    "for eded in ededler:\n",
    "    if eded==3:\n",
    "        continue\n",
    "    print(eded)"
   ]
  },
  {
   "cell_type": "code",
   "execution_count": 30,
   "metadata": {},
   "outputs": [
    {
     "name": "stdout",
     "output_type": "stream",
     "text": [
      "0\n",
      "1\n",
      "2\n",
      "3\n",
      "4\n"
     ]
    }
   ],
   "source": [
    "#range() funksiyasi - mueyyen araliqda ededler ardicilligi duzeltmek ucundur\n",
    "for i in range(5):\n",
    "    print(i)"
   ]
  },
  {
   "cell_type": "code",
   "execution_count": 31,
   "metadata": {},
   "outputs": [
    {
     "name": "stdout",
     "output_type": "stream",
     "text": [
      "0\n",
      "2\n",
      "4\n",
      "6\n",
      "8\n"
     ]
    }
   ],
   "source": [
    "for i in range(0,10,2):\n",
    "    print(i)"
   ]
  },
  {
   "cell_type": "code",
   "execution_count": 32,
   "metadata": {},
   "outputs": [
    {
     "name": "stdout",
     "output_type": "stream",
     "text": [
      "1A\n",
      "1B\n",
      "1C\n",
      "2A\n",
      "2B\n",
      "2C\n",
      "3A\n",
      "3B\n",
      "3C\n",
      "4A\n",
      "4B\n",
      "4C\n"
     ]
    }
   ],
   "source": [
    "#ic ice looplar:\n",
    "nomreler = [1,2,3,4]\n",
    "masalar = ['A', 'B', 'C']\n",
    "for nomre in nomreler:\n",
    "    for masa in masalar:\n",
    "        print(f'{nomre}{masa}')"
   ]
  },
  {
   "cell_type": "code",
   "execution_count": 33,
   "metadata": {},
   "outputs": [
    {
     "ename": "IndentationError",
     "evalue": "expected an indented block (2884793356.py, line 3)",
     "output_type": "error",
     "traceback": [
      "\u001b[1;36m  Input \u001b[1;32mIn [33]\u001b[1;36m\u001b[0m\n\u001b[1;33m    \u001b[0m\n\u001b[1;37m    ^\u001b[0m\n\u001b[1;31mIndentationError\u001b[0m\u001b[1;31m:\u001b[0m expected an indented block\n"
     ]
    }
   ],
   "source": [
    "#pass - for looplari bos ola bilmez, ama biz pass ifadesi ile for looplarini bos qoya bilerik\n",
    "for i in range(5):\n",
    "    "
   ]
  },
  {
   "cell_type": "code",
   "execution_count": 34,
   "metadata": {},
   "outputs": [],
   "source": [
    "for i in range(5):\n",
    "    pass"
   ]
  },
  {
   "cell_type": "markdown",
   "metadata": {},
   "source": [
    "### while loops"
   ]
  },
  {
   "cell_type": "markdown",
   "metadata": {},
   "source": [
    "while loopu ise her hansi bir shert dogru olduqda isleyen bir loopdur"
   ]
  },
  {
   "cell_type": "code",
   "execution_count": 36,
   "metadata": {},
   "outputs": [
    {
     "name": "stdout",
     "output_type": "stream",
     "text": [
      "1\n",
      "2\n",
      "3\n",
      "4\n",
      "5\n",
      "6\n",
      "7\n",
      "8\n",
      "9\n"
     ]
    }
   ],
   "source": [
    "i = 1\n",
    "while i<10:\n",
    "    print(i)\n",
    "    i+=1"
   ]
  },
  {
   "cell_type": "code",
   "execution_count": 37,
   "metadata": {},
   "outputs": [
    {
     "name": "stdout",
     "output_type": "stream",
     "text": [
      "1\n",
      "2\n",
      "3\n",
      "4\n"
     ]
    }
   ],
   "source": [
    "#break vasitesiyle biz while loopunu da stoplaya bilerek(sert dogru olsa bele)\n",
    "i=1\n",
    "while i<10:\n",
    "    if i==5:\n",
    "        break\n",
    "    print(i)\n",
    "    i+=1\n"
   ]
  },
  {
   "cell_type": "code",
   "execution_count": 39,
   "metadata": {},
   "outputs": [
    {
     "name": "stdout",
     "output_type": "stream",
     "text": [
      "1\n",
      "2\n",
      "4\n",
      "5\n",
      "6\n",
      "7\n",
      "8\n",
      "9\n",
      "10\n"
     ]
    }
   ],
   "source": [
    "\n",
    "#while loopunda continue\n",
    "i=0\n",
    "while i<10:\n",
    "    i+=1\n",
    "    if i==3:\n",
    "        continue\n",
    "    print(i)\n",
    "    "
   ]
  },
  {
   "cell_type": "code",
   "execution_count": 45,
   "metadata": {},
   "outputs": [
    {
     "name": "stdout",
     "output_type": "stream",
     "text": [
      "Telebelerin ortalam yasi 22\n"
     ]
    }
   ],
   "source": [
    "#telebelerin ortalam yasini hesablayan program\n",
    "telebelerin_yasi = input('Zehmet olmasa telebelerin yasini bosluq qoyaraq qeyd edin').split()\n",
    "\n",
    "toplam_yas = 0\n",
    "for yas in telebelerin_yasi:\n",
    "    yas = int(yas)\n",
    "    toplam_yas+=yas\n",
    "\n",
    "ortalama_yas = int(toplam_yas/len(telebelerin_yasi))\n",
    "\n",
    "print(f'Telebelerin ortalam yasi {ortalama_yas}')"
   ]
  },
  {
   "cell_type": "code",
   "execution_count": 48,
   "metadata": {},
   "outputs": [
    {
     "name": "stdout",
     "output_type": "stream",
     "text": [
      "En yasli telebenin yasi 34\n"
     ]
    }
   ],
   "source": [
    "#telebelerin arasinda en yaslisini tapmaq\n",
    "telebelerin_yasi = input('Zehmet olmasa telebelerin yasini bosluq qoyaraq qeyd edin: ').split()\n",
    "\n",
    "maks_yas = 0\n",
    "\n",
    "for yas in telebelerin_yasi:\n",
    "    if int(yas)>maks_yas:\n",
    "        maks_yas=int(yas)\n",
    "    else:\n",
    "        continue\n",
    "\n",
    "print(f'En yasli telebenin yasi {maks_yas}')"
   ]
  },
  {
   "cell_type": "code",
   "execution_count": 50,
   "metadata": {},
   "outputs": [
    {
     "name": "stdout",
     "output_type": "stream",
     "text": [
      "1\n",
      "2\n",
      "Fizz\n",
      "4\n",
      "Buzz\n",
      "Fizz\n",
      "7\n",
      "8\n",
      "Fizz\n",
      "Buzz\n",
      "11\n",
      "Fizz\n",
      "13\n",
      "14\n",
      "FizzBuzz\n",
      "16\n",
      "17\n",
      "Fizz\n",
      "19\n",
      "Buzz\n",
      "Fizz\n",
      "22\n",
      "23\n",
      "Fizz\n",
      "Buzz\n",
      "26\n",
      "Fizz\n",
      "28\n",
      "29\n",
      "FizzBuzz\n",
      "31\n",
      "32\n",
      "Fizz\n",
      "34\n",
      "Buzz\n",
      "Fizz\n",
      "37\n",
      "38\n",
      "Fizz\n",
      "Buzz\n",
      "41\n",
      "Fizz\n",
      "43\n",
      "44\n",
      "FizzBuzz\n",
      "46\n",
      "47\n",
      "Fizz\n",
      "49\n",
      "Buzz\n",
      "Fizz\n",
      "52\n",
      "53\n",
      "Fizz\n",
      "Buzz\n",
      "56\n",
      "Fizz\n",
      "58\n",
      "59\n",
      "FizzBuzz\n",
      "61\n",
      "62\n",
      "Fizz\n",
      "64\n",
      "Buzz\n",
      "Fizz\n",
      "67\n",
      "68\n",
      "Fizz\n",
      "Buzz\n",
      "71\n",
      "Fizz\n",
      "73\n",
      "74\n",
      "FizzBuzz\n",
      "76\n",
      "77\n",
      "Fizz\n",
      "79\n",
      "Buzz\n",
      "Fizz\n",
      "82\n",
      "83\n",
      "Fizz\n",
      "Buzz\n",
      "86\n",
      "Fizz\n",
      "88\n",
      "89\n",
      "FizzBuzz\n",
      "91\n",
      "92\n",
      "Fizz\n",
      "94\n",
      "Buzz\n",
      "Fizz\n",
      "97\n",
      "98\n",
      "Fizz\n",
      "Buzz\n"
     ]
    }
   ],
   "source": [
    "#fizzbuzz oyunu (1den 100e qeder ededlerde, eger eded 3e bolunurse ozaman Fizz,\\\n",
    "# eger 5e bolunurse Buzz, eger her ikisine FizzBuzz diger hallarda ise reqemi cap etsin)\n",
    "for eded in range(1,101):\n",
    "    if eded%3==0 and eded%5==0:\n",
    "        print('FizzBuzz')\n",
    "    elif eded%3==0:\n",
    "        print('Fizz')\n",
    "    elif eded%5==0:\n",
    "        print('Buzz')\n",
    "    else:\n",
    "        print(eded)\n",
    "\n"
   ]
  }
 ],
 "metadata": {
  "kernelspec": {
   "display_name": "Python 3.9.12 ('base')",
   "language": "python",
   "name": "python3"
  },
  "language_info": {
   "codemirror_mode": {
    "name": "ipython",
    "version": 3
   },
   "file_extension": ".py",
   "mimetype": "text/x-python",
   "name": "python",
   "nbconvert_exporter": "python",
   "pygments_lexer": "ipython3",
   "version": "3.9.12"
  },
  "orig_nbformat": 4,
  "vscode": {
   "interpreter": {
    "hash": "c92bc8fffe5a7a288d6090c008f991380df73b744774f61abf64ba796088e3c7"
   }
  }
 },
 "nbformat": 4,
 "nbformat_minor": 2
}
