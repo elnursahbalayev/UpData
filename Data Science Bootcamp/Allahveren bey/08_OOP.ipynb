{
 "cells": [
  {
   "cell_type": "markdown",
   "metadata": {},
   "source": [
    "# OOP"
   ]
  },
  {
   "cell_type": "markdown",
   "metadata": {},
   "source": [
    "Classlar pythonda prototip olaraq islenilen ve en meshur genis conceptlerden biridir. Classlarin en onemli rolu bizim spagetti kod yazmagimizin qarsisini almagidir. Class ve objectler prototip ve hemin prototipler esasinde qurulan modeller esasinde dusunure biler. Her bir klassin attributlari ve metodlari vardir. \n",
    "\n",
    "Classlar haqda bezi notler: \n",
    "* Classlar class acar sozu vasitesi ile yaradilir\n",
    "* Classlarin attributlari ve metodlari classin icinde yaradilir\n",
    "* Class atributlari publicdir ve . vasitesiyle onlara giris ede bilerik"
   ]
  },
  {
   "cell_type": "markdown",
   "metadata": {},
   "source": [
    "## Class yaradilmasi"
   ]
  },
  {
   "cell_type": "code",
   "execution_count": 1,
   "metadata": {},
   "outputs": [],
   "source": [
    "class Masin:\n",
    "    pass"
   ]
  },
  {
   "cell_type": "markdown",
   "metadata": {},
   "source": [
    "## Class obyektleri"
   ]
  },
  {
   "cell_type": "markdown",
   "metadata": {},
   "source": [
    "Class obyektleri classin instanceleridir. Yeni artiq prototip deyil. Deyek ki biz masin adli bir class yaratdiq. Artiq masin obyekti yaradanda bir prototip yox esl masini yaradiriq. \n",
    "Class obyektlerinin:\n",
    "\n",
    "* State: class obyektinin attributunu gosterir\n",
    "* Behavior: class obyektinin metodunu gosterir\n",
    "* Identity: class obyektinin unikal oldugun gosterir"
   ]
  },
  {
   "cell_type": "markdown",
   "metadata": {},
   "source": [
    "## \"__init__\"metodu"
   ]
  },
  {
   "cell_type": "markdown",
   "metadata": {},
   "source": [
    "Her hansi bir class yaratdiqda biz onun xususiytlerini init metodu vasitesiyle teyin ede bilerik"
   ]
  },
  {
   "cell_type": "code",
   "execution_count": 2,
   "metadata": {},
   "outputs": [],
   "source": [
    "#classin yaradilmasi\n",
    "class Masin:\n",
    "    def __init__(self, model, muherrik, qiymet):\n",
    "        self.model = model\n",
    "        self.muherrik = muherrik\n",
    "        self.qiymet = qiymet\n",
    "    \n",
    "    def info(self):\n",
    "        print(f\"Model: {self.model}\")\n",
    "        print(f\"Muherrik: {self.muherrik}\")\n",
    "        print(f\"Qiymet: {self.qiymet}\")"
   ]
  },
  {
   "cell_type": "code",
   "execution_count": 3,
   "metadata": {},
   "outputs": [],
   "source": [
    "#obyektin yaradilmasi\n",
    "masin1 = Masin(\"BMW\", \"2.0\", \"100000\")"
   ]
  },
  {
   "cell_type": "code",
   "execution_count": 4,
   "metadata": {},
   "outputs": [
    {
     "name": "stdout",
     "output_type": "stream",
     "text": [
      "Model: BMW\n",
      "Muherrik: 2.0\n",
      "Qiymet: 100000\n"
     ]
    }
   ],
   "source": [
    "masin1.info()"
   ]
  },
  {
   "cell_type": "markdown",
   "metadata": {},
   "source": [
    "## self "
   ]
  },
  {
   "cell_type": "markdown",
   "metadata": {},
   "source": [
    "Pythonda instance metodlari yaradilarken (daha sonra etrafli danisilacaq) self attributundan istifade olunur. self attributu instance metodlarda mutleq istifade olunmalidir. self vasitesiyle biz bir nov obyekte istinad etmis oluruq."
   ]
  },
  {
   "cell_type": "markdown",
   "metadata": {},
   "source": [
    "## Class ve instance deyisenler"
   ]
  },
  {
   "cell_type": "markdown",
   "metadata": {},
   "source": [
    "Instance deyisenleri yalniz obyektin ozune mexsus olur ve ona her bir obyektin ozune mexsus qiymetlerine sahib olur. Ama class deyisenleri is butun classa mexsus olur ve onu hem classla hem de obyekt vasitesiyle giris etmek ve deyismek olur. Classi yaradarken teyin etdiyimiz deyisenler class deyisenleri ve __init__ metodu ile yaratdigimiz deyisenler ise instance deyisenleridir."
   ]
  },
  {
   "cell_type": "code",
   "execution_count": 5,
   "metadata": {},
   "outputs": [
    {
     "name": "stdout",
     "output_type": "stream",
     "text": [
      "4\n",
      "4\n"
     ]
    }
   ],
   "source": [
    "class Masin():\n",
    "    #class deyisen\n",
    "    teker = 4\n",
    "\n",
    "    def __init__(self, model, muherrik, qiymet):\n",
    "        #instance deyisen\n",
    "        self.model = model\n",
    "        self.muherrik = muherrik\n",
    "        self.qiymet = qiymet\n",
    "    \n",
    "\n",
    "masin2 = Masin(\"Mercedes\", \"1.5\", \"230000\")\n",
    "print(masin2.teker)\n",
    "print(Masin.teker)"
   ]
  },
  {
   "cell_type": "code",
   "execution_count": 6,
   "metadata": {},
   "outputs": [
    {
     "name": "stdout",
     "output_type": "stream",
     "text": [
      "car\n"
     ]
    }
   ],
   "source": [
    "Masin.ad = 'car'\n",
    "print(masin2.ad)"
   ]
  },
  {
   "cell_type": "code",
   "execution_count": 7,
   "metadata": {},
   "outputs": [],
   "source": [
    "masin1.teker =5"
   ]
  },
  {
   "cell_type": "code",
   "execution_count": 8,
   "metadata": {},
   "outputs": [
    {
     "name": "stdout",
     "output_type": "stream",
     "text": [
      "5\n"
     ]
    }
   ],
   "source": [
    "print(masin1.teker)"
   ]
  },
  {
   "cell_type": "markdown",
   "metadata": {},
   "source": [
    "## Methods"
   ]
  },
  {
   "cell_type": "markdown",
   "metadata": {},
   "source": [
    "### Instance methods"
   ]
  },
  {
   "cell_type": "markdown",
   "metadata": {},
   "source": [
    "Instance methodlar, class obyektinin ozune mexsus olunan metodlardir. Instance metodlar yaradilarken mutleq ilk parametr olaraq self oturulmelidir. "
   ]
  },
  {
   "cell_type": "code",
   "execution_count": 9,
   "metadata": {},
   "outputs": [
    {
     "name": "stdout",
     "output_type": "stream",
     "text": [
      "95.0\n"
     ]
    }
   ],
   "source": [
    "class Telebe:\n",
    "\n",
    "    kurs = 'Galactech School'\n",
    "\n",
    "    def __init__(self, sql_mark, python_mark, excel_mark):\n",
    "        self.sql_mark = sql_mark\n",
    "        self.python_mark = python_mark\n",
    "        self.excel_mark = excel_mark\n",
    "    \n",
    "\n",
    "    def ortalama(self):\n",
    "        return (self.sql_mark + self.python_mark + self.excel_mark) / 3\n",
    "\n",
    "\n",
    "telebe1 = Telebe(90, 100, 95)\n",
    "print(telebe1.ortalama())"
   ]
  },
  {
   "cell_type": "markdown",
   "metadata": {},
   "source": [
    "### Class methods"
   ]
  },
  {
   "cell_type": "markdown",
   "metadata": {},
   "source": [
    "Class metodlari ise her hansi bir obyektin yox, butun class ile elaqedar olduqda isledilir. Class metodlari yaradilarken @classmethod decoratorundan istifade edirik ve ilk argument olaraq cls yaziriq.\n",
    "Class metodlari instance attributlarini deyise bilmez."
   ]
  },
  {
   "cell_type": "code",
   "execution_count": 10,
   "metadata": {},
   "outputs": [
    {
     "name": "stdout",
     "output_type": "stream",
     "text": [
      "95.0\n"
     ]
    }
   ],
   "source": [
    "class Telebe:\n",
    "\n",
    "    kurs = 'Galactech School'\n",
    "\n",
    "    def __init__(self, sql_mark, python_mark, excel_mark):\n",
    "        self.sql_mark = sql_mark\n",
    "        self.python_mark = python_mark\n",
    "        self.excel_mark = excel_mark\n",
    "    \n",
    "\n",
    "    def ortalama(self):\n",
    "        return (self.sql_mark + self.python_mark + self.excel_mark) / 3\n",
    "    \n",
    "    @classmethod\n",
    "    def info(cls):\n",
    "        print(f'Telebe {cls.kurs} kursunda tehsil alir')\n",
    "        # cls.sql_mark = 100  instance attributlarin deyise bilmez\n",
    "    \n",
    "    @classmethod\n",
    "    def adi_deyis(cls):\n",
    "        cls.kurs = 'Galactech Kids'\n",
    "          \n",
    "\n",
    "\n",
    "telebe1 = Telebe(90, 100, 95)\n",
    "print(telebe1.ortalama())\n"
   ]
  },
  {
   "cell_type": "code",
   "execution_count": 11,
   "metadata": {},
   "outputs": [
    {
     "name": "stdout",
     "output_type": "stream",
     "text": [
      "Telebe Galactech School kursunda tehsil alir\n",
      "None\n"
     ]
    }
   ],
   "source": [
    "print(telebe1.info())"
   ]
  },
  {
   "cell_type": "code",
   "execution_count": 12,
   "metadata": {},
   "outputs": [
    {
     "name": "stdout",
     "output_type": "stream",
     "text": [
      "90\n"
     ]
    }
   ],
   "source": [
    "print(telebe1.sql_mark)"
   ]
  },
  {
   "cell_type": "code",
   "execution_count": 13,
   "metadata": {},
   "outputs": [],
   "source": [
    "Telebe.adi_deyis()"
   ]
  },
  {
   "cell_type": "code",
   "execution_count": 14,
   "metadata": {},
   "outputs": [
    {
     "name": "stdout",
     "output_type": "stream",
     "text": [
      "Galactech Kids\n"
     ]
    }
   ],
   "source": [
    "print(Telebe.kurs)"
   ]
  },
  {
   "cell_type": "code",
   "execution_count": 15,
   "metadata": {},
   "outputs": [
    {
     "name": "stdout",
     "output_type": "stream",
     "text": [
      "Galactech Kids\n"
     ]
    }
   ],
   "source": [
    "print(telebe1.kurs)"
   ]
  },
  {
   "cell_type": "code",
   "execution_count": 16,
   "metadata": {},
   "outputs": [
    {
     "ename": "TypeError",
     "evalue": "ortalama() missing 1 required positional argument: 'self'",
     "output_type": "error",
     "traceback": [
      "\u001b[1;31m---------------------------------------------------------------------------\u001b[0m",
      "\u001b[1;31mTypeError\u001b[0m                                 Traceback (most recent call last)",
      "\u001b[1;32mc:\\Users\\aliyu\\OneDrive\\İş masası\\galactech_school_lecture\\Python\\08_OOP.ipynb Cell 32\u001b[0m in \u001b[0;36m<cell line: 1>\u001b[1;34m()\u001b[0m\n\u001b[1;32m----> <a href='vscode-notebook-cell:/c%3A/Users/aliyu/OneDrive/%C4%B0%C5%9F%20masas%C4%B1/galactech_school_lecture/Python/08_OOP.ipynb#ch0000031?line=0'>1</a>\u001b[0m \u001b[39mprint\u001b[39m(Telebe\u001b[39m.\u001b[39;49mortalama())\n",
      "\u001b[1;31mTypeError\u001b[0m: ortalama() missing 1 required positional argument: 'self'"
     ]
    }
   ],
   "source": [
    "print(Telebe.ortalama())\n"
   ]
  },
  {
   "cell_type": "code",
   "execution_count": 17,
   "metadata": {},
   "outputs": [
    {
     "name": "stdout",
     "output_type": "stream",
     "text": [
      "Telebe Galactech Kids kursunda tehsil alir\n",
      "None\n"
     ]
    }
   ],
   "source": [
    "print(Telebe.info())"
   ]
  },
  {
   "cell_type": "code",
   "execution_count": 18,
   "metadata": {},
   "outputs": [
    {
     "name": "stdout",
     "output_type": "stream",
     "text": [
      "Telebe Galactech Kids kursunda tehsil alir\n",
      "None\n"
     ]
    }
   ],
   "source": [
    "print(telebe1.info())"
   ]
  },
  {
   "cell_type": "markdown",
   "metadata": {},
   "source": [
    "### Static methods"
   ]
  },
  {
   "cell_type": "markdown",
   "metadata": {},
   "source": [
    "Statik metodlar ne class ne de her hansi bir obyekt attributuyla elaqesi olmayan metodlardir. Biz statik metodlardan her hansi bir emeliyat aparmaqcun yazdigimiz funksiyada(meselen faktorial hesablayan funksiya) istifade ede bilerik. Statik metodlar yaradilarken onlarda @staticmethod decoratorundan istifade edirik ve her hansi bir arqument oturmek mecburiyetimiz yoxdur."
   ]
  },
  {
   "cell_type": "code",
   "execution_count": 30,
   "metadata": {},
   "outputs": [],
   "source": [
    "class Telebe:\n",
    "\n",
    "    kurs = 'Galactech School'\n",
    "\n",
    "    def __init__(self, sql_mark, python_mark, excel_mark):\n",
    "        self.sql_mark = sql_mark\n",
    "        self.python_mark = python_mark\n",
    "        self.excel_mark = excel_mark\n",
    "    \n",
    "\n",
    "    def ortalama(self):\n",
    "        return (self.sql_mark + self.python_mark + self.excel_mark) / 3\n",
    "    \n",
    "\n",
    "    \n",
    "    @classmethod\n",
    "    def info(cls):\n",
    "        print(f'Telebe {cls.kurs} kursunda tehsil alir')\n",
    "\n",
    "\n",
    "    @staticmethod\n",
    "    def umumi_qiymet(ortalama):\n",
    "        if ortalama>=90:\n",
    "            return 'A'\n",
    "        elif ortalama>=80:\n",
    "            return 'B'\n",
    "        elif ortalama>=70:\n",
    "            return 'C'\n",
    "        else:\n",
    "            return 'F'\n",
    "    "
   ]
  },
  {
   "cell_type": "code",
   "execution_count": 32,
   "metadata": {},
   "outputs": [
    {
     "name": "stdout",
     "output_type": "stream",
     "text": [
      "95.0\n",
      "A\n"
     ]
    }
   ],
   "source": [
    "telebe3 = Telebe(90, 100, 95)\n",
    "print(telebe3.ortalama())\n",
    "print(Telebe.umumi_qiymet(telebe3.ortalama()))"
   ]
  },
  {
   "cell_type": "markdown",
   "metadata": {},
   "source": [
    "## Inheritance"
   ]
  },
  {
   "cell_type": "markdown",
   "metadata": {},
   "source": [
    "Inheritance OOPde genis istifade olunan bir metoddur. Inheritance bize icaze verir ki bir class'da olan funksiya ve ozellikleri diger classimizda islede bilek. Parent ve chill class kimi bunu basa dusmek olar. "
   ]
  },
  {
   "cell_type": "code",
   "execution_count": 40,
   "metadata": {},
   "outputs": [],
   "source": [
    "class Telebe():\n",
    "    def __init__(self, ad, soyad, yas):\n",
    "        self.ad = ad\n",
    "        self.soyad = soyad\n",
    "        self.yas = yas\n",
    "    \n",
    "\n",
    "    def status(self):\n",
    "        print(f'{self.ad} adli telebemiz kursda tehsil alir')"
   ]
  },
  {
   "cell_type": "code",
   "execution_count": 41,
   "metadata": {},
   "outputs": [],
   "source": [
    "telebe1 = Telebe('Ali', 'Yusifov', 23)"
   ]
  },
  {
   "cell_type": "code",
   "execution_count": 42,
   "metadata": {},
   "outputs": [
    {
     "name": "stdout",
     "output_type": "stream",
     "text": [
      "Ali adli telebemiz kursda tehsil alir\n"
     ]
    }
   ],
   "source": [
    "telebe1.status()"
   ]
  },
  {
   "cell_type": "code",
   "execution_count": 43,
   "metadata": {},
   "outputs": [],
   "source": [
    "#single level inheritance\n",
    "class DA_Telebe(Telebe):\n",
    "    def __init__(self, ad, soyad, yas, sql_qiymet, python_qiymet, excel_qiymet):\n",
    "        super().__init__(ad, soyad, yas)\n",
    "        self.sql_qiymet = sql_qiymet\n",
    "        self.python_qiymet = python_qiymet\n",
    "        self.excel_qiymet = excel_qiymet\n",
    "    \n",
    "\n",
    "    def ortalama(self):\n",
    "        return (self.sql_qiymet + self.python_qiymet + self.excel_qiymet) / 3"
   ]
  },
  {
   "cell_type": "code",
   "execution_count": 44,
   "metadata": {},
   "outputs": [],
   "source": [
    "telebe2 = DA_Telebe('Mehemmed', 'Mustafayev', '25', 90, 100, 95)"
   ]
  },
  {
   "cell_type": "code",
   "execution_count": 45,
   "metadata": {},
   "outputs": [
    {
     "name": "stdout",
     "output_type": "stream",
     "text": [
      "Mehemmed adli telebemiz kursda tehsil alir\n"
     ]
    }
   ],
   "source": [
    "telebe2.status()"
   ]
  },
  {
   "cell_type": "code",
   "execution_count": 46,
   "metadata": {},
   "outputs": [
    {
     "data": {
      "text/plain": [
       "95.0"
      ]
     },
     "execution_count": 46,
     "metadata": {},
     "output_type": "execute_result"
    }
   ],
   "source": [
    "telebe2.ortalama()"
   ]
  },
  {
   "cell_type": "code",
   "execution_count": 47,
   "metadata": {},
   "outputs": [
    {
     "ename": "AttributeError",
     "evalue": "'Telebe' object has no attribute 'ortalama'",
     "output_type": "error",
     "traceback": [
      "\u001b[1;31m---------------------------------------------------------------------------\u001b[0m",
      "\u001b[1;31mAttributeError\u001b[0m                            Traceback (most recent call last)",
      "\u001b[1;32mc:\\Users\\aliyu\\OneDrive\\İş masası\\galactech_school_lecture\\Python\\08_OOP.ipynb Cell 48\u001b[0m in \u001b[0;36m<cell line: 1>\u001b[1;34m()\u001b[0m\n\u001b[1;32m----> <a href='vscode-notebook-cell:/c%3A/Users/aliyu/OneDrive/%C4%B0%C5%9F%20masas%C4%B1/galactech_school_lecture/Python/08_OOP.ipynb#ch0000108?line=0'>1</a>\u001b[0m telebe1\u001b[39m.\u001b[39;49mortalama()\n",
      "\u001b[1;31mAttributeError\u001b[0m: 'Telebe' object has no attribute 'ortalama'"
     ]
    }
   ],
   "source": [
    "telebe1.ortalama()"
   ]
  },
  {
   "cell_type": "code",
   "execution_count": 16,
   "metadata": {},
   "outputs": [],
   "source": [
    "#multilevel inheritance\n",
    "class A():\n",
    "    def __init__(self):\n",
    "        print('A classi yaradildi')\n",
    "    \n",
    "    def funksiya1(self):\n",
    "        print('Funksiya 1 cagirildi')\n",
    "\n",
    "\n",
    "class B():\n",
    "    def __init__(self):\n",
    "        print('B classi yaradildi')\n",
    "    \n",
    "    def funksiya2(self):\n",
    "        print('Funksiya 2 cagirildi')\n",
    "\n",
    "\n",
    "class C(A, B):\n",
    "    def __init__(self):\n",
    "        print('C classi yaradildi')\n",
    "    \n",
    "    def funksiya3(self):\n",
    "        print('Funksiya 3 cagirildi')"
   ]
  },
  {
   "cell_type": "code",
   "execution_count": 17,
   "metadata": {},
   "outputs": [
    {
     "name": "stdout",
     "output_type": "stream",
     "text": [
      "C classi yaradildi\n"
     ]
    }
   ],
   "source": [
    "c1 = C()"
   ]
  },
  {
   "cell_type": "code",
   "execution_count": 19,
   "metadata": {},
   "outputs": [
    {
     "name": "stdout",
     "output_type": "stream",
     "text": [
      "Funksiya 1 cagirildi\n"
     ]
    }
   ],
   "source": [
    "c1.funksiya1()"
   ]
  },
  {
   "cell_type": "code",
   "execution_count": 20,
   "metadata": {},
   "outputs": [
    {
     "name": "stdout",
     "output_type": "stream",
     "text": [
      "Funksiya 2 cagirildi\n"
     ]
    }
   ],
   "source": [
    "c1.funksiya2()"
   ]
  },
  {
   "cell_type": "code",
   "execution_count": 23,
   "metadata": {},
   "outputs": [
    {
     "name": "stdout",
     "output_type": "stream",
     "text": [
      "Funksiya 3 cagirildi\n"
     ]
    }
   ],
   "source": [
    "c1.funksiya3()"
   ]
  },
  {
   "cell_type": "markdown",
   "metadata": {},
   "source": [
    "## Slots"
   ]
  },
  {
   "cell_type": "markdown",
   "metadata": {},
   "source": [
    "Slotlar bize class yaratdiqda daha az yaddas istifade elemekcun istifade olunur. Slotlarla class yaratdiqda biz daha sonra ona yeni attribut elave ede bilmirik"
   ]
  },
  {
   "cell_type": "code",
   "execution_count": 72,
   "metadata": {},
   "outputs": [],
   "source": [
    "#wihtout slot\n",
    "class A:\n",
    "    def __init__(self, x1, x2):\n",
    "        self.x1 = x1\n",
    "        self.x2 = x2\n"
   ]
  },
  {
   "cell_type": "code",
   "execution_count": 73,
   "metadata": {},
   "outputs": [],
   "source": [
    "a1 = A(1, 2)\n"
   ]
  },
  {
   "cell_type": "code",
   "execution_count": 74,
   "metadata": {},
   "outputs": [
    {
     "name": "stdout",
     "output_type": "stream",
     "text": [
      "1\n"
     ]
    }
   ],
   "source": [
    "print(a1.x1)"
   ]
  },
  {
   "cell_type": "code",
   "execution_count": 75,
   "metadata": {},
   "outputs": [
    {
     "name": "stdout",
     "output_type": "stream",
     "text": [
      "2\n"
     ]
    }
   ],
   "source": [
    "print(a1.x2)"
   ]
  },
  {
   "cell_type": "code",
   "execution_count": 76,
   "metadata": {},
   "outputs": [],
   "source": [
    "a1.x3 = 3"
   ]
  },
  {
   "cell_type": "code",
   "execution_count": 77,
   "metadata": {},
   "outputs": [
    {
     "name": "stdout",
     "output_type": "stream",
     "text": [
      "3\n"
     ]
    }
   ],
   "source": [
    "print(a1.x3)"
   ]
  },
  {
   "cell_type": "code",
   "execution_count": 78,
   "metadata": {},
   "outputs": [],
   "source": [
    "#with slot\n",
    "class B:\n",
    "    __slots__ = ['x1', 'x2']\n",
    "\n",
    "    def __init__(self, x1, x2):\n",
    "        self.x1 = x1\n",
    "        self.x2 = x2"
   ]
  },
  {
   "cell_type": "code",
   "execution_count": 79,
   "metadata": {},
   "outputs": [],
   "source": [
    "b1 = B(1, 2)"
   ]
  },
  {
   "cell_type": "code",
   "execution_count": 80,
   "metadata": {},
   "outputs": [
    {
     "name": "stdout",
     "output_type": "stream",
     "text": [
      "1\n"
     ]
    }
   ],
   "source": [
    "print(b1.x1)"
   ]
  },
  {
   "cell_type": "code",
   "execution_count": 81,
   "metadata": {},
   "outputs": [
    {
     "name": "stdout",
     "output_type": "stream",
     "text": [
      "2\n"
     ]
    }
   ],
   "source": [
    "print(b1.x2)"
   ]
  },
  {
   "cell_type": "code",
   "execution_count": 82,
   "metadata": {},
   "outputs": [
    {
     "ename": "AttributeError",
     "evalue": "'B' object has no attribute 'x3'",
     "output_type": "error",
     "traceback": [
      "\u001b[1;31m---------------------------------------------------------------------------\u001b[0m",
      "\u001b[1;31mAttributeError\u001b[0m                            Traceback (most recent call last)",
      "\u001b[1;32mc:\\Users\\aliyu\\OneDrive\\İş masası\\galactech_school_lecture\\Python\\08_OOP.ipynb Cell 64\u001b[0m in \u001b[0;36m<cell line: 1>\u001b[1;34m()\u001b[0m\n\u001b[1;32m----> <a href='vscode-notebook-cell:/c%3A/Users/aliyu/OneDrive/%C4%B0%C5%9F%20masas%C4%B1/galactech_school_lecture/Python/08_OOP.ipynb#ch0000085?line=0'>1</a>\u001b[0m b1\u001b[39m.\u001b[39mx3 \u001b[39m=\u001b[39m \u001b[39m9\u001b[39m\n",
      "\u001b[1;31mAttributeError\u001b[0m: 'B' object has no attribute 'x3'"
     ]
    }
   ],
   "source": [
    "b1.x3 = 9"
   ]
  },
  {
   "cell_type": "markdown",
   "metadata": {},
   "source": [
    "## Abstract Base Class"
   ]
  },
  {
   "cell_type": "markdown",
   "metadata": {},
   "source": [
    "Abstract base classlar bizi her hansi bir classdan birbasa obyekt yaratmagimizi\n",
    "qarisisini almagimiz ucundur. Biz abstrakt class'dan yeni child class yarada bilirik.\n",
    "Amma hemin class'dan object duzelde bilmirik. Python ozu Abstract Base Class desteklemir\n",
    "Buna gore biz xususi module daxil edeceyik. "
   ]
  },
  {
   "cell_type": "code",
   "execution_count": 4,
   "metadata": {},
   "outputs": [],
   "source": [
    "from abc import ABC, abstractmethod\n",
    "\n",
    "class Neqliyyat:\n",
    "    def hereket(self):\n",
    "        pass\n",
    "\n",
    "\n",
    "class Avtomobil(Neqliyyat):\n",
    "    def hereket(self):\n",
    "        print('Avtomobiliniz hereket edir')\n",
    "\n",
    "class Motosiklet(Neqliyyat):\n",
    "    def hereket(self):\n",
    "        print('Motosikletiniz hereket edir')\n"
   ]
  },
  {
   "cell_type": "code",
   "execution_count": 5,
   "metadata": {},
   "outputs": [],
   "source": [
    "neqliyyat1 = Neqliyyat()\n",
    "avtomobil1 = Avtomobil()\n",
    "motosiklet1 = Motosiklet()"
   ]
  },
  {
   "cell_type": "code",
   "execution_count": 6,
   "metadata": {},
   "outputs": [],
   "source": [
    "neqliyyat1.hereket()"
   ]
  },
  {
   "cell_type": "code",
   "execution_count": 8,
   "metadata": {},
   "outputs": [
    {
     "name": "stdout",
     "output_type": "stream",
     "text": [
      "Avtomobiliniz hereket edir\n"
     ]
    }
   ],
   "source": [
    "avtomobil1.hereket()"
   ]
  },
  {
   "cell_type": "code",
   "execution_count": 9,
   "metadata": {},
   "outputs": [
    {
     "name": "stdout",
     "output_type": "stream",
     "text": [
      "Motosikletiniz hereket edir\n"
     ]
    }
   ],
   "source": [
    "motosiklet1.hereket()"
   ]
  },
  {
   "cell_type": "code",
   "execution_count": 14,
   "metadata": {},
   "outputs": [],
   "source": [
    "from abc import ABC, abstractmethod\n",
    "\n",
    "class Neqliyyat(ABC): #abstrakt class olmasi ucun biz onun icinde abstrakt method yazmamiz lazimdir\n",
    "    @abstractmethod\n",
    "    def hereket(self):\n",
    "        pass\n",
    "\n",
    "\n",
    "class Avtomobil(Neqliyyat):\n",
    "    def hereket(self):\n",
    "        print('Avtomobiliniz hereket edir')\n",
    "\n",
    "class Motosiklet(Neqliyyat):\n",
    "    def hereket(self):\n",
    "        print('Motosikletiniz hereket edir')\n"
   ]
  },
  {
   "cell_type": "code",
   "execution_count": 15,
   "metadata": {},
   "outputs": [
    {
     "ename": "TypeError",
     "evalue": "Can't instantiate abstract class Neqliyyat with abstract method hereket",
     "output_type": "error",
     "traceback": [
      "\u001b[1;31m---------------------------------------------------------------------------\u001b[0m",
      "\u001b[1;31mTypeError\u001b[0m                                 Traceback (most recent call last)",
      "\u001b[1;32mc:\\Users\\aliyu\\OneDrive\\İş masası\\galactech_school_lecture\\Python\\08_OOP.ipynb Cell 73\u001b[0m in \u001b[0;36m<cell line: 1>\u001b[1;34m()\u001b[0m\n\u001b[1;32m----> <a href='vscode-notebook-cell:/c%3A/Users/aliyu/OneDrive/%C4%B0%C5%9F%20masas%C4%B1/galactech_school_lecture/Python/08_OOP.ipynb#ch0000076?line=0'>1</a>\u001b[0m neqliyyat1 \u001b[39m=\u001b[39m Neqliyyat()\n",
      "\u001b[1;31mTypeError\u001b[0m: Can't instantiate abstract class Neqliyyat with abstract method hereket"
     ]
    }
   ],
   "source": [
    "neqliyyat1 = Neqliyyat()"
   ]
  },
  {
   "cell_type": "code",
   "execution_count": 16,
   "metadata": {},
   "outputs": [],
   "source": [
    "avtomobil2 = Avtomobil()"
   ]
  },
  {
   "cell_type": "code",
   "execution_count": 17,
   "metadata": {},
   "outputs": [
    {
     "name": "stdout",
     "output_type": "stream",
     "text": [
      "Avtomobiliniz hereket edir\n"
     ]
    }
   ],
   "source": [
    "avtomobil2.hereket()"
   ]
  },
  {
   "cell_type": "code",
   "execution_count": 18,
   "metadata": {},
   "outputs": [],
   "source": [
    "#abstrak classdan toreme class duzelderken mutleq onun icinde abstrakt olmayan metod olmalidir\n",
    "class Neqliyyat(ABC): #abstrakt class olmasi ucun biz onun icinde abstrakt method yazmamiz lazimdir\n",
    "    @abstractmethod\n",
    "    def hereket(self):\n",
    "        pass"
   ]
  },
  {
   "cell_type": "code",
   "execution_count": 19,
   "metadata": {},
   "outputs": [],
   "source": [
    "class Avtomobil(Neqliyyat):\n",
    "    pass"
   ]
  },
  {
   "cell_type": "code",
   "execution_count": 20,
   "metadata": {},
   "outputs": [
    {
     "ename": "TypeError",
     "evalue": "Can't instantiate abstract class Avtomobil with abstract method hereket",
     "output_type": "error",
     "traceback": [
      "\u001b[1;31m---------------------------------------------------------------------------\u001b[0m",
      "\u001b[1;31mTypeError\u001b[0m                                 Traceback (most recent call last)",
      "\u001b[1;32mc:\\Users\\aliyu\\OneDrive\\İş masası\\galactech_school_lecture\\Python\\08_OOP.ipynb Cell 78\u001b[0m in \u001b[0;36m<cell line: 1>\u001b[1;34m()\u001b[0m\n\u001b[1;32m----> <a href='vscode-notebook-cell:/c%3A/Users/aliyu/OneDrive/%C4%B0%C5%9F%20masas%C4%B1/galactech_school_lecture/Python/08_OOP.ipynb#ch0000083?line=0'>1</a>\u001b[0m avtomobil3 \u001b[39m=\u001b[39m Avtomobil()\n",
      "\u001b[1;31mTypeError\u001b[0m: Can't instantiate abstract class Avtomobil with abstract method hereket"
     ]
    }
   ],
   "source": [
    "avtomobil3 = Avtomobil()"
   ]
  },
  {
   "cell_type": "markdown",
   "metadata": {},
   "source": [
    "### Decorators"
   ]
  },
  {
   "cell_type": "markdown",
   "metadata": {},
   "source": [
    "Decoratorlar funksiya icerisinde funksiya cagirilarken, onlara her hansi bir funksiyani arqument kimi oturmeyimize deyilir. Funksiylar onject oldugundan biz onlari arqument kimi oturem biler ve ya her hansi bir funksiyaya arqument kimi oture bilerik."
   ]
  },
  {
   "cell_type": "code",
   "execution_count": 2,
   "metadata": {},
   "outputs": [],
   "source": [
    "def salamlama():\n",
    "    print('Salam')"
   ]
  },
  {
   "cell_type": "code",
   "execution_count": 3,
   "metadata": {},
   "outputs": [
    {
     "data": {
      "text/plain": [
       "<function __main__.salamlama()>"
      ]
     },
     "execution_count": 3,
     "metadata": {},
     "output_type": "execute_result"
    }
   ],
   "source": [
    "salamlama"
   ]
  },
  {
   "cell_type": "code",
   "execution_count": 4,
   "metadata": {},
   "outputs": [
    {
     "name": "stdout",
     "output_type": "stream",
     "text": [
      "Salam\n"
     ]
    }
   ],
   "source": [
    "salamlama()"
   ]
  },
  {
   "cell_type": "code",
   "execution_count": 5,
   "metadata": {},
   "outputs": [
    {
     "name": "stdout",
     "output_type": "stream",
     "text": [
      "Salam\n"
     ]
    }
   ],
   "source": [
    "salam = salamlama()"
   ]
  },
  {
   "cell_type": "code",
   "execution_count": 6,
   "metadata": {},
   "outputs": [],
   "source": [
    "salam"
   ]
  },
  {
   "cell_type": "code",
   "execution_count": 7,
   "metadata": {},
   "outputs": [],
   "source": [
    "#biz funksiyamizi silsek bele onu teyin etdiyimiz object qalacaq\n",
    "del salamlama"
   ]
  },
  {
   "cell_type": "code",
   "execution_count": 8,
   "metadata": {},
   "outputs": [
    {
     "ename": "NameError",
     "evalue": "name 'salamlama' is not defined",
     "output_type": "error",
     "traceback": [
      "\u001b[1;31m---------------------------------------------------------------------------\u001b[0m",
      "\u001b[1;31mNameError\u001b[0m                                 Traceback (most recent call last)",
      "\u001b[1;32mc:\\Users\\aliyu\\OneDrive\\İş masası\\galactech_school_lecture\\Python\\08_OOP.ipynb Cell 87\u001b[0m in \u001b[0;36m<cell line: 1>\u001b[1;34m()\u001b[0m\n\u001b[1;32m----> <a href='vscode-notebook-cell:/c%3A/Users/aliyu/OneDrive/%C4%B0%C5%9F%20masas%C4%B1/galactech_school_lecture/Python/08_OOP.ipynb#ch0000089?line=0'>1</a>\u001b[0m salamlama()\n",
      "\u001b[1;31mNameError\u001b[0m: name 'salamlama' is not defined"
     ]
    }
   ],
   "source": [
    "salamlama()"
   ]
  },
  {
   "cell_type": "code",
   "execution_count": 9,
   "metadata": {},
   "outputs": [
    {
     "name": "stdout",
     "output_type": "stream",
     "text": [
      "None\n"
     ]
    }
   ],
   "source": [
    "print(salam)"
   ]
  },
  {
   "cell_type": "code",
   "execution_count": 10,
   "metadata": {},
   "outputs": [],
   "source": [
    "def toplama(a,b):\n",
    "    return a+b"
   ]
  },
  {
   "cell_type": "code",
   "execution_count": 11,
   "metadata": {},
   "outputs": [],
   "source": [
    "cem = toplama(1,2)"
   ]
  },
  {
   "cell_type": "code",
   "execution_count": 12,
   "metadata": {},
   "outputs": [],
   "source": [
    "del toplama"
   ]
  },
  {
   "cell_type": "code",
   "execution_count": 13,
   "metadata": {},
   "outputs": [
    {
     "data": {
      "text/plain": [
       "3"
      ]
     },
     "execution_count": 13,
     "metadata": {},
     "output_type": "execute_result"
    }
   ],
   "source": [
    "cem"
   ]
  },
  {
   "cell_type": "code",
   "execution_count": 16,
   "metadata": {},
   "outputs": [],
   "source": [
    "#biz her hansi bir funkksiyani diger funksiyanin icinde cagira bilerik\n",
    "def salamlama_esas(mesaj):\n",
    "    def kursa_giris():\n",
    "        print('Galactech Kursuna Xos gelmisiz')\n",
    "        print(mesaj)\n",
    "        print('Bu bolumde biz decoratorlar haqda oyrenecik')\n",
    "    \n",
    "    return kursa_giris()"
   ]
  },
  {
   "cell_type": "code",
   "execution_count": 17,
   "metadata": {},
   "outputs": [
    {
     "name": "stdout",
     "output_type": "stream",
     "text": [
      "Galactech Kursuna Xos gelmisiz\n",
      "Biz hal hazirda Python modulundayiq\n",
      "Bu bolumde biz decoratorlar haqda oyrenecik\n"
     ]
    }
   ],
   "source": [
    "salamlama_esas('Biz hal hazirda Python modulundayiq')"
   ]
  },
  {
   "cell_type": "code",
   "execution_count": 18,
   "metadata": {},
   "outputs": [],
   "source": [
    "#biz iceride olan funksiyada kenarda olan funksiyayanin variabllarine giris ede bilerik\n",
    "def salamlama_esas():\n",
    "    mesaj = 'Biz hal hazirda Python modulundayiq'\n",
    "    def kursa_giris():\n",
    "        print('Galactech Kursuna Xos gelmisiz')\n",
    "        print(mesaj)\n",
    "        print('Bu bolumde biz decoratorlar haqda oyrenecik')\n",
    "    \n",
    "    return kursa_giris()"
   ]
  },
  {
   "cell_type": "code",
   "execution_count": 23,
   "metadata": {},
   "outputs": [
    {
     "name": "stdout",
     "output_type": "stream",
     "text": [
      "Galactech Kursuna Xos gelmisiz\n",
      "Biz hal hazirda Python modulundayiq\n",
      "Bu bolumde biz decoratorlar haqda oyrenecik\n"
     ]
    }
   ],
   "source": [
    "salamlama_esas()"
   ]
  },
  {
   "cell_type": "code",
   "execution_count": 29,
   "metadata": {},
   "outputs": [],
   "source": [
    "#biz hemcinin her hansi bir funksiyanin arqument kimi vere bilerik esas funksiyamizda\n",
    "def salamlama_esas(funksiya):\n",
    "    def kursa_giris():\n",
    "        print('Galactech Kursuna Xos gelmisiz')\n",
    "        print(funksiya('Biz hal hazirda Python modulundayiq'))\n",
    "        print('Bu bolumde biz decoratorlar haqda oyrenecik')\n",
    "    \n",
    "    return kursa_giris()"
   ]
  },
  {
   "cell_type": "code",
   "execution_count": 30,
   "metadata": {},
   "outputs": [
    {
     "name": "stdout",
     "output_type": "stream",
     "text": [
      "Galactech Kursuna Xos gelmisiz\n",
      "35\n",
      "Bu bolumde biz decoratorlar haqda oyrenecik\n"
     ]
    }
   ],
   "source": [
    "salamlama_esas(len)"
   ]
  },
  {
   "cell_type": "code",
   "execution_count": 37,
   "metadata": {},
   "outputs": [],
   "source": [
    "def salamlama_esas(funksiya):\n",
    "    def kursa_giris():\n",
    "        print('Galactech Kursuna Xos gelmisiz')\n",
    "        funksiya()\n",
    "        print('Bu bolumde biz decoratorlar haqda oyrenecik')\n",
    "    \n",
    "    return kursa_giris()"
   ]
  },
  {
   "cell_type": "code",
   "execution_count": 38,
   "metadata": {},
   "outputs": [],
   "source": [
    "#biz hemcinin oz yaratdigimiz bir funksiyani bele diger funksiyada arqument kimi islede bilerik\n",
    "def modul_adi():\n",
    "    print('Biz hal hazirda Python modulundayiq')"
   ]
  },
  {
   "cell_type": "code",
   "execution_count": 39,
   "metadata": {},
   "outputs": [
    {
     "name": "stdout",
     "output_type": "stream",
     "text": [
      "Galactech Kursuna Xos gelmisiz\n",
      "Biz hal hazirda Python modulundayiq\n",
      "Bu bolumde biz decoratorlar haqda oyrenecik\n"
     ]
    }
   ],
   "source": [
    "salamlama_esas(modul_adi)"
   ]
  },
  {
   "cell_type": "code",
   "execution_count": 35,
   "metadata": {},
   "outputs": [
    {
     "name": "stdout",
     "output_type": "stream",
     "text": [
      "Galactech Kursuna Xos gelmisiz\n",
      "Biz hal hazirda Python modulundayiq\n",
      "Bu bolumde biz decoratorlar haqda oyrenecik\n"
     ]
    }
   ],
   "source": [
    "@salamlama_esas\n",
    "def modul_adi():\n",
    "    print('Biz hal hazirda Python modulundayiq')"
   ]
  }
 ],
 "metadata": {
  "kernelspec": {
   "display_name": "Python 3.9.12 ('galactech')",
   "language": "python",
   "name": "python3"
  },
  "language_info": {
   "codemirror_mode": {
    "name": "ipython",
    "version": 3
   },
   "file_extension": ".py",
   "mimetype": "text/x-python",
   "name": "python",
   "nbconvert_exporter": "python",
   "pygments_lexer": "ipython3",
   "version": "3.9.12"
  },
  "orig_nbformat": 4,
  "vscode": {
   "interpreter": {
    "hash": "72dd4f9d5f0cf6107f7b41e5ab0be3c7740324286abc368bcdd524d5bcd06392"
   }
  }
 },
 "nbformat": 4,
 "nbformat_minor": 2
}
