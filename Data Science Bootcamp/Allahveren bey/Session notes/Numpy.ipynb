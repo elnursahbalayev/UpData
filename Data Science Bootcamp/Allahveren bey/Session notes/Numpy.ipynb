{
 "cells": [
  {
   "cell_type": "code",
   "execution_count": 60,
   "metadata": {},
   "outputs": [],
   "source": [
    "import mysql.connector"
   ]
  },
  {
   "cell_type": "code",
   "execution_count": 61,
   "metadata": {},
   "outputs": [
    {
     "name": "stdout",
     "output_type": "stream",
     "text": [
      "Requirement already satisfied: mysql-connector-python in /home/elnur/anaconda3/envs/pip_env/lib/python3.10/site-packages (8.0.30)\n",
      "Requirement already satisfied: protobuf<=3.20.1,>=3.11.0 in /home/elnur/anaconda3/envs/pip_env/lib/python3.10/site-packages (from mysql-connector-python) (3.20.1)\n"
     ]
    }
   ],
   "source": [
    "!pip install mysql-connector-python"
   ]
  },
  {
   "cell_type": "code",
   "execution_count": 62,
   "metadata": {},
   "outputs": [],
   "source": [
    "mydb = mysql.connector.connect(\n",
    "  host=\"localhost\",\n",
    "  user=\"root\",\n",
    "  password=\"1999\"\n",
    ")"
   ]
  },
  {
   "cell_type": "code",
   "execution_count": 63,
   "metadata": {},
   "outputs": [],
   "source": [
    "cursor = mydb.cursor()\n",
    "\n",
    "cursor.execute(\"use sql_store;\")"
   ]
  },
  {
   "cell_type": "code",
   "execution_count": 64,
   "metadata": {},
   "outputs": [],
   "source": [
    "cursor.execute(\"show databases\")"
   ]
  },
  {
   "cell_type": "code",
   "execution_count": 65,
   "metadata": {},
   "outputs": [
    {
     "name": "stdout",
     "output_type": "stream",
     "text": [
      "('information_schema',)\n",
      "('mysql',)\n",
      "('performance_schema',)\n",
      "('sql_hr',)\n",
      "('sql_inventory',)\n",
      "('sql_invoicing',)\n",
      "('sql_store',)\n",
      "('sys',)\n",
      "('test',)\n",
      "('testdb',)\n"
     ]
    }
   ],
   "source": [
    "for x in cursor:\n",
    "    print(x)"
   ]
  },
  {
   "cell_type": "code",
   "execution_count": 66,
   "metadata": {},
   "outputs": [],
   "source": [
    "cursor.execute(\"select * from customers\")"
   ]
  },
  {
   "cell_type": "code",
   "execution_count": 67,
   "metadata": {},
   "outputs": [
    {
     "name": "stdout",
     "output_type": "stream",
     "text": [
      "CMySQLCursor: select * from customers\n"
     ]
    }
   ],
   "source": [
    "print(cursor)"
   ]
  },
  {
   "cell_type": "code",
   "execution_count": 68,
   "metadata": {},
   "outputs": [
    {
     "data": {
      "text/html": [
       "<div>\n",
       "<style scoped>\n",
       "    .dataframe tbody tr th:only-of-type {\n",
       "        vertical-align: middle;\n",
       "    }\n",
       "\n",
       "    .dataframe tbody tr th {\n",
       "        vertical-align: top;\n",
       "    }\n",
       "\n",
       "    .dataframe thead th {\n",
       "        text-align: right;\n",
       "    }\n",
       "</style>\n",
       "<table border=\"1\" class=\"dataframe\">\n",
       "  <thead>\n",
       "    <tr style=\"text-align: right;\">\n",
       "      <th></th>\n",
       "      <th>a</th>\n",
       "      <th>b</th>\n",
       "      <th>c</th>\n",
       "      <th>d</th>\n",
       "      <th>e</th>\n",
       "      <th>b</th>\n",
       "      <th>c</th>\n",
       "      <th>d</th>\n",
       "      <th>e</th>\n",
       "    </tr>\n",
       "  </thead>\n",
       "  <tbody>\n",
       "    <tr>\n",
       "      <th>0</th>\n",
       "      <td>1</td>\n",
       "      <td>Babara</td>\n",
       "      <td>MacCaffrey</td>\n",
       "      <td>1986-03-28</td>\n",
       "      <td>781-932-9754</td>\n",
       "      <td>0 Sage Terrace</td>\n",
       "      <td>Waltham</td>\n",
       "      <td>VA</td>\n",
       "      <td>2273</td>\n",
       "    </tr>\n",
       "    <tr>\n",
       "      <th>1</th>\n",
       "      <td>2</td>\n",
       "      <td>Ines</td>\n",
       "      <td>Brushfield</td>\n",
       "      <td>1986-04-13</td>\n",
       "      <td>804-427-9456</td>\n",
       "      <td>14187 Commercial Trail</td>\n",
       "      <td>Hampton</td>\n",
       "      <td>VA</td>\n",
       "      <td>947</td>\n",
       "    </tr>\n",
       "    <tr>\n",
       "      <th>2</th>\n",
       "      <td>3</td>\n",
       "      <td>Freddi</td>\n",
       "      <td>Boagey</td>\n",
       "      <td>1985-02-07</td>\n",
       "      <td>719-724-7869</td>\n",
       "      <td>251 Springs Junction</td>\n",
       "      <td>Colorado Springs</td>\n",
       "      <td>CO</td>\n",
       "      <td>2967</td>\n",
       "    </tr>\n",
       "    <tr>\n",
       "      <th>3</th>\n",
       "      <td>4</td>\n",
       "      <td>Ambur</td>\n",
       "      <td>Roseburgh</td>\n",
       "      <td>1974-04-14</td>\n",
       "      <td>407-231-8017</td>\n",
       "      <td>30 Arapahoe Terrace</td>\n",
       "      <td>Orlando</td>\n",
       "      <td>FL</td>\n",
       "      <td>457</td>\n",
       "    </tr>\n",
       "    <tr>\n",
       "      <th>4</th>\n",
       "      <td>5</td>\n",
       "      <td>Clemmie</td>\n",
       "      <td>Betchley</td>\n",
       "      <td>1973-11-07</td>\n",
       "      <td>None</td>\n",
       "      <td>5 Spohn Circle</td>\n",
       "      <td>Arlington</td>\n",
       "      <td>TX</td>\n",
       "      <td>3675</td>\n",
       "    </tr>\n",
       "    <tr>\n",
       "      <th>5</th>\n",
       "      <td>6</td>\n",
       "      <td>Elka</td>\n",
       "      <td>Twiddell</td>\n",
       "      <td>1991-09-04</td>\n",
       "      <td>312-480-8498</td>\n",
       "      <td>7 Manley Drive</td>\n",
       "      <td>Chicago</td>\n",
       "      <td>IL</td>\n",
       "      <td>3073</td>\n",
       "    </tr>\n",
       "    <tr>\n",
       "      <th>6</th>\n",
       "      <td>7</td>\n",
       "      <td>Ilene</td>\n",
       "      <td>Dowson</td>\n",
       "      <td>1964-08-30</td>\n",
       "      <td>615-641-4759</td>\n",
       "      <td>50 Lillian Crossing</td>\n",
       "      <td>Nashville</td>\n",
       "      <td>TN</td>\n",
       "      <td>1672</td>\n",
       "    </tr>\n",
       "    <tr>\n",
       "      <th>7</th>\n",
       "      <td>8</td>\n",
       "      <td>Thacher</td>\n",
       "      <td>Naseby</td>\n",
       "      <td>1993-07-17</td>\n",
       "      <td>941-527-3977</td>\n",
       "      <td>538 Mosinee Center</td>\n",
       "      <td>Sarasota</td>\n",
       "      <td>FL</td>\n",
       "      <td>205</td>\n",
       "    </tr>\n",
       "    <tr>\n",
       "      <th>8</th>\n",
       "      <td>9</td>\n",
       "      <td>Romola</td>\n",
       "      <td>Rumgay</td>\n",
       "      <td>1992-05-23</td>\n",
       "      <td>559-181-3744</td>\n",
       "      <td>3520 Ohio Trail</td>\n",
       "      <td>Visalia</td>\n",
       "      <td>CA</td>\n",
       "      <td>1486</td>\n",
       "    </tr>\n",
       "    <tr>\n",
       "      <th>9</th>\n",
       "      <td>10</td>\n",
       "      <td>Levy</td>\n",
       "      <td>Mynett</td>\n",
       "      <td>1969-10-13</td>\n",
       "      <td>404-246-3370</td>\n",
       "      <td>68 Lawn Avenue</td>\n",
       "      <td>Atlanta</td>\n",
       "      <td>GA</td>\n",
       "      <td>796</td>\n",
       "    </tr>\n",
       "    <tr>\n",
       "      <th>10</th>\n",
       "      <td>11</td>\n",
       "      <td>Elnur</td>\n",
       "      <td>Shahbalayev</td>\n",
       "      <td>1999-11-14</td>\n",
       "      <td>773061366</td>\n",
       "      <td>Baku, Hosvan</td>\n",
       "      <td>Baku</td>\n",
       "      <td>Az</td>\n",
       "      <td>2000</td>\n",
       "    </tr>\n",
       "  </tbody>\n",
       "</table>\n",
       "</div>"
      ],
      "text/plain": [
       "     a        b            c           d            e   \\\n",
       "0    1   Babara   MacCaffrey  1986-03-28  781-932-9754   \n",
       "1    2     Ines   Brushfield  1986-04-13  804-427-9456   \n",
       "2    3   Freddi       Boagey  1985-02-07  719-724-7869   \n",
       "3    4    Ambur    Roseburgh  1974-04-14  407-231-8017   \n",
       "4    5  Clemmie     Betchley  1973-11-07          None   \n",
       "5    6     Elka     Twiddell  1991-09-04  312-480-8498   \n",
       "6    7    Ilene       Dowson  1964-08-30  615-641-4759   \n",
       "7    8  Thacher       Naseby  1993-07-17  941-527-3977   \n",
       "8    9   Romola       Rumgay  1992-05-23  559-181-3744   \n",
       "9   10     Levy       Mynett  1969-10-13  404-246-3370   \n",
       "10  11    Elnur  Shahbalayev  1999-11-14     773061366   \n",
       "\n",
       "                         b                 c   d    e   \n",
       "0           0 Sage Terrace           Waltham  VA  2273  \n",
       "1   14187 Commercial Trail           Hampton  VA   947  \n",
       "2     251 Springs Junction  Colorado Springs  CO  2967  \n",
       "3      30 Arapahoe Terrace           Orlando  FL   457  \n",
       "4           5 Spohn Circle         Arlington  TX  3675  \n",
       "5           7 Manley Drive           Chicago  IL  3073  \n",
       "6      50 Lillian Crossing         Nashville  TN  1672  \n",
       "7       538 Mosinee Center          Sarasota  FL   205  \n",
       "8          3520 Ohio Trail           Visalia  CA  1486  \n",
       "9           68 Lawn Avenue           Atlanta  GA   796  \n",
       "10            Baku, Hosvan              Baku  Az  2000  "
      ]
     },
     "execution_count": 68,
     "metadata": {},
     "output_type": "execute_result"
    }
   ],
   "source": [
    "results = cursor.fetchall()\n",
    "\n",
    "import pandas as pd\n",
    "\n",
    "pd.DataFrame(results,columns=['a', 'b', 'c', 'd' , 'e ','b', 'c', 'd' , 'e '\n",
    "                              ])"
   ]
  },
  {
   "cell_type": "code",
   "execution_count": 69,
   "metadata": {},
   "outputs": [
    {
     "name": "stderr",
     "output_type": "stream",
     "text": [
      "/home/elnur/anaconda3/envs/pip_env/lib/python3.10/site-packages/pandas/io/sql.py:762: UserWarning: pandas only support SQLAlchemy connectable(engine/connection) ordatabase string URI or sqlite3 DBAPI2 connectionother DBAPI2 objects are not tested, please consider using SQLAlchemy\n",
      "  warnings.warn(\n"
     ]
    }
   ],
   "source": [
    "sql_query = pd.read_sql(\"select * from customers\", mydb)"
   ]
  },
  {
   "cell_type": "code",
   "execution_count": null,
   "metadata": {},
   "outputs": [],
   "source": []
  }
 ],
 "metadata": {
  "kernelspec": {
   "display_name": "Python 3.10.4 ('pip_env')",
   "language": "python",
   "name": "python3"
  },
  "language_info": {
   "codemirror_mode": {
    "name": "ipython",
    "version": 3
   },
   "file_extension": ".py",
   "mimetype": "text/x-python",
   "name": "python",
   "nbconvert_exporter": "python",
   "pygments_lexer": "ipython3",
   "version": "3.10.4"
  },
  "orig_nbformat": 4,
  "vscode": {
   "interpreter": {
    "hash": "6bfde487b7068c7452acbc519e46294a0b346140fa3737a61e25c82885589230"
   }
  }
 },
 "nbformat": 4,
 "nbformat_minor": 2
}
