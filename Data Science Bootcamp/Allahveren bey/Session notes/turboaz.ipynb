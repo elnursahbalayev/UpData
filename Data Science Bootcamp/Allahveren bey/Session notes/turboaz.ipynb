{
 "cells": [
  {
   "cell_type": "code",
   "execution_count": 1,
   "outputs": [],
   "source": [
    "import pandas as pd\n",
    "import matplotlib.pyplot as plt\n",
    "import seaborn as sns\n",
    "import numpy as np"
   ],
   "metadata": {
    "collapsed": false
   }
  },
  {
   "cell_type": "code",
   "execution_count": 2,
   "outputs": [
    {
     "data": {
      "text/plain": "   elan_nomresi_list seher     marka    model  buraxilis_ili         ban_novu  \\\n0          6604711.0  Bakı  Mercedes      190         1990.0            Sedan   \n1          6454735.0  Bakı    Nissan   Altima         2018.0            Sedan   \n2          6528352.0  Bakı    Nissan   Patrol         2014.0  Offroader / SUV   \n3          6314608.0  Bakı    Toyota    Camry         2014.0            Sedan   \n4          6604673.0  Bakı  Mercedes  GLE 350         2017.0  Offroader / SUV   \n\n         reng muherrik muherrik_gucu yanacaq_novu       yurus suretler_qutusu  \\\n0  Yaş Asfalt    2.0 L      122 a.g.       Benzin  366 500 km         Avtomat   \n1          Ağ    2.5 L      182 a.g.       Benzin   50 000 km         Avtomat   \n2        Qara    5.6 L      405 a.g.       Benzin  112 000 km         Avtomat   \n3          Ağ    2.5 L      181 a.g.       Benzin  147 000 km         Avtomat   \n4         Boz    3.5 L      306 a.g.       Benzin   61 000 km         Avtomat   \n\n  oturucu  yeni      qiymet  \n0    Arxa  Xeyr   4 950 AZN  \n1      Ön  Xeyr  27 900 AZN  \n2     Tam  Xeyr    43 800 $  \n3      Ön  Xeyr  35 900 AZN  \n4     Tam  Xeyr    49 000 $  ",
      "text/html": "<div>\n<style scoped>\n    .dataframe tbody tr th:only-of-type {\n        vertical-align: middle;\n    }\n\n    .dataframe tbody tr th {\n        vertical-align: top;\n    }\n\n    .dataframe thead th {\n        text-align: right;\n    }\n</style>\n<table border=\"1\" class=\"dataframe\">\n  <thead>\n    <tr style=\"text-align: right;\">\n      <th></th>\n      <th>elan_nomresi_list</th>\n      <th>seher</th>\n      <th>marka</th>\n      <th>model</th>\n      <th>buraxilis_ili</th>\n      <th>ban_novu</th>\n      <th>reng</th>\n      <th>muherrik</th>\n      <th>muherrik_gucu</th>\n      <th>yanacaq_novu</th>\n      <th>yurus</th>\n      <th>suretler_qutusu</th>\n      <th>oturucu</th>\n      <th>yeni</th>\n      <th>qiymet</th>\n    </tr>\n  </thead>\n  <tbody>\n    <tr>\n      <th>0</th>\n      <td>6604711.0</td>\n      <td>Bakı</td>\n      <td>Mercedes</td>\n      <td>190</td>\n      <td>1990.0</td>\n      <td>Sedan</td>\n      <td>Yaş Asfalt</td>\n      <td>2.0 L</td>\n      <td>122 a.g.</td>\n      <td>Benzin</td>\n      <td>366 500 km</td>\n      <td>Avtomat</td>\n      <td>Arxa</td>\n      <td>Xeyr</td>\n      <td>4 950 AZN</td>\n    </tr>\n    <tr>\n      <th>1</th>\n      <td>6454735.0</td>\n      <td>Bakı</td>\n      <td>Nissan</td>\n      <td>Altima</td>\n      <td>2018.0</td>\n      <td>Sedan</td>\n      <td>Ağ</td>\n      <td>2.5 L</td>\n      <td>182 a.g.</td>\n      <td>Benzin</td>\n      <td>50 000 km</td>\n      <td>Avtomat</td>\n      <td>Ön</td>\n      <td>Xeyr</td>\n      <td>27 900 AZN</td>\n    </tr>\n    <tr>\n      <th>2</th>\n      <td>6528352.0</td>\n      <td>Bakı</td>\n      <td>Nissan</td>\n      <td>Patrol</td>\n      <td>2014.0</td>\n      <td>Offroader / SUV</td>\n      <td>Qara</td>\n      <td>5.6 L</td>\n      <td>405 a.g.</td>\n      <td>Benzin</td>\n      <td>112 000 km</td>\n      <td>Avtomat</td>\n      <td>Tam</td>\n      <td>Xeyr</td>\n      <td>43 800 $</td>\n    </tr>\n    <tr>\n      <th>3</th>\n      <td>6314608.0</td>\n      <td>Bakı</td>\n      <td>Toyota</td>\n      <td>Camry</td>\n      <td>2014.0</td>\n      <td>Sedan</td>\n      <td>Ağ</td>\n      <td>2.5 L</td>\n      <td>181 a.g.</td>\n      <td>Benzin</td>\n      <td>147 000 km</td>\n      <td>Avtomat</td>\n      <td>Ön</td>\n      <td>Xeyr</td>\n      <td>35 900 AZN</td>\n    </tr>\n    <tr>\n      <th>4</th>\n      <td>6604673.0</td>\n      <td>Bakı</td>\n      <td>Mercedes</td>\n      <td>GLE 350</td>\n      <td>2017.0</td>\n      <td>Offroader / SUV</td>\n      <td>Boz</td>\n      <td>3.5 L</td>\n      <td>306 a.g.</td>\n      <td>Benzin</td>\n      <td>61 000 km</td>\n      <td>Avtomat</td>\n      <td>Tam</td>\n      <td>Xeyr</td>\n      <td>49 000 $</td>\n    </tr>\n  </tbody>\n</table>\n</div>"
     },
     "execution_count": 2,
     "metadata": {},
     "output_type": "execute_result"
    }
   ],
   "source": [
    "df = pd.read_excel('data_cars_500.xlsx')\n",
    "df.head()"
   ],
   "metadata": {
    "collapsed": false
   }
  },
  {
   "cell_type": "code",
   "execution_count": 3,
   "outputs": [
    {
     "name": "stdout",
     "output_type": "stream",
     "text": [
      "<class 'pandas.core.frame.DataFrame'>\n",
      "RangeIndex: 5039 entries, 0 to 5038\n",
      "Data columns (total 15 columns):\n",
      " #   Column             Non-Null Count  Dtype  \n",
      "---  ------             --------------  -----  \n",
      " 0   elan_nomresi_list  5038 non-null   float64\n",
      " 1   seher              5038 non-null   object \n",
      " 2   marka              5038 non-null   object \n",
      " 3   model              5038 non-null   object \n",
      " 4   buraxilis_ili      5038 non-null   float64\n",
      " 5   ban_novu           5038 non-null   object \n",
      " 6   reng               5038 non-null   object \n",
      " 7   muherrik           5038 non-null   object \n",
      " 8   muherrik_gucu      5038 non-null   object \n",
      " 9   yanacaq_novu       5038 non-null   object \n",
      " 10  yurus              5038 non-null   object \n",
      " 11  suretler_qutusu    5038 non-null   object \n",
      " 12  oturucu            5038 non-null   object \n",
      " 13  yeni               5038 non-null   object \n",
      " 14  qiymet             5039 non-null   object \n",
      "dtypes: float64(2), object(13)\n",
      "memory usage: 590.6+ KB\n"
     ]
    }
   ],
   "source": [
    "df.info()"
   ],
   "metadata": {
    "collapsed": false
   }
  },
  {
   "cell_type": "code",
   "execution_count": 4,
   "outputs": [],
   "source": [
    "df.drop('elan_nomresi_list', axis=1, inplace=True)"
   ],
   "metadata": {
    "collapsed": false
   }
  },
  {
   "cell_type": "code",
   "execution_count": 5,
   "outputs": [
    {
     "data": {
      "text/plain": "seher              1\nmarka              1\nmodel              1\nburaxilis_ili      1\nban_novu           1\nreng               1\nmuherrik           1\nmuherrik_gucu      1\nyanacaq_novu       1\nyurus              1\nsuretler_qutusu    1\noturucu            1\nyeni               1\nqiymet             0\ndtype: int64"
     },
     "execution_count": 5,
     "metadata": {},
     "output_type": "execute_result"
    }
   ],
   "source": [
    "df.isna().sum()"
   ],
   "metadata": {
    "collapsed": false
   }
  },
  {
   "cell_type": "code",
   "execution_count": 6,
   "outputs": [
    {
     "data": {
      "text/plain": "seher              0\nmarka              0\nmodel              0\nburaxilis_ili      0\nban_novu           0\nreng               0\nmuherrik           0\nmuherrik_gucu      0\nyanacaq_novu       0\nyurus              0\nsuretler_qutusu    0\noturucu            0\nyeni               0\nqiymet             0\ndtype: int64"
     },
     "execution_count": 6,
     "metadata": {},
     "output_type": "execute_result"
    }
   ],
   "source": [
    "df.dropna(axis=0).isna().sum()"
   ],
   "metadata": {
    "collapsed": false
   }
  },
  {
   "cell_type": "code",
   "execution_count": 7,
   "outputs": [],
   "source": [
    "df.dropna(axis=0, inplace=True)\n"
   ],
   "metadata": {
    "collapsed": false
   }
  },
  {
   "cell_type": "code",
   "execution_count": 8,
   "outputs": [
    {
     "data": {
      "text/plain": "  seher     marka    model  buraxilis_ili         ban_novu        reng  \\\n0  Bakı  Mercedes      190         1990.0            Sedan  Yaş Asfalt   \n1  Bakı    Nissan   Altima         2018.0            Sedan          Ağ   \n2  Bakı    Nissan   Patrol         2014.0  Offroader / SUV        Qara   \n3  Bakı    Toyota    Camry         2014.0            Sedan          Ağ   \n4  Bakı  Mercedes  GLE 350         2017.0  Offroader / SUV         Boz   \n\n  muherrik muherrik_gucu yanacaq_novu       yurus suretler_qutusu oturucu  \\\n0    2.0 L      122 a.g.       Benzin  366 500 km         Avtomat    Arxa   \n1    2.5 L      182 a.g.       Benzin   50 000 km         Avtomat      Ön   \n2    5.6 L      405 a.g.       Benzin  112 000 km         Avtomat     Tam   \n3    2.5 L      181 a.g.       Benzin  147 000 km         Avtomat      Ön   \n4    3.5 L      306 a.g.       Benzin   61 000 km         Avtomat     Tam   \n\n   yeni      qiymet  \n0  Xeyr   4 950 AZN  \n1  Xeyr  27 900 AZN  \n2  Xeyr    43 800 $  \n3  Xeyr  35 900 AZN  \n4  Xeyr    49 000 $  ",
      "text/html": "<div>\n<style scoped>\n    .dataframe tbody tr th:only-of-type {\n        vertical-align: middle;\n    }\n\n    .dataframe tbody tr th {\n        vertical-align: top;\n    }\n\n    .dataframe thead th {\n        text-align: right;\n    }\n</style>\n<table border=\"1\" class=\"dataframe\">\n  <thead>\n    <tr style=\"text-align: right;\">\n      <th></th>\n      <th>seher</th>\n      <th>marka</th>\n      <th>model</th>\n      <th>buraxilis_ili</th>\n      <th>ban_novu</th>\n      <th>reng</th>\n      <th>muherrik</th>\n      <th>muherrik_gucu</th>\n      <th>yanacaq_novu</th>\n      <th>yurus</th>\n      <th>suretler_qutusu</th>\n      <th>oturucu</th>\n      <th>yeni</th>\n      <th>qiymet</th>\n    </tr>\n  </thead>\n  <tbody>\n    <tr>\n      <th>0</th>\n      <td>Bakı</td>\n      <td>Mercedes</td>\n      <td>190</td>\n      <td>1990.0</td>\n      <td>Sedan</td>\n      <td>Yaş Asfalt</td>\n      <td>2.0 L</td>\n      <td>122 a.g.</td>\n      <td>Benzin</td>\n      <td>366 500 km</td>\n      <td>Avtomat</td>\n      <td>Arxa</td>\n      <td>Xeyr</td>\n      <td>4 950 AZN</td>\n    </tr>\n    <tr>\n      <th>1</th>\n      <td>Bakı</td>\n      <td>Nissan</td>\n      <td>Altima</td>\n      <td>2018.0</td>\n      <td>Sedan</td>\n      <td>Ağ</td>\n      <td>2.5 L</td>\n      <td>182 a.g.</td>\n      <td>Benzin</td>\n      <td>50 000 km</td>\n      <td>Avtomat</td>\n      <td>Ön</td>\n      <td>Xeyr</td>\n      <td>27 900 AZN</td>\n    </tr>\n    <tr>\n      <th>2</th>\n      <td>Bakı</td>\n      <td>Nissan</td>\n      <td>Patrol</td>\n      <td>2014.0</td>\n      <td>Offroader / SUV</td>\n      <td>Qara</td>\n      <td>5.6 L</td>\n      <td>405 a.g.</td>\n      <td>Benzin</td>\n      <td>112 000 km</td>\n      <td>Avtomat</td>\n      <td>Tam</td>\n      <td>Xeyr</td>\n      <td>43 800 $</td>\n    </tr>\n    <tr>\n      <th>3</th>\n      <td>Bakı</td>\n      <td>Toyota</td>\n      <td>Camry</td>\n      <td>2014.0</td>\n      <td>Sedan</td>\n      <td>Ağ</td>\n      <td>2.5 L</td>\n      <td>181 a.g.</td>\n      <td>Benzin</td>\n      <td>147 000 km</td>\n      <td>Avtomat</td>\n      <td>Ön</td>\n      <td>Xeyr</td>\n      <td>35 900 AZN</td>\n    </tr>\n    <tr>\n      <th>4</th>\n      <td>Bakı</td>\n      <td>Mercedes</td>\n      <td>GLE 350</td>\n      <td>2017.0</td>\n      <td>Offroader / SUV</td>\n      <td>Boz</td>\n      <td>3.5 L</td>\n      <td>306 a.g.</td>\n      <td>Benzin</td>\n      <td>61 000 km</td>\n      <td>Avtomat</td>\n      <td>Tam</td>\n      <td>Xeyr</td>\n      <td>49 000 $</td>\n    </tr>\n  </tbody>\n</table>\n</div>"
     },
     "execution_count": 8,
     "metadata": {},
     "output_type": "execute_result"
    }
   ],
   "source": [
    "df.head()"
   ],
   "metadata": {
    "collapsed": false
   }
  },
  {
   "cell_type": "code",
   "execution_count": 9,
   "outputs": [],
   "source": [
    "df['muherrik']=df['muherrik'].str.replace(' L','')"
   ],
   "metadata": {
    "collapsed": false
   }
  },
  {
   "cell_type": "code",
   "execution_count": 10,
   "outputs": [
    {
     "name": "stderr",
     "output_type": "stream",
     "text": [
      "C:\\Users\\Hp Envy\\AppData\\Local\\Temp\\ipykernel_5864\\2661953052.py:1: FutureWarning: The default value of regex will change from True to False in a future version.\n",
      "  df['muherrik_gucu']=df['muherrik_gucu'].str.replace(' a.g.', '')\n"
     ]
    }
   ],
   "source": [
    "df['muherrik_gucu']=df['muherrik_gucu'].str.replace(' a.g.', '')"
   ],
   "metadata": {
    "collapsed": false
   }
  },
  {
   "cell_type": "code",
   "execution_count": 11,
   "outputs": [],
   "source": [
    "df['yurus'] = df['yurus'].str.replace(' km', '')"
   ],
   "metadata": {
    "collapsed": false
   }
  },
  {
   "cell_type": "code",
   "execution_count": 12,
   "outputs": [
    {
     "data": {
      "text/plain": "  seher     marka    model  buraxilis_ili         ban_novu        reng  \\\n0  Bakı  Mercedes      190         1990.0            Sedan  Yaş Asfalt   \n1  Bakı    Nissan   Altima         2018.0            Sedan          Ağ   \n2  Bakı    Nissan   Patrol         2014.0  Offroader / SUV        Qara   \n3  Bakı    Toyota    Camry         2014.0            Sedan          Ağ   \n4  Bakı  Mercedes  GLE 350         2017.0  Offroader / SUV         Boz   \n\n  muherrik muherrik_gucu yanacaq_novu   yurus suretler_qutusu oturucu  yeni  \\\n0      2.0           122       Benzin  366500         Avtomat    Arxa  Xeyr   \n1      2.5           182       Benzin   50000         Avtomat      Ön  Xeyr   \n2      5.6           405       Benzin  112000         Avtomat     Tam  Xeyr   \n3      2.5           181       Benzin  147000         Avtomat      Ön  Xeyr   \n4      3.5           306       Benzin   61000         Avtomat     Tam  Xeyr   \n\n       qiymet  \n0   4 950 AZN  \n1  27 900 AZN  \n2    43 800 $  \n3  35 900 AZN  \n4    49 000 $  ",
      "text/html": "<div>\n<style scoped>\n    .dataframe tbody tr th:only-of-type {\n        vertical-align: middle;\n    }\n\n    .dataframe tbody tr th {\n        vertical-align: top;\n    }\n\n    .dataframe thead th {\n        text-align: right;\n    }\n</style>\n<table border=\"1\" class=\"dataframe\">\n  <thead>\n    <tr style=\"text-align: right;\">\n      <th></th>\n      <th>seher</th>\n      <th>marka</th>\n      <th>model</th>\n      <th>buraxilis_ili</th>\n      <th>ban_novu</th>\n      <th>reng</th>\n      <th>muherrik</th>\n      <th>muherrik_gucu</th>\n      <th>yanacaq_novu</th>\n      <th>yurus</th>\n      <th>suretler_qutusu</th>\n      <th>oturucu</th>\n      <th>yeni</th>\n      <th>qiymet</th>\n    </tr>\n  </thead>\n  <tbody>\n    <tr>\n      <th>0</th>\n      <td>Bakı</td>\n      <td>Mercedes</td>\n      <td>190</td>\n      <td>1990.0</td>\n      <td>Sedan</td>\n      <td>Yaş Asfalt</td>\n      <td>2.0</td>\n      <td>122</td>\n      <td>Benzin</td>\n      <td>366500</td>\n      <td>Avtomat</td>\n      <td>Arxa</td>\n      <td>Xeyr</td>\n      <td>4 950 AZN</td>\n    </tr>\n    <tr>\n      <th>1</th>\n      <td>Bakı</td>\n      <td>Nissan</td>\n      <td>Altima</td>\n      <td>2018.0</td>\n      <td>Sedan</td>\n      <td>Ağ</td>\n      <td>2.5</td>\n      <td>182</td>\n      <td>Benzin</td>\n      <td>50000</td>\n      <td>Avtomat</td>\n      <td>Ön</td>\n      <td>Xeyr</td>\n      <td>27 900 AZN</td>\n    </tr>\n    <tr>\n      <th>2</th>\n      <td>Bakı</td>\n      <td>Nissan</td>\n      <td>Patrol</td>\n      <td>2014.0</td>\n      <td>Offroader / SUV</td>\n      <td>Qara</td>\n      <td>5.6</td>\n      <td>405</td>\n      <td>Benzin</td>\n      <td>112000</td>\n      <td>Avtomat</td>\n      <td>Tam</td>\n      <td>Xeyr</td>\n      <td>43 800 $</td>\n    </tr>\n    <tr>\n      <th>3</th>\n      <td>Bakı</td>\n      <td>Toyota</td>\n      <td>Camry</td>\n      <td>2014.0</td>\n      <td>Sedan</td>\n      <td>Ağ</td>\n      <td>2.5</td>\n      <td>181</td>\n      <td>Benzin</td>\n      <td>147000</td>\n      <td>Avtomat</td>\n      <td>Ön</td>\n      <td>Xeyr</td>\n      <td>35 900 AZN</td>\n    </tr>\n    <tr>\n      <th>4</th>\n      <td>Bakı</td>\n      <td>Mercedes</td>\n      <td>GLE 350</td>\n      <td>2017.0</td>\n      <td>Offroader / SUV</td>\n      <td>Boz</td>\n      <td>3.5</td>\n      <td>306</td>\n      <td>Benzin</td>\n      <td>61000</td>\n      <td>Avtomat</td>\n      <td>Tam</td>\n      <td>Xeyr</td>\n      <td>49 000 $</td>\n    </tr>\n  </tbody>\n</table>\n</div>"
     },
     "execution_count": 12,
     "metadata": {},
     "output_type": "execute_result"
    }
   ],
   "source": [
    "df['yurus']=df['yurus'].str.replace(' ', '')\n",
    "df.head()\n"
   ],
   "metadata": {
    "collapsed": false
   }
  },
  {
   "cell_type": "code",
   "execution_count": 13,
   "outputs": [
    {
     "name": "stderr",
     "output_type": "stream",
     "text": [
      "C:\\Users\\Hp Envy\\AppData\\Local\\Temp\\ipykernel_5864\\2577145124.py:1: FutureWarning: The default value of regex will change from True to False in a future version. In addition, single character regular expressions will *not* be treated as literal strings when regex=True.\n",
      "  df['qiymet_AZN']=df['qiymet'].str.replace(' ', '').str.replace('AZN', ' AZN').str.replace('$', ' $').str.replace('€',' €').str.split(expand=True)[0]\n",
      "C:\\Users\\Hp Envy\\AppData\\Local\\Temp\\ipykernel_5864\\2577145124.py:2: FutureWarning: The default value of regex will change from True to False in a future version. In addition, single character regular expressions will *not* be treated as literal strings when regex=True.\n",
      "  df['valyuta']=df['qiymet'].str.replace(' ', '').str.replace('AZN', ' AZN').str.replace('$', ' $').str.replace('€',' €').str.split(expand=True)[1]\n"
     ]
    },
    {
     "data": {
      "text/plain": "  seher     marka    model  buraxilis_ili         ban_novu        reng  \\\n0  Bakı  Mercedes      190         1990.0            Sedan  Yaş Asfalt   \n1  Bakı    Nissan   Altima         2018.0            Sedan          Ağ   \n2  Bakı    Nissan   Patrol         2014.0  Offroader / SUV        Qara   \n3  Bakı    Toyota    Camry         2014.0            Sedan          Ağ   \n4  Bakı  Mercedes  GLE 350         2017.0  Offroader / SUV         Boz   \n\n  muherrik muherrik_gucu yanacaq_novu   yurus suretler_qutusu oturucu  yeni  \\\n0      2.0           122       Benzin  366500         Avtomat    Arxa  Xeyr   \n1      2.5           182       Benzin   50000         Avtomat      Ön  Xeyr   \n2      5.6           405       Benzin  112000         Avtomat     Tam  Xeyr   \n3      2.5           181       Benzin  147000         Avtomat      Ön  Xeyr   \n4      3.5           306       Benzin   61000         Avtomat     Tam  Xeyr   \n\n       qiymet qiymet_AZN valyuta  \n0   4 950 AZN       4950     AZN  \n1  27 900 AZN      27900     AZN  \n2    43 800 $      43800       $  \n3  35 900 AZN      35900     AZN  \n4    49 000 $      49000       $  ",
      "text/html": "<div>\n<style scoped>\n    .dataframe tbody tr th:only-of-type {\n        vertical-align: middle;\n    }\n\n    .dataframe tbody tr th {\n        vertical-align: top;\n    }\n\n    .dataframe thead th {\n        text-align: right;\n    }\n</style>\n<table border=\"1\" class=\"dataframe\">\n  <thead>\n    <tr style=\"text-align: right;\">\n      <th></th>\n      <th>seher</th>\n      <th>marka</th>\n      <th>model</th>\n      <th>buraxilis_ili</th>\n      <th>ban_novu</th>\n      <th>reng</th>\n      <th>muherrik</th>\n      <th>muherrik_gucu</th>\n      <th>yanacaq_novu</th>\n      <th>yurus</th>\n      <th>suretler_qutusu</th>\n      <th>oturucu</th>\n      <th>yeni</th>\n      <th>qiymet</th>\n      <th>qiymet_AZN</th>\n      <th>valyuta</th>\n    </tr>\n  </thead>\n  <tbody>\n    <tr>\n      <th>0</th>\n      <td>Bakı</td>\n      <td>Mercedes</td>\n      <td>190</td>\n      <td>1990.0</td>\n      <td>Sedan</td>\n      <td>Yaş Asfalt</td>\n      <td>2.0</td>\n      <td>122</td>\n      <td>Benzin</td>\n      <td>366500</td>\n      <td>Avtomat</td>\n      <td>Arxa</td>\n      <td>Xeyr</td>\n      <td>4 950 AZN</td>\n      <td>4950</td>\n      <td>AZN</td>\n    </tr>\n    <tr>\n      <th>1</th>\n      <td>Bakı</td>\n      <td>Nissan</td>\n      <td>Altima</td>\n      <td>2018.0</td>\n      <td>Sedan</td>\n      <td>Ağ</td>\n      <td>2.5</td>\n      <td>182</td>\n      <td>Benzin</td>\n      <td>50000</td>\n      <td>Avtomat</td>\n      <td>Ön</td>\n      <td>Xeyr</td>\n      <td>27 900 AZN</td>\n      <td>27900</td>\n      <td>AZN</td>\n    </tr>\n    <tr>\n      <th>2</th>\n      <td>Bakı</td>\n      <td>Nissan</td>\n      <td>Patrol</td>\n      <td>2014.0</td>\n      <td>Offroader / SUV</td>\n      <td>Qara</td>\n      <td>5.6</td>\n      <td>405</td>\n      <td>Benzin</td>\n      <td>112000</td>\n      <td>Avtomat</td>\n      <td>Tam</td>\n      <td>Xeyr</td>\n      <td>43 800 $</td>\n      <td>43800</td>\n      <td>$</td>\n    </tr>\n    <tr>\n      <th>3</th>\n      <td>Bakı</td>\n      <td>Toyota</td>\n      <td>Camry</td>\n      <td>2014.0</td>\n      <td>Sedan</td>\n      <td>Ağ</td>\n      <td>2.5</td>\n      <td>181</td>\n      <td>Benzin</td>\n      <td>147000</td>\n      <td>Avtomat</td>\n      <td>Ön</td>\n      <td>Xeyr</td>\n      <td>35 900 AZN</td>\n      <td>35900</td>\n      <td>AZN</td>\n    </tr>\n    <tr>\n      <th>4</th>\n      <td>Bakı</td>\n      <td>Mercedes</td>\n      <td>GLE 350</td>\n      <td>2017.0</td>\n      <td>Offroader / SUV</td>\n      <td>Boz</td>\n      <td>3.5</td>\n      <td>306</td>\n      <td>Benzin</td>\n      <td>61000</td>\n      <td>Avtomat</td>\n      <td>Tam</td>\n      <td>Xeyr</td>\n      <td>49 000 $</td>\n      <td>49000</td>\n      <td>$</td>\n    </tr>\n  </tbody>\n</table>\n</div>"
     },
     "execution_count": 13,
     "metadata": {},
     "output_type": "execute_result"
    }
   ],
   "source": [
    "df['qiymet_AZN']=df['qiymet'].str.replace(' ', '').str.replace('AZN', ' AZN').str.replace('$', ' $').str.replace('€',' €').str.split(expand=True)[0]\n",
    "df['valyuta']=df['qiymet'].str.replace(' ', '').str.replace('AZN', ' AZN').str.replace('$', ' $').str.replace('€',' €').str.split(expand=True)[1]\n",
    "\n",
    "df.head()"
   ],
   "metadata": {
    "collapsed": false
   }
  },
  {
   "cell_type": "code",
   "execution_count": 14,
   "outputs": [],
   "source": [
    "df.drop('qiymet', axis=1, inplace=True)"
   ],
   "metadata": {
    "collapsed": false
   }
  },
  {
   "cell_type": "code",
   "execution_count": 15,
   "outputs": [],
   "source": [
    "df['qiymet_AZN']=df['qiymet_AZN'].astype(int)"
   ],
   "metadata": {
    "collapsed": false
   }
  },
  {
   "cell_type": "code",
   "execution_count": 18,
   "outputs": [
    {
     "data": {
      "text/plain": "seher               object\nmarka               object\nmodel               object\nburaxilis_ili      float64\nban_novu            object\nreng                object\nmuherrik            object\nmuherrik_gucu       object\nyanacaq_novu        object\nyurus               object\nsuretler_qutusu     object\noturucu             object\nyeni                object\nqiymet_AZN           int32\nvalyuta             object\ndtype: object"
     },
     "execution_count": 18,
     "metadata": {},
     "output_type": "execute_result"
    }
   ],
   "source": [
    "df.dtypes"
   ],
   "metadata": {
    "collapsed": false
   }
  },
  {
   "cell_type": "code",
   "execution_count": 19,
   "outputs": [
    {
     "data": {
      "text/plain": "2        74460.0\n4        83300.0\n5        78030.0\n6        40630.0\n8        33660.0\n          ...   \n5017    142460.0\n5018    168300.0\n5020    114750.0\n5031     37060.0\n5035     67150.0\nName: qiymet_AZN, Length: 1149, dtype: float64"
     },
     "execution_count": 19,
     "metadata": {},
     "output_type": "execute_result"
    }
   ],
   "source": [
    "df[df['valyuta']=='$']['qiymet_AZN']*1.7"
   ],
   "metadata": {
    "collapsed": false
   }
  },
  {
   "cell_type": "code",
   "execution_count": 23,
   "outputs": [],
   "source": [
    "df.loc[df['valyuta'] == '$', 'qiymet_AZN'] = df[df['valyuta']=='$']['qiymet_AZN']*1.70\n",
    "df.loc[df['valyuta'] == '€', 'qiymet_AZN'] = df[df['valyuta']=='€']['qiymet_AZN']*1.71\n"
   ],
   "metadata": {
    "collapsed": false
   }
  },
  {
   "cell_type": "code",
   "execution_count": 24,
   "outputs": [
    {
     "data": {
      "text/plain": "  seher     marka    model  buraxilis_ili         ban_novu        reng  \\\n0  Bakı  Mercedes      190         1990.0            Sedan  Yaş Asfalt   \n1  Bakı    Nissan   Altima         2018.0            Sedan          Ağ   \n2  Bakı    Nissan   Patrol         2014.0  Offroader / SUV        Qara   \n3  Bakı    Toyota    Camry         2014.0            Sedan          Ağ   \n4  Bakı  Mercedes  GLE 350         2017.0  Offroader / SUV         Boz   \n\n  muherrik muherrik_gucu yanacaq_novu   yurus suretler_qutusu oturucu  yeni  \\\n0      2.0           122       Benzin  366500         Avtomat    Arxa  Xeyr   \n1      2.5           182       Benzin   50000         Avtomat      Ön  Xeyr   \n2      5.6           405       Benzin  112000         Avtomat     Tam  Xeyr   \n3      2.5           181       Benzin  147000         Avtomat      Ön  Xeyr   \n4      3.5           306       Benzin   61000         Avtomat     Tam  Xeyr   \n\n   qiymet_AZN valyuta  \n0      4950.0     AZN  \n1     27900.0     AZN  \n2    126582.0       $  \n3     35900.0     AZN  \n4    141610.0       $  ",
      "text/html": "<div>\n<style scoped>\n    .dataframe tbody tr th:only-of-type {\n        vertical-align: middle;\n    }\n\n    .dataframe tbody tr th {\n        vertical-align: top;\n    }\n\n    .dataframe thead th {\n        text-align: right;\n    }\n</style>\n<table border=\"1\" class=\"dataframe\">\n  <thead>\n    <tr style=\"text-align: right;\">\n      <th></th>\n      <th>seher</th>\n      <th>marka</th>\n      <th>model</th>\n      <th>buraxilis_ili</th>\n      <th>ban_novu</th>\n      <th>reng</th>\n      <th>muherrik</th>\n      <th>muherrik_gucu</th>\n      <th>yanacaq_novu</th>\n      <th>yurus</th>\n      <th>suretler_qutusu</th>\n      <th>oturucu</th>\n      <th>yeni</th>\n      <th>qiymet_AZN</th>\n      <th>valyuta</th>\n    </tr>\n  </thead>\n  <tbody>\n    <tr>\n      <th>0</th>\n      <td>Bakı</td>\n      <td>Mercedes</td>\n      <td>190</td>\n      <td>1990.0</td>\n      <td>Sedan</td>\n      <td>Yaş Asfalt</td>\n      <td>2.0</td>\n      <td>122</td>\n      <td>Benzin</td>\n      <td>366500</td>\n      <td>Avtomat</td>\n      <td>Arxa</td>\n      <td>Xeyr</td>\n      <td>4950.0</td>\n      <td>AZN</td>\n    </tr>\n    <tr>\n      <th>1</th>\n      <td>Bakı</td>\n      <td>Nissan</td>\n      <td>Altima</td>\n      <td>2018.0</td>\n      <td>Sedan</td>\n      <td>Ağ</td>\n      <td>2.5</td>\n      <td>182</td>\n      <td>Benzin</td>\n      <td>50000</td>\n      <td>Avtomat</td>\n      <td>Ön</td>\n      <td>Xeyr</td>\n      <td>27900.0</td>\n      <td>AZN</td>\n    </tr>\n    <tr>\n      <th>2</th>\n      <td>Bakı</td>\n      <td>Nissan</td>\n      <td>Patrol</td>\n      <td>2014.0</td>\n      <td>Offroader / SUV</td>\n      <td>Qara</td>\n      <td>5.6</td>\n      <td>405</td>\n      <td>Benzin</td>\n      <td>112000</td>\n      <td>Avtomat</td>\n      <td>Tam</td>\n      <td>Xeyr</td>\n      <td>126582.0</td>\n      <td>$</td>\n    </tr>\n    <tr>\n      <th>3</th>\n      <td>Bakı</td>\n      <td>Toyota</td>\n      <td>Camry</td>\n      <td>2014.0</td>\n      <td>Sedan</td>\n      <td>Ağ</td>\n      <td>2.5</td>\n      <td>181</td>\n      <td>Benzin</td>\n      <td>147000</td>\n      <td>Avtomat</td>\n      <td>Ön</td>\n      <td>Xeyr</td>\n      <td>35900.0</td>\n      <td>AZN</td>\n    </tr>\n    <tr>\n      <th>4</th>\n      <td>Bakı</td>\n      <td>Mercedes</td>\n      <td>GLE 350</td>\n      <td>2017.0</td>\n      <td>Offroader / SUV</td>\n      <td>Boz</td>\n      <td>3.5</td>\n      <td>306</td>\n      <td>Benzin</td>\n      <td>61000</td>\n      <td>Avtomat</td>\n      <td>Tam</td>\n      <td>Xeyr</td>\n      <td>141610.0</td>\n      <td>$</td>\n    </tr>\n  </tbody>\n</table>\n</div>"
     },
     "execution_count": 24,
     "metadata": {},
     "output_type": "execute_result"
    }
   ],
   "source": [
    "df.head()"
   ],
   "metadata": {
    "collapsed": false
   }
  },
  {
   "cell_type": "code",
   "execution_count": 25,
   "outputs": [],
   "source": [
    "df.drop('valyuta', axis=1, inplace=True)"
   ],
   "metadata": {
    "collapsed": false
   }
  },
  {
   "cell_type": "code",
   "execution_count": 26,
   "outputs": [
    {
     "data": {
      "text/plain": "  seher     marka    model  buraxilis_ili         ban_novu        reng  \\\n0  Bakı  Mercedes      190         1990.0            Sedan  Yaş Asfalt   \n1  Bakı    Nissan   Altima         2018.0            Sedan          Ağ   \n2  Bakı    Nissan   Patrol         2014.0  Offroader / SUV        Qara   \n3  Bakı    Toyota    Camry         2014.0            Sedan          Ağ   \n4  Bakı  Mercedes  GLE 350         2017.0  Offroader / SUV         Boz   \n\n  muherrik muherrik_gucu yanacaq_novu   yurus suretler_qutusu oturucu  yeni  \\\n0      2.0           122       Benzin  366500         Avtomat    Arxa  Xeyr   \n1      2.5           182       Benzin   50000         Avtomat      Ön  Xeyr   \n2      5.6           405       Benzin  112000         Avtomat     Tam  Xeyr   \n3      2.5           181       Benzin  147000         Avtomat      Ön  Xeyr   \n4      3.5           306       Benzin   61000         Avtomat     Tam  Xeyr   \n\n   qiymet_AZN  \n0      4950.0  \n1     27900.0  \n2    126582.0  \n3     35900.0  \n4    141610.0  ",
      "text/html": "<div>\n<style scoped>\n    .dataframe tbody tr th:only-of-type {\n        vertical-align: middle;\n    }\n\n    .dataframe tbody tr th {\n        vertical-align: top;\n    }\n\n    .dataframe thead th {\n        text-align: right;\n    }\n</style>\n<table border=\"1\" class=\"dataframe\">\n  <thead>\n    <tr style=\"text-align: right;\">\n      <th></th>\n      <th>seher</th>\n      <th>marka</th>\n      <th>model</th>\n      <th>buraxilis_ili</th>\n      <th>ban_novu</th>\n      <th>reng</th>\n      <th>muherrik</th>\n      <th>muherrik_gucu</th>\n      <th>yanacaq_novu</th>\n      <th>yurus</th>\n      <th>suretler_qutusu</th>\n      <th>oturucu</th>\n      <th>yeni</th>\n      <th>qiymet_AZN</th>\n    </tr>\n  </thead>\n  <tbody>\n    <tr>\n      <th>0</th>\n      <td>Bakı</td>\n      <td>Mercedes</td>\n      <td>190</td>\n      <td>1990.0</td>\n      <td>Sedan</td>\n      <td>Yaş Asfalt</td>\n      <td>2.0</td>\n      <td>122</td>\n      <td>Benzin</td>\n      <td>366500</td>\n      <td>Avtomat</td>\n      <td>Arxa</td>\n      <td>Xeyr</td>\n      <td>4950.0</td>\n    </tr>\n    <tr>\n      <th>1</th>\n      <td>Bakı</td>\n      <td>Nissan</td>\n      <td>Altima</td>\n      <td>2018.0</td>\n      <td>Sedan</td>\n      <td>Ağ</td>\n      <td>2.5</td>\n      <td>182</td>\n      <td>Benzin</td>\n      <td>50000</td>\n      <td>Avtomat</td>\n      <td>Ön</td>\n      <td>Xeyr</td>\n      <td>27900.0</td>\n    </tr>\n    <tr>\n      <th>2</th>\n      <td>Bakı</td>\n      <td>Nissan</td>\n      <td>Patrol</td>\n      <td>2014.0</td>\n      <td>Offroader / SUV</td>\n      <td>Qara</td>\n      <td>5.6</td>\n      <td>405</td>\n      <td>Benzin</td>\n      <td>112000</td>\n      <td>Avtomat</td>\n      <td>Tam</td>\n      <td>Xeyr</td>\n      <td>126582.0</td>\n    </tr>\n    <tr>\n      <th>3</th>\n      <td>Bakı</td>\n      <td>Toyota</td>\n      <td>Camry</td>\n      <td>2014.0</td>\n      <td>Sedan</td>\n      <td>Ağ</td>\n      <td>2.5</td>\n      <td>181</td>\n      <td>Benzin</td>\n      <td>147000</td>\n      <td>Avtomat</td>\n      <td>Ön</td>\n      <td>Xeyr</td>\n      <td>35900.0</td>\n    </tr>\n    <tr>\n      <th>4</th>\n      <td>Bakı</td>\n      <td>Mercedes</td>\n      <td>GLE 350</td>\n      <td>2017.0</td>\n      <td>Offroader / SUV</td>\n      <td>Boz</td>\n      <td>3.5</td>\n      <td>306</td>\n      <td>Benzin</td>\n      <td>61000</td>\n      <td>Avtomat</td>\n      <td>Tam</td>\n      <td>Xeyr</td>\n      <td>141610.0</td>\n    </tr>\n  </tbody>\n</table>\n</div>"
     },
     "execution_count": 26,
     "metadata": {},
     "output_type": "execute_result"
    }
   ],
   "source": [
    "df.head()"
   ],
   "metadata": {
    "collapsed": false
   }
  },
  {
   "cell_type": "code",
   "execution_count": 27,
   "outputs": [
    {
     "data": {
      "text/plain": "seher               object\nmarka               object\nmodel               object\nburaxilis_ili      float64\nban_novu            object\nreng                object\nmuherrik            object\nmuherrik_gucu       object\nyanacaq_novu        object\nyurus               object\nsuretler_qutusu     object\noturucu             object\nyeni                object\nqiymet_AZN         float64\ndtype: object"
     },
     "execution_count": 27,
     "metadata": {},
     "output_type": "execute_result"
    }
   ],
   "source": [
    "df.dtypes"
   ],
   "metadata": {
    "collapsed": false
   }
  },
  {
   "cell_type": "code",
   "execution_count": 29,
   "outputs": [],
   "source": [
    "df[['muherrik', 'muherrik_gucu', 'yurus']] = df[['muherrik', 'muherrik_gucu', 'yurus']].astype(float)"
   ],
   "metadata": {
    "collapsed": false
   }
  },
  {
   "cell_type": "code",
   "execution_count": 30,
   "outputs": [
    {
     "name": "stdout",
     "output_type": "stream",
     "text": [
      "<class 'pandas.core.frame.DataFrame'>\n",
      "Int64Index: 5038 entries, 0 to 5037\n",
      "Data columns (total 14 columns):\n",
      " #   Column           Non-Null Count  Dtype  \n",
      "---  ------           --------------  -----  \n",
      " 0   seher            5038 non-null   object \n",
      " 1   marka            5038 non-null   object \n",
      " 2   model            5038 non-null   object \n",
      " 3   buraxilis_ili    5038 non-null   float64\n",
      " 4   ban_novu         5038 non-null   object \n",
      " 5   reng             5038 non-null   object \n",
      " 6   muherrik         5038 non-null   float64\n",
      " 7   muherrik_gucu    5038 non-null   float64\n",
      " 8   yanacaq_novu     5038 non-null   object \n",
      " 9   yurus            5038 non-null   float64\n",
      " 10  suretler_qutusu  5038 non-null   object \n",
      " 11  oturucu          5038 non-null   object \n",
      " 12  yeni             5038 non-null   object \n",
      " 13  qiymet_AZN       5038 non-null   float64\n",
      "dtypes: float64(5), object(9)\n",
      "memory usage: 590.4+ KB\n"
     ]
    }
   ],
   "source": [
    "df.info()"
   ],
   "metadata": {
    "collapsed": false
   }
  },
  {
   "cell_type": "code",
   "execution_count": 31,
   "outputs": [
    {
     "data": {
      "text/plain": "  seher     marka    model  buraxilis_ili         ban_novu        reng  \\\n0  Bakı  Mercedes      190         1990.0            Sedan  Yaş Asfalt   \n1  Bakı    Nissan   Altima         2018.0            Sedan          Ağ   \n2  Bakı    Nissan   Patrol         2014.0  Offroader / SUV        Qara   \n3  Bakı    Toyota    Camry         2014.0            Sedan          Ağ   \n4  Bakı  Mercedes  GLE 350         2017.0  Offroader / SUV         Boz   \n\n   muherrik  muherrik_gucu yanacaq_novu     yurus suretler_qutusu oturucu  \\\n0       2.0          122.0       Benzin  366500.0         Avtomat    Arxa   \n1       2.5          182.0       Benzin   50000.0         Avtomat      Ön   \n2       5.6          405.0       Benzin  112000.0         Avtomat     Tam   \n3       2.5          181.0       Benzin  147000.0         Avtomat      Ön   \n4       3.5          306.0       Benzin   61000.0         Avtomat     Tam   \n\n   yeni  qiymet_AZN  \n0  Xeyr      4950.0  \n1  Xeyr     27900.0  \n2  Xeyr    126582.0  \n3  Xeyr     35900.0  \n4  Xeyr    141610.0  ",
      "text/html": "<div>\n<style scoped>\n    .dataframe tbody tr th:only-of-type {\n        vertical-align: middle;\n    }\n\n    .dataframe tbody tr th {\n        vertical-align: top;\n    }\n\n    .dataframe thead th {\n        text-align: right;\n    }\n</style>\n<table border=\"1\" class=\"dataframe\">\n  <thead>\n    <tr style=\"text-align: right;\">\n      <th></th>\n      <th>seher</th>\n      <th>marka</th>\n      <th>model</th>\n      <th>buraxilis_ili</th>\n      <th>ban_novu</th>\n      <th>reng</th>\n      <th>muherrik</th>\n      <th>muherrik_gucu</th>\n      <th>yanacaq_novu</th>\n      <th>yurus</th>\n      <th>suretler_qutusu</th>\n      <th>oturucu</th>\n      <th>yeni</th>\n      <th>qiymet_AZN</th>\n    </tr>\n  </thead>\n  <tbody>\n    <tr>\n      <th>0</th>\n      <td>Bakı</td>\n      <td>Mercedes</td>\n      <td>190</td>\n      <td>1990.0</td>\n      <td>Sedan</td>\n      <td>Yaş Asfalt</td>\n      <td>2.0</td>\n      <td>122.0</td>\n      <td>Benzin</td>\n      <td>366500.0</td>\n      <td>Avtomat</td>\n      <td>Arxa</td>\n      <td>Xeyr</td>\n      <td>4950.0</td>\n    </tr>\n    <tr>\n      <th>1</th>\n      <td>Bakı</td>\n      <td>Nissan</td>\n      <td>Altima</td>\n      <td>2018.0</td>\n      <td>Sedan</td>\n      <td>Ağ</td>\n      <td>2.5</td>\n      <td>182.0</td>\n      <td>Benzin</td>\n      <td>50000.0</td>\n      <td>Avtomat</td>\n      <td>Ön</td>\n      <td>Xeyr</td>\n      <td>27900.0</td>\n    </tr>\n    <tr>\n      <th>2</th>\n      <td>Bakı</td>\n      <td>Nissan</td>\n      <td>Patrol</td>\n      <td>2014.0</td>\n      <td>Offroader / SUV</td>\n      <td>Qara</td>\n      <td>5.6</td>\n      <td>405.0</td>\n      <td>Benzin</td>\n      <td>112000.0</td>\n      <td>Avtomat</td>\n      <td>Tam</td>\n      <td>Xeyr</td>\n      <td>126582.0</td>\n    </tr>\n    <tr>\n      <th>3</th>\n      <td>Bakı</td>\n      <td>Toyota</td>\n      <td>Camry</td>\n      <td>2014.0</td>\n      <td>Sedan</td>\n      <td>Ağ</td>\n      <td>2.5</td>\n      <td>181.0</td>\n      <td>Benzin</td>\n      <td>147000.0</td>\n      <td>Avtomat</td>\n      <td>Ön</td>\n      <td>Xeyr</td>\n      <td>35900.0</td>\n    </tr>\n    <tr>\n      <th>4</th>\n      <td>Bakı</td>\n      <td>Mercedes</td>\n      <td>GLE 350</td>\n      <td>2017.0</td>\n      <td>Offroader / SUV</td>\n      <td>Boz</td>\n      <td>3.5</td>\n      <td>306.0</td>\n      <td>Benzin</td>\n      <td>61000.0</td>\n      <td>Avtomat</td>\n      <td>Tam</td>\n      <td>Xeyr</td>\n      <td>141610.0</td>\n    </tr>\n  </tbody>\n</table>\n</div>"
     },
     "execution_count": 31,
     "metadata": {},
     "output_type": "execute_result"
    }
   ],
   "source": [
    "df.head()"
   ],
   "metadata": {
    "collapsed": false
   }
  },
  {
   "cell_type": "code",
   "execution_count": 32,
   "outputs": [
    {
     "data": {
      "text/plain": "93"
     },
     "execution_count": 32,
     "metadata": {},
     "output_type": "execute_result"
    }
   ],
   "source": [
    "df.duplicated().sum()"
   ],
   "metadata": {
    "collapsed": false
   }
  },
  {
   "cell_type": "code",
   "execution_count": 33,
   "outputs": [],
   "source": [
    "df.drop_duplicates(inplace=True)"
   ],
   "metadata": {
    "collapsed": false
   }
  },
  {
   "cell_type": "code",
   "execution_count": 34,
   "outputs": [
    {
     "data": {
      "text/plain": "0"
     },
     "execution_count": 34,
     "metadata": {},
     "output_type": "execute_result"
    }
   ],
   "source": [
    "df.duplicated().sum()"
   ],
   "metadata": {
    "collapsed": false
   }
  },
  {
   "cell_type": "code",
   "execution_count": 35,
   "outputs": [],
   "source": [
    "df_num = df.select_dtypes(include=np.number)"
   ],
   "metadata": {
    "collapsed": false
   }
  },
  {
   "cell_type": "code",
   "execution_count": 36,
   "outputs": [
    {
     "data": {
      "text/plain": "   buraxilis_ili  muherrik  muherrik_gucu     yurus  qiymet_AZN\n0         1990.0       2.0          122.0  366500.0      4950.0\n1         2018.0       2.5          182.0   50000.0     27900.0\n2         2014.0       5.6          405.0  112000.0    126582.0\n3         2014.0       2.5          181.0  147000.0     35900.0\n4         2017.0       3.5          306.0   61000.0    141610.0",
      "text/html": "<div>\n<style scoped>\n    .dataframe tbody tr th:only-of-type {\n        vertical-align: middle;\n    }\n\n    .dataframe tbody tr th {\n        vertical-align: top;\n    }\n\n    .dataframe thead th {\n        text-align: right;\n    }\n</style>\n<table border=\"1\" class=\"dataframe\">\n  <thead>\n    <tr style=\"text-align: right;\">\n      <th></th>\n      <th>buraxilis_ili</th>\n      <th>muherrik</th>\n      <th>muherrik_gucu</th>\n      <th>yurus</th>\n      <th>qiymet_AZN</th>\n    </tr>\n  </thead>\n  <tbody>\n    <tr>\n      <th>0</th>\n      <td>1990.0</td>\n      <td>2.0</td>\n      <td>122.0</td>\n      <td>366500.0</td>\n      <td>4950.0</td>\n    </tr>\n    <tr>\n      <th>1</th>\n      <td>2018.0</td>\n      <td>2.5</td>\n      <td>182.0</td>\n      <td>50000.0</td>\n      <td>27900.0</td>\n    </tr>\n    <tr>\n      <th>2</th>\n      <td>2014.0</td>\n      <td>5.6</td>\n      <td>405.0</td>\n      <td>112000.0</td>\n      <td>126582.0</td>\n    </tr>\n    <tr>\n      <th>3</th>\n      <td>2014.0</td>\n      <td>2.5</td>\n      <td>181.0</td>\n      <td>147000.0</td>\n      <td>35900.0</td>\n    </tr>\n    <tr>\n      <th>4</th>\n      <td>2017.0</td>\n      <td>3.5</td>\n      <td>306.0</td>\n      <td>61000.0</td>\n      <td>141610.0</td>\n    </tr>\n  </tbody>\n</table>\n</div>"
     },
     "execution_count": 36,
     "metadata": {},
     "output_type": "execute_result"
    }
   ],
   "source": [
    "df_num.head()"
   ],
   "metadata": {
    "collapsed": false
   }
  },
  {
   "cell_type": "code",
   "execution_count": 37,
   "outputs": [
    {
     "data": {
      "text/plain": "  seher     marka    model         ban_novu        reng yanacaq_novu  \\\n0  Bakı  Mercedes      190            Sedan  Yaş Asfalt       Benzin   \n1  Bakı    Nissan   Altima            Sedan          Ağ       Benzin   \n2  Bakı    Nissan   Patrol  Offroader / SUV        Qara       Benzin   \n3  Bakı    Toyota    Camry            Sedan          Ağ       Benzin   \n4  Bakı  Mercedes  GLE 350  Offroader / SUV         Boz       Benzin   \n\n  suretler_qutusu oturucu  yeni  \n0         Avtomat    Arxa  Xeyr  \n1         Avtomat      Ön  Xeyr  \n2         Avtomat     Tam  Xeyr  \n3         Avtomat      Ön  Xeyr  \n4         Avtomat     Tam  Xeyr  ",
      "text/html": "<div>\n<style scoped>\n    .dataframe tbody tr th:only-of-type {\n        vertical-align: middle;\n    }\n\n    .dataframe tbody tr th {\n        vertical-align: top;\n    }\n\n    .dataframe thead th {\n        text-align: right;\n    }\n</style>\n<table border=\"1\" class=\"dataframe\">\n  <thead>\n    <tr style=\"text-align: right;\">\n      <th></th>\n      <th>seher</th>\n      <th>marka</th>\n      <th>model</th>\n      <th>ban_novu</th>\n      <th>reng</th>\n      <th>yanacaq_novu</th>\n      <th>suretler_qutusu</th>\n      <th>oturucu</th>\n      <th>yeni</th>\n    </tr>\n  </thead>\n  <tbody>\n    <tr>\n      <th>0</th>\n      <td>Bakı</td>\n      <td>Mercedes</td>\n      <td>190</td>\n      <td>Sedan</td>\n      <td>Yaş Asfalt</td>\n      <td>Benzin</td>\n      <td>Avtomat</td>\n      <td>Arxa</td>\n      <td>Xeyr</td>\n    </tr>\n    <tr>\n      <th>1</th>\n      <td>Bakı</td>\n      <td>Nissan</td>\n      <td>Altima</td>\n      <td>Sedan</td>\n      <td>Ağ</td>\n      <td>Benzin</td>\n      <td>Avtomat</td>\n      <td>Ön</td>\n      <td>Xeyr</td>\n    </tr>\n    <tr>\n      <th>2</th>\n      <td>Bakı</td>\n      <td>Nissan</td>\n      <td>Patrol</td>\n      <td>Offroader / SUV</td>\n      <td>Qara</td>\n      <td>Benzin</td>\n      <td>Avtomat</td>\n      <td>Tam</td>\n      <td>Xeyr</td>\n    </tr>\n    <tr>\n      <th>3</th>\n      <td>Bakı</td>\n      <td>Toyota</td>\n      <td>Camry</td>\n      <td>Sedan</td>\n      <td>Ağ</td>\n      <td>Benzin</td>\n      <td>Avtomat</td>\n      <td>Ön</td>\n      <td>Xeyr</td>\n    </tr>\n    <tr>\n      <th>4</th>\n      <td>Bakı</td>\n      <td>Mercedes</td>\n      <td>GLE 350</td>\n      <td>Offroader / SUV</td>\n      <td>Boz</td>\n      <td>Benzin</td>\n      <td>Avtomat</td>\n      <td>Tam</td>\n      <td>Xeyr</td>\n    </tr>\n  </tbody>\n</table>\n</div>"
     },
     "execution_count": 37,
     "metadata": {},
     "output_type": "execute_result"
    }
   ],
   "source": [
    "df_cat = df.select_dtypes(include=object)\n",
    "df_cat.head()"
   ],
   "metadata": {
    "collapsed": false
   }
  },
  {
   "cell_type": "code",
   "execution_count": 38,
   "outputs": [
    {
     "data": {
      "text/plain": "       buraxilis_ili     muherrik  muherrik_gucu          yurus     qiymet_AZN\ncount    4945.000000  4945.000000    4945.000000    4945.000000    4945.000000\nmean     2008.433771     2.206754     172.311223  179217.922952   41043.714803\nstd         8.505930     0.933396      93.761608  120860.520012   63647.754701\nmin      1955.000000     0.000000      20.000000       0.000000     950.000000\n25%      2004.000000     1.600000     102.000000   93080.000000   10300.000000\n50%      2010.000000     2.000000     150.000000  170000.000000   16200.000000\n75%      2014.000000     2.500000     211.000000  245000.000000   36000.000000\nmax      2022.000000     6.400000     639.000000  999999.000000  921910.000000",
      "text/html": "<div>\n<style scoped>\n    .dataframe tbody tr th:only-of-type {\n        vertical-align: middle;\n    }\n\n    .dataframe tbody tr th {\n        vertical-align: top;\n    }\n\n    .dataframe thead th {\n        text-align: right;\n    }\n</style>\n<table border=\"1\" class=\"dataframe\">\n  <thead>\n    <tr style=\"text-align: right;\">\n      <th></th>\n      <th>buraxilis_ili</th>\n      <th>muherrik</th>\n      <th>muherrik_gucu</th>\n      <th>yurus</th>\n      <th>qiymet_AZN</th>\n    </tr>\n  </thead>\n  <tbody>\n    <tr>\n      <th>count</th>\n      <td>4945.000000</td>\n      <td>4945.000000</td>\n      <td>4945.000000</td>\n      <td>4945.000000</td>\n      <td>4945.000000</td>\n    </tr>\n    <tr>\n      <th>mean</th>\n      <td>2008.433771</td>\n      <td>2.206754</td>\n      <td>172.311223</td>\n      <td>179217.922952</td>\n      <td>41043.714803</td>\n    </tr>\n    <tr>\n      <th>std</th>\n      <td>8.505930</td>\n      <td>0.933396</td>\n      <td>93.761608</td>\n      <td>120860.520012</td>\n      <td>63647.754701</td>\n    </tr>\n    <tr>\n      <th>min</th>\n      <td>1955.000000</td>\n      <td>0.000000</td>\n      <td>20.000000</td>\n      <td>0.000000</td>\n      <td>950.000000</td>\n    </tr>\n    <tr>\n      <th>25%</th>\n      <td>2004.000000</td>\n      <td>1.600000</td>\n      <td>102.000000</td>\n      <td>93080.000000</td>\n      <td>10300.000000</td>\n    </tr>\n    <tr>\n      <th>50%</th>\n      <td>2010.000000</td>\n      <td>2.000000</td>\n      <td>150.000000</td>\n      <td>170000.000000</td>\n      <td>16200.000000</td>\n    </tr>\n    <tr>\n      <th>75%</th>\n      <td>2014.000000</td>\n      <td>2.500000</td>\n      <td>211.000000</td>\n      <td>245000.000000</td>\n      <td>36000.000000</td>\n    </tr>\n    <tr>\n      <th>max</th>\n      <td>2022.000000</td>\n      <td>6.400000</td>\n      <td>639.000000</td>\n      <td>999999.000000</td>\n      <td>921910.000000</td>\n    </tr>\n  </tbody>\n</table>\n</div>"
     },
     "execution_count": 38,
     "metadata": {},
     "output_type": "execute_result"
    }
   ],
   "source": [
    "df_num.describe()"
   ],
   "metadata": {
    "collapsed": false
   }
  },
  {
   "cell_type": "code",
   "execution_count": 39,
   "outputs": [
    {
     "data": {
      "text/plain": "               buraxilis_ili  muherrik  muherrik_gucu     yurus  qiymet_AZN\nburaxilis_ili       1.000000  0.086451       0.340746 -0.589445    0.485647\nmuherrik            0.086451  1.000000       0.830333 -0.019739    0.456889\nmuherrik_gucu       0.340746  0.830333       1.000000 -0.191578    0.648599\nyurus              -0.589445 -0.019739      -0.191578  1.000000   -0.417047\nqiymet_AZN          0.485647  0.456889       0.648599 -0.417047    1.000000",
      "text/html": "<div>\n<style scoped>\n    .dataframe tbody tr th:only-of-type {\n        vertical-align: middle;\n    }\n\n    .dataframe tbody tr th {\n        vertical-align: top;\n    }\n\n    .dataframe thead th {\n        text-align: right;\n    }\n</style>\n<table border=\"1\" class=\"dataframe\">\n  <thead>\n    <tr style=\"text-align: right;\">\n      <th></th>\n      <th>buraxilis_ili</th>\n      <th>muherrik</th>\n      <th>muherrik_gucu</th>\n      <th>yurus</th>\n      <th>qiymet_AZN</th>\n    </tr>\n  </thead>\n  <tbody>\n    <tr>\n      <th>buraxilis_ili</th>\n      <td>1.000000</td>\n      <td>0.086451</td>\n      <td>0.340746</td>\n      <td>-0.589445</td>\n      <td>0.485647</td>\n    </tr>\n    <tr>\n      <th>muherrik</th>\n      <td>0.086451</td>\n      <td>1.000000</td>\n      <td>0.830333</td>\n      <td>-0.019739</td>\n      <td>0.456889</td>\n    </tr>\n    <tr>\n      <th>muherrik_gucu</th>\n      <td>0.340746</td>\n      <td>0.830333</td>\n      <td>1.000000</td>\n      <td>-0.191578</td>\n      <td>0.648599</td>\n    </tr>\n    <tr>\n      <th>yurus</th>\n      <td>-0.589445</td>\n      <td>-0.019739</td>\n      <td>-0.191578</td>\n      <td>1.000000</td>\n      <td>-0.417047</td>\n    </tr>\n    <tr>\n      <th>qiymet_AZN</th>\n      <td>0.485647</td>\n      <td>0.456889</td>\n      <td>0.648599</td>\n      <td>-0.417047</td>\n      <td>1.000000</td>\n    </tr>\n  </tbody>\n</table>\n</div>"
     },
     "execution_count": 39,
     "metadata": {},
     "output_type": "execute_result"
    }
   ],
   "source": [
    "df_num.corr()"
   ],
   "metadata": {
    "collapsed": false
   }
  },
  {
   "cell_type": "code",
   "execution_count": null,
   "outputs": [],
   "source": [],
   "metadata": {
    "collapsed": false
   }
  }
 ],
 "metadata": {
  "kernelspec": {
   "display_name": "Python 3",
   "language": "python",
   "name": "python3"
  },
  "language_info": {
   "codemirror_mode": {
    "name": "ipython",
    "version": 2
   },
   "file_extension": ".py",
   "mimetype": "text/x-python",
   "name": "python",
   "nbconvert_exporter": "python",
   "pygments_lexer": "ipython2",
   "version": "2.7.6"
  }
 },
 "nbformat": 4,
 "nbformat_minor": 0
}
