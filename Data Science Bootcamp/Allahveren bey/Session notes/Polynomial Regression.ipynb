{
 "cells": [
  {
   "cell_type": "code",
   "execution_count": 70,
   "metadata": {
    "collapsed": true
   },
   "outputs": [],
   "source": [
    "import numpy as np\n",
    "import pandas as pd\n",
    "import matplotlib.pyplot as plt\n",
    "import seaborn as sns"
   ]
  },
  {
   "cell_type": "code",
   "execution_count": 71,
   "outputs": [],
   "source": [
    "x = np.arange(1,100)\n",
    "y = x\n",
    "y2 = x ** 2 / 100\n",
    "y3 = x ** 3 / 10000"
   ],
   "metadata": {
    "collapsed": false
   }
  },
  {
   "cell_type": "code",
   "execution_count": 72,
   "outputs": [
    {
     "name": "stderr",
     "output_type": "stream",
     "text": [
      "C:\\Users\\Hp Envy\\anaconda3\\lib\\site-packages\\seaborn\\_decorators.py:36: FutureWarning: Pass the following variables as keyword args: x, y. From version 0.12, the only valid positional argument will be `data`, and passing other arguments without an explicit keyword will result in an error or misinterpretation.\n",
      "  warnings.warn(\n",
      "C:\\Users\\Hp Envy\\anaconda3\\lib\\site-packages\\seaborn\\_decorators.py:36: FutureWarning: Pass the following variables as keyword args: x, y. From version 0.12, the only valid positional argument will be `data`, and passing other arguments without an explicit keyword will result in an error or misinterpretation.\n",
      "  warnings.warn(\n",
      "C:\\Users\\Hp Envy\\anaconda3\\lib\\site-packages\\seaborn\\_decorators.py:36: FutureWarning: Pass the following variables as keyword args: x, y. From version 0.12, the only valid positional argument will be `data`, and passing other arguments without an explicit keyword will result in an error or misinterpretation.\n",
      "  warnings.warn(\n"
     ]
    },
    {
     "data": {
      "text/plain": "<matplotlib.legend.Legend at 0x1c00a8638e0>"
     },
     "execution_count": 72,
     "metadata": {},
     "output_type": "execute_result"
    },
    {
     "data": {
      "text/plain": "<Figure size 504x504 with 1 Axes>",
      "image/png": "[encoded data removed]"
     },
     "metadata": {},
     "output_type": "display_data"
    }
   ],
   "source": [
    "plt.figure(figsize=(7,7))\n",
    "sns.scatterplot(x, y, label='y')\n",
    "sns.scatterplot(x, y2, label='y2')\n",
    "sns.scatterplot(x, y3, label='y3')\n",
    "plt.legend()"
   ],
   "metadata": {
    "collapsed": false
   }
  },
  {
   "cell_type": "code",
   "execution_count": 73,
   "outputs": [],
   "source": [
    "x = np.arange(1,100).reshape(-1,1)\n",
    "y = x\n",
    "y2 = x ** 2 / 100\n",
    "y3 = x ** 3 / 10000"
   ],
   "metadata": {
    "collapsed": false
   }
  },
  {
   "cell_type": "code",
   "execution_count": 74,
   "outputs": [],
   "source": [
    "from linear_reg import linear_regression\n",
    "\n",
    "lr = linear_regression()"
   ],
   "metadata": {
    "collapsed": false
   }
  },
  {
   "cell_type": "code",
   "execution_count": 75,
   "outputs": [
    {
     "name": "stdout",
     "output_type": "stream",
     "text": [
      "En yaxsi model LinearRegression:\n"
     ]
    },
    {
     "data": {
      "text/plain": "   LinearRegression  Ridge     Lasso  ElasticNet\n0               1.0    1.0  0.999999    0.999999",
      "text/html": "<div>\n<style scoped>\n    .dataframe tbody tr th:only-of-type {\n        vertical-align: middle;\n    }\n\n    .dataframe tbody tr th {\n        vertical-align: top;\n    }\n\n    .dataframe thead th {\n        text-align: right;\n    }\n</style>\n<table border=\"1\" class=\"dataframe\">\n  <thead>\n    <tr style=\"text-align: right;\">\n      <th></th>\n      <th>LinearRegression</th>\n      <th>Ridge</th>\n      <th>Lasso</th>\n      <th>ElasticNet</th>\n    </tr>\n  </thead>\n  <tbody>\n    <tr>\n      <th>0</th>\n      <td>1.0</td>\n      <td>1.0</td>\n      <td>0.999999</td>\n      <td>0.999999</td>\n    </tr>\n  </tbody>\n</table>\n</div>"
     },
     "execution_count": 75,
     "metadata": {},
     "output_type": "execute_result"
    }
   ],
   "source": [
    "lr.modelleri_muqayise_et(x, y)"
   ],
   "metadata": {
    "collapsed": false
   }
  },
  {
   "cell_type": "code",
   "execution_count": 76,
   "outputs": [
    {
     "name": "stdout",
     "output_type": "stream",
     "text": [
      "En yaxsi model ElasticNet:\n"
     ]
    },
    {
     "data": {
      "text/plain": "   LinearRegression     Ridge   Lasso  ElasticNet\n0          0.935295  0.935298  0.9355    0.935503",
      "text/html": "<div>\n<style scoped>\n    .dataframe tbody tr th:only-of-type {\n        vertical-align: middle;\n    }\n\n    .dataframe tbody tr th {\n        vertical-align: top;\n    }\n\n    .dataframe thead th {\n        text-align: right;\n    }\n</style>\n<table border=\"1\" class=\"dataframe\">\n  <thead>\n    <tr style=\"text-align: right;\">\n      <th></th>\n      <th>LinearRegression</th>\n      <th>Ridge</th>\n      <th>Lasso</th>\n      <th>ElasticNet</th>\n    </tr>\n  </thead>\n  <tbody>\n    <tr>\n      <th>0</th>\n      <td>0.935295</td>\n      <td>0.935298</td>\n      <td>0.9355</td>\n      <td>0.935503</td>\n    </tr>\n  </tbody>\n</table>\n</div>"
     },
     "execution_count": 76,
     "metadata": {},
     "output_type": "execute_result"
    }
   ],
   "source": [
    "lr.modelleri_muqayise_et(x, y2)\n"
   ],
   "metadata": {
    "collapsed": false
   }
  },
  {
   "cell_type": "code",
   "execution_count": 77,
   "outputs": [
    {
     "name": "stdout",
     "output_type": "stream",
     "text": [
      "En yaxsi model Lasso:\n"
     ]
    },
    {
     "data": {
      "text/plain": "   LinearRegression     Ridge     Lasso  ElasticNet\n0          0.833186  0.833192  0.833619    0.833605",
      "text/html": "<div>\n<style scoped>\n    .dataframe tbody tr th:only-of-type {\n        vertical-align: middle;\n    }\n\n    .dataframe tbody tr th {\n        vertical-align: top;\n    }\n\n    .dataframe thead th {\n        text-align: right;\n    }\n</style>\n<table border=\"1\" class=\"dataframe\">\n  <thead>\n    <tr style=\"text-align: right;\">\n      <th></th>\n      <th>LinearRegression</th>\n      <th>Ridge</th>\n      <th>Lasso</th>\n      <th>ElasticNet</th>\n    </tr>\n  </thead>\n  <tbody>\n    <tr>\n      <th>0</th>\n      <td>0.833186</td>\n      <td>0.833192</td>\n      <td>0.833619</td>\n      <td>0.833605</td>\n    </tr>\n  </tbody>\n</table>\n</div>"
     },
     "execution_count": 77,
     "metadata": {},
     "output_type": "execute_result"
    }
   ],
   "source": [
    "lr.modelleri_muqayise_et(x, y3)\n"
   ],
   "metadata": {
    "collapsed": false
   }
  },
  {
   "cell_type": "code",
   "execution_count": 78,
   "outputs": [],
   "source": [
    "from sklearn.linear_model import LinearRegression\n",
    "\n",
    "lr = LinearRegression()"
   ],
   "metadata": {
    "collapsed": false
   }
  },
  {
   "cell_type": "code",
   "execution_count": 79,
   "outputs": [
    {
     "data": {
      "text/plain": "LinearRegression()"
     },
     "execution_count": 79,
     "metadata": {},
     "output_type": "execute_result"
    }
   ],
   "source": [
    "lr.fit(x, y3)"
   ],
   "metadata": {
    "collapsed": false
   }
  },
  {
   "cell_type": "code",
   "execution_count": 80,
   "outputs": [],
   "source": [
    "y_pred = lr.predict(x)"
   ],
   "metadata": {
    "collapsed": false
   }
  },
  {
   "cell_type": "code",
   "execution_count": 81,
   "outputs": [],
   "source": [
    "x = np.arange(1,100)\n",
    "y = x\n",
    "y2 = x ** 2 / 100\n",
    "y3 = x ** 3 / 10000"
   ],
   "metadata": {
    "collapsed": false
   }
  },
  {
   "cell_type": "code",
   "execution_count": 82,
   "outputs": [
    {
     "data": {
      "text/plain": "(99,)"
     },
     "execution_count": 82,
     "metadata": {},
     "output_type": "execute_result"
    }
   ],
   "source": [
    "y3.shape"
   ],
   "metadata": {
    "collapsed": false
   }
  },
  {
   "cell_type": "code",
   "execution_count": 83,
   "outputs": [],
   "source": [
    "y_pred = y_pred.reshape(-1,)"
   ],
   "metadata": {
    "collapsed": false
   }
  },
  {
   "cell_type": "code",
   "execution_count": 85,
   "outputs": [
    {
     "data": {
      "text/plain": "(99,)"
     },
     "execution_count": 85,
     "metadata": {},
     "output_type": "execute_result"
    }
   ],
   "source": [
    "y_pred.shape"
   ],
   "metadata": {
    "collapsed": false
   }
  },
  {
   "cell_type": "code",
   "execution_count": 86,
   "outputs": [
    {
     "name": "stderr",
     "output_type": "stream",
     "text": [
      "C:\\Users\\Hp Envy\\anaconda3\\lib\\site-packages\\seaborn\\_decorators.py:36: FutureWarning: Pass the following variables as keyword args: x, y. From version 0.12, the only valid positional argument will be `data`, and passing other arguments without an explicit keyword will result in an error or misinterpretation.\n",
      "  warnings.warn(\n",
      "C:\\Users\\Hp Envy\\anaconda3\\lib\\site-packages\\seaborn\\_decorators.py:36: FutureWarning: Pass the following variables as keyword args: x, y. From version 0.12, the only valid positional argument will be `data`, and passing other arguments without an explicit keyword will result in an error or misinterpretation.\n",
      "  warnings.warn(\n"
     ]
    },
    {
     "data": {
      "text/plain": "<matplotlib.legend.Legend at 0x1c00a8ccfa0>"
     },
     "execution_count": 86,
     "metadata": {},
     "output_type": "execute_result"
    },
    {
     "data": {
      "text/plain": "<Figure size 504x504 with 1 Axes>",
      "image/png": "[encoded data removed]"
     },
     "metadata": {},
     "output_type": "display_data"
    }
   ],
   "source": [
    "plt.figure(figsize=(7,7))\n",
    "sns.scatterplot(x, y3, label='y3')\n",
    "sns.scatterplot(x, y_pred, label='y_pred')\n",
    "plt.legend()"
   ],
   "metadata": {
    "collapsed": false
   }
  },
  {
   "cell_type": "code",
   "execution_count": 91,
   "outputs": [
    {
     "data": {
      "text/plain": "<AxesSubplot:ylabel='Count'>"
     },
     "execution_count": 91,
     "metadata": {},
     "output_type": "execute_result"
    },
    {
     "data": {
      "text/plain": "<Figure size 432x288 with 1 Axes>",
      "image/png": "[encoded data removed]"
     },
     "metadata": {},
     "output_type": "display_data"
    }
   ],
   "source": [
    "sns.histplot(y)"
   ],
   "metadata": {
    "collapsed": false
   }
  },
  {
   "cell_type": "code",
   "execution_count": 90,
   "outputs": [
    {
     "data": {
      "text/plain": "<AxesSubplot:ylabel='Count'>"
     },
     "execution_count": 90,
     "metadata": {},
     "output_type": "execute_result"
    },
    {
     "data": {
      "text/plain": "<Figure size 432x288 with 1 Axes>",
      "image/png": "[encoded data removed]"
     },
     "metadata": {},
     "output_type": "display_data"
    }
   ],
   "source": [
    "sns.histplot(y3)"
   ],
   "metadata": {
    "collapsed": false
   }
  },
  {
   "cell_type": "code",
   "execution_count": 60,
   "outputs": [
    {
     "data": {
      "text/plain": "(99, 1)"
     },
     "execution_count": 60,
     "metadata": {},
     "output_type": "execute_result"
    }
   ],
   "source": [
    "np.arange(1,100).reshape(-1,1).shape"
   ],
   "metadata": {
    "collapsed": false
   }
  },
  {
   "cell_type": "code",
   "execution_count": 89,
   "outputs": [
    {
     "data": {
      "text/plain": "          0         1\n0  1.000000  0.917563\n1  0.917563  1.000000",
      "text/html": "<div>\n<style scoped>\n    .dataframe tbody tr th:only-of-type {\n        vertical-align: middle;\n    }\n\n    .dataframe tbody tr th {\n        vertical-align: top;\n    }\n\n    .dataframe thead th {\n        text-align: right;\n    }\n</style>\n<table border=\"1\" class=\"dataframe\">\n  <thead>\n    <tr style=\"text-align: right;\">\n      <th></th>\n      <th>0</th>\n      <th>1</th>\n    </tr>\n  </thead>\n  <tbody>\n    <tr>\n      <th>0</th>\n      <td>1.000000</td>\n      <td>0.917563</td>\n    </tr>\n    <tr>\n      <th>1</th>\n      <td>0.917563</td>\n      <td>1.000000</td>\n    </tr>\n  </tbody>\n</table>\n</div>"
     },
     "execution_count": 89,
     "metadata": {},
     "output_type": "execute_result"
    }
   ],
   "source": [
    "pd.DataFrame([x, y3]).T.corr()"
   ],
   "metadata": {
    "collapsed": false
   }
  },
  {
   "cell_type": "code",
   "execution_count": 93,
   "outputs": [],
   "source": [
    "x = x.reshape(-1,1)"
   ],
   "metadata": {
    "collapsed": false
   }
  },
  {
   "cell_type": "code",
   "execution_count": 94,
   "outputs": [],
   "source": [
    "from sklearn.preprocessing import PolynomialFeatures\n",
    "\n",
    "poly_reg = PolynomialFeatures(degree=2)\n",
    "x_poly = poly_reg.fit_transform(x)"
   ],
   "metadata": {
    "collapsed": false
   }
  },
  {
   "cell_type": "code",
   "execution_count": 96,
   "outputs": [
    {
     "data": {
      "text/plain": "LinearRegression()"
     },
     "execution_count": 96,
     "metadata": {},
     "output_type": "execute_result"
    }
   ],
   "source": [
    "lr_2 = LinearRegression()\n",
    "lr_2.fit(x_poly, y3)"
   ],
   "metadata": {
    "collapsed": false
   }
  },
  {
   "cell_type": "code",
   "execution_count": 109,
   "outputs": [],
   "source": [
    "x = x.reshape(-1,1)\n",
    "poly_reg_3 = PolynomialFeatures(degree=3)\n",
    "x_poly_3 = poly_reg_3.fit_transform(x)"
   ],
   "metadata": {
    "collapsed": false
   }
  },
  {
   "cell_type": "code",
   "execution_count": 110,
   "outputs": [
    {
     "data": {
      "text/plain": "LinearRegression()"
     },
     "execution_count": 110,
     "metadata": {},
     "output_type": "execute_result"
    }
   ],
   "source": [
    "lr_3 = LinearRegression()\n",
    "lr_3.fit(x_poly_3, y3)"
   ],
   "metadata": {
    "collapsed": false
   }
  },
  {
   "cell_type": "code",
   "execution_count": 97,
   "outputs": [
    {
     "data": {
      "text/plain": "array([ 4.562980e+00,  4.004960e+00,  3.476940e+00,  2.978920e+00,\n        2.510900e+00,  2.072880e+00,  1.664860e+00,  1.286840e+00,\n        9.388200e-01,  6.208000e-01,  3.327800e-01,  7.476000e-02,\n       -1.532600e-01, -3.512800e-01, -5.193000e-01, -6.573200e-01,\n       -7.653400e-01, -8.433600e-01, -8.913800e-01, -9.094000e-01,\n       -8.974200e-01, -8.554400e-01, -7.834600e-01, -6.814800e-01,\n       -5.495000e-01, -3.875200e-01, -1.955400e-01,  2.644000e-02,\n        2.784200e-01,  5.604000e-01,  8.723800e-01,  1.214360e+00,\n        1.586340e+00,  1.988320e+00,  2.420300e+00,  2.882280e+00,\n        3.374260e+00,  3.896240e+00,  4.448220e+00,  5.030200e+00,\n        5.642180e+00,  6.284160e+00,  6.956140e+00,  7.658120e+00,\n        8.390100e+00,  9.152080e+00,  9.944060e+00,  1.076604e+01,\n        1.161802e+01,  1.250000e+01,  1.341198e+01,  1.435396e+01,\n        1.532594e+01,  1.632792e+01,  1.735990e+01,  1.842188e+01,\n        1.951386e+01,  2.063584e+01,  2.178782e+01,  2.296980e+01,\n        2.418178e+01,  2.542376e+01,  2.669574e+01,  2.799772e+01,\n        2.932970e+01,  3.069168e+01,  3.208366e+01,  3.350564e+01,\n        3.495762e+01,  3.643960e+01,  3.795158e+01,  3.949356e+01,\n        4.106554e+01,  4.266752e+01,  4.429950e+01,  4.596148e+01,\n        4.765346e+01,  4.937544e+01,  5.112742e+01,  5.290940e+01,\n        5.472138e+01,  5.656336e+01,  5.843534e+01,  6.033732e+01,\n        6.226930e+01,  6.423128e+01,  6.622326e+01,  6.824524e+01,\n        7.029722e+01,  7.237920e+01,  7.449118e+01,  7.663316e+01,\n        7.880514e+01,  8.100712e+01,  8.323910e+01,  8.550108e+01,\n        8.779306e+01,  9.011504e+01,  9.246702e+01])"
     },
     "execution_count": 97,
     "metadata": {},
     "output_type": "execute_result"
    }
   ],
   "source": [
    "y_pred_2 = lr_2.predict(x_poly)"
   ],
   "metadata": {
    "collapsed": false
   }
  },
  {
   "cell_type": "code",
   "execution_count": 111,
   "outputs": [],
   "source": [
    "y_pred_3 = lr_3.predict(x_poly_3)"
   ],
   "metadata": {
    "collapsed": false
   }
  },
  {
   "cell_type": "code",
   "execution_count": 112,
   "outputs": [],
   "source": [
    "x = x.reshape(-1,)"
   ],
   "metadata": {
    "collapsed": false
   }
  },
  {
   "cell_type": "code",
   "execution_count": 113,
   "outputs": [
    {
     "name": "stderr",
     "output_type": "stream",
     "text": [
      "C:\\Users\\Hp Envy\\anaconda3\\lib\\site-packages\\seaborn\\_decorators.py:36: FutureWarning: Pass the following variables as keyword args: x, y. From version 0.12, the only valid positional argument will be `data`, and passing other arguments without an explicit keyword will result in an error or misinterpretation.\n",
      "  warnings.warn(\n",
      "C:\\Users\\Hp Envy\\anaconda3\\lib\\site-packages\\seaborn\\_decorators.py:36: FutureWarning: Pass the following variables as keyword args: x, y. From version 0.12, the only valid positional argument will be `data`, and passing other arguments without an explicit keyword will result in an error or misinterpretation.\n",
      "  warnings.warn(\n",
      "C:\\Users\\Hp Envy\\anaconda3\\lib\\site-packages\\seaborn\\_decorators.py:36: FutureWarning: Pass the following variables as keyword args: x, y. From version 0.12, the only valid positional argument will be `data`, and passing other arguments without an explicit keyword will result in an error or misinterpretation.\n",
      "  warnings.warn(\n",
      "C:\\Users\\Hp Envy\\anaconda3\\lib\\site-packages\\seaborn\\_decorators.py:36: FutureWarning: Pass the following variables as keyword args: x, y. From version 0.12, the only valid positional argument will be `data`, and passing other arguments without an explicit keyword will result in an error or misinterpretation.\n",
      "  warnings.warn(\n"
     ]
    },
    {
     "data": {
      "text/plain": "<matplotlib.legend.Legend at 0x1c00bc02c40>"
     },
     "execution_count": 113,
     "metadata": {},
     "output_type": "execute_result"
    },
    {
     "data": {
      "text/plain": "<Figure size 504x504 with 1 Axes>",
      "image/png": "[encoded data removed]"
     },
     "metadata": {},
     "output_type": "display_data"
    }
   ],
   "source": [
    "plt.figure(figsize=(7,7))\n",
    "sns.scatterplot(x, y3, label='y3')\n",
    "sns.scatterplot(x, y_pred, label='y_pred')\n",
    "sns.scatterplot(x, y_pred_2, label='y_pred_2_poly')\n",
    "sns.scatterplot(x, y_pred_3, label='y_pred_3_poly')\n",
    "\n",
    "plt.legend()"
   ],
   "metadata": {
    "collapsed": false
   }
  },
  {
   "cell_type": "code",
   "execution_count": 106,
   "outputs": [
    {
     "data": {
      "text/plain": "0.8419211629461272"
     },
     "execution_count": 106,
     "metadata": {},
     "output_type": "execute_result"
    }
   ],
   "source": [
    "from sklearn.metrics import r2_score\n",
    "\n",
    "r2_score(y3, y_pred)"
   ],
   "metadata": {
    "collapsed": false
   }
  },
  {
   "cell_type": "code",
   "execution_count": 107,
   "outputs": [
    {
     "data": {
      "text/plain": "0.9956977698991876"
     },
     "execution_count": 107,
     "metadata": {},
     "output_type": "execute_result"
    }
   ],
   "source": [
    "r2_score(y3, y_pred_2)\n"
   ],
   "metadata": {
    "collapsed": false
   }
  },
  {
   "cell_type": "code",
   "execution_count": 114,
   "outputs": [
    {
     "data": {
      "text/plain": "1.0"
     },
     "execution_count": 114,
     "metadata": {},
     "output_type": "execute_result"
    }
   ],
   "source": [
    "r2_score(y3, y_pred_3)"
   ],
   "metadata": {
    "collapsed": false
   }
  },
  {
   "cell_type": "code",
   "execution_count": 115,
   "outputs": [
    {
     "data": {
      "text/plain": "array([[1.00000e+00, 1.00000e+00, 1.00000e+00, 1.00000e+00],\n       [1.00000e+00, 2.00000e+00, 4.00000e+00, 8.00000e+00],\n       [1.00000e+00, 3.00000e+00, 9.00000e+00, 2.70000e+01],\n       [1.00000e+00, 4.00000e+00, 1.60000e+01, 6.40000e+01],\n       [1.00000e+00, 5.00000e+00, 2.50000e+01, 1.25000e+02],\n       [1.00000e+00, 6.00000e+00, 3.60000e+01, 2.16000e+02],\n       [1.00000e+00, 7.00000e+00, 4.90000e+01, 3.43000e+02],\n       [1.00000e+00, 8.00000e+00, 6.40000e+01, 5.12000e+02],\n       [1.00000e+00, 9.00000e+00, 8.10000e+01, 7.29000e+02],\n       [1.00000e+00, 1.00000e+01, 1.00000e+02, 1.00000e+03],\n       [1.00000e+00, 1.10000e+01, 1.21000e+02, 1.33100e+03],\n       [1.00000e+00, 1.20000e+01, 1.44000e+02, 1.72800e+03],\n       [1.00000e+00, 1.30000e+01, 1.69000e+02, 2.19700e+03],\n       [1.00000e+00, 1.40000e+01, 1.96000e+02, 2.74400e+03],\n       [1.00000e+00, 1.50000e+01, 2.25000e+02, 3.37500e+03],\n       [1.00000e+00, 1.60000e+01, 2.56000e+02, 4.09600e+03],\n       [1.00000e+00, 1.70000e+01, 2.89000e+02, 4.91300e+03],\n       [1.00000e+00, 1.80000e+01, 3.24000e+02, 5.83200e+03],\n       [1.00000e+00, 1.90000e+01, 3.61000e+02, 6.85900e+03],\n       [1.00000e+00, 2.00000e+01, 4.00000e+02, 8.00000e+03],\n       [1.00000e+00, 2.10000e+01, 4.41000e+02, 9.26100e+03],\n       [1.00000e+00, 2.20000e+01, 4.84000e+02, 1.06480e+04],\n       [1.00000e+00, 2.30000e+01, 5.29000e+02, 1.21670e+04],\n       [1.00000e+00, 2.40000e+01, 5.76000e+02, 1.38240e+04],\n       [1.00000e+00, 2.50000e+01, 6.25000e+02, 1.56250e+04],\n       [1.00000e+00, 2.60000e+01, 6.76000e+02, 1.75760e+04],\n       [1.00000e+00, 2.70000e+01, 7.29000e+02, 1.96830e+04],\n       [1.00000e+00, 2.80000e+01, 7.84000e+02, 2.19520e+04],\n       [1.00000e+00, 2.90000e+01, 8.41000e+02, 2.43890e+04],\n       [1.00000e+00, 3.00000e+01, 9.00000e+02, 2.70000e+04],\n       [1.00000e+00, 3.10000e+01, 9.61000e+02, 2.97910e+04],\n       [1.00000e+00, 3.20000e+01, 1.02400e+03, 3.27680e+04],\n       [1.00000e+00, 3.30000e+01, 1.08900e+03, 3.59370e+04],\n       [1.00000e+00, 3.40000e+01, 1.15600e+03, 3.93040e+04],\n       [1.00000e+00, 3.50000e+01, 1.22500e+03, 4.28750e+04],\n       [1.00000e+00, 3.60000e+01, 1.29600e+03, 4.66560e+04],\n       [1.00000e+00, 3.70000e+01, 1.36900e+03, 5.06530e+04],\n       [1.00000e+00, 3.80000e+01, 1.44400e+03, 5.48720e+04],\n       [1.00000e+00, 3.90000e+01, 1.52100e+03, 5.93190e+04],\n       [1.00000e+00, 4.00000e+01, 1.60000e+03, 6.40000e+04],\n       [1.00000e+00, 4.10000e+01, 1.68100e+03, 6.89210e+04],\n       [1.00000e+00, 4.20000e+01, 1.76400e+03, 7.40880e+04],\n       [1.00000e+00, 4.30000e+01, 1.84900e+03, 7.95070e+04],\n       [1.00000e+00, 4.40000e+01, 1.93600e+03, 8.51840e+04],\n       [1.00000e+00, 4.50000e+01, 2.02500e+03, 9.11250e+04],\n       [1.00000e+00, 4.60000e+01, 2.11600e+03, 9.73360e+04],\n       [1.00000e+00, 4.70000e+01, 2.20900e+03, 1.03823e+05],\n       [1.00000e+00, 4.80000e+01, 2.30400e+03, 1.10592e+05],\n       [1.00000e+00, 4.90000e+01, 2.40100e+03, 1.17649e+05],\n       [1.00000e+00, 5.00000e+01, 2.50000e+03, 1.25000e+05],\n       [1.00000e+00, 5.10000e+01, 2.60100e+03, 1.32651e+05],\n       [1.00000e+00, 5.20000e+01, 2.70400e+03, 1.40608e+05],\n       [1.00000e+00, 5.30000e+01, 2.80900e+03, 1.48877e+05],\n       [1.00000e+00, 5.40000e+01, 2.91600e+03, 1.57464e+05],\n       [1.00000e+00, 5.50000e+01, 3.02500e+03, 1.66375e+05],\n       [1.00000e+00, 5.60000e+01, 3.13600e+03, 1.75616e+05],\n       [1.00000e+00, 5.70000e+01, 3.24900e+03, 1.85193e+05],\n       [1.00000e+00, 5.80000e+01, 3.36400e+03, 1.95112e+05],\n       [1.00000e+00, 5.90000e+01, 3.48100e+03, 2.05379e+05],\n       [1.00000e+00, 6.00000e+01, 3.60000e+03, 2.16000e+05],\n       [1.00000e+00, 6.10000e+01, 3.72100e+03, 2.26981e+05],\n       [1.00000e+00, 6.20000e+01, 3.84400e+03, 2.38328e+05],\n       [1.00000e+00, 6.30000e+01, 3.96900e+03, 2.50047e+05],\n       [1.00000e+00, 6.40000e+01, 4.09600e+03, 2.62144e+05],\n       [1.00000e+00, 6.50000e+01, 4.22500e+03, 2.74625e+05],\n       [1.00000e+00, 6.60000e+01, 4.35600e+03, 2.87496e+05],\n       [1.00000e+00, 6.70000e+01, 4.48900e+03, 3.00763e+05],\n       [1.00000e+00, 6.80000e+01, 4.62400e+03, 3.14432e+05],\n       [1.00000e+00, 6.90000e+01, 4.76100e+03, 3.28509e+05],\n       [1.00000e+00, 7.00000e+01, 4.90000e+03, 3.43000e+05],\n       [1.00000e+00, 7.10000e+01, 5.04100e+03, 3.57911e+05],\n       [1.00000e+00, 7.20000e+01, 5.18400e+03, 3.73248e+05],\n       [1.00000e+00, 7.30000e+01, 5.32900e+03, 3.89017e+05],\n       [1.00000e+00, 7.40000e+01, 5.47600e+03, 4.05224e+05],\n       [1.00000e+00, 7.50000e+01, 5.62500e+03, 4.21875e+05],\n       [1.00000e+00, 7.60000e+01, 5.77600e+03, 4.38976e+05],\n       [1.00000e+00, 7.70000e+01, 5.92900e+03, 4.56533e+05],\n       [1.00000e+00, 7.80000e+01, 6.08400e+03, 4.74552e+05],\n       [1.00000e+00, 7.90000e+01, 6.24100e+03, 4.93039e+05],\n       [1.00000e+00, 8.00000e+01, 6.40000e+03, 5.12000e+05],\n       [1.00000e+00, 8.10000e+01, 6.56100e+03, 5.31441e+05],\n       [1.00000e+00, 8.20000e+01, 6.72400e+03, 5.51368e+05],\n       [1.00000e+00, 8.30000e+01, 6.88900e+03, 5.71787e+05],\n       [1.00000e+00, 8.40000e+01, 7.05600e+03, 5.92704e+05],\n       [1.00000e+00, 8.50000e+01, 7.22500e+03, 6.14125e+05],\n       [1.00000e+00, 8.60000e+01, 7.39600e+03, 6.36056e+05],\n       [1.00000e+00, 8.70000e+01, 7.56900e+03, 6.58503e+05],\n       [1.00000e+00, 8.80000e+01, 7.74400e+03, 6.81472e+05],\n       [1.00000e+00, 8.90000e+01, 7.92100e+03, 7.04969e+05],\n       [1.00000e+00, 9.00000e+01, 8.10000e+03, 7.29000e+05],\n       [1.00000e+00, 9.10000e+01, 8.28100e+03, 7.53571e+05],\n       [1.00000e+00, 9.20000e+01, 8.46400e+03, 7.78688e+05],\n       [1.00000e+00, 9.30000e+01, 8.64900e+03, 8.04357e+05],\n       [1.00000e+00, 9.40000e+01, 8.83600e+03, 8.30584e+05],\n       [1.00000e+00, 9.50000e+01, 9.02500e+03, 8.57375e+05],\n       [1.00000e+00, 9.60000e+01, 9.21600e+03, 8.84736e+05],\n       [1.00000e+00, 9.70000e+01, 9.40900e+03, 9.12673e+05],\n       [1.00000e+00, 9.80000e+01, 9.60400e+03, 9.41192e+05],\n       [1.00000e+00, 9.90000e+01, 9.80100e+03, 9.70299e+05]])"
     },
     "execution_count": 115,
     "metadata": {},
     "output_type": "execute_result"
    }
   ],
   "source": [
    "x_poly_3"
   ],
   "metadata": {
    "collapsed": false
   }
  },
  {
   "cell_type": "code",
   "execution_count": null,
   "outputs": [],
   "source": [],
   "metadata": {
    "collapsed": false
   }
  }
 ],
 "metadata": {
  "kernelspec": {
   "display_name": "Python 3",
   "language": "python",
   "name": "python3"
  },
  "language_info": {
   "codemirror_mode": {
    "name": "ipython",
    "version": 2
   },
   "file_extension": ".py",
   "mimetype": "text/x-python",
   "name": "python",
   "nbconvert_exporter": "python",
   "pygments_lexer": "ipython2",
   "version": "2.7.6"
  }
 },
 "nbformat": 4,
 "nbformat_minor": 0
}
