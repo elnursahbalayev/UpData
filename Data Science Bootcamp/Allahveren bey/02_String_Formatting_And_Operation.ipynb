{
 "cells": [
  {
   "cell_type": "markdown",
   "metadata": {},
   "source": [
    "# String formatting and Operations"
   ]
  },
  {
   "cell_type": "markdown",
   "metadata": {},
   "source": [
    "String formatting vasitesiyle biz stringlerle muxtelif emeliyatlar ede bilerik. "
   ]
  },
  {
   "cell_type": "code",
   "execution_count": 1,
   "metadata": {},
   "outputs": [
    {
     "name": "stdout",
     "output_type": "stream",
     "text": [
      "Adiniz: Ali \n",
      "Yasiniz: 23\n"
     ]
    }
   ],
   "source": [
    "# f string \n",
    "ad = input('Zehmet olmasa adinizi daxil edin')\n",
    "yas = input('Zehmet olmasa yasinizi daxil edin')\n",
    "print(f'Adiniz: {ad} \\nYasiniz: {yas}')"
   ]
  },
  {
   "cell_type": "code",
   "execution_count": 2,
   "metadata": {},
   "outputs": [
    {
     "name": "stdout",
     "output_type": "stream",
     "text": [
      "ALI\n"
     ]
    }
   ],
   "source": [
    "#string funksiyalari\n",
    "ad = 'Ali'\n",
    "print(ad.upper())"
   ]
  },
  {
   "cell_type": "code",
   "execution_count": 3,
   "metadata": {},
   "outputs": [
    {
     "name": "stdout",
     "output_type": "stream",
     "text": [
      "ali\n"
     ]
    }
   ],
   "source": [
    "#lower() funksiyasi\n",
    "print(ad.lower())"
   ]
  },
  {
   "cell_type": "code",
   "execution_count": 4,
   "metadata": {},
   "outputs": [
    {
     "name": "stdout",
     "output_type": "stream",
     "text": [
      "Ali\n"
     ]
    }
   ],
   "source": [
    "#capitalize() funksiyasi\n",
    "ad = 'ali'\n",
    "print(ad.capitalize())"
   ]
  },
  {
   "cell_type": "code",
   "execution_count": 5,
   "metadata": {},
   "outputs": [
    {
     "name": "stdout",
     "output_type": "stream",
     "text": [
      "2\n"
     ]
    }
   ],
   "source": [
    "#count() funksiyasi\n",
    "metn = 'bu gun bizim ilk dersimiz oldu, ilk dersimizde biz pythonun esaslarina giris etdik'\n",
    "print(metn.count('ilk'))"
   ]
  },
  {
   "cell_type": "code",
   "execution_count": 9,
   "metadata": {},
   "outputs": [
    {
     "name": "stdout",
     "output_type": "stream",
     "text": [
      "['bu', 'gun', 'bizim', 'ilk', 'dersimiz', 'oldu']\n"
     ]
    }
   ],
   "source": [
    "metn = 'bu gun bizim ilk dersimiz oldu'\n",
    "print(metn.split(' '))"
   ]
  },
  {
   "cell_type": "code",
   "execution_count": 10,
   "metadata": {},
   "outputs": [
    {
     "name": "stdout",
     "output_type": "stream",
     "text": [
      "['ali', 'elnur', 'yasar']\n"
     ]
    }
   ],
   "source": [
    "adlar = input('adlari daxil edin')\n",
    "print(adlar.split(' '))"
   ]
  },
  {
   "cell_type": "code",
   "execution_count": 16,
   "metadata": {},
   "outputs": [
    {
     "name": "stdout",
     "output_type": "stream",
     "text": [
      "Ali Hesenov\n"
     ]
    }
   ],
   "source": [
    "#join() funksiyasi\n",
    "ad_soyad = ['Ali', 'Hesenov']\n",
    "print(\" \".join(ad_soyad))"
   ]
  }
 ],
 "metadata": {
  "kernelspec": {
   "display_name": "Python 3.9.12 ('base')",
   "language": "python",
   "name": "python3"
  },
  "language_info": {
   "codemirror_mode": {
    "name": "ipython",
    "version": 3
   },
   "file_extension": ".py",
   "mimetype": "text/x-python",
   "name": "python",
   "nbconvert_exporter": "python",
   "pygments_lexer": "ipython3",
   "version": "3.9.12"
  },
  "orig_nbformat": 4,
  "vscode": {
   "interpreter": {
    "hash": "c92bc8fffe5a7a288d6090c008f991380df73b744774f61abf64ba796088e3c7"
   }
  }
 },
 "nbformat": 4,
 "nbformat_minor": 2
}
