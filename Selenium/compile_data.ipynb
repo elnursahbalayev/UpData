{
 "cells": [
  {
   "cell_type": "code",
   "execution_count": 1,
   "metadata": {},
   "outputs": [],
   "source": [
    "import pandas as pd"
   ]
  },
  {
   "cell_type": "code",
   "execution_count": 2,
   "metadata": {},
   "outputs": [],
   "source": [
    "df1 = pd.read_csv('data.csv')\n",
    "df2 = pd.read_csv('data2.csv')\n",
    "df3 = pd.read_csv('data3.csv')\n",
    "df4 = pd.read_csv('data4.csv')\n",
    "df5 = pd.read_csv('data5.csv')"
   ]
  },
  {
   "cell_type": "code",
   "execution_count": 10,
   "metadata": {},
   "outputs": [],
   "source": [
    "df_new = pd.concat([df1, df2, df3, df4, df5])"
   ]
  },
  {
   "cell_type": "code",
   "execution_count": 12,
   "metadata": {},
   "outputs": [
    {
     "data": {
      "text/plain": [
       "Index(['elan_nomresi_list', 'seher', 'marka', 'model', 'buraxilis_ili',\n",
       "       'ban_novu', 'reng', 'muherrik', 'muherrik_gucu', 'yanacaq_novu',\n",
       "       'yurus', 'suretler_qutusu', 'oturucu', 'yeni', 'qiymet'],\n",
       "      dtype='object')"
      ]
     },
     "execution_count": 12,
     "metadata": {},
     "output_type": "execute_result"
    }
   ],
   "source": [
    "df_new.columns"
   ]
  },
  {
   "cell_type": "code",
   "execution_count": 13,
   "metadata": {},
   "outputs": [
    {
     "name": "stdout",
     "output_type": "stream",
     "text": [
      "<class 'pandas.core.frame.DataFrame'>\n",
      "Int64Index: 1198 entries, 0 to 478\n",
      "Data columns (total 15 columns):\n",
      " #   Column             Non-Null Count  Dtype \n",
      "---  ------             --------------  ----- \n",
      " 0   elan_nomresi_list  1198 non-null   int64 \n",
      " 1   seher              1198 non-null   object\n",
      " 2   marka              1198 non-null   object\n",
      " 3   model              1198 non-null   object\n",
      " 4   buraxilis_ili      1198 non-null   int64 \n",
      " 5   ban_novu           1198 non-null   object\n",
      " 6   reng               1198 non-null   object\n",
      " 7   muherrik           1198 non-null   object\n",
      " 8   muherrik_gucu      1198 non-null   object\n",
      " 9   yanacaq_novu       1198 non-null   object\n",
      " 10  yurus              1198 non-null   object\n",
      " 11  suretler_qutusu    1198 non-null   object\n",
      " 12  oturucu            1198 non-null   object\n",
      " 13  yeni               1198 non-null   object\n",
      " 14  qiymet             1198 non-null   object\n",
      "dtypes: int64(2), object(13)\n",
      "memory usage: 149.8+ KB\n"
     ]
    }
   ],
   "source": [
    "df_new.info()"
   ]
  },
  {
   "cell_type": "code",
   "execution_count": 16,
   "metadata": {},
   "outputs": [],
   "source": [
    "df_new.to_excel('turboaz_masinlar.xlsx', index=False)"
   ]
  },
  {
   "cell_type": "code",
   "execution_count": 17,
   "metadata": {},
   "outputs": [
    {
     "data": {
      "text/plain": [
       "1167"
      ]
     },
     "execution_count": 17,
     "metadata": {},
     "output_type": "execute_result"
    }
   ],
   "source": [
    "df_new['elan_nomresi_list'].nunique()"
   ]
  },
  {
   "cell_type": "code",
   "execution_count": null,
   "metadata": {},
   "outputs": [],
   "source": []
  }
 ],
 "metadata": {
  "kernelspec": {
   "display_name": "Python 3.9.12 ('base')",
   "language": "python",
   "name": "python3"
  },
  "language_info": {
   "codemirror_mode": {
    "name": "ipython",
    "version": 3
   },
   "file_extension": ".py",
   "mimetype": "text/x-python",
   "name": "python",
   "nbconvert_exporter": "python",
   "pygments_lexer": "ipython3",
   "version": "3.9.12"
  },
  "orig_nbformat": 4,
  "vscode": {
   "interpreter": {
    "hash": "437bf6181af474c3c2ca7aa4118132330bd9bbcf1914470b1d094818705239da"
   }
  }
 },
 "nbformat": 4,
 "nbformat_minor": 2
}
