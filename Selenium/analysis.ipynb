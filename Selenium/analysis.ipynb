{
 "cells": [
  {
   "cell_type": "code",
   "execution_count": 1,
   "metadata": {
    "collapsed": true,
    "pycharm": {
     "name": "#%%\n"
    }
   },
   "outputs": [],
   "source": [
    "import pandas as pd\n",
    "import seaborn as sns\n",
    "import matplotlib.pyplot as plt"
   ]
  },
  {
   "cell_type": "code",
   "execution_count": 2,
   "outputs": [
    {
     "data": {
      "text/plain": "   elan_nomresi_list seher     marka    model  buraxilis_ili         ban_novu  \\\n0          6604711.0  Bakı  Mercedes      190         1990.0            Sedan   \n1          6454735.0  Bakı    Nissan   Altima         2018.0            Sedan   \n2          6528352.0  Bakı    Nissan   Patrol         2014.0  Offroader / SUV   \n3          6314608.0  Bakı    Toyota    Camry         2014.0            Sedan   \n4          6604673.0  Bakı  Mercedes  GLE 350         2017.0  Offroader / SUV   \n\n         reng muherrik muherrik_gucu yanacaq_novu       yurus suretler_qutusu  \\\n0  Yaş Asfalt    2.0 L      122 a.g.       Benzin  366 500 km         Avtomat   \n1          Ağ    2.5 L      182 a.g.       Benzin   50 000 km         Avtomat   \n2        Qara    5.6 L      405 a.g.       Benzin  112 000 km         Avtomat   \n3          Ağ    2.5 L      181 a.g.       Benzin  147 000 km         Avtomat   \n4         Boz    3.5 L      306 a.g.       Benzin   61 000 km         Avtomat   \n\n  oturucu  yeni      qiymet  \n0    Arxa  Xeyr   4 950 AZN  \n1      Ön  Xeyr  27 900 AZN  \n2     Tam  Xeyr    43 800 $  \n3      Ön  Xeyr  35 900 AZN  \n4     Tam  Xeyr    49 000 $  ",
      "text/html": "<div>\n<style scoped>\n    .dataframe tbody tr th:only-of-type {\n        vertical-align: middle;\n    }\n\n    .dataframe tbody tr th {\n        vertical-align: top;\n    }\n\n    .dataframe thead th {\n        text-align: right;\n    }\n</style>\n<table border=\"1\" class=\"dataframe\">\n  <thead>\n    <tr style=\"text-align: right;\">\n      <th></th>\n      <th>elan_nomresi_list</th>\n      <th>seher</th>\n      <th>marka</th>\n      <th>model</th>\n      <th>buraxilis_ili</th>\n      <th>ban_novu</th>\n      <th>reng</th>\n      <th>muherrik</th>\n      <th>muherrik_gucu</th>\n      <th>yanacaq_novu</th>\n      <th>yurus</th>\n      <th>suretler_qutusu</th>\n      <th>oturucu</th>\n      <th>yeni</th>\n      <th>qiymet</th>\n    </tr>\n  </thead>\n  <tbody>\n    <tr>\n      <th>0</th>\n      <td>6604711.0</td>\n      <td>Bakı</td>\n      <td>Mercedes</td>\n      <td>190</td>\n      <td>1990.0</td>\n      <td>Sedan</td>\n      <td>Yaş Asfalt</td>\n      <td>2.0 L</td>\n      <td>122 a.g.</td>\n      <td>Benzin</td>\n      <td>366 500 km</td>\n      <td>Avtomat</td>\n      <td>Arxa</td>\n      <td>Xeyr</td>\n      <td>4 950 AZN</td>\n    </tr>\n    <tr>\n      <th>1</th>\n      <td>6454735.0</td>\n      <td>Bakı</td>\n      <td>Nissan</td>\n      <td>Altima</td>\n      <td>2018.0</td>\n      <td>Sedan</td>\n      <td>Ağ</td>\n      <td>2.5 L</td>\n      <td>182 a.g.</td>\n      <td>Benzin</td>\n      <td>50 000 km</td>\n      <td>Avtomat</td>\n      <td>Ön</td>\n      <td>Xeyr</td>\n      <td>27 900 AZN</td>\n    </tr>\n    <tr>\n      <th>2</th>\n      <td>6528352.0</td>\n      <td>Bakı</td>\n      <td>Nissan</td>\n      <td>Patrol</td>\n      <td>2014.0</td>\n      <td>Offroader / SUV</td>\n      <td>Qara</td>\n      <td>5.6 L</td>\n      <td>405 a.g.</td>\n      <td>Benzin</td>\n      <td>112 000 km</td>\n      <td>Avtomat</td>\n      <td>Tam</td>\n      <td>Xeyr</td>\n      <td>43 800 $</td>\n    </tr>\n    <tr>\n      <th>3</th>\n      <td>6314608.0</td>\n      <td>Bakı</td>\n      <td>Toyota</td>\n      <td>Camry</td>\n      <td>2014.0</td>\n      <td>Sedan</td>\n      <td>Ağ</td>\n      <td>2.5 L</td>\n      <td>181 a.g.</td>\n      <td>Benzin</td>\n      <td>147 000 km</td>\n      <td>Avtomat</td>\n      <td>Ön</td>\n      <td>Xeyr</td>\n      <td>35 900 AZN</td>\n    </tr>\n    <tr>\n      <th>4</th>\n      <td>6604673.0</td>\n      <td>Bakı</td>\n      <td>Mercedes</td>\n      <td>GLE 350</td>\n      <td>2017.0</td>\n      <td>Offroader / SUV</td>\n      <td>Boz</td>\n      <td>3.5 L</td>\n      <td>306 a.g.</td>\n      <td>Benzin</td>\n      <td>61 000 km</td>\n      <td>Avtomat</td>\n      <td>Tam</td>\n      <td>Xeyr</td>\n      <td>49 000 $</td>\n    </tr>\n  </tbody>\n</table>\n</div>"
     },
     "execution_count": 2,
     "metadata": {},
     "output_type": "execute_result"
    }
   ],
   "source": [
    "df = pd.read_excel('data_cars_500.xlsx')\n",
    "\n",
    "df.head()"
   ],
   "metadata": {
    "collapsed": false,
    "pycharm": {
     "name": "#%%\n"
    }
   }
  },
  {
   "cell_type": "code",
   "execution_count": 3,
   "outputs": [
    {
     "name": "stdout",
     "output_type": "stream",
     "text": [
      "<class 'pandas.core.frame.DataFrame'>\n",
      "RangeIndex: 5039 entries, 0 to 5038\n",
      "Data columns (total 15 columns):\n",
      " #   Column             Non-Null Count  Dtype  \n",
      "---  ------             --------------  -----  \n",
      " 0   elan_nomresi_list  5038 non-null   float64\n",
      " 1   seher              5038 non-null   object \n",
      " 2   marka              5038 non-null   object \n",
      " 3   model              5038 non-null   object \n",
      " 4   buraxilis_ili      5038 non-null   float64\n",
      " 5   ban_novu           5038 non-null   object \n",
      " 6   reng               5038 non-null   object \n",
      " 7   muherrik           5038 non-null   object \n",
      " 8   muherrik_gucu      5038 non-null   object \n",
      " 9   yanacaq_novu       5038 non-null   object \n",
      " 10  yurus              5038 non-null   object \n",
      " 11  suretler_qutusu    5038 non-null   object \n",
      " 12  oturucu            5038 non-null   object \n",
      " 13  yeni               5038 non-null   object \n",
      " 14  qiymet             5039 non-null   object \n",
      "dtypes: float64(2), object(13)\n",
      "memory usage: 590.6+ KB\n"
     ]
    }
   ],
   "source": [
    "df.info()"
   ],
   "metadata": {
    "collapsed": false,
    "pycharm": {
     "name": "#%%\n"
    }
   }
  },
  {
   "cell_type": "code",
   "execution_count": 4,
   "outputs": [
    {
     "data": {
      "text/plain": "elan_nomresi_list    1\nseher                1\nmarka                1\nmodel                1\nburaxilis_ili        1\nban_novu             1\nreng                 1\nmuherrik             1\nmuherrik_gucu        1\nyanacaq_novu         1\nyurus                1\nsuretler_qutusu      1\noturucu              1\nyeni                 1\nqiymet               0\ndtype: int64"
     },
     "execution_count": 4,
     "metadata": {},
     "output_type": "execute_result"
    }
   ],
   "source": [
    "df.isna().sum()"
   ],
   "metadata": {
    "collapsed": false,
    "pycharm": {
     "name": "#%%\n"
    }
   }
  },
  {
   "cell_type": "code",
   "execution_count": 5,
   "outputs": [],
   "source": [
    "df.dropna(inplace=True)"
   ],
   "metadata": {
    "collapsed": false,
    "pycharm": {
     "name": "#%%\n"
    }
   }
  },
  {
   "cell_type": "code",
   "execution_count": 6,
   "outputs": [
    {
     "data": {
      "text/plain": "elan_nomresi_list    0\nseher                0\nmarka                0\nmodel                0\nburaxilis_ili        0\nban_novu             0\nreng                 0\nmuherrik             0\nmuherrik_gucu        0\nyanacaq_novu         0\nyurus                0\nsuretler_qutusu      0\noturucu              0\nyeni                 0\nqiymet               0\ndtype: int64"
     },
     "execution_count": 6,
     "metadata": {},
     "output_type": "execute_result"
    }
   ],
   "source": [
    "df.isna().sum()"
   ],
   "metadata": {
    "collapsed": false,
    "pycharm": {
     "name": "#%%\n"
    }
   }
  },
  {
   "cell_type": "code",
   "execution_count": 7,
   "outputs": [
    {
     "name": "stdout",
     "output_type": "stream",
     "text": [
      "<class 'pandas.core.frame.DataFrame'>\n",
      "Int64Index: 5038 entries, 0 to 5037\n",
      "Data columns (total 15 columns):\n",
      " #   Column             Non-Null Count  Dtype  \n",
      "---  ------             --------------  -----  \n",
      " 0   elan_nomresi_list  5038 non-null   float64\n",
      " 1   seher              5038 non-null   object \n",
      " 2   marka              5038 non-null   object \n",
      " 3   model              5038 non-null   object \n",
      " 4   buraxilis_ili      5038 non-null   float64\n",
      " 5   ban_novu           5038 non-null   object \n",
      " 6   reng               5038 non-null   object \n",
      " 7   muherrik           5038 non-null   object \n",
      " 8   muherrik_gucu      5038 non-null   object \n",
      " 9   yanacaq_novu       5038 non-null   object \n",
      " 10  yurus              5038 non-null   object \n",
      " 11  suretler_qutusu    5038 non-null   object \n",
      " 12  oturucu            5038 non-null   object \n",
      " 13  yeni               5038 non-null   object \n",
      " 14  qiymet             5038 non-null   object \n",
      "dtypes: float64(2), object(13)\n",
      "memory usage: 629.8+ KB\n"
     ]
    }
   ],
   "source": [
    "df.info()"
   ],
   "metadata": {
    "collapsed": false,
    "pycharm": {
     "name": "#%%\n"
    }
   }
  },
  {
   "cell_type": "code",
   "execution_count": 8,
   "outputs": [],
   "source": [
    "df['elan_nomresi_list'] = df['elan_nomresi_list'].astype(int)"
   ],
   "metadata": {
    "collapsed": false,
    "pycharm": {
     "name": "#%%\n"
    }
   }
  },
  {
   "cell_type": "code",
   "execution_count": 9,
   "outputs": [
    {
     "name": "stdout",
     "output_type": "stream",
     "text": [
      "<class 'pandas.core.frame.DataFrame'>\n",
      "Int64Index: 5038 entries, 0 to 5037\n",
      "Data columns (total 15 columns):\n",
      " #   Column             Non-Null Count  Dtype  \n",
      "---  ------             --------------  -----  \n",
      " 0   elan_nomresi_list  5038 non-null   int32  \n",
      " 1   seher              5038 non-null   object \n",
      " 2   marka              5038 non-null   object \n",
      " 3   model              5038 non-null   object \n",
      " 4   buraxilis_ili      5038 non-null   float64\n",
      " 5   ban_novu           5038 non-null   object \n",
      " 6   reng               5038 non-null   object \n",
      " 7   muherrik           5038 non-null   object \n",
      " 8   muherrik_gucu      5038 non-null   object \n",
      " 9   yanacaq_novu       5038 non-null   object \n",
      " 10  yurus              5038 non-null   object \n",
      " 11  suretler_qutusu    5038 non-null   object \n",
      " 12  oturucu            5038 non-null   object \n",
      " 13  yeni               5038 non-null   object \n",
      " 14  qiymet             5038 non-null   object \n",
      "dtypes: float64(1), int32(1), object(13)\n",
      "memory usage: 610.1+ KB\n"
     ]
    }
   ],
   "source": [
    "df.info()"
   ],
   "metadata": {
    "collapsed": false,
    "pycharm": {
     "name": "#%%\n"
    }
   }
  },
  {
   "cell_type": "code",
   "execution_count": 10,
   "outputs": [
    {
     "data": {
      "text/plain": "80"
     },
     "execution_count": 10,
     "metadata": {},
     "output_type": "execute_result"
    }
   ],
   "source": [
    "df['elan_nomresi_list'].duplicated().sum()"
   ],
   "metadata": {
    "collapsed": false,
    "pycharm": {
     "name": "#%%\n"
    }
   }
  },
  {
   "cell_type": "code",
   "execution_count": 11,
   "outputs": [
    {
     "data": {
      "text/plain": "80"
     },
     "execution_count": 11,
     "metadata": {},
     "output_type": "execute_result"
    }
   ],
   "source": [
    "df.duplicated().sum()"
   ],
   "metadata": {
    "collapsed": false,
    "pycharm": {
     "name": "#%%\n"
    }
   }
  },
  {
   "cell_type": "code",
   "execution_count": 12,
   "outputs": [],
   "source": [
    "df.drop_duplicates(inplace=True)"
   ],
   "metadata": {
    "collapsed": false,
    "pycharm": {
     "name": "#%%\n"
    }
   }
  },
  {
   "cell_type": "code",
   "execution_count": 13,
   "outputs": [
    {
     "data": {
      "text/plain": "0"
     },
     "execution_count": 13,
     "metadata": {},
     "output_type": "execute_result"
    }
   ],
   "source": [
    "df.duplicated().sum()"
   ],
   "metadata": {
    "collapsed": false,
    "pycharm": {
     "name": "#%%\n"
    }
   }
  },
  {
   "cell_type": "code",
   "execution_count": 14,
   "outputs": [],
   "source": [
    "df['buraxilis_ili'] = df['buraxilis_ili'].astype(int)"
   ],
   "metadata": {
    "collapsed": false,
    "pycharm": {
     "name": "#%%\n"
    }
   }
  },
  {
   "cell_type": "code",
   "execution_count": 15,
   "outputs": [
    {
     "data": {
      "text/plain": "   elan_nomresi_list seher     marka    model  buraxilis_ili         ban_novu  \\\n0            6604711  Bakı  Mercedes      190           1990            Sedan   \n1            6454735  Bakı    Nissan   Altima           2018            Sedan   \n2            6528352  Bakı    Nissan   Patrol           2014  Offroader / SUV   \n3            6314608  Bakı    Toyota    Camry           2014            Sedan   \n4            6604673  Bakı  Mercedes  GLE 350           2017  Offroader / SUV   \n\n         reng muherrik muherrik_gucu yanacaq_novu       yurus suretler_qutusu  \\\n0  Yaş Asfalt    2.0 L      122 a.g.       Benzin  366 500 km         Avtomat   \n1          Ağ    2.5 L      182 a.g.       Benzin   50 000 km         Avtomat   \n2        Qara    5.6 L      405 a.g.       Benzin  112 000 km         Avtomat   \n3          Ağ    2.5 L      181 a.g.       Benzin  147 000 km         Avtomat   \n4         Boz    3.5 L      306 a.g.       Benzin   61 000 km         Avtomat   \n\n  oturucu  yeni      qiymet  \n0    Arxa  Xeyr   4 950 AZN  \n1      Ön  Xeyr  27 900 AZN  \n2     Tam  Xeyr    43 800 $  \n3      Ön  Xeyr  35 900 AZN  \n4     Tam  Xeyr    49 000 $  ",
      "text/html": "<div>\n<style scoped>\n    .dataframe tbody tr th:only-of-type {\n        vertical-align: middle;\n    }\n\n    .dataframe tbody tr th {\n        vertical-align: top;\n    }\n\n    .dataframe thead th {\n        text-align: right;\n    }\n</style>\n<table border=\"1\" class=\"dataframe\">\n  <thead>\n    <tr style=\"text-align: right;\">\n      <th></th>\n      <th>elan_nomresi_list</th>\n      <th>seher</th>\n      <th>marka</th>\n      <th>model</th>\n      <th>buraxilis_ili</th>\n      <th>ban_novu</th>\n      <th>reng</th>\n      <th>muherrik</th>\n      <th>muherrik_gucu</th>\n      <th>yanacaq_novu</th>\n      <th>yurus</th>\n      <th>suretler_qutusu</th>\n      <th>oturucu</th>\n      <th>yeni</th>\n      <th>qiymet</th>\n    </tr>\n  </thead>\n  <tbody>\n    <tr>\n      <th>0</th>\n      <td>6604711</td>\n      <td>Bakı</td>\n      <td>Mercedes</td>\n      <td>190</td>\n      <td>1990</td>\n      <td>Sedan</td>\n      <td>Yaş Asfalt</td>\n      <td>2.0 L</td>\n      <td>122 a.g.</td>\n      <td>Benzin</td>\n      <td>366 500 km</td>\n      <td>Avtomat</td>\n      <td>Arxa</td>\n      <td>Xeyr</td>\n      <td>4 950 AZN</td>\n    </tr>\n    <tr>\n      <th>1</th>\n      <td>6454735</td>\n      <td>Bakı</td>\n      <td>Nissan</td>\n      <td>Altima</td>\n      <td>2018</td>\n      <td>Sedan</td>\n      <td>Ağ</td>\n      <td>2.5 L</td>\n      <td>182 a.g.</td>\n      <td>Benzin</td>\n      <td>50 000 km</td>\n      <td>Avtomat</td>\n      <td>Ön</td>\n      <td>Xeyr</td>\n      <td>27 900 AZN</td>\n    </tr>\n    <tr>\n      <th>2</th>\n      <td>6528352</td>\n      <td>Bakı</td>\n      <td>Nissan</td>\n      <td>Patrol</td>\n      <td>2014</td>\n      <td>Offroader / SUV</td>\n      <td>Qara</td>\n      <td>5.6 L</td>\n      <td>405 a.g.</td>\n      <td>Benzin</td>\n      <td>112 000 km</td>\n      <td>Avtomat</td>\n      <td>Tam</td>\n      <td>Xeyr</td>\n      <td>43 800 $</td>\n    </tr>\n    <tr>\n      <th>3</th>\n      <td>6314608</td>\n      <td>Bakı</td>\n      <td>Toyota</td>\n      <td>Camry</td>\n      <td>2014</td>\n      <td>Sedan</td>\n      <td>Ağ</td>\n      <td>2.5 L</td>\n      <td>181 a.g.</td>\n      <td>Benzin</td>\n      <td>147 000 km</td>\n      <td>Avtomat</td>\n      <td>Ön</td>\n      <td>Xeyr</td>\n      <td>35 900 AZN</td>\n    </tr>\n    <tr>\n      <th>4</th>\n      <td>6604673</td>\n      <td>Bakı</td>\n      <td>Mercedes</td>\n      <td>GLE 350</td>\n      <td>2017</td>\n      <td>Offroader / SUV</td>\n      <td>Boz</td>\n      <td>3.5 L</td>\n      <td>306 a.g.</td>\n      <td>Benzin</td>\n      <td>61 000 km</td>\n      <td>Avtomat</td>\n      <td>Tam</td>\n      <td>Xeyr</td>\n      <td>49 000 $</td>\n    </tr>\n  </tbody>\n</table>\n</div>"
     },
     "execution_count": 15,
     "metadata": {},
     "output_type": "execute_result"
    }
   ],
   "source": [
    "df.head()"
   ],
   "metadata": {
    "collapsed": false,
    "pycharm": {
     "name": "#%%\n"
    }
   }
  },
  {
   "cell_type": "code",
   "execution_count": 16,
   "outputs": [
    {
     "data": {
      "text/plain": "   elan_nomresi_list seher     marka    model  buraxilis_ili         ban_novu  \\\n0            6604711  Bakı  Mercedes      190           1990            Sedan   \n1            6454735  Bakı    Nissan   Altima           2018            Sedan   \n2            6528352  Bakı    Nissan   Patrol           2014  Offroader / SUV   \n3            6314608  Bakı    Toyota    Camry           2014            Sedan   \n4            6604673  Bakı  Mercedes  GLE 350           2017  Offroader / SUV   \n\n         reng muherrik muherrik_gucu yanacaq_novu       yurus suretler_qutusu  \\\n0  Yaş Asfalt      2.0           122       Benzin  366 500 km         Avtomat   \n1          Ağ      2.5           182       Benzin   50 000 km         Avtomat   \n2        Qara      5.6           405       Benzin  112 000 km         Avtomat   \n3          Ağ      2.5           181       Benzin  147 000 km         Avtomat   \n4         Boz      3.5           306       Benzin   61 000 km         Avtomat   \n\n  oturucu  yeni      qiymet hecm_vahidi guc_vahidi  \n0    Arxa  Xeyr   4 950 AZN           L       a.g.  \n1      Ön  Xeyr  27 900 AZN           L       a.g.  \n2     Tam  Xeyr    43 800 $           L       a.g.  \n3      Ön  Xeyr  35 900 AZN           L       a.g.  \n4     Tam  Xeyr    49 000 $           L       a.g.  ",
      "text/html": "<div>\n<style scoped>\n    .dataframe tbody tr th:only-of-type {\n        vertical-align: middle;\n    }\n\n    .dataframe tbody tr th {\n        vertical-align: top;\n    }\n\n    .dataframe thead th {\n        text-align: right;\n    }\n</style>\n<table border=\"1\" class=\"dataframe\">\n  <thead>\n    <tr style=\"text-align: right;\">\n      <th></th>\n      <th>elan_nomresi_list</th>\n      <th>seher</th>\n      <th>marka</th>\n      <th>model</th>\n      <th>buraxilis_ili</th>\n      <th>ban_novu</th>\n      <th>reng</th>\n      <th>muherrik</th>\n      <th>muherrik_gucu</th>\n      <th>yanacaq_novu</th>\n      <th>yurus</th>\n      <th>suretler_qutusu</th>\n      <th>oturucu</th>\n      <th>yeni</th>\n      <th>qiymet</th>\n      <th>hecm_vahidi</th>\n      <th>guc_vahidi</th>\n    </tr>\n  </thead>\n  <tbody>\n    <tr>\n      <th>0</th>\n      <td>6604711</td>\n      <td>Bakı</td>\n      <td>Mercedes</td>\n      <td>190</td>\n      <td>1990</td>\n      <td>Sedan</td>\n      <td>Yaş Asfalt</td>\n      <td>2.0</td>\n      <td>122</td>\n      <td>Benzin</td>\n      <td>366 500 km</td>\n      <td>Avtomat</td>\n      <td>Arxa</td>\n      <td>Xeyr</td>\n      <td>4 950 AZN</td>\n      <td>L</td>\n      <td>a.g.</td>\n    </tr>\n    <tr>\n      <th>1</th>\n      <td>6454735</td>\n      <td>Bakı</td>\n      <td>Nissan</td>\n      <td>Altima</td>\n      <td>2018</td>\n      <td>Sedan</td>\n      <td>Ağ</td>\n      <td>2.5</td>\n      <td>182</td>\n      <td>Benzin</td>\n      <td>50 000 km</td>\n      <td>Avtomat</td>\n      <td>Ön</td>\n      <td>Xeyr</td>\n      <td>27 900 AZN</td>\n      <td>L</td>\n      <td>a.g.</td>\n    </tr>\n    <tr>\n      <th>2</th>\n      <td>6528352</td>\n      <td>Bakı</td>\n      <td>Nissan</td>\n      <td>Patrol</td>\n      <td>2014</td>\n      <td>Offroader / SUV</td>\n      <td>Qara</td>\n      <td>5.6</td>\n      <td>405</td>\n      <td>Benzin</td>\n      <td>112 000 km</td>\n      <td>Avtomat</td>\n      <td>Tam</td>\n      <td>Xeyr</td>\n      <td>43 800 $</td>\n      <td>L</td>\n      <td>a.g.</td>\n    </tr>\n    <tr>\n      <th>3</th>\n      <td>6314608</td>\n      <td>Bakı</td>\n      <td>Toyota</td>\n      <td>Camry</td>\n      <td>2014</td>\n      <td>Sedan</td>\n      <td>Ağ</td>\n      <td>2.5</td>\n      <td>181</td>\n      <td>Benzin</td>\n      <td>147 000 km</td>\n      <td>Avtomat</td>\n      <td>Ön</td>\n      <td>Xeyr</td>\n      <td>35 900 AZN</td>\n      <td>L</td>\n      <td>a.g.</td>\n    </tr>\n    <tr>\n      <th>4</th>\n      <td>6604673</td>\n      <td>Bakı</td>\n      <td>Mercedes</td>\n      <td>GLE 350</td>\n      <td>2017</td>\n      <td>Offroader / SUV</td>\n      <td>Boz</td>\n      <td>3.5</td>\n      <td>306</td>\n      <td>Benzin</td>\n      <td>61 000 km</td>\n      <td>Avtomat</td>\n      <td>Tam</td>\n      <td>Xeyr</td>\n      <td>49 000 $</td>\n      <td>L</td>\n      <td>a.g.</td>\n    </tr>\n  </tbody>\n</table>\n</div>"
     },
     "execution_count": 16,
     "metadata": {},
     "output_type": "execute_result"
    }
   ],
   "source": [
    "df[['muherrik','hecm_vahidi']] = df['muherrik'].str.split(' ', expand=True)\n",
    "df[['muherrik_gucu','guc_vahidi']] = df['muherrik_gucu'].str.split(' ', expand=True)\n",
    "\n",
    "df.head()"
   ],
   "metadata": {
    "collapsed": false,
    "pycharm": {
     "name": "#%%\n"
    }
   }
  },
  {
   "cell_type": "code",
   "execution_count": 16,
   "outputs": [],
   "source": [
    "df[['muherrik_gucu','guc_vahidi']] = df['muherrik_gucu'].str.split(' ', expand=True)\n"
   ],
   "metadata": {
    "collapsed": false,
    "pycharm": {
     "name": "#%%\n"
    }
   }
  }
 ],
 "metadata": {
  "kernelspec": {
   "display_name": "Python 3",
   "language": "python",
   "name": "python3"
  },
  "language_info": {
   "codemirror_mode": {
    "name": "ipython",
    "version": 2
   },
   "file_extension": ".py",
   "mimetype": "text/x-python",
   "name": "python",
   "nbconvert_exporter": "python",
   "pygments_lexer": "ipython2",
   "version": "2.7.6"
  }
 },
 "nbformat": 4,
 "nbformat_minor": 0
}