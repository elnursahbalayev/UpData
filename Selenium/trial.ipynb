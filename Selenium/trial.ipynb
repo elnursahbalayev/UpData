{
 "cells": [
  {
   "cell_type": "code",
   "execution_count": 1,
   "metadata": {},
   "outputs": [],
   "source": [
    "import pandas as pd"
   ]
  },
  {
   "cell_type": "code",
   "execution_count": 4,
   "metadata": {},
   "outputs": [
    {
     "data": {
      "text/html": [
       "<div>\n",
       "<style scoped>\n",
       "    .dataframe tbody tr th:only-of-type {\n",
       "        vertical-align: middle;\n",
       "    }\n",
       "\n",
       "    .dataframe tbody tr th {\n",
       "        vertical-align: top;\n",
       "    }\n",
       "\n",
       "    .dataframe thead th {\n",
       "        text-align: right;\n",
       "    }\n",
       "</style>\n",
       "<table border=\"1\" class=\"dataframe\">\n",
       "  <thead>\n",
       "    <tr style=\"text-align: right;\">\n",
       "      <th></th>\n",
       "      <th>elan_nomresi_list</th>\n",
       "      <th>seher</th>\n",
       "      <th>marka</th>\n",
       "      <th>model</th>\n",
       "      <th>buraxilis_ili</th>\n",
       "      <th>ban_novu</th>\n",
       "      <th>reng</th>\n",
       "      <th>muherrik</th>\n",
       "      <th>muherrik_gucu</th>\n",
       "      <th>yanacaq_novu</th>\n",
       "      <th>yurus</th>\n",
       "      <th>suretler_qutusu</th>\n",
       "      <th>oturucu</th>\n",
       "      <th>yeni</th>\n",
       "      <th>qiymet</th>\n",
       "    </tr>\n",
       "  </thead>\n",
       "  <tbody>\n",
       "    <tr>\n",
       "      <th>0</th>\n",
       "      <td>6604711.0</td>\n",
       "      <td>Bakı</td>\n",
       "      <td>Mercedes</td>\n",
       "      <td>190</td>\n",
       "      <td>1990.0</td>\n",
       "      <td>Sedan</td>\n",
       "      <td>Yaş Asfalt</td>\n",
       "      <td>2.0 L</td>\n",
       "      <td>122 a.g.</td>\n",
       "      <td>Benzin</td>\n",
       "      <td>366 500 km</td>\n",
       "      <td>Avtomat</td>\n",
       "      <td>Arxa</td>\n",
       "      <td>Xeyr</td>\n",
       "      <td>4 950 AZN</td>\n",
       "    </tr>\n",
       "    <tr>\n",
       "      <th>1</th>\n",
       "      <td>6454735.0</td>\n",
       "      <td>Bakı</td>\n",
       "      <td>Nissan</td>\n",
       "      <td>Altima</td>\n",
       "      <td>2018.0</td>\n",
       "      <td>Sedan</td>\n",
       "      <td>Ağ</td>\n",
       "      <td>2.5 L</td>\n",
       "      <td>182 a.g.</td>\n",
       "      <td>Benzin</td>\n",
       "      <td>50 000 km</td>\n",
       "      <td>Avtomat</td>\n",
       "      <td>Ön</td>\n",
       "      <td>Xeyr</td>\n",
       "      <td>27 900 AZN</td>\n",
       "    </tr>\n",
       "    <tr>\n",
       "      <th>2</th>\n",
       "      <td>6528352.0</td>\n",
       "      <td>Bakı</td>\n",
       "      <td>Nissan</td>\n",
       "      <td>Patrol</td>\n",
       "      <td>2014.0</td>\n",
       "      <td>Offroader / SUV</td>\n",
       "      <td>Qara</td>\n",
       "      <td>5.6 L</td>\n",
       "      <td>405 a.g.</td>\n",
       "      <td>Benzin</td>\n",
       "      <td>112 000 km</td>\n",
       "      <td>Avtomat</td>\n",
       "      <td>Tam</td>\n",
       "      <td>Xeyr</td>\n",
       "      <td>43 800 $</td>\n",
       "    </tr>\n",
       "    <tr>\n",
       "      <th>3</th>\n",
       "      <td>6314608.0</td>\n",
       "      <td>Bakı</td>\n",
       "      <td>Toyota</td>\n",
       "      <td>Camry</td>\n",
       "      <td>2014.0</td>\n",
       "      <td>Sedan</td>\n",
       "      <td>Ağ</td>\n",
       "      <td>2.5 L</td>\n",
       "      <td>181 a.g.</td>\n",
       "      <td>Benzin</td>\n",
       "      <td>147 000 km</td>\n",
       "      <td>Avtomat</td>\n",
       "      <td>Ön</td>\n",
       "      <td>Xeyr</td>\n",
       "      <td>35 900 AZN</td>\n",
       "    </tr>\n",
       "    <tr>\n",
       "      <th>4</th>\n",
       "      <td>6604673.0</td>\n",
       "      <td>Bakı</td>\n",
       "      <td>Mercedes</td>\n",
       "      <td>GLE 350</td>\n",
       "      <td>2017.0</td>\n",
       "      <td>Offroader / SUV</td>\n",
       "      <td>Boz</td>\n",
       "      <td>3.5 L</td>\n",
       "      <td>306 a.g.</td>\n",
       "      <td>Benzin</td>\n",
       "      <td>61 000 km</td>\n",
       "      <td>Avtomat</td>\n",
       "      <td>Tam</td>\n",
       "      <td>Xeyr</td>\n",
       "      <td>49 000 $</td>\n",
       "    </tr>\n",
       "  </tbody>\n",
       "</table>\n",
       "</div>"
      ],
      "text/plain": [
       "   elan_nomresi_list seher     marka    model  buraxilis_ili         ban_novu  \\\n",
       "0          6604711.0  Bakı  Mercedes      190         1990.0            Sedan   \n",
       "1          6454735.0  Bakı    Nissan   Altima         2018.0            Sedan   \n",
       "2          6528352.0  Bakı    Nissan   Patrol         2014.0  Offroader / SUV   \n",
       "3          6314608.0  Bakı    Toyota    Camry         2014.0            Sedan   \n",
       "4          6604673.0  Bakı  Mercedes  GLE 350         2017.0  Offroader / SUV   \n",
       "\n",
       "         reng muherrik muherrik_gucu yanacaq_novu       yurus suretler_qutusu  \\\n",
       "0  Yaş Asfalt    2.0 L      122 a.g.       Benzin  366 500 km         Avtomat   \n",
       "1          Ağ    2.5 L      182 a.g.       Benzin   50 000 km         Avtomat   \n",
       "2        Qara    5.6 L      405 a.g.       Benzin  112 000 km         Avtomat   \n",
       "3          Ağ    2.5 L      181 a.g.       Benzin  147 000 km         Avtomat   \n",
       "4         Boz    3.5 L      306 a.g.       Benzin   61 000 km         Avtomat   \n",
       "\n",
       "  oturucu  yeni      qiymet  \n",
       "0    Arxa  Xeyr   4 950 AZN  \n",
       "1      Ön  Xeyr  27 900 AZN  \n",
       "2     Tam  Xeyr    43 800 $  \n",
       "3      Ön  Xeyr  35 900 AZN  \n",
       "4     Tam  Xeyr    49 000 $  "
      ]
     },
     "execution_count": 4,
     "metadata": {},
     "output_type": "execute_result"
    }
   ],
   "source": [
    "df = pd.read_excel('data_cars_500.xlsx')\n",
    "df.head()"
   ]
  },
  {
   "cell_type": "code",
   "execution_count": 6,
   "metadata": {},
   "outputs": [
    {
     "ename": "AttributeError",
     "evalue": "'int' object has no attribute 'split'",
     "output_type": "error",
     "traceback": [
      "\u001b[1;31m---------------------------------------------------------------------------\u001b[0m",
      "\u001b[1;31mAttributeError\u001b[0m                            Traceback (most recent call last)",
      "\u001b[1;32mc:\\Users\\elnur\\OneDrive - Universiti Teknologi PETRONAS\\Kurslar\\UpData\\Selenium\\trial.ipynb Cell 3\u001b[0m in \u001b[0;36m<cell line: 1>\u001b[1;34m()\u001b[0m\n\u001b[1;32m----> <a href='vscode-notebook-cell:/c%3A/Users/elnur/OneDrive%20-%20Universiti%20Teknologi%20PETRONAS/Kurslar/UpData/Selenium/trial.ipynb#W2sZmlsZQ%3D%3D?line=0'>1</a>\u001b[0m qiymetler \u001b[39m=\u001b[39m [qiymet\u001b[39m.\u001b[39msplit() \u001b[39mfor\u001b[39;00m qiymet \u001b[39min\u001b[39;00m df[\u001b[39m'\u001b[39m\u001b[39mqiymet\u001b[39m\u001b[39m'\u001b[39m]]\n\u001b[0;32m      <a href='vscode-notebook-cell:/c%3A/Users/elnur/OneDrive%20-%20Universiti%20Teknologi%20PETRONAS/Kurslar/UpData/Selenium/trial.ipynb#W2sZmlsZQ%3D%3D?line=1'>2</a>\u001b[0m qiymetler\n",
      "\u001b[1;32mc:\\Users\\elnur\\OneDrive - Universiti Teknologi PETRONAS\\Kurslar\\UpData\\Selenium\\trial.ipynb Cell 3\u001b[0m in \u001b[0;36m<listcomp>\u001b[1;34m(.0)\u001b[0m\n\u001b[1;32m----> <a href='vscode-notebook-cell:/c%3A/Users/elnur/OneDrive%20-%20Universiti%20Teknologi%20PETRONAS/Kurslar/UpData/Selenium/trial.ipynb#W2sZmlsZQ%3D%3D?line=0'>1</a>\u001b[0m qiymetler \u001b[39m=\u001b[39m [qiymet\u001b[39m.\u001b[39;49msplit() \u001b[39mfor\u001b[39;00m qiymet \u001b[39min\u001b[39;00m df[\u001b[39m'\u001b[39m\u001b[39mqiymet\u001b[39m\u001b[39m'\u001b[39m]]\n\u001b[0;32m      <a href='vscode-notebook-cell:/c%3A/Users/elnur/OneDrive%20-%20Universiti%20Teknologi%20PETRONAS/Kurslar/UpData/Selenium/trial.ipynb#W2sZmlsZQ%3D%3D?line=1'>2</a>\u001b[0m qiymetler\n",
      "\u001b[1;31mAttributeError\u001b[0m: 'int' object has no attribute 'split'"
     ]
    }
   ],
   "source": [
    "qiymetler = [qiymet.split() for qiymet in df['qiymet']]\n",
    "qiymetler"
   ]
  },
  {
   "cell_type": "code",
   "execution_count": 7,
   "metadata": {},
   "outputs": [
    {
     "data": {
      "text/plain": [
       "0        4 950 AZN\n",
       "1       27 900 AZN\n",
       "2         43 800 $\n",
       "3       35 900 AZN\n",
       "4         49 000 $\n",
       "           ...    \n",
       "5034     8 500 AZN\n",
       "5035      39 500 $\n",
       "5036    34 000 AZN\n",
       "5037     8 400 AZN\n",
       "5038             0\n",
       "Name: qiymet, Length: 5039, dtype: object"
      ]
     },
     "execution_count": 7,
     "metadata": {},
     "output_type": "execute_result"
    }
   ],
   "source": [
    "df['qiymet']"
   ]
  },
  {
   "cell_type": "code",
   "execution_count": null,
   "metadata": {},
   "outputs": [],
   "source": []
  }
 ],
 "metadata": {
  "kernelspec": {
   "display_name": "Python 3.9.12 ('selenium')",
   "language": "python",
   "name": "python3"
  },
  "language_info": {
   "codemirror_mode": {
    "name": "ipython",
    "version": 3
   },
   "file_extension": ".py",
   "mimetype": "text/x-python",
   "name": "python",
   "nbconvert_exporter": "python",
   "pygments_lexer": "ipython3",
   "version": "3.9.12"
  },
  "orig_nbformat": 4,
  "vscode": {
   "interpreter": {
    "hash": "a49d6986c6eaa757219e9e24f96f2ecda457eef285604a40f3d4cd5fe5e2c5e5"
   }
  }
 },
 "nbformat": 4,
 "nbformat_minor": 2
}
