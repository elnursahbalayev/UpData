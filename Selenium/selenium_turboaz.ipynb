{
 "cells": [
  {
   "cell_type": "code",
   "execution_count": 1,
   "metadata": {},
   "outputs": [],
   "source": [
    "from selenium import webdriver"
   ]
  },
  {
   "cell_type": "code",
   "execution_count": 2,
   "metadata": {},
   "outputs": [],
   "source": [
    "PATH = \"C:\\Program Files (x86)\\chromedriver.exe\"\n",
    "driver = webdriver.Chrome(PATH)\n",
    "driver.maximize_window()"
   ]
  },
  {
   "cell_type": "code",
   "execution_count": 3,
   "metadata": {},
   "outputs": [],
   "source": [
    "all_car_links = []\n",
    "for i in range(210):\n",
    "    try:\n",
    "        driver.get(f'https://turbo.az/autos?page={i}&q%5Bbarter%5D=0&q%5Bcategory%5D%5B%5D=&q%5Bcategory%5D%5B%5D=2&q%5Bcategory%5D%5B%5D=11&q%5Bcategory%5D%5B%5D=3&q%5Bcategory%5D%5B%5D=21&q%5Bcategory%5D%5B%5D=6&q%5Bcategory%5D%5B%5D=8&q%5Bcategory%5D%5B%5D=1&q%5Bcategory%5D%5B%5D=4&q%5Bcurrency%5D=azn&q%5Bengine_volume_from%5D=&q%5Bengine_volume_to%5D=&q%5Bloan%5D=0&q%5Bmake%5D%5B%5D=&q%5Bmileage_from%5D=&q%5Bmileage_to%5D=&q%5Bonly_shops%5D=&q%5Bpower_from%5D=&q%5Bpower_to%5D=&q%5Bprice_from%5D=&q%5Bprice_to%5D=&q%5Bsort%5D=&q%5Buncrashed%5D=0&q%5Bunpainted%5D=0&q%5Bused%5D=&q%5Byear_from%5D=&q%5Byear_to%5D=')\n",
    "        elems = driver.find_elements_by_css_selector('.products-i [href]')\n",
    "        links = [elem.get_attribute('href') for elem in elems]\n",
    "        links = [link for link in links if link.find('bookmark')==-1]\n",
    "        links = links[12:]\n",
    "        # print(len(links))\n",
    "        all_car_links += links\n",
    "    except:\n",
    "        continue"
   ]
  },
  {
   "cell_type": "code",
   "execution_count": 4,
   "metadata": {},
   "outputs": [
    {
     "data": {
      "text/plain": [
       "5040"
      ]
     },
     "execution_count": 4,
     "metadata": {},
     "output_type": "execute_result"
    }
   ],
   "source": [
    "len(all_car_links)"
   ]
  },
  {
   "cell_type": "code",
   "execution_count": 5,
   "metadata": {},
   "outputs": [
    {
     "data": {
      "text/html": [
       "<div>\n",
       "<style scoped>\n",
       "    .dataframe tbody tr th:only-of-type {\n",
       "        vertical-align: middle;\n",
       "    }\n",
       "\n",
       "    .dataframe tbody tr th {\n",
       "        vertical-align: top;\n",
       "    }\n",
       "\n",
       "    .dataframe thead th {\n",
       "        text-align: right;\n",
       "    }\n",
       "</style>\n",
       "<table border=\"1\" class=\"dataframe\">\n",
       "  <thead>\n",
       "    <tr style=\"text-align: right;\">\n",
       "      <th></th>\n",
       "      <th>Links</th>\n",
       "    </tr>\n",
       "  </thead>\n",
       "  <tbody>\n",
       "    <tr>\n",
       "      <th>0</th>\n",
       "      <td>https://turbo.az/autos/6611054-mitsubishi-outl...</td>\n",
       "    </tr>\n",
       "    <tr>\n",
       "      <th>1</th>\n",
       "      <td>https://turbo.az/autos/6637479-chevrolet-cruze</td>\n",
       "    </tr>\n",
       "    <tr>\n",
       "      <th>2</th>\n",
       "      <td>https://turbo.az/autos/5964263-lada-vaz-2107</td>\n",
       "    </tr>\n",
       "    <tr>\n",
       "      <th>3</th>\n",
       "      <td>https://turbo.az/autos/6646476-honda-insight</td>\n",
       "    </tr>\n",
       "    <tr>\n",
       "      <th>4</th>\n",
       "      <td>https://turbo.az/autos/6211658-bestune-t99</td>\n",
       "    </tr>\n",
       "    <tr>\n",
       "      <th>...</th>\n",
       "      <td>...</td>\n",
       "    </tr>\n",
       "    <tr>\n",
       "      <th>5035</th>\n",
       "      <td>https://turbo.az/autos/6629143-bmw-x5</td>\n",
       "    </tr>\n",
       "    <tr>\n",
       "      <th>5036</th>\n",
       "      <td>https://turbo.az/autos/6587972-kia-sportage</td>\n",
       "    </tr>\n",
       "    <tr>\n",
       "      <th>5037</th>\n",
       "      <td>https://turbo.az/autos/6626679-volkswagen-touareg</td>\n",
       "    </tr>\n",
       "    <tr>\n",
       "      <th>5038</th>\n",
       "      <td>https://turbo.az/autos/6583923-toyota-rush</td>\n",
       "    </tr>\n",
       "    <tr>\n",
       "      <th>5039</th>\n",
       "      <td>https://turbo.az/autos/6641049-kia-optima</td>\n",
       "    </tr>\n",
       "  </tbody>\n",
       "</table>\n",
       "<p>5040 rows × 1 columns</p>\n",
       "</div>"
      ],
      "text/plain": [
       "                                                  Links\n",
       "0     https://turbo.az/autos/6611054-mitsubishi-outl...\n",
       "1        https://turbo.az/autos/6637479-chevrolet-cruze\n",
       "2          https://turbo.az/autos/5964263-lada-vaz-2107\n",
       "3          https://turbo.az/autos/6646476-honda-insight\n",
       "4            https://turbo.az/autos/6211658-bestune-t99\n",
       "...                                                 ...\n",
       "5035              https://turbo.az/autos/6629143-bmw-x5\n",
       "5036        https://turbo.az/autos/6587972-kia-sportage\n",
       "5037  https://turbo.az/autos/6626679-volkswagen-touareg\n",
       "5038         https://turbo.az/autos/6583923-toyota-rush\n",
       "5039          https://turbo.az/autos/6641049-kia-optima\n",
       "\n",
       "[5040 rows x 1 columns]"
      ]
     },
     "execution_count": 5,
     "metadata": {},
     "output_type": "execute_result"
    }
   ],
   "source": [
    "import pandas as pd\n",
    "\n",
    "df = pd.DataFrame(all_car_links, columns=['Links'])\n",
    "df"
   ]
  },
  {
   "cell_type": "code",
   "execution_count": 6,
   "metadata": {},
   "outputs": [],
   "source": [
    "df.to_csv('Car_links_turboaz_5000.csv', index=False)"
   ]
  },
  {
   "cell_type": "code",
   "execution_count": null,
   "metadata": {},
   "outputs": [],
   "source": []
  }
 ],
 "metadata": {
  "kernelspec": {
   "display_name": "Python 3.9.12 ('selenium')",
   "language": "python",
   "name": "python3"
  },
  "language_info": {
   "codemirror_mode": {
    "name": "ipython",
    "version": 3
   },
   "file_extension": ".py",
   "mimetype": "text/x-python",
   "name": "python",
   "nbconvert_exporter": "python",
   "pygments_lexer": "ipython3",
   "version": "3.9.12"
  },
  "orig_nbformat": 4,
  "vscode": {
   "interpreter": {
    "hash": "a49d6986c6eaa757219e9e24f96f2ecda457eef285604a40f3d4cd5fe5e2c5e5"
   }
  }
 },
 "nbformat": 4,
 "nbformat_minor": 2
}
