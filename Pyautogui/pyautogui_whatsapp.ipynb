{
 "cells": [
  {
   "cell_type": "code",
   "execution_count": 1,
   "metadata": {},
   "outputs": [
    {
     "ename": "AttributeError",
     "evalue": "partially initialized module 'pyautogui' has no attribute 'moveTo' (most likely due to a circular import)",
     "output_type": "error",
     "traceback": [
      "\u001b[1;31m---------------------------------------------------------------------------\u001b[0m",
      "\u001b[1;31mAttributeError\u001b[0m                            Traceback (most recent call last)",
      "\u001b[1;32mc:\\Users\\elnur\\OneDrive - Universiti Teknologi PETRONAS\\Kurslar\\UpData\\Pyautogui\\pyautogui_whatsapp.ipynb Cell 1\u001b[0m in \u001b[0;36m<cell line: 2>\u001b[1;34m()\u001b[0m\n\u001b[0;32m      <a href='vscode-notebook-cell:/c%3A/Users/elnur/OneDrive%20-%20Universiti%20Teknologi%20PETRONAS/Kurslar/UpData/Pyautogui/pyautogui_whatsapp.ipynb#W0sZmlsZQ%3D%3D?line=0'>1</a>\u001b[0m \u001b[39mimport\u001b[39;00m \u001b[39mtime\u001b[39;00m\n\u001b[1;32m----> <a href='vscode-notebook-cell:/c%3A/Users/elnur/OneDrive%20-%20Universiti%20Teknologi%20PETRONAS/Kurslar/UpData/Pyautogui/pyautogui_whatsapp.ipynb#W0sZmlsZQ%3D%3D?line=1'>2</a>\u001b[0m \u001b[39mfrom\u001b[39;00m \u001b[39mpyautogui\u001b[39;00m \u001b[39mimport\u001b[39;00m moveTo, click, write, press\n\u001b[0;32m      <a href='vscode-notebook-cell:/c%3A/Users/elnur/OneDrive%20-%20Universiti%20Teknologi%20PETRONAS/Kurslar/UpData/Pyautogui/pyautogui_whatsapp.ipynb#W0sZmlsZQ%3D%3D?line=2'>3</a>\u001b[0m \u001b[39mimport\u001b[39;00m \u001b[39mrandom\u001b[39;00m\n\u001b[0;32m      <a href='vscode-notebook-cell:/c%3A/Users/elnur/OneDrive%20-%20Universiti%20Teknologi%20PETRONAS/Kurslar/UpData/Pyautogui/pyautogui_whatsapp.ipynb#W0sZmlsZQ%3D%3D?line=3'>4</a>\u001b[0m \u001b[39mimport\u001b[39;00m \u001b[39mdatetime\u001b[39;00m\n",
      "File \u001b[1;32mc:\\Users\\elnur\\OneDrive - Universiti Teknologi PETRONAS\\Kurslar\\UpData\\Pyautogui\\pyautogui.py:15\u001b[0m, in \u001b[0;36m<module>\u001b[1;34m\u001b[0m\n\u001b[0;32m     13\u001b[0m \u001b[39mwhile\u001b[39;00m \u001b[39mTrue\u001b[39;00m:\n\u001b[0;32m     14\u001b[0m     \u001b[39mif\u001b[39;00m hour\u001b[39m==\u001b[39m\u001b[39m16\u001b[39m:    \n\u001b[1;32m---> 15\u001b[0m         pa\u001b[39m.\u001b[39;49mmoveTo(\u001b[39m819\u001b[39m,\u001b[39m1059\u001b[39m)\n\u001b[0;32m     16\u001b[0m         pa\u001b[39m.\u001b[39mclick(button\u001b[39m=\u001b[39m\u001b[39m'\u001b[39m\u001b[39mleft\u001b[39m\u001b[39m'\u001b[39m)\n\u001b[0;32m     17\u001b[0m         time\u001b[39m.\u001b[39msleep(\u001b[39m10\u001b[39m)\n",
      "\u001b[1;31mAttributeError\u001b[0m: partially initialized module 'pyautogui' has no attribute 'moveTo' (most likely due to a circular import)"
     ]
    }
   ],
   "source": [
    "import time\n",
    "from pyautogui import moveTo, click, write, press\n",
    "import random\n",
    "import datetime"
   ]
  },
  {
   "cell_type": "code",
   "execution_count": null,
   "metadata": {},
   "outputs": [],
   "source": [
    "currentDT = datetime.datetime.now()\n",
    "hour = currentDT.hour"
   ]
  },
  {
   "cell_type": "code",
   "execution_count": null,
   "metadata": {},
   "outputs": [],
   "source": [
    "people_to_send = ['Mama']\n",
    "mesajlar = ['Sabahin xeyir gozel, netersen?', 'Sabahin xeyir mama necesen', 'Durmusanmi seker qiz?', 'neynirsen mamuska?']\n",
    "gunluk_mesaj = random.choice(mesajlar)"
   ]
  },
  {
   "cell_type": "code",
   "execution_count": 7,
   "metadata": {},
   "outputs": [
    {
     "ename": "NameError",
     "evalue": "name 'hour' is not defined",
     "output_type": "error",
     "traceback": [
      "\u001b[1;31m---------------------------------------------------------------------------\u001b[0m",
      "\u001b[1;31mNameError\u001b[0m                                 Traceback (most recent call last)",
      "\u001b[1;32mc:\\Users\\elnur\\OneDrive - Universiti Teknologi PETRONAS\\Kurslar\\UpData\\Pyautogui\\pyautogui_whatsapp.ipynb Cell 4\u001b[0m in \u001b[0;36m<cell line: 1>\u001b[1;34m()\u001b[0m\n\u001b[1;32m----> <a href='vscode-notebook-cell:/c%3A/Users/elnur/OneDrive%20-%20Universiti%20Teknologi%20PETRONAS/Kurslar/UpData/Pyautogui/pyautogui_whatsapp.ipynb#W3sZmlsZQ%3D%3D?line=0'>1</a>\u001b[0m \u001b[39mif\u001b[39;00m hour\u001b[39m==\u001b[39m\u001b[39m12\u001b[39m:    \n\u001b[0;32m      <a href='vscode-notebook-cell:/c%3A/Users/elnur/OneDrive%20-%20Universiti%20Teknologi%20PETRONAS/Kurslar/UpData/Pyautogui/pyautogui_whatsapp.ipynb#W3sZmlsZQ%3D%3D?line=1'>2</a>\u001b[0m     pa\u001b[39m.\u001b[39mmoveTo(\u001b[39m819\u001b[39m,\u001b[39m1059\u001b[39m)\n\u001b[0;32m      <a href='vscode-notebook-cell:/c%3A/Users/elnur/OneDrive%20-%20Universiti%20Teknologi%20PETRONAS/Kurslar/UpData/Pyautogui/pyautogui_whatsapp.ipynb#W3sZmlsZQ%3D%3D?line=2'>3</a>\u001b[0m     pa\u001b[39m.\u001b[39mclick(button\u001b[39m=\u001b[39m\u001b[39m'\u001b[39m\u001b[39mleft\u001b[39m\u001b[39m'\u001b[39m)\n",
      "\u001b[1;31mNameError\u001b[0m: name 'hour' is not defined"
     ]
    }
   ],
   "source": [
    "\n",
    "if hour==12:    \n",
    "    pa.moveTo(819,1059)\n",
    "    pa.click(button='left')\n",
    "    time.sleep(10)\n",
    "    for people in people_to_send:\n",
    "        pa.moveTo(230, 110)\n",
    "        pa.click(button='left')\n",
    "        pa.write(people)\n",
    "        pa.press('enter')\n",
    "        time.sleep(1)\n",
    "        pa.moveTo(745,997)\n",
    "        pa.click(button='left')\n",
    "        pa.write(gunluk_mesaj)\n",
    "        pa.press('enter')\n",
    "        time.sleep(2)\n",
    "\n",
    "    time.sleep(10)\n",
    "    pa.moveTo(1891,8)\n",
    "    pa.click(button='left')\n",
    "\n",
    "    time.sleep(60*60)"
   ]
  },
  {
   "cell_type": "code",
   "execution_count": null,
   "metadata": {},
   "outputs": [],
   "source": []
  }
 ],
 "metadata": {
  "kernelspec": {
   "display_name": "Python 3.9.12 ('selenium')",
   "language": "python",
   "name": "python3"
  },
  "language_info": {
   "codemirror_mode": {
    "name": "ipython",
    "version": 3
   },
   "file_extension": ".py",
   "mimetype": "text/x-python",
   "name": "python",
   "nbconvert_exporter": "python",
   "pygments_lexer": "ipython3",
   "version": "3.9.12"
  },
  "orig_nbformat": 4,
  "vscode": {
   "interpreter": {
    "hash": "a49d6986c6eaa757219e9e24f96f2ecda457eef285604a40f3d4cd5fe5e2c5e5"
   }
  }
 },
 "nbformat": 4,
 "nbformat_minor": 2
}
